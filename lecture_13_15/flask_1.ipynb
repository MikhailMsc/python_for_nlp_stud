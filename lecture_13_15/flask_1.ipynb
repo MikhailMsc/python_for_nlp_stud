{
 "cells": [
  {
   "cell_type": "markdown",
   "metadata": {},
   "source": [
    "# Flask\n",
    "\n",
    "**План:**\n",
    "\n",
    "1. Что такое Flask?\n",
    "2. Архитектура проекта\n",
    "3. Элементы: код на Python\n",
    "4. Элементы: шаблоны html\n",
    "5. Элементы: оформление\n",
    "6. Hello, world!"
   ]
  },
  {
   "cell_type": "markdown",
   "metadata": {},
   "source": [
    "## Что такое Flask?\n",
    "\n",
    "Программа на фласке работает как веб-сервер, то есть реагирует на запросы пользователя и выдает некоторую информацию.\n",
    "\n",
    "Каждая страница имеет свою функцию, которая определяет, что будет происходить при попадании на эту страницу.\n",
    "\n",
    "\n",
    "## Архитектура проекта\n",
    "\n",
    "```\n",
    "    [static]\n",
    "        [css]\n",
    "        [js]\n",
    "        [images]\n",
    "        \n",
    "    [templates]\n",
    "        [blocks]\n",
    "        index.html\n",
    "        ... \n",
    "    __init__.py\n",
    "    ...\n",
    "    my_app.wsgi\n",
    "\n",
    "```\n",
    "\n",
    "- **Static** - это CSS, скрипты, папка для изображений, которые будут использовать в качестве логотипов и прочие файлы\n",
    "\n",
    "- **Шаблоны** - html заготовки для страниц, которые будут отображаться на вашем сайте\n",
    "\n",
    "- **\\_\\_init__.py** - основной файл для вашего приложения, где находится python-код\n",
    "\n",
    "- **my_app.wsgi** - файл wsgi"
   ]
  },
  {
   "cell_type": "markdown",
   "metadata": {},
   "source": [
    "**Hello, world!**"
   ]
  },
  {
   "cell_type": "code",
   "execution_count": 2,
   "metadata": {},
   "outputs": [
    {
     "name": "stdout",
     "output_type": "stream",
     "text": [
      " * Serving Flask app \"__main__\" (lazy loading)\n",
      " * Environment: production\n",
      "   WARNING: This is a development server. Do not use it in a production deployment.\n",
      "   Use a production WSGI server instead.\n",
      " * Debug mode: off\n"
     ]
    },
    {
     "name": "stderr",
     "output_type": "stream",
     "text": [
      " * Running on http://127.0.0.1:5000/ (Press CTRL+C to quit)\n",
      "127.0.0.1 - - [18/Aug/2019 17:47:48] \"GET / HTTP/1.1\" 200 -\n",
      "127.0.0.1 - - [18/Aug/2019 17:47:48] \"GET /favicon.ico HTTP/1.1\" 404 -\n"
     ]
    }
   ],
   "source": [
    "from flask import Flask\n",
    "\n",
    "app = Flask(__name__)  # инициализируем приложение\n",
    "\n",
    "@app.route('/')  # декоратор app.route задает имя страницы - в этом случае пустое\n",
    "def index():\n",
    "    return '<html><body><p>Hello, world!</p></body></html>' # возвращаем минимальный html с фразой\n",
    "\n",
    "if __name__ == '__main__': # запускаем программу\n",
    "    app.run(debug=False)"
   ]
  },
  {
   "cell_type": "code",
   "execution_count": null,
   "metadata": {},
   "outputs": [],
   "source": [
    "@app.route('/')\n",
    "def index():\n",
    "    return 'Main page'\n",
    "\n",
    "@app.route('/hi')\n",
    "def hi():\n",
    "    return 'Hi!'"
   ]
  },
  {
   "cell_type": "markdown",
   "metadata": {},
   "source": [
    "Декораторы могут содержать переменные, например, в примере ниже при подстановке какой-либо строки вместо \\<user\\> мы попадаем на страницу, где в фразе будет подставлена эта срока.\n",
    "\n",
    "Например, если сервер будет доступен (как в примере выше) по адресу http://127.0.0.1:5000/ , то при заходе на страницу http://127.0.0.1:5000/user/DoYouKnowMyName мы получим в ответ страницу с надписью \"This is the page of DoYouKnowMyName\""
   ]
  },
  {
   "cell_type": "code",
   "execution_count": null,
   "metadata": {},
   "outputs": [],
   "source": [
    "@app.route('/user/<user>')\n",
    "def user_index(user):\n",
    "    return 'This is the page of ' + user"
   ]
  },
  {
   "cell_type": "markdown",
   "metadata": {},
   "source": [
    "Переменные в адресах могут быть разного типа: int — целое число, float — действительное число, path — строка, которая может содержать слэши. Тип переменной можно указать вот так:"
   ]
  },
  {
   "cell_type": "code",
   "execution_count": null,
   "metadata": {},
   "outputs": [],
   "source": [
    "import datetime\n",
    "\n",
    "@app.route('/time/<int:shift>')\n",
    "def time_page(shift):\n",
    "    h = datetime.datetime.today().hour\n",
    "    h += shift\n",
    "    return 'Time in your country:' + str(h)"
   ]
  },
  {
   "cell_type": "code",
   "execution_count": null,
   "metadata": {},
   "outputs": [],
   "source": [
    "# Страницы часто содержат ссылки друг на друга, но чтобы поставить ссылку, нужно знать адрес. Чтобы узнать адрес страницы, которую создаёт какая-то функция, используется функция url_for:\n",
    "\n",
    "# from flask import url_for\n",
    "\n",
    "# @app.route('/functions/<fname>')\n",
    "# def f_address(fname):\n",
    "#     return 'The address is ' + url_for(fname)"
   ]
  },
  {
   "cell_type": "markdown",
   "metadata": {},
   "source": []
  },
  {
   "cell_type": "code",
   "execution_count": null,
   "metadata": {},
   "outputs": [],
   "source": []
  }
 ],
 "metadata": {
  "kernelspec": {
   "display_name": "Python 3 (ipykernel)",
   "language": "python",
   "name": "python3"
  },
  "language_info": {
   "codemirror_mode": {
    "name": "ipython",
    "version": 3
   },
   "file_extension": ".py",
   "mimetype": "text/x-python",
   "name": "python",
   "nbconvert_exporter": "python",
   "pygments_lexer": "ipython3",
   "version": "3.9.6"
  }
 },
 "nbformat": 4,
 "nbformat_minor": 4
}
