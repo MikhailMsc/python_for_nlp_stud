{
 "cells": [
  {
   "cell_type": "markdown",
   "metadata": {},
   "source": [
    "# Python и интернет. Модуль requests\n",
    "\n",
    "**План**:\n",
    "\n",
    "1. Запросы\n",
    "2. Requests\n",
    "4. bs4\n",
    "5. Задание на семинар"
   ]
  },
  {
   "cell_type": "markdown",
   "metadata": {},
   "source": [
    "## Как выкачать интернет\n",
    "Современный Интернет предоставляет лингвистам большое количество языковых данных: электронные газеты и журналы, блоги, форумы, социальные сети и т.д. Например, можно найти в сети много-много текстов и собрать корпус, или найти все газетные статьи и блог-посты про какую-нибудь корпорацию и проанализировать тональность сообщений. Сейчас мы научимся заниматься выкачиванием страниц из интернета с помощью Python.\n",
    "\n",
    "Для скачивания HTML-страниц в питоне есть несколько библиотек **urllib** и **requests**"
   ]
  },
  {
   "cell_type": "markdown",
   "metadata": {},
   "source": [
    "## Requests\n",
    "Requests является уже стандартной библиотекой. Поэтому, после установки python она уже у вас есть.\n",
    "Можно почитать еще [тут](https://realpython.com/python-requests/)\n",
    "\n",
    "\n",
    "Допустим, мы хотим скачать главную страницу Хабрахабра.\n",
    "\n",
    "На самом деле, когда мы хотим открыть какую-то страницу в интернете, наш браузер отправляет на сервер **запрос** (\"Привет, сервер! я хочу код страницы по вот такому адресу!\"), а сервер затем отправляет ответ (\"Привет! Вот код страницы: ...\").\n",
    "Чтобы получить страницу через питон, нужно сформировать **запрос** на сервер так же, как это делает браузер:"
   ]
  },
  {
   "cell_type": "code",
   "execution_count": 3,
   "metadata": {},
   "outputs": [],
   "source": [
    "import requests"
   ]
  },
  {
   "cell_type": "code",
   "execution_count": 20,
   "metadata": {},
   "outputs": [],
   "source": [
    "# import ssl\n",
    "# gcontext = ssl.SSLContext() \n",
    "# _create_unverified_https_context = ssl._create_unverified_context\n",
    "# ssl._create_default_https_context = _create_unverified_https_context"
   ]
  },
  {
   "cell_type": "markdown",
   "metadata": {},
   "source": [
    "Давайте попробуем отправить простой запрос на сайт хабра."
   ]
  },
  {
   "cell_type": "code",
   "execution_count": 4,
   "metadata": {},
   "outputs": [],
   "source": [
    "response = requests.get(\"https://habr.com/ru/\")"
   ]
  },
  {
   "cell_type": "markdown",
   "metadata": {},
   "source": [
    "В response теперь лежит отет сервера. Это не прост html-код страницы, а еще дополнительная информация. Если мы просто выведем этот response, нам покажется только код (200 - все ок)."
   ]
  },
  {
   "cell_type": "code",
   "execution_count": 5,
   "metadata": {},
   "outputs": [
    {
     "data": {
      "text/plain": [
       "<Response [200]>"
      ]
     },
     "execution_count": 5,
     "metadata": {},
     "output_type": "execute_result"
    }
   ],
   "source": [
    "response"
   ]
  },
  {
   "cell_type": "code",
   "execution_count": 6,
   "metadata": {},
   "outputs": [
    {
     "data": {
      "text/plain": [
       "200"
      ]
     },
     "execution_count": 6,
     "metadata": {},
     "output_type": "execute_result"
    }
   ],
   "source": [
    "response.status_code"
   ]
  },
  {
   "cell_type": "markdown",
   "metadata": {},
   "source": [
    "А вот в атрибуте text уже лежит html-код"
   ]
  },
  {
   "cell_type": "code",
   "execution_count": 10,
   "metadata": {},
   "outputs": [
    {
     "data": {
      "text/plain": [
       "188866"
      ]
     },
     "execution_count": 10,
     "metadata": {},
     "output_type": "execute_result"
    }
   ],
   "source": [
    "len(response.text) # ответ может быть достаточно большим"
   ]
  },
  {
   "cell_type": "code",
   "execution_count": 18,
   "metadata": {},
   "outputs": [
    {
     "name": "stdout",
     "output_type": "stream",
     "text": [
      "<!DOCTYPE html>\n",
      "<html lang=\"ru\" data-vue-meta=\"%7B%22lang%22:%7B%22ssr%22:%22ru%22%7D%7D\">\n",
      "<head >\n",
      "  <meta charset=\"UTF-8\">\n",
      "  <meta name=\"viewport\" content=\"width=device-width,initial-scale=1.0,viewport-fit=cov\n"
     ]
    }
   ],
   "source": [
    "print(response.text[:210])"
   ]
  },
  {
   "cell_type": "markdown",
   "metadata": {},
   "source": [
    "Можно посмотреть, что еще можно достать из response.\n",
    "\n",
    "Функция ```dir``` выдает список методов и параметров объекта."
   ]
  },
  {
   "cell_type": "code",
   "execution_count": 19,
   "metadata": {
    "collapsed": true,
    "jupyter": {
     "outputs_hidden": true
    },
    "tags": []
   },
   "outputs": [
    {
     "data": {
      "text/plain": [
       "['__attrs__',\n",
       " '__bool__',\n",
       " '__class__',\n",
       " '__delattr__',\n",
       " '__dict__',\n",
       " '__dir__',\n",
       " '__doc__',\n",
       " '__enter__',\n",
       " '__eq__',\n",
       " '__exit__',\n",
       " '__format__',\n",
       " '__ge__',\n",
       " '__getattribute__',\n",
       " '__getstate__',\n",
       " '__gt__',\n",
       " '__hash__',\n",
       " '__init__',\n",
       " '__init_subclass__',\n",
       " '__iter__',\n",
       " '__le__',\n",
       " '__lt__',\n",
       " '__module__',\n",
       " '__ne__',\n",
       " '__new__',\n",
       " '__nonzero__',\n",
       " '__reduce__',\n",
       " '__reduce_ex__',\n",
       " '__repr__',\n",
       " '__setattr__',\n",
       " '__setstate__',\n",
       " '__sizeof__',\n",
       " '__str__',\n",
       " '__subclasshook__',\n",
       " '__weakref__',\n",
       " '_content',\n",
       " '_content_consumed',\n",
       " '_next']"
      ]
     },
     "execution_count": 19,
     "metadata": {},
     "output_type": "execute_result"
    }
   ],
   "source": [
    "[i for i in dir(response) if i.startswith(\"_\")]"
   ]
  },
  {
   "cell_type": "code",
   "execution_count": 20,
   "metadata": {
    "tags": []
   },
   "outputs": [
    {
     "data": {
      "text/plain": [
       "['apparent_encoding',\n",
       " 'close',\n",
       " 'connection',\n",
       " 'content',\n",
       " 'cookies',\n",
       " 'elapsed',\n",
       " 'encoding',\n",
       " 'headers',\n",
       " 'history',\n",
       " 'is_permanent_redirect',\n",
       " 'is_redirect',\n",
       " 'iter_content',\n",
       " 'iter_lines',\n",
       " 'json',\n",
       " 'links',\n",
       " 'next',\n",
       " 'ok',\n",
       " 'raise_for_status',\n",
       " 'raw',\n",
       " 'reason',\n",
       " 'request',\n",
       " 'status_code',\n",
       " 'text',\n",
       " 'url']"
      ]
     },
     "execution_count": 20,
     "metadata": {},
     "output_type": "execute_result"
    }
   ],
   "source": [
    "[i for i in dir(response) if not i.startswith(\"_\")]"
   ]
  },
  {
   "cell_type": "code",
   "execution_count": 37,
   "metadata": {},
   "outputs": [
    {
     "data": {
      "text/plain": [
       "'utf-8'"
      ]
     },
     "execution_count": 37,
     "metadata": {},
     "output_type": "execute_result"
    }
   ],
   "source": [
    "response.encoding # Кодировка "
   ]
  },
  {
   "cell_type": "code",
   "execution_count": 38,
   "metadata": {},
   "outputs": [
    {
     "data": {
      "text/plain": [
       "{'Server': 'QRATOR',\n",
       " 'Date': 'Fri, 18 Nov 2022 14:04:40 GMT',\n",
       " 'Content-Type': 'text/html; charset=utf-8',\n",
       " 'Transfer-Encoding': 'chunked',\n",
       " 'Connection': 'keep-alive',\n",
       " 'Keep-Alive': 'timeout=15',\n",
       " 'Vary': 'Accept-Encoding, Accept-Encoding',\n",
       " 'X-DNS-Prefetch-Control': 'off',\n",
       " 'X-Frame-Options': 'SAMEORIGIN',\n",
       " 'X-Download-Options': 'noopen',\n",
       " 'X-Content-Type-Options': 'nosniff',\n",
       " 'X-XSS-Protection': '1; mode=block',\n",
       " 'Cache-Control': 'no-store, no-cache, must-revalidate',\n",
       " 'Pragma': 'no-cache',\n",
       " 'Expires': '0',\n",
       " 'ETag': 'W/\"45d89-Pd6OFl4BNwupn5q6m2suz0nSKTQ\"',\n",
       " 'Strict-Transport-Security': 'max-age=31536000; includeSubDomains',\n",
       " 'X-Request-Id': '0ab3b0237b89ea4bdcf84e73da5b81e0',\n",
       " 'X-Request-Geoip-Country-Code': 'RU',\n",
       " 'X-Request-Detected-Device': 'desktop',\n",
       " 'Content-Encoding': 'gzip'}"
      ]
     },
     "execution_count": 38,
     "metadata": {},
     "output_type": "execute_result"
    }
   ],
   "source": [
    "dict(response.headers) # Заголовки (техническая информация)"
   ]
  },
  {
   "cell_type": "code",
   "execution_count": 39,
   "metadata": {},
   "outputs": [
    {
     "data": {
      "text/plain": [
       "'https://habr.com/ru/all/'"
      ]
     },
     "execution_count": 39,
     "metadata": {},
     "output_type": "execute_result"
    }
   ],
   "source": [
    "response.url # Адрес запроса"
   ]
  },
  {
   "cell_type": "code",
   "execution_count": 40,
   "metadata": {},
   "outputs": [
    {
     "name": "stdout",
     "output_type": "stream",
     "text": [
      "<!DOCTYPE html>\n",
      "<html lang=\"ru\" data-vue-meta=\"%7B%22lang%22:%7B%22ssr%22:%22ru%22%7D%7D\">\n",
      "<head >\n",
      "  <meta charset=\"UTF-8\">\n",
      "  <meta name=\"viewport\" content=\"width=device-width,initial-scale=1.0,viewport-fit=cover,maximum-scale=1,user-scalable=0\">\n",
      "  <meta name=\"referrer\" content=\"unsafe-url\">\n",
      "  <titl\n"
     ]
    }
   ],
   "source": [
    "print(response.text[:300])"
   ]
  },
  {
   "cell_type": "markdown",
   "metadata": {},
   "source": [
    "___\n",
    "Перед нами ответ сервера в виде HTML документа. Не стоит его пугаться, как и JSON это всего лишь текстовый документ, но с определенной структурой.\n",
    "**HTML это язык разметки сайтов.**\n",
    "\n",
    "Давайте откроем сайт (пусть будет https://habr.com/ru/all/) и посмотрим как устроена его разметка:\n",
    "1) Открываете сайт в Google Chrome\n",
    "2) Кликаем правой кнопкой на окрывшейся странице, выбираем в открывшемся меняю - Посмотреть код\n",
    "3) Смотрим какой блок в HTML коде страницы отвечает за тот или иной визуальный блок на сайте\n",
    "___"
   ]
  },
  {
   "cell_type": "markdown",
   "metadata": {},
   "source": [
    "Вся информация в HTML заключена в тэги. Например, между тегами `<title> </title>` лежит заголовок этой интернет-страницы.\n",
    "Поэтому если вы хотите вытащить какую-то конкретную информацию из HTML документа, вам необходимо ориентороваться на эти теги.  \n",
    "\n",
    "Для этого вы может написать свой парсер, который будет основан на регулярных выражениях, и с помощью него преобразовывать HTML в какой-то удобный python объект с которым удобно работать.\n",
    "\n",
    "Или...\n",
    "\n",
    "Воспользоваться готовыми решениями для парсинга HTML документов - BeautifulSoup (bs4) / pyquery / lxml"
   ]
  },
  {
   "cell_type": "markdown",
   "metadata": {},
   "source": [
    "## BeautifulSoup\n",
    "\n",
    "Код страницы парсится как иерархия тегов (как они есть в html коде, один вложен в другой) и можно искать элементы с помощью разных методов, использовать атрибуты и т.д."
   ]
  },
  {
   "cell_type": "code",
   "execution_count": null,
   "metadata": {},
   "outputs": [],
   "source": [
    "!pip install bs4"
   ]
  },
  {
   "cell_type": "code",
   "execution_count": 22,
   "metadata": {},
   "outputs": [],
   "source": [
    "from bs4 import BeautifulSoup"
   ]
  },
  {
   "cell_type": "code",
   "execution_count": 88,
   "metadata": {},
   "outputs": [
    {
     "data": {
      "text/plain": [
       "type"
      ]
     },
     "execution_count": 88,
     "metadata": {},
     "output_type": "execute_result"
    }
   ],
   "source": [
    "type(BeautifulSoup)"
   ]
  },
  {
   "cell_type": "code",
   "execution_count": 90,
   "metadata": {},
   "outputs": [],
   "source": [
    "# Парсим текст ответа с помошью BeautifulSoup\n",
    "# На вход html документ и тип парсерса (есть разные парсеры под разные форматы данных)\n",
    "soup = BeautifulSoup(response.text, 'html.parser')  "
   ]
  },
  {
   "cell_type": "code",
   "execution_count": 94,
   "metadata": {},
   "outputs": [
    {
     "data": {
      "text/plain": [
       "bs4.BeautifulSoup"
      ]
     },
     "execution_count": 94,
     "metadata": {},
     "output_type": "execute_result"
    }
   ],
   "source": [
    "type(soup)"
   ]
  },
  {
   "cell_type": "markdown",
   "metadata": {},
   "source": [
    "Если вглядеться в HTML код страницы, мы увидим что многие теги имеют дополнительные параметры, например - class/lang/src/...\n",
    "Их тоже можно учитывать при поиске нужной информации по html документу.  \n",
    "Для поиска у нашего парсера `soup` есть метод `find`. В нем первым аргументом мы задаем тег, который ищем. Во втором аргументе словарем идут дополнительные параметры (class/lang/src/...)."
   ]
  },
  {
   "cell_type": "code",
   "execution_count": 91,
   "metadata": {},
   "outputs": [],
   "source": [
    "# Этот запрос вернёт нам только первый заголовок. То есть первое вхождение такого тега в нашем html файле.\n",
    "post = soup.find('h2', {'class': 'tm-article-snippet__title_h2'})"
   ]
  },
  {
   "cell_type": "code",
   "execution_count": 92,
   "metadata": {},
   "outputs": [
    {
     "data": {
      "text/plain": [
       "bs4.element.Tag"
      ]
     },
     "execution_count": 92,
     "metadata": {},
     "output_type": "execute_result"
    }
   ],
   "source": [
    "type(post)"
   ]
  },
  {
   "cell_type": "code",
   "execution_count": 93,
   "metadata": {},
   "outputs": [
    {
     "name": "stdout",
     "output_type": "stream",
     "text": [
      "<h2 class=\"tm-article-snippet__title tm-article-snippet__title_h2\" data-test-id=\"articleTitle\"><a class=\"tm-article-snippet__title-link\" data-article-link=\"\" data-test-id=\"article-snippet-title-link\" href=\"/ru/company/timeweb/blog/700224/\"><span>Сборка мусора в неисправных JVM, проактивный подход</span></a></h2>\n"
     ]
    }
   ],
   "source": [
    "print(post)"
   ]
  },
  {
   "cell_type": "code",
   "execution_count": 95,
   "metadata": {},
   "outputs": [
    {
     "name": "stdout",
     "output_type": "stream",
     "text": [
      "<h2 class=\"tm-article-snippet__title tm-article-snippet__title_h2\" data-test-id=\"articleTitle\">\n",
      " <a class=\"tm-article-snippet__title-link\" data-article-link=\"\" data-test-id=\"article-snippet-title-link\" href=\"/ru/company/timeweb/blog/700224/\">\n",
      "  <span>\n",
      "   Сборка мусора в неисправных JVM, проактивный подход\n",
      "  </span>\n",
      " </a>\n",
      "</h2>\n",
      "\n"
     ]
    }
   ],
   "source": [
    "print(post.prettify())"
   ]
  },
  {
   "cell_type": "code",
   "execution_count": 41,
   "metadata": {},
   "outputs": [
    {
     "name": "stdout",
     "output_type": "stream",
     "text": [
      "Сборка мусора в неисправных JVM, проактивный подход\n"
     ]
    }
   ],
   "source": [
    "print(post.get_text()) # Название первой статьи с хабра"
   ]
  },
  {
   "cell_type": "markdown",
   "metadata": {},
   "source": [
    "___\n",
    "Но мы хотим получить все заголовки постов! Метод find_all возвращает массив всех элементов с тегом указанным в скобках. По нему можно итерироваться."
   ]
  },
  {
   "cell_type": "code",
   "execution_count": 44,
   "metadata": {},
   "outputs": [
    {
     "name": "stdout",
     "output_type": "stream",
     "text": [
      "<class 'bs4.element.ResultSet'>\n",
      "20\n"
     ]
    }
   ],
   "source": [
    "all_articles = soup.find_all('h2', {'class': 'tm-article-snippet__title_h2'})\n",
    "print(type(all_articles))\n",
    "print(len(all_articles))"
   ]
  },
  {
   "cell_type": "code",
   "execution_count": 45,
   "metadata": {},
   "outputs": [
    {
     "data": {
      "text/plain": [
       "<h2 class=\"tm-article-snippet__title tm-article-snippet__title_h2\" data-test-id=\"articleTitle\"><a class=\"tm-article-snippet__title-link\" data-article-link=\"\" data-test-id=\"article-snippet-title-link\" href=\"/ru/company/timeweb/blog/700224/\"><span>Сборка мусора в неисправных JVM, проактивный подход</span></a></h2>"
      ]
     },
     "execution_count": 45,
     "metadata": {},
     "output_type": "execute_result"
    }
   ],
   "source": [
    "all_articles[0]"
   ]
  },
  {
   "cell_type": "code",
   "execution_count": 46,
   "metadata": {},
   "outputs": [
    {
     "name": "stdout",
     "output_type": "stream",
     "text": [
      "Сборка мусора в неисправных JVM, проактивный подход\n",
      "<h2 class=\"tm-article-snippet__title tm-article-snippet__title_h2\" data-test-id=\"articleTitle\">\n",
      " <a class=\"tm-article-snippet__title-link\" data-article-link=\"\" data-test-id=\"article-snippet-title-link\" href=\"/ru/company/timeweb/blog/700224/\">\n",
      "  <span>\n",
      "   Сборка мусора в неисправных JVM, проактивный подход\n",
      "  </span>\n",
      " </a>\n",
      "</h2>\n",
      "\n",
      "-- -- -- -- -- -- -- -- -- -- \n",
      "Трудности перевода в разработке: как делать интернациональные проекты и говорить с пользователями на одном языке\n",
      "<h2 class=\"tm-article-snippet__title tm-article-snippet__title_h2\" data-test-id=\"articleTitle\">\n",
      " <a class=\"tm-article-snippet__title-link\" data-article-link=\"\" data-test-id=\"article-snippet-title-link\" href=\"/ru/company/vk/blog/699852/\">\n",
      "  <span>\n",
      "   Трудности перевода в разработке: как делать интернациональные проекты и говорить с пользователями на одном языке\n",
      "  </span>\n",
      " </a>\n",
      "</h2>\n",
      "\n",
      "-- -- -- -- -- -- -- -- -- -- \n",
      "Учимся создавать пакеты Python\n",
      "<h2 class=\"tm-article-snippet__title tm-article-snippet__title_h2\" data-test-id=\"articleTitle\">\n",
      " <a class=\"tm-article-snippet__title-link\" data-article-link=\"\" data-test-id=\"article-snippet-title-link\" href=\"/ru/company/piter/blog/700282/\">\n",
      "  <span>\n",
      "   Учимся создавать пакеты Python\n",
      "  </span>\n",
      " </a>\n",
      "</h2>\n",
      "\n",
      "-- -- -- -- -- -- -- -- -- -- \n"
     ]
    }
   ],
   "source": [
    "for post in all_articles[:3]:\n",
    "    print(post.get_text())\n",
    "    print(post.prettify())\n",
    "\n",
    "    print('-- '*10)  # для красоты"
   ]
  },
  {
   "cell_type": "markdown",
   "metadata": {
    "tags": []
   },
   "source": [
    "## Задание\n",
    "\n",
    "А что если мы хотим зайти еще глубже по дереву тегов и, например, для каждого заголовка поста найти никнейм юзера, который написал этот пост, и время написания поста?\n",
    "\n",
    "Для этого надо снова зайти в просмотор кода страницы и увидеть, что там просиходит что-то такое:\n",
    "\n",
    "(Заодно обратите внимание, как пишутся комменты в html)"
   ]
  },
  {
   "cell_type": "code",
   "execution_count": 47,
   "metadata": {},
   "outputs": [
    {
     "name": "stdout",
     "output_type": "stream",
     "text": [
      "<class 'bs4.element.ResultSet'>\n",
      "20\n"
     ]
    }
   ],
   "source": [
    "all_articles = soup.find_all('article')\n",
    "print(type(all_articles))\n",
    "print(len(all_articles))"
   ]
  },
  {
   "cell_type": "code",
   "execution_count": 61,
   "metadata": {},
   "outputs": [
    {
     "data": {
      "text/plain": [
       "'Сборка мусора в неисправных JVM, проактивный подход'"
      ]
     },
     "execution_count": 61,
     "metadata": {},
     "output_type": "execute_result"
    }
   ],
   "source": [
    "all_articles[0].find('h2', {'class': 'tm-article-snippet__title_h2'}).text"
   ]
  },
  {
   "cell_type": "code",
   "execution_count": 62,
   "metadata": {},
   "outputs": [
    {
     "data": {
      "text/plain": [
       "'Shyhartskoi'"
      ]
     },
     "execution_count": 62,
     "metadata": {},
     "output_type": "execute_result"
    }
   ],
   "source": [
    "all_articles[0].find('span', {'class': 'tm-user-info'}).text.strip()"
   ]
  },
  {
   "cell_type": "code",
   "execution_count": 63,
   "metadata": {},
   "outputs": [
    {
     "data": {
      "text/plain": [
       "'сегодня в 17:00'"
      ]
     },
     "execution_count": 63,
     "metadata": {},
     "output_type": "execute_result"
    }
   ],
   "source": [
    "all_articles[0].find('span', {'class': 'tm-article-snippet__datetime-published'}).text.strip()"
   ]
  },
  {
   "cell_type": "code",
   "execution_count": 74,
   "metadata": {},
   "outputs": [
    {
     "data": {
      "text/plain": [
       "'сегодня в 17:00'"
      ]
     },
     "execution_count": 74,
     "metadata": {},
     "output_type": "execute_result"
    }
   ],
   "source": [
    "all_articles[0].find('span', {'class': 'tm-article-snippet__datetime-published'}).text \n",
    "# Не подходит, хотелось бы нормальную дату иметь под рукой"
   ]
  },
  {
   "cell_type": "code",
   "execution_count": 79,
   "metadata": {},
   "outputs": [
    {
     "name": "stdout",
     "output_type": "stream",
     "text": [
      "<span class=\"tm-article-snippet__datetime-published\">\n",
      " <time datetime=\"2022-11-18T14:00:01.000Z\" title=\"2022-11-18, 17:00\">\n",
      "  сегодня в 17:00\n",
      " </time>\n",
      "</span>\n"
     ]
    }
   ],
   "source": [
    "print(all_articles[0].find('span', {'class': 'tm-article-snippet__datetime-published'}).prettify())"
   ]
  },
  {
   "cell_type": "code",
   "execution_count": 81,
   "metadata": {},
   "outputs": [
    {
     "data": {
      "text/plain": [
       "'2022-11-18, 17:00'"
      ]
     },
     "execution_count": 81,
     "metadata": {},
     "output_type": "execute_result"
    }
   ],
   "source": [
    "all_articles[0].find('span', {'class': 'tm-article-snippet__datetime-published'}).time['title']"
   ]
  },
  {
   "cell_type": "code",
   "execution_count": 85,
   "metadata": {},
   "outputs": [],
   "source": [
    "import pandas as pd"
   ]
  },
  {
   "cell_type": "code",
   "execution_count": 86,
   "metadata": {},
   "outputs": [],
   "source": [
    "def process_single_arcticle(bs4_article):\n",
    "    return_dict = {\n",
    "        'title': bs4_article.find('h2', {'class': 'tm-article-snippet__title_h2'}).text,\n",
    "        'username': bs4_article.find('span', {'class': 'tm-user-info'}).text.strip(), \n",
    "        'create_date': bs4_article.find('span', {'class': 'tm-article-snippet__datetime-published'}).time['title']\n",
    "    }\n",
    "    return return_dict\n",
    "        \n",
    "def process_all_arcticles(html_doc):\n",
    "    soup = BeautifulSoup(html_doc, 'html.parser')\n",
    "    all_articles = soup.find_all('article')\n",
    "    rows = [process_single_arcticle(art) for art in all_articles]\n",
    "    df = pd.DataFrame(rows, columns=['title', 'username', 'create_date'])\n",
    "    return df"
   ]
  },
  {
   "cell_type": "code",
   "execution_count": 87,
   "metadata": {},
   "outputs": [
    {
     "data": {
      "text/html": [
       "<div>\n",
       "<style scoped>\n",
       "    .dataframe tbody tr th:only-of-type {\n",
       "        vertical-align: middle;\n",
       "    }\n",
       "\n",
       "    .dataframe tbody tr th {\n",
       "        vertical-align: top;\n",
       "    }\n",
       "\n",
       "    .dataframe thead th {\n",
       "        text-align: right;\n",
       "    }\n",
       "</style>\n",
       "<table border=\"1\" class=\"dataframe\">\n",
       "  <thead>\n",
       "    <tr style=\"text-align: right;\">\n",
       "      <th></th>\n",
       "      <th>title</th>\n",
       "      <th>username</th>\n",
       "      <th>create_date</th>\n",
       "    </tr>\n",
       "  </thead>\n",
       "  <tbody>\n",
       "    <tr>\n",
       "      <th>0</th>\n",
       "      <td>Сборка мусора в неисправных JVM, проактивный п...</td>\n",
       "      <td>Shyhartskoi</td>\n",
       "      <td>2022-11-18, 17:00</td>\n",
       "    </tr>\n",
       "    <tr>\n",
       "      <th>1</th>\n",
       "      <td>Трудности перевода в разработке: как делать ин...</td>\n",
       "      <td>vileven</td>\n",
       "      <td>2022-11-18, 16:53</td>\n",
       "    </tr>\n",
       "    <tr>\n",
       "      <th>2</th>\n",
       "      <td>Учимся создавать пакеты Python</td>\n",
       "      <td>ph_piter</td>\n",
       "      <td>2022-11-18, 16:46</td>\n",
       "    </tr>\n",
       "    <tr>\n",
       "      <th>3</th>\n",
       "      <td>ТОП-10 онлайн-ресурсов для прокачки навыков фр...</td>\n",
       "      <td>lena_ryan</td>\n",
       "      <td>2022-11-18, 16:26</td>\n",
       "    </tr>\n",
       "    <tr>\n",
       "      <th>4</th>\n",
       "      <td>Отечественная образовательная микроэлектроника...</td>\n",
       "      <td>akaz_zaka</td>\n",
       "      <td>2022-11-18, 16:19</td>\n",
       "    </tr>\n",
       "    <tr>\n",
       "      <th>5</th>\n",
       "      <td>Можно ли полноценно заменить VMware vSphere?</td>\n",
       "      <td>MSIVANOV</td>\n",
       "      <td>2022-11-18, 16:10</td>\n",
       "    </tr>\n",
       "    <tr>\n",
       "      <th>6</th>\n",
       "      <td>Почему тяжело писать про хороший код?</td>\n",
       "      <td>DyadichenkoGA</td>\n",
       "      <td>2022-11-18, 16:04</td>\n",
       "    </tr>\n",
       "    <tr>\n",
       "      <th>7</th>\n",
       "      <td>Основные архитектурные шаблоны построения ПО</td>\n",
       "      <td>Bright_Translate</td>\n",
       "      <td>2022-11-18, 16:00</td>\n",
       "    </tr>\n",
       "    <tr>\n",
       "      <th>8</th>\n",
       "      <td>Оформляем приложения по ГОСТ 7.32 в MS Word и ...</td>\n",
       "      <td>a1exjob</td>\n",
       "      <td>2022-11-18, 15:59</td>\n",
       "    </tr>\n",
       "    <tr>\n",
       "      <th>9</th>\n",
       "      <td>Как нанять Java-разработчика всего за один ден...</td>\n",
       "      <td>StanYurk</td>\n",
       "      <td>2022-11-18, 15:54</td>\n",
       "    </tr>\n",
       "    <tr>\n",
       "      <th>10</th>\n",
       "      <td>Смешать, но не взбалтывать: добавляем видеообл...</td>\n",
       "      <td>sonya_s</td>\n",
       "      <td>2022-11-18, 15:51</td>\n",
       "    </tr>\n",
       "    <tr>\n",
       "      <th>11</th>\n",
       "      <td>Ещё раз про умный дом</td>\n",
       "      <td>vozov</td>\n",
       "      <td>2022-11-18, 15:42</td>\n",
       "    </tr>\n",
       "    <tr>\n",
       "      <th>12</th>\n",
       "      <td>Стройте карьеру на выполнении грязной работы</td>\n",
       "      <td>nmgtech</td>\n",
       "      <td>2022-11-18, 15:17</td>\n",
       "    </tr>\n",
       "    <tr>\n",
       "      <th>13</th>\n",
       "      <td>Ретроспектива. Doin’ It Right</td>\n",
       "      <td>aleshadk</td>\n",
       "      <td>2022-11-18, 15:10</td>\n",
       "    </tr>\n",
       "    <tr>\n",
       "      <th>14</th>\n",
       "      <td>Использование нейросетей в современной биологии</td>\n",
       "      <td>SLY_G</td>\n",
       "      <td>2022-11-18, 14:48</td>\n",
       "    </tr>\n",
       "    <tr>\n",
       "      <th>15</th>\n",
       "      <td>Как написать своего бота, если устал от голосовых</td>\n",
       "      <td>leo_l</td>\n",
       "      <td>2022-11-18, 14:07</td>\n",
       "    </tr>\n",
       "    <tr>\n",
       "      <th>16</th>\n",
       "      <td>Лоукост — бизнес-модель, которая работает, ког...</td>\n",
       "      <td>AlekseiPodkletnov</td>\n",
       "      <td>2022-11-18, 14:06</td>\n",
       "    </tr>\n",
       "    <tr>\n",
       "      <th>17</th>\n",
       "      <td>6 перспективных российских стартапов за октябр...</td>\n",
       "      <td>tw0face</td>\n",
       "      <td>2022-11-18, 14:03</td>\n",
       "    </tr>\n",
       "    <tr>\n",
       "      <th>18</th>\n",
       "      <td>Процесс рендеринга Vue</td>\n",
       "      <td>melkor_morgoth</td>\n",
       "      <td>2022-11-18, 13:57</td>\n",
       "    </tr>\n",
       "    <tr>\n",
       "      <th>19</th>\n",
       "      <td>React hooks, как не выстрелить себе в ноги. Ра...</td>\n",
       "      <td>igor_zvyagin</td>\n",
       "      <td>2022-11-18, 13:51</td>\n",
       "    </tr>\n",
       "  </tbody>\n",
       "</table>\n",
       "</div>"
      ],
      "text/plain": [
       "                                                title           username  \\\n",
       "0   Сборка мусора в неисправных JVM, проактивный п...        Shyhartskoi   \n",
       "1   Трудности перевода в разработке: как делать ин...            vileven   \n",
       "2                      Учимся создавать пакеты Python           ph_piter   \n",
       "3   ТОП-10 онлайн-ресурсов для прокачки навыков фр...          lena_ryan   \n",
       "4   Отечественная образовательная микроэлектроника...          akaz_zaka   \n",
       "5        Можно ли полноценно заменить VMware vSphere?           MSIVANOV   \n",
       "6               Почему тяжело писать про хороший код?      DyadichenkoGA   \n",
       "7        Основные архитектурные шаблоны построения ПО   Bright_Translate   \n",
       "8   Оформляем приложения по ГОСТ 7.32 в MS Word и ...            a1exjob   \n",
       "9   Как нанять Java-разработчика всего за один ден...           StanYurk   \n",
       "10  Смешать, но не взбалтывать: добавляем видеообл...            sonya_s   \n",
       "11                              Ещё раз про умный дом              vozov   \n",
       "12       Стройте карьеру на выполнении грязной работы            nmgtech   \n",
       "13                      Ретроспектива. Doin’ It Right           aleshadk   \n",
       "14    Использование нейросетей в современной биологии              SLY_G   \n",
       "15  Как написать своего бота, если устал от голосовых              leo_l   \n",
       "16  Лоукост — бизнес-модель, которая работает, ког...  AlekseiPodkletnov   \n",
       "17  6 перспективных российских стартапов за октябр...            tw0face   \n",
       "18                             Процесс рендеринга Vue     melkor_morgoth   \n",
       "19  React hooks, как не выстрелить себе в ноги. Ра...       igor_zvyagin   \n",
       "\n",
       "          create_date  \n",
       "0   2022-11-18, 17:00  \n",
       "1   2022-11-18, 16:53  \n",
       "2   2022-11-18, 16:46  \n",
       "3   2022-11-18, 16:26  \n",
       "4   2022-11-18, 16:19  \n",
       "5   2022-11-18, 16:10  \n",
       "6   2022-11-18, 16:04  \n",
       "7   2022-11-18, 16:00  \n",
       "8   2022-11-18, 15:59  \n",
       "9   2022-11-18, 15:54  \n",
       "10  2022-11-18, 15:51  \n",
       "11  2022-11-18, 15:42  \n",
       "12  2022-11-18, 15:17  \n",
       "13  2022-11-18, 15:10  \n",
       "14  2022-11-18, 14:48  \n",
       "15  2022-11-18, 14:07  \n",
       "16  2022-11-18, 14:06  \n",
       "17  2022-11-18, 14:03  \n",
       "18  2022-11-18, 13:57  \n",
       "19  2022-11-18, 13:51  "
      ]
     },
     "execution_count": 87,
     "metadata": {},
     "output_type": "execute_result"
    }
   ],
   "source": [
    "process_all_arcticles(response.text)"
   ]
  },
  {
   "cell_type": "markdown",
   "metadata": {},
   "source": [
    "## Хорошие статьи по теме:\n",
    "\n",
    "https://realpython.com/python-requests/   \n",
    "[https://sysblok.ru/courses/obkachka-sajtov-svoimi-rukami-razbiraemsja-s-html/](https://sysblok.ru/courses/obkachka-sajtov-svoimi-rukami-razbiraemsja-s-html/)\n"
   ]
  }
 ],
 "metadata": {
  "kernelspec": {
   "display_name": "Python 3 (ipykernel)",
   "language": "python",
   "name": "python3"
  },
  "language_info": {
   "codemirror_mode": {
    "name": "ipython",
    "version": 3
   },
   "file_extension": ".py",
   "mimetype": "text/x-python",
   "name": "python",
   "nbconvert_exporter": "python",
   "pygments_lexer": "ipython3",
   "version": "3.9.6"
  }
 },
 "nbformat": 4,
 "nbformat_minor": 4
}
