{
 "cells": [
  {
   "cell_type": "markdown",
   "metadata": {
    "id": "_PY6DR1XVqhM"
   },
   "source": [
    "# Телеграм бот 2: функциональность"
   ]
  },
  {
   "cell_type": "markdown",
   "metadata": {
    "id": "_FLioScqeIJd"
   },
   "source": [
    "## Привязка данных к пользователю\n",
    "\n",
    "Допустим, что мы хотим сделать бота, который запоминает фразу, а потом, по просьбе пользователя, напоминает ее ему. Чтобы решить эту задачу, нам понадобится где-то хранить последнее сообщение пользователя.\n",
    "\n",
    "Если мы будем использовать переменную, то сможем сохранить сообщение только одного пользователя. Например, Ваня попросил запомнить слово linguist. Мы положили эту строку в переменную note. Потом Василиса попросила запомнить слово elephant, и мы снова положили это в переменную note. Когда Ваня попросит нас напомнить его последнее сообщение, мы напишем ему elephant вместо linguist. Неуспех!\n",
    "\n",
    "Удобнее всего хранить все данные, которые привязаны к конкретному пользователю, в словаре. Ключем в этом словаре будет id пользователя, а значением - произвольные данные.\n",
    "\n",
    "Допустим, что наш словарь называется ```notes```. Теперь, когда Ваня (```id1076```) пришлет слово linguist мы положим его в ```notes[1076]```, а слово elephant от Василисы (```id1402```) - в ```notes[1402]```. Так как теперь мы используем разные переменные для хранения слова, сообщения от разных пользователей не будут путаться."
   ]
  },
  {
   "cell_type": "code",
   "execution_count": 2,
   "metadata": {
    "id": "z3kYJgtugEtV"
   },
   "outputs": [],
   "source": [
    "import telebot\n",
    "import conf\n",
    "\n",
    "bot = telebot.TeleBot(conf.TOKEN)\n",
    "\n",
    "#создаем словарь\n",
    "notes = {}\n",
    "\n",
    "@bot.message_handler(commands=['remind'])\n",
    "def remind(message):\n",
    "    user_id = message.chat.id\n",
    "    if user_id not in notes:\n",
    "        bot.send_message(user_id, \"Вы мне еще не писали.\")\n",
    "    else:\n",
    "        bot.send_message(user_id, notes[user_id])\n",
    "\n",
    "@bot.message_handler(content_types=['text'])\n",
    "def remember(message):\n",
    "    user_id = message.chat.id\n",
    "    notes[user_id] = message.text\n",
    "    bot.send_message(user_id, \"Я запомнил\")\n",
    "\n",
    "bot.polling(none_stop=True)"
   ]
  },
  {
   "cell_type": "markdown",
   "metadata": {
    "id": "mAlTKpsPkbKU"
   },
   "source": [
    "## Кнопки\n",
    "\n",
    "Как добавить несколько кнопок к сообщению и реагировать на их нажатия?"
   ]
  },
  {
   "cell_type": "code",
   "execution_count": 10,
   "metadata": {
    "id": "grpXLwaWkn1N"
   },
   "outputs": [],
   "source": [
    "import telebot\n",
    "from telebot import types\n",
    "\n",
    "import conf\n",
    "\n",
    "bot = telebot.TeleBot(conf.TOKEN)\n",
    "\n",
    "# @bot.message_handler(commands=[\"start\"])\n",
    "# def repeat_all_messages(message):\n",
    "#     # создаем клавиатуру\n",
    "#     keyboard = types.InlineKeyboardMarkup()\n",
    "\n",
    "#     # добавляем на нее две кнопки\n",
    "#     button1 = types.InlineKeyboardButton(text=\"Привет! 👋\", callback_data=\"button1\")\n",
    "#     button2 = types.InlineKeyboardButton(text=\"Кнопка 2\", callback_data=\"button2\")\n",
    "#     keyboard.add(button1)\n",
    "#     keyboard.add(button2)\n",
    "\n",
    "#     # отправляем сообщение пользователю\n",
    "#     bot.send_message(message.chat.id, \"Нажмите кнопку!\", reply_markup=keyboard)\n",
    "    \n",
    "\n",
    "@bot.message_handler(commands=[\"start\"])\n",
    "def repeat_all_messages(message):\n",
    "    # создаем клавиатуру\n",
    "    markup = types.ReplyKeyboardMarkup(row_width=2) # по умолчанию 3\n",
    "    itembtna = types.KeyboardButton('a')\n",
    "    itembtnv = types.KeyboardButton('b')\n",
    "    itembtnc = types.KeyboardButton('c')\n",
    "    itembtnd = types.KeyboardButton('d')\n",
    "    itembtne = types.KeyboardButton('e')\n",
    "    markup.row(itembtna, itembtnv)\n",
    "    markup.row(itembtnc, itembtnd, itembtne)\n",
    "\n",
    "    # отправляем сообщение пользователю\n",
    "    bot.send_message(message.chat.id, \"Нажмите кнопку!\", reply_markup=markup)\n",
    "\n",
    "# функция запустится, когда пользователь нажмет на кнопку\n",
    "@bot.callback_query_handler(func=lambda call: True)\n",
    "def callback_inline(call):\n",
    "    if call.message:\n",
    "        if call.data == \"button1\":\n",
    "            bot.send_message(call.message.chat.id, \"Вы нажали на первую кнопку.\")\n",
    "        if call.data == \"button2\":\n",
    "            bot.send_message(call.message.chat.id, \"Вы нажали на вторую кнопку.\")\n",
    "\n",
    "bot.polling(none_stop=True)"
   ]
  },
  {
   "cell_type": "markdown",
   "metadata": {
    "id": "UQv5Ak_IL7OK"
   },
   "source": [
    "## Какие еще есть функции?"
   ]
  },
  {
   "cell_type": "code",
   "execution_count": null,
   "metadata": {
    "id": "Ux0AIRK9MHY4"
   },
   "outputs": [],
   "source": [
    "# sendMessage\n",
    "bot.send_message(chat_id, text)\n",
    "\n",
    "# editMessageText\n",
    "bot.edit_message_text(new_text, chat_id, message_id)\n",
    "\n",
    "# forwardMessage\n",
    "bot.forward_message(to_chat_id, from_chat_id, message_id)\n",
    "\n",
    "# All send_xyz functions which can take a file as an argument, can also take a file_id instead of a file.\n",
    "# sendPhoto\n",
    "photo = open('/tmp/photo.png', 'rb')\n",
    "bot.send_photo(chat_id, photo)\n",
    "bot.send_photo(chat_id, \"FILEID\")\n",
    "\n",
    "# sendAudio\n",
    "audio = open('/tmp/audio.mp3', 'rb')\n",
    "bot.send_audio(chat_id, audio)\n",
    "bot.send_audio(chat_id, \"FILEID\")\n",
    "\n",
    "## sendAudio with duration, performer and title.\n",
    "bot.send_audio(CHAT_ID, file_data, 1, 'eternnoir', 'pyTelegram')\n",
    "\n",
    "# sendVoice\n",
    "voice = open('/tmp/voice.ogg', 'rb')\n",
    "bot.send_voice(chat_id, voice)\n",
    "bot.send_voice(chat_id, \"FILEID\")\n",
    "\n",
    "# sendDocument\n",
    "doc = open('/tmp/file.txt', 'rb')\n",
    "bot.send_document(chat_id, doc)\n",
    "bot.send_document(chat_id, \"FILEID\")\n",
    "\n",
    "# sendSticker\n",
    "sti = open('/tmp/sti.webp', 'rb')\n",
    "bot.send_sticker(chat_id, sti)\n",
    "bot.send_sticker(chat_id, \"FILEID\")\n",
    "\n",
    "# sendVideo\n",
    "video = open('/tmp/video.mp4', 'rb')\n",
    "bot.send_video(chat_id, video)\n",
    "bot.send_video(chat_id, \"FILEID\")\n",
    "\n",
    "# sendVideoNote\n",
    "videonote = open('/tmp/videonote.mp4', 'rb')\n",
    "bot.send_video_note(chat_id, videonote)\n",
    "bot.send_video_note(chat_id, \"FILEID\")\n",
    "\n",
    "# sendLocation\n",
    "bot.send_location(chat_id, lat, lon)\n",
    "\n",
    "# sendChatAction\n",
    "# action_string can be one of the following strings: 'typing', 'upload_photo', 'record_video', 'upload_video',\n",
    "# 'record_audio', 'upload_audio', 'upload_document' or 'find_location'.\n",
    "bot.send_chat_action(chat_id, action_string)\n",
    "\n",
    "# getFile\n",
    "# Downloading a file is straightforward\n",
    "# Returns a File object\n",
    "import requests\n",
    "file_info = tb.get_file(file_id)\n",
    "\n",
    "file = requests.get('https://api.telegram.org/file/bot{0}/{1}'.format(TOKEN, file_info.file_path))"
   ]
  },
  {
   "cell_type": "markdown",
   "metadata": {
    "id": "7GGnfCsnvp1E"
   },
   "source": [
    "## Как отправить и как скачать стикер?\n",
    "\n",
    "Сначала нужно узнать ID стикера. Отправьте любой стикер боту @idstickerbot, и он вернёт Вам ID."
   ]
  },
  {
   "cell_type": "code",
   "execution_count": 16,
   "metadata": {
    "id": "PM3sWFOfv5Wg"
   },
   "outputs": [],
   "source": [
    "import telebot\n",
    "from telebot import types\n",
    "\n",
    "import conf\n",
    "\n",
    "bot = telebot.TeleBot(conf.TOKEN)\n",
    "\n",
    "\n",
    "@bot.message_handler(commands=[\"start\"])\n",
    "def start_reply(message):\n",
    "    bot.send_message(message.chat.id, \"Ну чего тебе?\")\n",
    "\n",
    "\n",
    "@bot.message_handler(content_types=[\"text\"])\n",
    "def text(message):\n",
    "    bot.send_sticker(message.chat.id, 'CAACAgIAAxkBAAEH5Chj-b0srTZNgAG-LsVOrOILfe0d-QACRhAAAuILIEib3ujwu8FH3S4E')\n",
    "    \n",
    "bot.polling(none_stop=True)"
   ]
  },
  {
   "cell_type": "markdown",
   "metadata": {
    "id": "KA2vFR66wLcn"
   },
   "source": [
    "Если пользователь пришлёт слово sticker, то мы отправим ему стикер. Используем метод send_sticker.\n",
    "\n",
    "А как сохранить на комп присланный стикер?"
   ]
  },
  {
   "cell_type": "code",
   "execution_count": null,
   "metadata": {
    "id": "kt0DemBew-S5"
   },
   "outputs": [],
   "source": [
    "@bot.message_handler(content_types=[\"sticker\"])\n",
    "def handle_docs_audio(message):\n",
    "    # получаем ID стикера\n",
    "    sticker_id = message.sticker.file_id\n",
    "    # получаем путь, где лежит файл стикера на сервере телеграма\n",
    "    file_info = bot.get_file(sticker_id)\n",
    "    # скачиваем файл\n",
    "    urllib.request.urlretrieve(f'http://api.telegram.org/file/bot{config.token}/{file_info.file_path}', file_info.file_path)"
   ]
  },
  {
   "cell_type": "markdown",
   "metadata": {
    "id": "MRfzSwJVyeM4"
   },
   "source": [
    "Простой бот, который отвечает текстом или стикером, в зависимости от послания пользователя:"
   ]
  },
  {
   "cell_type": "code",
   "execution_count": 21,
   "metadata": {
    "id": "JF3JJ1QZylrJ"
   },
   "outputs": [
    {
     "name": "stdout",
     "output_type": "stream",
     "text": [
      "430675894\n"
     ]
    }
   ],
   "source": [
    "import telebot\n",
    "import conf \n",
    "\n",
    "bot = telebot.TeleBot(conf.TOKEN)\n",
    "\n",
    "@bot.message_handler(commands=['start'])\n",
    "def start_message(message):\n",
    "    bot.send_message(message.chat.id, 'Привет, ты написал мне, ура!')\n",
    "\n",
    "@bot.message_handler(content_types=['text'])\n",
    "def send_text(message):\n",
    "    print(message.chat.id)\n",
    "    if message.text.lower() == 'привет':\n",
    "        bot.send_message(message.chat.id, 'Привет, лингвист!')\n",
    "    elif message.text.lower() == 'пока':\n",
    "        bot.send_message(message.chat.id, 'Пока, лингвист!')\n",
    "    elif message.text.lower() == 'люблю программировать':\n",
    "        bot.send_sticker(message.chat.id, 'CAACAgIAAxkBAAEH5Ddj-b9T7Qa3ObWuJ6lNEe0MGmg5oQACRA4AAhT50EudQw4-ewR__y4E')\n",
    "\n",
    "@bot.message_handler(content_types=['sticker'])\n",
    "def sticker_id(message):\n",
    "    print(message)\n",
    "    \n",
    "bot.polling()"
   ]
  },
  {
   "cell_type": "markdown",
   "metadata": {
    "id": "c9Ag3dFNgxZK"
   },
   "source": [
    "## Как отправить длинное текстовое сообщение?\n",
    "\n",
    "Если Вы хотите отправить сообщение, где больше 5000 символов, его придется разбить"
   ]
  },
  {
   "cell_type": "code",
   "execution_count": 29,
   "metadata": {
    "tags": []
   },
   "outputs": [
    {
     "data": {
      "text/plain": [
       "2891555"
      ]
     },
     "execution_count": 29,
     "metadata": {},
     "output_type": "execute_result"
    }
   ],
   "source": [
    "large_text = open(\"Tolkien J.. The Lord of the Rings - royallib.ru.txt\", \"rb\").read().decode('cp1251')\n",
    "len(large_text)"
   ]
  },
  {
   "cell_type": "code",
   "execution_count": 28,
   "metadata": {
    "id": "gNYsPI0rg806"
   },
   "outputs": [
    {
     "ename": "ApiTelegramException",
     "evalue": "A request to the Telegram API was unsuccessful. Error code: 429. Description: Too Many Requests: retry after 11",
     "output_type": "error",
     "traceback": [
      "\u001b[0;31m---------------------------------------------------------------------------\u001b[0m",
      "\u001b[0;31mApiTelegramException\u001b[0m                      Traceback (most recent call last)",
      "\u001b[0;32m/var/folders/92/3c17nrtn13s3ct0n5tsq9ltj48dh4y/T/ipykernel_47090/2001103356.py\u001b[0m in \u001b[0;36m<module>\u001b[0;34m\u001b[0m\n\u001b[1;32m      7\u001b[0m \u001b[0msplitted_text\u001b[0m \u001b[0;34m=\u001b[0m \u001b[0mutil\u001b[0m\u001b[0;34m.\u001b[0m\u001b[0msplit_string\u001b[0m\u001b[0;34m(\u001b[0m\u001b[0mlarge_text\u001b[0m\u001b[0;34m,\u001b[0m \u001b[0;36m3000\u001b[0m\u001b[0;34m)\u001b[0m\u001b[0;34m\u001b[0m\u001b[0;34m\u001b[0m\u001b[0m\n\u001b[1;32m      8\u001b[0m \u001b[0;32mfor\u001b[0m \u001b[0mtext\u001b[0m \u001b[0;32min\u001b[0m \u001b[0msplitted_text\u001b[0m\u001b[0;34m:\u001b[0m\u001b[0;34m\u001b[0m\u001b[0;34m\u001b[0m\u001b[0m\n\u001b[0;32m----> 9\u001b[0;31m     \u001b[0mbot\u001b[0m\u001b[0;34m.\u001b[0m\u001b[0msend_message\u001b[0m\u001b[0;34m(\u001b[0m\u001b[0;36m430675894\u001b[0m\u001b[0;34m,\u001b[0m \u001b[0mtext\u001b[0m\u001b[0;34m)\u001b[0m\u001b[0;34m\u001b[0m\u001b[0;34m\u001b[0m\u001b[0m\n\u001b[0m",
      "\u001b[0;32m~/opt/anaconda3/lib/python3.9/site-packages/telebot/__init__.py\u001b[0m in \u001b[0;36msend_message\u001b[0;34m(self, chat_id, text, parse_mode, entities, disable_web_page_preview, disable_notification, protect_content, reply_to_message_id, allow_sending_without_reply, reply_markup, timeout, message_thread_id)\u001b[0m\n\u001b[1;32m   1547\u001b[0m \u001b[0;34m\u001b[0m\u001b[0m\n\u001b[1;32m   1548\u001b[0m         return types.Message.de_json(\n\u001b[0;32m-> 1549\u001b[0;31m             apihelper.send_message(\n\u001b[0m\u001b[1;32m   1550\u001b[0m                 \u001b[0mself\u001b[0m\u001b[0;34m.\u001b[0m\u001b[0mtoken\u001b[0m\u001b[0;34m,\u001b[0m \u001b[0mchat_id\u001b[0m\u001b[0;34m,\u001b[0m \u001b[0mtext\u001b[0m\u001b[0;34m,\u001b[0m \u001b[0mdisable_web_page_preview\u001b[0m\u001b[0;34m,\u001b[0m \u001b[0mreply_to_message_id\u001b[0m\u001b[0;34m,\u001b[0m\u001b[0;34m\u001b[0m\u001b[0;34m\u001b[0m\u001b[0m\n\u001b[1;32m   1551\u001b[0m                 \u001b[0mreply_markup\u001b[0m\u001b[0;34m,\u001b[0m \u001b[0mparse_mode\u001b[0m\u001b[0;34m,\u001b[0m \u001b[0mdisable_notification\u001b[0m\u001b[0;34m,\u001b[0m \u001b[0mtimeout\u001b[0m\u001b[0;34m,\u001b[0m\u001b[0;34m\u001b[0m\u001b[0;34m\u001b[0m\u001b[0m\n",
      "\u001b[0;32m~/opt/anaconda3/lib/python3.9/site-packages/telebot/apihelper.py\u001b[0m in \u001b[0;36msend_message\u001b[0;34m(token, chat_id, text, disable_web_page_preview, reply_to_message_id, reply_markup, parse_mode, disable_notification, timeout, entities, allow_sending_without_reply, protect_content, message_thread_id)\u001b[0m\n\u001b[1;32m    262\u001b[0m     \u001b[0;32mif\u001b[0m \u001b[0mmessage_thread_id\u001b[0m\u001b[0;34m:\u001b[0m\u001b[0;34m\u001b[0m\u001b[0;34m\u001b[0m\u001b[0m\n\u001b[1;32m    263\u001b[0m         \u001b[0mpayload\u001b[0m\u001b[0;34m[\u001b[0m\u001b[0;34m'message_thread_id'\u001b[0m\u001b[0;34m]\u001b[0m \u001b[0;34m=\u001b[0m \u001b[0mmessage_thread_id\u001b[0m\u001b[0;34m\u001b[0m\u001b[0;34m\u001b[0m\u001b[0m\n\u001b[0;32m--> 264\u001b[0;31m     \u001b[0;32mreturn\u001b[0m \u001b[0m_make_request\u001b[0m\u001b[0;34m(\u001b[0m\u001b[0mtoken\u001b[0m\u001b[0;34m,\u001b[0m \u001b[0mmethod_url\u001b[0m\u001b[0;34m,\u001b[0m \u001b[0mparams\u001b[0m\u001b[0;34m=\u001b[0m\u001b[0mpayload\u001b[0m\u001b[0;34m,\u001b[0m \u001b[0mmethod\u001b[0m\u001b[0;34m=\u001b[0m\u001b[0;34m'post'\u001b[0m\u001b[0;34m)\u001b[0m\u001b[0;34m\u001b[0m\u001b[0;34m\u001b[0m\u001b[0m\n\u001b[0m\u001b[1;32m    265\u001b[0m \u001b[0;34m\u001b[0m\u001b[0m\n\u001b[1;32m    266\u001b[0m \u001b[0;34m\u001b[0m\u001b[0m\n",
      "\u001b[0;32m~/opt/anaconda3/lib/python3.9/site-packages/telebot/apihelper.py\u001b[0m in \u001b[0;36m_make_request\u001b[0;34m(token, method_name, method, params, files)\u001b[0m\n\u001b[1;32m    160\u001b[0m     \u001b[0mlogger\u001b[0m\u001b[0;34m.\u001b[0m\u001b[0mdebug\u001b[0m\u001b[0;34m(\u001b[0m\u001b[0;34m\"The server returned: '{0}'\"\u001b[0m\u001b[0;34m.\u001b[0m\u001b[0mformat\u001b[0m\u001b[0;34m(\u001b[0m\u001b[0mresult\u001b[0m\u001b[0;34m.\u001b[0m\u001b[0mtext\u001b[0m\u001b[0;34m.\u001b[0m\u001b[0mencode\u001b[0m\u001b[0;34m(\u001b[0m\u001b[0;34m'utf8'\u001b[0m\u001b[0;34m)\u001b[0m\u001b[0;34m)\u001b[0m\u001b[0;34m)\u001b[0m\u001b[0;34m\u001b[0m\u001b[0;34m\u001b[0m\u001b[0m\n\u001b[1;32m    161\u001b[0m \u001b[0;34m\u001b[0m\u001b[0m\n\u001b[0;32m--> 162\u001b[0;31m     \u001b[0mjson_result\u001b[0m \u001b[0;34m=\u001b[0m \u001b[0m_check_result\u001b[0m\u001b[0;34m(\u001b[0m\u001b[0mmethod_name\u001b[0m\u001b[0;34m,\u001b[0m \u001b[0mresult\u001b[0m\u001b[0;34m)\u001b[0m\u001b[0;34m\u001b[0m\u001b[0;34m\u001b[0m\u001b[0m\n\u001b[0m\u001b[1;32m    163\u001b[0m     \u001b[0;32mif\u001b[0m \u001b[0mjson_result\u001b[0m\u001b[0;34m:\u001b[0m\u001b[0;34m\u001b[0m\u001b[0;34m\u001b[0m\u001b[0m\n\u001b[1;32m    164\u001b[0m         \u001b[0;32mreturn\u001b[0m \u001b[0mjson_result\u001b[0m\u001b[0;34m[\u001b[0m\u001b[0;34m'result'\u001b[0m\u001b[0;34m]\u001b[0m\u001b[0;34m\u001b[0m\u001b[0;34m\u001b[0m\u001b[0m\n",
      "\u001b[0;32m~/opt/anaconda3/lib/python3.9/site-packages/telebot/apihelper.py\u001b[0m in \u001b[0;36m_check_result\u001b[0;34m(method_name, result)\u001b[0m\n\u001b[1;32m    187\u001b[0m     \u001b[0;32melse\u001b[0m\u001b[0;34m:\u001b[0m\u001b[0;34m\u001b[0m\u001b[0;34m\u001b[0m\u001b[0m\n\u001b[1;32m    188\u001b[0m         \u001b[0;32mif\u001b[0m \u001b[0;32mnot\u001b[0m \u001b[0mresult_json\u001b[0m\u001b[0;34m[\u001b[0m\u001b[0;34m'ok'\u001b[0m\u001b[0;34m]\u001b[0m\u001b[0;34m:\u001b[0m\u001b[0;34m\u001b[0m\u001b[0;34m\u001b[0m\u001b[0m\n\u001b[0;32m--> 189\u001b[0;31m             \u001b[0;32mraise\u001b[0m \u001b[0mApiTelegramException\u001b[0m\u001b[0;34m(\u001b[0m\u001b[0mmethod_name\u001b[0m\u001b[0;34m,\u001b[0m \u001b[0mresult\u001b[0m\u001b[0;34m,\u001b[0m \u001b[0mresult_json\u001b[0m\u001b[0;34m)\u001b[0m\u001b[0;34m\u001b[0m\u001b[0;34m\u001b[0m\u001b[0m\n\u001b[0m\u001b[1;32m    190\u001b[0m \u001b[0;34m\u001b[0m\u001b[0m\n\u001b[1;32m    191\u001b[0m         \u001b[0;32mreturn\u001b[0m \u001b[0mresult_json\u001b[0m\u001b[0;34m\u001b[0m\u001b[0;34m\u001b[0m\u001b[0m\n",
      "\u001b[0;31mApiTelegramException\u001b[0m: A request to the Telegram API was unsuccessful. Error code: 429. Description: Too Many Requests: retry after 11"
     ]
    }
   ],
   "source": [
    "from telebot import util\n",
    "\n",
    "large_text = open(\"Tolkien J.. The Lord of the Rings - royallib.ru.txt\", \"rb\").read().decode('cp1251')\n",
    "\n",
    "# разобьем текст на 3000 символов\n",
    "# split_string возвращает список разбитых кусочков текста\n",
    "splitted_text = util.split_string(large_text[:10000], 3000)\n",
    "for text in splitted_text:\n",
    "    bot.send_message(430675894, text)"
   ]
  },
  {
   "cell_type": "markdown",
   "metadata": {
    "id": "9X1TGw3XpExu"
   },
   "source": [
    "## Как обратиться к пользователю по имени?\n",
    "\n",
    "Объект ```message``` содержит ин-фу о пользователе; чтобы получить имя, нужно использовать ```message.from_user.first_name```"
   ]
  },
  {
   "cell_type": "code",
   "execution_count": null,
   "metadata": {
    "id": "cPaGQqHHpODs"
   },
   "outputs": [],
   "source": [
    "import telebot\n",
    "import conf\n",
    "\n",
    "bot = telebot.TeleBot(conf.token)\n",
    "\n",
    "@bot.message_handler(commands=['start'])\n",
    "def send_welcome(message):\n",
    "    bot.reply_to(message, \"Привет, \" + message.from_user.first_name + \"!\")\n",
    "\n",
    "bot.polling()"
   ]
  },
  {
   "cell_type": "markdown",
   "metadata": {
    "id": "SFJBfmXIqAKi"
   },
   "source": [
    "Чтобы узнать больше опций, можно просто распечатать:"
   ]
  },
  {
   "cell_type": "code",
   "execution_count": null,
   "metadata": {
    "id": "OURXO6eCqIur"
   },
   "outputs": [],
   "source": [
    "def send_welcome(message):\n",
    "    print(message.from_user)"
   ]
  },
  {
   "cell_type": "markdown",
   "metadata": {
    "id": "Dc0zf2Fshdkt"
   },
   "source": [
    "## Logging\n",
    "\n",
    "Можно использовать logger из модуля telebot:"
   ]
  },
  {
   "cell_type": "code",
   "execution_count": null,
   "metadata": {
    "id": "sXMe6cgLidLX"
   },
   "outputs": [],
   "source": [
    "import logging\n",
    "\n",
    "logger = telebot.logger\n",
    "telebot.logger.setLevel(logging.DEBUG) # Outputs debug messages to console."
   ]
  },
  {
   "cell_type": "markdown",
   "metadata": {
    "id": "Gi5TD11ZnTJU"
   },
   "source": [
    "## Ущё чуть-чуть про ```polling```\n",
    "\n",
    "\n",
    "- none_stop: True/False (default False) - не прекращай запрашивать, пока не получишь от серверов Телеграма ошибку\n",
    "- interval: True/False (default False) - интервал между запросами, модификация приводит к замедлению реакции бота \n",
    "- timeout: integer (default 20) - промежутки в секундах\n"
   ]
  },
  {
   "cell_type": "code",
   "execution_count": null,
   "metadata": {
    "id": "A5Ctr6pEnbF4"
   },
   "outputs": [],
   "source": [
    "bot.polling(none_stop=False, interval=0, timeout=20)"
   ]
  }
 ],
 "metadata": {
  "colab": {
   "collapsed_sections": [],
   "name": "TGBot2.ipynb",
   "provenance": []
  },
  "kernelspec": {
   "display_name": "Python 3 (ipykernel)",
   "language": "python",
   "name": "python3"
  },
  "language_info": {
   "codemirror_mode": {
    "name": "ipython",
    "version": 3
   },
   "file_extension": ".py",
   "mimetype": "text/x-python",
   "name": "python",
   "nbconvert_exporter": "python",
   "pygments_lexer": "ipython3",
   "version": "3.9.13"
  }
 },
 "nbformat": 4,
 "nbformat_minor": 4
}
