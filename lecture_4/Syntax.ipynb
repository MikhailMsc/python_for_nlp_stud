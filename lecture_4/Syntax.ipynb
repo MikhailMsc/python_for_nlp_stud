{
 "cells": [
  {
   "cell_type": "markdown",
   "id": "2940ec5f-0523-4541-b41c-27b582201d80",
   "metadata": {},
   "source": [
    "# Синтаксис. \n",
    "# Дерево зависимостей (Dependency parsing).\n",
    "Зависимостный парсинг - одна из немногих задач, где лингвистика и компьютерные науки продуктивно взаимодействуют. Основную теорию тут разрабатывают лингвисты, они же размечают корпусы, а модели построены на самых последних разработках в области машинного обучения.\n",
    "\n",
    "Что мы уже научились делать:\n",
    "1) Разбить текст на предложения\n",
    "2) Разбить предложение на токены/слова\n",
    "3) Сделать морфологический анализ токенов\n",
    "____\n",
    "Следующий этап - это определение связей между токенами, то есть синтаксис. Для этого нам и потребуются синтаксические парсеры.  \n",
    "Существуют разные варианты парсеров и сегодня мы познакомимся с самыми известными из них. А так же рассмотрим основные разницы между ними и какой функционал у них есть.\n",
    "\n"
   ]
  },
  {
   "cell_type": "markdown",
   "id": "fea78e8c-b9e3-48e5-ac9d-21259bd6fd26",
   "metadata": {},
   "source": [
    "## Принцип работы парсера"
   ]
  },
  {
   "cell_type": "markdown",
   "id": "5afaab25-8f85-488f-aec4-f4d83eed3279",
   "metadata": {},
   "source": [
    "**На вход:** текст (последовательность токенов).   \n",
    "**На выход:** ориентированный граф, в котором узлами являются наши токены, а ребрами являются разные виды связей между токенами.  \n",
    "  \n",
    "Порядок действий парсера, за каждым из этих этапов стоит не самая простая модель:\n",
    "1) Разбивает текст на предложения\n",
    "2) Разбивает предложение на токены/слова\n",
    "3) Производит морфологический анализ токенов\n",
    "4) Анализ зависимостей между токенами, синтаксический анализ.\n",
    "\n",
    "Раньше пункт 4 выполнялся с помощью множества правил, разработанных лингвистами. Но данный подход оказался не оптимальным, так как языки меняются со временем, появляются новые слова и конструкции. А даже небольшие изменения, как правило приводят к огромной работе по изменению такого парсера.\n",
    "\n",
    "Поэтому перешли к модельному подходу. Теперь лингвисты размечают корпуса текстов, где указывают морфологические признаки и зависимости в предложениях.\n",
    "На этих данных обучаются сложные модели, задача которых, научиться искать эти связи во входящих данных. Как правило, эти модели называются декодерами.\n",
    "На вход такая модель получает последовательность токенов с их признаками, а на выходе она дает нам граф.\n",
    "\n",
    "\n",
    "Вот так примерно выглядит результат работы парсера:  \n",
    "![](https://habrastorage.org/getpro/habr/post_images/686/c78/066/686c780661b296250d53cba054317a18.png)"
   ]
  },
  {
   "cell_type": "markdown",
   "id": "d84c01c7-ed34-4921-8096-30feffafa7dd",
   "metadata": {},
   "source": [
    "## Категории парсеров\n",
    "Большинство парсеров можно поделить на две категори:  \n",
    "- **Transition-based decoders**  \n",
    "    Токены обрабатываются нейронкой по порядку слева на право. Такой подход является более быстрым, но меннее точным. Падение точности ощутимо на длинных зависимостях, когда между токенами большое расстояние.\n",
    "- **Graph-based decoders**\n",
    "    Cтроится граф, узлами которого являеются наши токены. Все токены соеденены друг с другом ребрами. Затем модель определяет какие ребра можно убрать, а у оставшихся определяет тип зависимости и направленность. Такой подход является более точным, но требует больших вычислений."
   ]
  },
  {
   "cell_type": "markdown",
   "id": "dfd77d87-7115-4579-bb8b-34492bcbb427",
   "metadata": {},
   "source": [
    "## Примеры парсеров\n",
    "На этом семинаре мы рассмотрим следующие парсеры:\n",
    "1) SpaCy\n",
    "2) UDPipe\n",
    "3) Stanza"
   ]
  },
  {
   "cell_type": "markdown",
   "id": "a977d5b5-d3d5-48a1-acca-78c8544263ad",
   "metadata": {
    "tags": []
   },
   "source": [
    "# Import libs"
   ]
  },
  {
   "cell_type": "code",
   "execution_count": 298,
   "id": "65f33216-a7ab-4451-a624-f52699127492",
   "metadata": {},
   "outputs": [],
   "source": [
    "import pandas as pd\n",
    "import matplotlib.pyplot as plt\n",
    "%matplotlib inline"
   ]
  },
  {
   "cell_type": "markdown",
   "id": "338dc81b-6d8e-4dee-ba8a-6bf3aa7288f0",
   "metadata": {},
   "source": [
    "# [Spacy](https://spacy.io/)\n",
    "Библиотека для продвинутого NLP. Очень много полезного функционала прям из коробки.  \n",
    "Так как предобученные модели могут занимать много места, а вы ими даже не будете пользоваться, то по умолчанию после установки spacy на вашем компьютере нет никаких моделей ни для какого языка.  \n",
    "[Но есть инструкция, как скачать и установить модель для необходимого вам языка.](https://spacy.io/models)\n"
   ]
  },
  {
   "cell_type": "code",
   "execution_count": 2,
   "id": "43f453da-40c5-4fc8-9d63-8c33fb0dc81f",
   "metadata": {},
   "outputs": [],
   "source": [
    "!pip install spacy"
   ]
  },
  {
   "cell_type": "code",
   "execution_count": 299,
   "id": "acdeda36-f5ed-4e9f-9d95-953e819f6f3f",
   "metadata": {},
   "outputs": [],
   "source": [
    "import spacy\n",
    "from spacy import displacy\n",
    "from spacy.tokens import Span"
   ]
  },
  {
   "cell_type": "code",
   "execution_count": 6,
   "id": "1e143665-df54-4492-8124-3aba6478cc55",
   "metadata": {
    "collapsed": true,
    "jupyter": {
     "outputs_hidden": true
    },
    "tags": []
   },
   "outputs": [
    {
     "name": "stdout",
     "output_type": "stream",
     "text": [
      "Collecting en-core-web-sm==3.4.0\n",
      "  Downloading https://github.com/explosion/spacy-models/releases/download/en_core_web_sm-3.4.0/en_core_web_sm-3.4.0-py3-none-any.whl (12.8 MB)\n",
      "\u001b[K     |████████████████████████████████| 12.8 MB 2.4 MB/s eta 0:00:01\n",
      "\u001b[?25hRequirement already satisfied: spacy<3.5.0,>=3.4.0 in /Users/u14510182/Documents/python_for_nlp_stud/venv/lib/python3.9/site-packages (from en-core-web-sm==3.4.0) (3.4.1)\n",
      "Requirement already satisfied: pathy>=0.3.5 in /Users/u14510182/Documents/python_for_nlp_stud/venv/lib/python3.9/site-packages (from spacy<3.5.0,>=3.4.0->en-core-web-sm==3.4.0) (0.6.2)\n",
      "Requirement already satisfied: thinc<8.2.0,>=8.1.0 in /Users/u14510182/Documents/python_for_nlp_stud/venv/lib/python3.9/site-packages (from spacy<3.5.0,>=3.4.0->en-core-web-sm==3.4.0) (8.1.4)\n",
      "Requirement already satisfied: packaging>=20.0 in /Users/u14510182/Documents/python_for_nlp_stud/venv/lib/python3.9/site-packages (from spacy<3.5.0,>=3.4.0->en-core-web-sm==3.4.0) (21.3)\n",
      "Requirement already satisfied: catalogue<2.1.0,>=2.0.6 in /Users/u14510182/Documents/python_for_nlp_stud/venv/lib/python3.9/site-packages (from spacy<3.5.0,>=3.4.0->en-core-web-sm==3.4.0) (2.0.8)\n",
      "Requirement already satisfied: pydantic!=1.8,!=1.8.1,<1.10.0,>=1.7.4 in /Users/u14510182/Documents/python_for_nlp_stud/venv/lib/python3.9/site-packages (from spacy<3.5.0,>=3.4.0->en-core-web-sm==3.4.0) (1.9.2)\n",
      "Requirement already satisfied: requests<3.0.0,>=2.13.0 in /Users/u14510182/Documents/python_for_nlp_stud/venv/lib/python3.9/site-packages (from spacy<3.5.0,>=3.4.0->en-core-web-sm==3.4.0) (2.28.1)\n",
      "Requirement already satisfied: spacy-loggers<2.0.0,>=1.0.0 in /Users/u14510182/Documents/python_for_nlp_stud/venv/lib/python3.9/site-packages (from spacy<3.5.0,>=3.4.0->en-core-web-sm==3.4.0) (1.0.3)\n",
      "Requirement already satisfied: murmurhash<1.1.0,>=0.28.0 in /Users/u14510182/Documents/python_for_nlp_stud/venv/lib/python3.9/site-packages (from spacy<3.5.0,>=3.4.0->en-core-web-sm==3.4.0) (1.0.8)\n",
      "Requirement already satisfied: typer<0.5.0,>=0.3.0 in /Users/u14510182/Documents/python_for_nlp_stud/venv/lib/python3.9/site-packages (from spacy<3.5.0,>=3.4.0->en-core-web-sm==3.4.0) (0.4.2)\n",
      "Requirement already satisfied: numpy>=1.15.0 in /Users/u14510182/Documents/python_for_nlp_stud/venv/lib/python3.9/site-packages (from spacy<3.5.0,>=3.4.0->en-core-web-sm==3.4.0) (1.23.2)\n",
      "Requirement already satisfied: wasabi<1.1.0,>=0.9.1 in /Users/u14510182/Documents/python_for_nlp_stud/venv/lib/python3.9/site-packages (from spacy<3.5.0,>=3.4.0->en-core-web-sm==3.4.0) (0.10.1)\n",
      "Requirement already satisfied: cymem<2.1.0,>=2.0.2 in /Users/u14510182/Documents/python_for_nlp_stud/venv/lib/python3.9/site-packages (from spacy<3.5.0,>=3.4.0->en-core-web-sm==3.4.0) (2.0.6)\n",
      "Requirement already satisfied: spacy-legacy<3.1.0,>=3.0.9 in /Users/u14510182/Documents/python_for_nlp_stud/venv/lib/python3.9/site-packages (from spacy<3.5.0,>=3.4.0->en-core-web-sm==3.4.0) (3.0.10)\n",
      "Requirement already satisfied: setuptools in /Users/u14510182/Documents/python_for_nlp_stud/venv/lib/python3.9/site-packages (from spacy<3.5.0,>=3.4.0->en-core-web-sm==3.4.0) (57.0.0)\n",
      "Requirement already satisfied: srsly<3.0.0,>=2.4.3 in /Users/u14510182/Documents/python_for_nlp_stud/venv/lib/python3.9/site-packages (from spacy<3.5.0,>=3.4.0->en-core-web-sm==3.4.0) (2.4.4)\n",
      "Requirement already satisfied: tqdm<5.0.0,>=4.38.0 in /Users/u14510182/Documents/python_for_nlp_stud/venv/lib/python3.9/site-packages (from spacy<3.5.0,>=3.4.0->en-core-web-sm==3.4.0) (4.64.1)\n",
      "Requirement already satisfied: preshed<3.1.0,>=3.0.2 in /Users/u14510182/Documents/python_for_nlp_stud/venv/lib/python3.9/site-packages (from spacy<3.5.0,>=3.4.0->en-core-web-sm==3.4.0) (3.0.7)\n",
      "Requirement already satisfied: langcodes<4.0.0,>=3.2.0 in /Users/u14510182/Documents/python_for_nlp_stud/venv/lib/python3.9/site-packages (from spacy<3.5.0,>=3.4.0->en-core-web-sm==3.4.0) (3.3.0)\n",
      "Requirement already satisfied: jinja2 in /Users/u14510182/Documents/python_for_nlp_stud/venv/lib/python3.9/site-packages (from spacy<3.5.0,>=3.4.0->en-core-web-sm==3.4.0) (3.1.2)\n",
      "Requirement already satisfied: pyparsing!=3.0.5,>=2.0.2 in /Users/u14510182/Documents/python_for_nlp_stud/venv/lib/python3.9/site-packages (from packaging>=20.0->spacy<3.5.0,>=3.4.0->en-core-web-sm==3.4.0) (3.0.9)\n",
      "Requirement already satisfied: smart-open<6.0.0,>=5.2.1 in /Users/u14510182/Documents/python_for_nlp_stud/venv/lib/python3.9/site-packages (from pathy>=0.3.5->spacy<3.5.0,>=3.4.0->en-core-web-sm==3.4.0) (5.2.1)\n",
      "Requirement already satisfied: typing-extensions>=3.7.4.3 in /Users/u14510182/Documents/python_for_nlp_stud/venv/lib/python3.9/site-packages (from pydantic!=1.8,!=1.8.1,<1.10.0,>=1.7.4->spacy<3.5.0,>=3.4.0->en-core-web-sm==3.4.0) (4.4.0)\n",
      "Requirement already satisfied: idna<4,>=2.5 in /Users/u14510182/Documents/python_for_nlp_stud/venv/lib/python3.9/site-packages (from requests<3.0.0,>=2.13.0->spacy<3.5.0,>=3.4.0->en-core-web-sm==3.4.0) (3.3)\n",
      "Requirement already satisfied: certifi>=2017.4.17 in /Users/u14510182/Documents/python_for_nlp_stud/venv/lib/python3.9/site-packages (from requests<3.0.0,>=2.13.0->spacy<3.5.0,>=3.4.0->en-core-web-sm==3.4.0) (2022.6.15)\n",
      "Requirement already satisfied: charset-normalizer<3,>=2 in /Users/u14510182/Documents/python_for_nlp_stud/venv/lib/python3.9/site-packages (from requests<3.0.0,>=2.13.0->spacy<3.5.0,>=3.4.0->en-core-web-sm==3.4.0) (2.1.1)\n",
      "Requirement already satisfied: urllib3<1.27,>=1.21.1 in /Users/u14510182/Documents/python_for_nlp_stud/venv/lib/python3.9/site-packages (from requests<3.0.0,>=2.13.0->spacy<3.5.0,>=3.4.0->en-core-web-sm==3.4.0) (1.26.12)\n",
      "Requirement already satisfied: blis<0.8.0,>=0.7.8 in /Users/u14510182/Documents/python_for_nlp_stud/venv/lib/python3.9/site-packages (from thinc<8.2.0,>=8.1.0->spacy<3.5.0,>=3.4.0->en-core-web-sm==3.4.0) (0.7.8)\n",
      "Requirement already satisfied: confection<1.0.0,>=0.0.1 in /Users/u14510182/Documents/python_for_nlp_stud/venv/lib/python3.9/site-packages (from thinc<8.2.0,>=8.1.0->spacy<3.5.0,>=3.4.0->en-core-web-sm==3.4.0) (0.0.3)\n",
      "Requirement already satisfied: click<9.0.0,>=7.1.1 in /Users/u14510182/Documents/python_for_nlp_stud/venv/lib/python3.9/site-packages (from typer<0.5.0,>=0.3.0->spacy<3.5.0,>=3.4.0->en-core-web-sm==3.4.0) (8.1.3)\n",
      "Requirement already satisfied: MarkupSafe>=2.0 in /Users/u14510182/Documents/python_for_nlp_stud/venv/lib/python3.9/site-packages (from jinja2->spacy<3.5.0,>=3.4.0->en-core-web-sm==3.4.0) (2.1.1)\n",
      "Installing collected packages: en-core-web-sm\n",
      "Successfully installed en-core-web-sm-3.4.0\n",
      "\u001b[33mWARNING: You are using pip version 21.1.2; however, version 22.2.2 is available.\n",
      "You should consider upgrading via the '/Users/u14510182/Documents/python_for_nlp_stud/venv/bin/python -m pip install --upgrade pip' command.\u001b[0m\n",
      "\u001b[38;5;2m✔ Download and installation successful\u001b[0m\n",
      "You can now load the package via spacy.load('en_core_web_sm')\n"
     ]
    }
   ],
   "source": [
    "# Скачиваем модель для английского языка\n",
    "!python -m spacy download en_core_web_sm"
   ]
  },
  {
   "cell_type": "code",
   "execution_count": 7,
   "id": "09b6cf4e-09e9-45bc-9c04-c366c4440b99",
   "metadata": {
    "collapsed": true,
    "jupyter": {
     "outputs_hidden": true
    },
    "tags": []
   },
   "outputs": [
    {
     "name": "stdout",
     "output_type": "stream",
     "text": [
      "Collecting ru-core-news-sm==3.4.0\n",
      "  Downloading https://github.com/explosion/spacy-models/releases/download/ru_core_news_sm-3.4.0/ru_core_news_sm-3.4.0-py3-none-any.whl (15.3 MB)\n",
      "\u001b[K     |████████████████████████████████| 15.3 MB 2.3 MB/s eta 0:00:01\n",
      "\u001b[?25hRequirement already satisfied: spacy<3.5.0,>=3.4.0 in /Users/u14510182/Documents/python_for_nlp_stud/venv/lib/python3.9/site-packages (from ru-core-news-sm==3.4.0) (3.4.1)\n",
      "Requirement already satisfied: pymorphy2>=0.9 in /Users/u14510182/Documents/python_for_nlp_stud/venv/lib/python3.9/site-packages (from ru-core-news-sm==3.4.0) (0.9.1)\n",
      "Requirement already satisfied: dawg-python>=0.7.1 in /Users/u14510182/Documents/python_for_nlp_stud/venv/lib/python3.9/site-packages (from pymorphy2>=0.9->ru-core-news-sm==3.4.0) (0.7.2)\n",
      "Requirement already satisfied: pymorphy2-dicts-ru<3.0,>=2.4 in /Users/u14510182/Documents/python_for_nlp_stud/venv/lib/python3.9/site-packages (from pymorphy2>=0.9->ru-core-news-sm==3.4.0) (2.4.417127.4579844)\n",
      "Requirement already satisfied: docopt>=0.6 in /Users/u14510182/Documents/python_for_nlp_stud/venv/lib/python3.9/site-packages (from pymorphy2>=0.9->ru-core-news-sm==3.4.0) (0.6.2)\n",
      "Requirement already satisfied: tqdm<5.0.0,>=4.38.0 in /Users/u14510182/Documents/python_for_nlp_stud/venv/lib/python3.9/site-packages (from spacy<3.5.0,>=3.4.0->ru-core-news-sm==3.4.0) (4.64.1)\n",
      "Requirement already satisfied: wasabi<1.1.0,>=0.9.1 in /Users/u14510182/Documents/python_for_nlp_stud/venv/lib/python3.9/site-packages (from spacy<3.5.0,>=3.4.0->ru-core-news-sm==3.4.0) (0.10.1)\n",
      "Requirement already satisfied: numpy>=1.15.0 in /Users/u14510182/Documents/python_for_nlp_stud/venv/lib/python3.9/site-packages (from spacy<3.5.0,>=3.4.0->ru-core-news-sm==3.4.0) (1.23.2)\n",
      "Requirement already satisfied: preshed<3.1.0,>=3.0.2 in /Users/u14510182/Documents/python_for_nlp_stud/venv/lib/python3.9/site-packages (from spacy<3.5.0,>=3.4.0->ru-core-news-sm==3.4.0) (3.0.7)\n",
      "Requirement already satisfied: typer<0.5.0,>=0.3.0 in /Users/u14510182/Documents/python_for_nlp_stud/venv/lib/python3.9/site-packages (from spacy<3.5.0,>=3.4.0->ru-core-news-sm==3.4.0) (0.4.2)\n",
      "Requirement already satisfied: thinc<8.2.0,>=8.1.0 in /Users/u14510182/Documents/python_for_nlp_stud/venv/lib/python3.9/site-packages (from spacy<3.5.0,>=3.4.0->ru-core-news-sm==3.4.0) (8.1.4)\n",
      "Requirement already satisfied: spacy-legacy<3.1.0,>=3.0.9 in /Users/u14510182/Documents/python_for_nlp_stud/venv/lib/python3.9/site-packages (from spacy<3.5.0,>=3.4.0->ru-core-news-sm==3.4.0) (3.0.10)\n",
      "Requirement already satisfied: spacy-loggers<2.0.0,>=1.0.0 in /Users/u14510182/Documents/python_for_nlp_stud/venv/lib/python3.9/site-packages (from spacy<3.5.0,>=3.4.0->ru-core-news-sm==3.4.0) (1.0.3)\n",
      "Requirement already satisfied: pathy>=0.3.5 in /Users/u14510182/Documents/python_for_nlp_stud/venv/lib/python3.9/site-packages (from spacy<3.5.0,>=3.4.0->ru-core-news-sm==3.4.0) (0.6.2)\n",
      "Requirement already satisfied: pydantic!=1.8,!=1.8.1,<1.10.0,>=1.7.4 in /Users/u14510182/Documents/python_for_nlp_stud/venv/lib/python3.9/site-packages (from spacy<3.5.0,>=3.4.0->ru-core-news-sm==3.4.0) (1.9.2)\n",
      "Requirement already satisfied: catalogue<2.1.0,>=2.0.6 in /Users/u14510182/Documents/python_for_nlp_stud/venv/lib/python3.9/site-packages (from spacy<3.5.0,>=3.4.0->ru-core-news-sm==3.4.0) (2.0.8)\n",
      "Requirement already satisfied: requests<3.0.0,>=2.13.0 in /Users/u14510182/Documents/python_for_nlp_stud/venv/lib/python3.9/site-packages (from spacy<3.5.0,>=3.4.0->ru-core-news-sm==3.4.0) (2.28.1)\n",
      "Requirement already satisfied: setuptools in /Users/u14510182/Documents/python_for_nlp_stud/venv/lib/python3.9/site-packages (from spacy<3.5.0,>=3.4.0->ru-core-news-sm==3.4.0) (57.0.0)\n",
      "Requirement already satisfied: murmurhash<1.1.0,>=0.28.0 in /Users/u14510182/Documents/python_for_nlp_stud/venv/lib/python3.9/site-packages (from spacy<3.5.0,>=3.4.0->ru-core-news-sm==3.4.0) (1.0.8)\n",
      "Requirement already satisfied: packaging>=20.0 in /Users/u14510182/Documents/python_for_nlp_stud/venv/lib/python3.9/site-packages (from spacy<3.5.0,>=3.4.0->ru-core-news-sm==3.4.0) (21.3)\n",
      "Requirement already satisfied: cymem<2.1.0,>=2.0.2 in /Users/u14510182/Documents/python_for_nlp_stud/venv/lib/python3.9/site-packages (from spacy<3.5.0,>=3.4.0->ru-core-news-sm==3.4.0) (2.0.6)\n",
      "Requirement already satisfied: jinja2 in /Users/u14510182/Documents/python_for_nlp_stud/venv/lib/python3.9/site-packages (from spacy<3.5.0,>=3.4.0->ru-core-news-sm==3.4.0) (3.1.2)\n",
      "Requirement already satisfied: langcodes<4.0.0,>=3.2.0 in /Users/u14510182/Documents/python_for_nlp_stud/venv/lib/python3.9/site-packages (from spacy<3.5.0,>=3.4.0->ru-core-news-sm==3.4.0) (3.3.0)\n",
      "Requirement already satisfied: srsly<3.0.0,>=2.4.3 in /Users/u14510182/Documents/python_for_nlp_stud/venv/lib/python3.9/site-packages (from spacy<3.5.0,>=3.4.0->ru-core-news-sm==3.4.0) (2.4.4)\n",
      "Requirement already satisfied: pyparsing!=3.0.5,>=2.0.2 in /Users/u14510182/Documents/python_for_nlp_stud/venv/lib/python3.9/site-packages (from packaging>=20.0->spacy<3.5.0,>=3.4.0->ru-core-news-sm==3.4.0) (3.0.9)\n",
      "Requirement already satisfied: smart-open<6.0.0,>=5.2.1 in /Users/u14510182/Documents/python_for_nlp_stud/venv/lib/python3.9/site-packages (from pathy>=0.3.5->spacy<3.5.0,>=3.4.0->ru-core-news-sm==3.4.0) (5.2.1)\n",
      "Requirement already satisfied: typing-extensions>=3.7.4.3 in /Users/u14510182/Documents/python_for_nlp_stud/venv/lib/python3.9/site-packages (from pydantic!=1.8,!=1.8.1,<1.10.0,>=1.7.4->spacy<3.5.0,>=3.4.0->ru-core-news-sm==3.4.0) (4.4.0)\n",
      "Requirement already satisfied: idna<4,>=2.5 in /Users/u14510182/Documents/python_for_nlp_stud/venv/lib/python3.9/site-packages (from requests<3.0.0,>=2.13.0->spacy<3.5.0,>=3.4.0->ru-core-news-sm==3.4.0) (3.3)\n",
      "Requirement already satisfied: charset-normalizer<3,>=2 in /Users/u14510182/Documents/python_for_nlp_stud/venv/lib/python3.9/site-packages (from requests<3.0.0,>=2.13.0->spacy<3.5.0,>=3.4.0->ru-core-news-sm==3.4.0) (2.1.1)\n",
      "Requirement already satisfied: certifi>=2017.4.17 in /Users/u14510182/Documents/python_for_nlp_stud/venv/lib/python3.9/site-packages (from requests<3.0.0,>=2.13.0->spacy<3.5.0,>=3.4.0->ru-core-news-sm==3.4.0) (2022.6.15)\n",
      "Requirement already satisfied: urllib3<1.27,>=1.21.1 in /Users/u14510182/Documents/python_for_nlp_stud/venv/lib/python3.9/site-packages (from requests<3.0.0,>=2.13.0->spacy<3.5.0,>=3.4.0->ru-core-news-sm==3.4.0) (1.26.12)\n",
      "Requirement already satisfied: confection<1.0.0,>=0.0.1 in /Users/u14510182/Documents/python_for_nlp_stud/venv/lib/python3.9/site-packages (from thinc<8.2.0,>=8.1.0->spacy<3.5.0,>=3.4.0->ru-core-news-sm==3.4.0) (0.0.3)\n",
      "Requirement already satisfied: blis<0.8.0,>=0.7.8 in /Users/u14510182/Documents/python_for_nlp_stud/venv/lib/python3.9/site-packages (from thinc<8.2.0,>=8.1.0->spacy<3.5.0,>=3.4.0->ru-core-news-sm==3.4.0) (0.7.8)\n",
      "Requirement already satisfied: click<9.0.0,>=7.1.1 in /Users/u14510182/Documents/python_for_nlp_stud/venv/lib/python3.9/site-packages (from typer<0.5.0,>=0.3.0->spacy<3.5.0,>=3.4.0->ru-core-news-sm==3.4.0) (8.1.3)\n",
      "Requirement already satisfied: MarkupSafe>=2.0 in /Users/u14510182/Documents/python_for_nlp_stud/venv/lib/python3.9/site-packages (from jinja2->spacy<3.5.0,>=3.4.0->ru-core-news-sm==3.4.0) (2.1.1)\n",
      "Installing collected packages: ru-core-news-sm\n",
      "Successfully installed ru-core-news-sm-3.4.0\n",
      "\u001b[33mWARNING: You are using pip version 21.1.2; however, version 22.2.2 is available.\n",
      "You should consider upgrading via the '/Users/u14510182/Documents/python_for_nlp_stud/venv/bin/python -m pip install --upgrade pip' command.\u001b[0m\n",
      "\u001b[38;5;2m✔ Download and installation successful\u001b[0m\n",
      "You can now load the package via spacy.load('ru_core_news_sm')\n"
     ]
    }
   ],
   "source": [
    "# Скачиваем модель для русского языка\n",
    "!python -m spacy download ru_core_news_sm"
   ]
  },
  {
   "cell_type": "markdown",
   "id": "d5855261-7419-44a7-8aaf-f76d0847df67",
   "metadata": {},
   "source": [
    "## Родной парсер и функционал\n",
    "Лемматизация, токенизация, морфологический анализ, частеречная разметка + **Синтаксис (Дерево зависимостей)**  \n",
    "[Подробная инструкция про лингвистические возможности.](https://spacy.io/usage/linguistic-features#pos-tagging)"
   ]
  },
  {
   "cell_type": "code",
   "execution_count": 300,
   "id": "2c8aaa52-f18c-4e74-b8a9-c7deeb15b5a8",
   "metadata": {},
   "outputs": [],
   "source": [
    "eng_default = spacy.load(\"en_core_web_sm\")"
   ]
  },
  {
   "cell_type": "code",
   "execution_count": 301,
   "id": "f0d59392-56c4-4205-b367-e26bfbe7db7c",
   "metadata": {},
   "outputs": [
    {
     "data": {
      "text/plain": [
       "['tok2vec', 'tagger', 'parser', 'attribute_ruler', 'lemmatizer', 'ner']"
      ]
     },
     "execution_count": 301,
     "metadata": {},
     "output_type": "execute_result"
    }
   ],
   "source": [
    "eng_default.pipe_names"
   ]
  },
  {
   "cell_type": "code",
   "execution_count": 302,
   "id": "e75c5074-8907-4870-b4d0-187f5279524b",
   "metadata": {},
   "outputs": [],
   "source": [
    "doc = eng_default(\"Apple is looking at buying U.K. startup for $1 billion\")"
   ]
  },
  {
   "cell_type": "code",
   "execution_count": 303,
   "id": "e177bdba-cb03-482f-b29e-9fc365383a09",
   "metadata": {},
   "outputs": [
    {
     "data": {
      "text/plain": [
       "(spacy.tokens.doc.Doc, Apple is looking at buying U.K. startup for $1 billion)"
      ]
     },
     "execution_count": 303,
     "metadata": {},
     "output_type": "execute_result"
    }
   ],
   "source": [
    "type(doc), doc"
   ]
  },
  {
   "cell_type": "code",
   "execution_count": 304,
   "id": "c0c0e327-7726-426b-9954-61b99d9c1eee",
   "metadata": {},
   "outputs": [
    {
     "data": {
      "text/plain": [
       "(spacy.tokens.token.Token, looking)"
      ]
     },
     "execution_count": 304,
     "metadata": {},
     "output_type": "execute_result"
    }
   ],
   "source": [
    "type(doc[2]), doc[2]"
   ]
  },
  {
   "cell_type": "code",
   "execution_count": 305,
   "id": "33471f1b-5356-4398-b9fe-243eec8f80c5",
   "metadata": {},
   "outputs": [
    {
     "data": {
      "text/plain": [
       "(spacy.tokens.morphanalysis.MorphAnalysis,\n",
       " Aspect=Prog|Tense=Pres|VerbForm=Part)"
      ]
     },
     "execution_count": 305,
     "metadata": {},
     "output_type": "execute_result"
    }
   ],
   "source": [
    "type(doc[2].morph), doc[2].morph"
   ]
  },
  {
   "cell_type": "code",
   "execution_count": 306,
   "id": "4c6ce393-4370-497f-aee5-a3e071c6abe9",
   "metadata": {},
   "outputs": [
    {
     "data": {
      "text/html": [
       "<div>\n",
       "<style scoped>\n",
       "    .dataframe tbody tr th:only-of-type {\n",
       "        vertical-align: middle;\n",
       "    }\n",
       "\n",
       "    .dataframe tbody tr th {\n",
       "        vertical-align: top;\n",
       "    }\n",
       "\n",
       "    .dataframe thead th {\n",
       "        text-align: right;\n",
       "    }\n",
       "</style>\n",
       "<table border=\"1\" class=\"dataframe\">\n",
       "  <thead>\n",
       "    <tr style=\"text-align: right;\">\n",
       "      <th></th>\n",
       "      <th>text</th>\n",
       "      <th>lemma</th>\n",
       "      <th>pos</th>\n",
       "      <th>tag</th>\n",
       "      <th>morph</th>\n",
       "      <th>dep</th>\n",
       "      <th>head</th>\n",
       "      <th>shape</th>\n",
       "      <th>is_alpha</th>\n",
       "      <th>is_stop</th>\n",
       "    </tr>\n",
       "  </thead>\n",
       "  <tbody>\n",
       "    <tr>\n",
       "      <th>0</th>\n",
       "      <td>Apple</td>\n",
       "      <td>Apple</td>\n",
       "      <td>PROPN</td>\n",
       "      <td>NNP</td>\n",
       "      <td>(Number=Sing)</td>\n",
       "      <td>nsubj</td>\n",
       "      <td>looking</td>\n",
       "      <td>Xxxxx</td>\n",
       "      <td>True</td>\n",
       "      <td>False</td>\n",
       "    </tr>\n",
       "    <tr>\n",
       "      <th>1</th>\n",
       "      <td>is</td>\n",
       "      <td>be</td>\n",
       "      <td>AUX</td>\n",
       "      <td>VBZ</td>\n",
       "      <td>(Mood=Ind, Number=Sing, Person=3, Tense=Pres, ...</td>\n",
       "      <td>aux</td>\n",
       "      <td>looking</td>\n",
       "      <td>xx</td>\n",
       "      <td>True</td>\n",
       "      <td>True</td>\n",
       "    </tr>\n",
       "    <tr>\n",
       "      <th>2</th>\n",
       "      <td>looking</td>\n",
       "      <td>look</td>\n",
       "      <td>VERB</td>\n",
       "      <td>VBG</td>\n",
       "      <td>(Aspect=Prog, Tense=Pres, VerbForm=Part)</td>\n",
       "      <td>ROOT</td>\n",
       "      <td>looking</td>\n",
       "      <td>xxxx</td>\n",
       "      <td>True</td>\n",
       "      <td>False</td>\n",
       "    </tr>\n",
       "    <tr>\n",
       "      <th>3</th>\n",
       "      <td>at</td>\n",
       "      <td>at</td>\n",
       "      <td>ADP</td>\n",
       "      <td>IN</td>\n",
       "      <td>()</td>\n",
       "      <td>prep</td>\n",
       "      <td>looking</td>\n",
       "      <td>xx</td>\n",
       "      <td>True</td>\n",
       "      <td>True</td>\n",
       "    </tr>\n",
       "    <tr>\n",
       "      <th>4</th>\n",
       "      <td>buying</td>\n",
       "      <td>buy</td>\n",
       "      <td>VERB</td>\n",
       "      <td>VBG</td>\n",
       "      <td>(Aspect=Prog, Tense=Pres, VerbForm=Part)</td>\n",
       "      <td>pcomp</td>\n",
       "      <td>at</td>\n",
       "      <td>xxxx</td>\n",
       "      <td>True</td>\n",
       "      <td>False</td>\n",
       "    </tr>\n",
       "    <tr>\n",
       "      <th>5</th>\n",
       "      <td>U.K.</td>\n",
       "      <td>U.K.</td>\n",
       "      <td>PROPN</td>\n",
       "      <td>NNP</td>\n",
       "      <td>(Number=Sing)</td>\n",
       "      <td>dobj</td>\n",
       "      <td>buying</td>\n",
       "      <td>X.X.</td>\n",
       "      <td>False</td>\n",
       "      <td>False</td>\n",
       "    </tr>\n",
       "    <tr>\n",
       "      <th>6</th>\n",
       "      <td>startup</td>\n",
       "      <td>startup</td>\n",
       "      <td>NOUN</td>\n",
       "      <td>NN</td>\n",
       "      <td>(Number=Sing)</td>\n",
       "      <td>dobj</td>\n",
       "      <td>buying</td>\n",
       "      <td>xxxx</td>\n",
       "      <td>True</td>\n",
       "      <td>False</td>\n",
       "    </tr>\n",
       "    <tr>\n",
       "      <th>7</th>\n",
       "      <td>for</td>\n",
       "      <td>for</td>\n",
       "      <td>ADP</td>\n",
       "      <td>IN</td>\n",
       "      <td>()</td>\n",
       "      <td>prep</td>\n",
       "      <td>startup</td>\n",
       "      <td>xxx</td>\n",
       "      <td>True</td>\n",
       "      <td>True</td>\n",
       "    </tr>\n",
       "    <tr>\n",
       "      <th>8</th>\n",
       "      <td>$</td>\n",
       "      <td>$</td>\n",
       "      <td>SYM</td>\n",
       "      <td>$</td>\n",
       "      <td>()</td>\n",
       "      <td>quantmod</td>\n",
       "      <td>billion</td>\n",
       "      <td>$</td>\n",
       "      <td>False</td>\n",
       "      <td>False</td>\n",
       "    </tr>\n",
       "    <tr>\n",
       "      <th>9</th>\n",
       "      <td>1</td>\n",
       "      <td>1</td>\n",
       "      <td>NUM</td>\n",
       "      <td>CD</td>\n",
       "      <td>(NumType=Card)</td>\n",
       "      <td>compound</td>\n",
       "      <td>billion</td>\n",
       "      <td>d</td>\n",
       "      <td>False</td>\n",
       "      <td>False</td>\n",
       "    </tr>\n",
       "    <tr>\n",
       "      <th>10</th>\n",
       "      <td>billion</td>\n",
       "      <td>billion</td>\n",
       "      <td>NUM</td>\n",
       "      <td>CD</td>\n",
       "      <td>(NumType=Card)</td>\n",
       "      <td>pobj</td>\n",
       "      <td>for</td>\n",
       "      <td>xxxx</td>\n",
       "      <td>True</td>\n",
       "      <td>False</td>\n",
       "    </tr>\n",
       "  </tbody>\n",
       "</table>\n",
       "</div>"
      ],
      "text/plain": [
       "       text    lemma    pos  tag  \\\n",
       "0     Apple    Apple  PROPN  NNP   \n",
       "1        is       be    AUX  VBZ   \n",
       "2   looking     look   VERB  VBG   \n",
       "3        at       at    ADP   IN   \n",
       "4    buying      buy   VERB  VBG   \n",
       "5      U.K.     U.K.  PROPN  NNP   \n",
       "6   startup  startup   NOUN   NN   \n",
       "7       for      for    ADP   IN   \n",
       "8         $        $    SYM    $   \n",
       "9         1        1    NUM   CD   \n",
       "10  billion  billion    NUM   CD   \n",
       "\n",
       "                                                morph       dep     head  \\\n",
       "0                                       (Number=Sing)     nsubj  looking   \n",
       "1   (Mood=Ind, Number=Sing, Person=3, Tense=Pres, ...       aux  looking   \n",
       "2            (Aspect=Prog, Tense=Pres, VerbForm=Part)      ROOT  looking   \n",
       "3                                                  ()      prep  looking   \n",
       "4            (Aspect=Prog, Tense=Pres, VerbForm=Part)     pcomp       at   \n",
       "5                                       (Number=Sing)      dobj   buying   \n",
       "6                                       (Number=Sing)      dobj   buying   \n",
       "7                                                  ()      prep  startup   \n",
       "8                                                  ()  quantmod  billion   \n",
       "9                                      (NumType=Card)  compound  billion   \n",
       "10                                     (NumType=Card)      pobj      for   \n",
       "\n",
       "    shape  is_alpha  is_stop  \n",
       "0   Xxxxx      True    False  \n",
       "1      xx      True     True  \n",
       "2    xxxx      True    False  \n",
       "3      xx      True     True  \n",
       "4    xxxx      True    False  \n",
       "5    X.X.     False    False  \n",
       "6    xxxx      True    False  \n",
       "7     xxx      True     True  \n",
       "8       $     False    False  \n",
       "9       d     False    False  \n",
       "10   xxxx      True    False  "
      ]
     },
     "execution_count": 306,
     "metadata": {},
     "output_type": "execute_result"
    }
   ],
   "source": [
    "def get_features(token):\n",
    "    features = {\n",
    "        'text': token.text,\n",
    "        'lemma': token.lemma_,\n",
    "        'pos': token.pos_,\n",
    "        'tag': token.tag_,\n",
    "        'morph': token.morph,\n",
    "        'dep': token.dep_,\n",
    "        'head': token.head,\n",
    "        'shape': token.shape_,\n",
    "        'is_alpha': token.is_alpha,\n",
    "        'is_stop': token.is_stop\n",
    "    }\n",
    "    return features\n",
    "\n",
    "eng_doc_df = pd.DataFrame([get_features(token) for token in doc])\n",
    "eng_doc_df"
   ]
  },
  {
   "cell_type": "code",
   "execution_count": 307,
   "id": "33691136-5458-410d-8fa9-7eaf461389e7",
   "metadata": {},
   "outputs": [
    {
     "data": {
      "text/plain": [
       "'nominal subject'"
      ]
     },
     "execution_count": 307,
     "metadata": {},
     "output_type": "execute_result"
    }
   ],
   "source": [
    "spacy.explain('nsubj')"
   ]
  },
  {
   "cell_type": "code",
   "execution_count": 308,
   "id": "2820ef69-03c0-401a-87e6-ebaf6da5fba6",
   "metadata": {},
   "outputs": [
    {
     "data": {
      "text/plain": [
       "'noun, proper singular'"
      ]
     },
     "execution_count": 308,
     "metadata": {},
     "output_type": "execute_result"
    }
   ],
   "source": [
    "spacy.explain('NNP')"
   ]
  },
  {
   "cell_type": "markdown",
   "id": "f6a97bbe-2cc7-4fcd-918c-9ef03083b0c8",
   "metadata": {},
   "source": [
    "**Навигация по дереву: вершины и зависимые.**  \n",
    "Используется терминология \"head\" (вершина) и \"child\" (зависимое)"
   ]
  },
  {
   "cell_type": "code",
   "execution_count": 309,
   "id": "46c49f82-2384-4593-bd3b-6ded29678d09",
   "metadata": {},
   "outputs": [
    {
     "name": "stdout",
     "output_type": "stream",
     "text": [
      "Apple nsubj looking VERB []\n",
      "is aux looking VERB []\n",
      "looking ROOT looking VERB [Apple, is, at]\n",
      "at prep looking VERB [buying]\n",
      "buying pcomp at ADP [U.K., startup]\n",
      "U.K. dobj buying VERB []\n",
      "startup dobj buying VERB [for]\n",
      "for prep startup NOUN [billion]\n",
      "$ quantmod billion NUM []\n",
      "1 compound billion NUM []\n",
      "billion pobj for ADP [$, 1]\n"
     ]
    }
   ],
   "source": [
    "for token in doc:\n",
    "    print(token.text, token.dep_, token.head.text, token.head.pos_,\n",
    "            [child for child in token.children])"
   ]
  },
  {
   "cell_type": "raw",
   "id": "6624a3f9-10ad-4fe8-baca-d660b60befb1",
   "metadata": {},
   "source": [
    "Есть удобные методы, чтобы посмотреть 'детей' слова справа и слева, а так же их количество."
   ]
  },
  {
   "cell_type": "code",
   "execution_count": 165,
   "id": "05d1f90c-3d2c-4838-a5ea-5216e7aae8b5",
   "metadata": {},
   "outputs": [
    {
     "name": "stdout",
     "output_type": "stream",
     "text": [
      "doc[2] = looking\n",
      "Left childs: [Apple, is]\n",
      "Right childs: [at]\n",
      "Count left childs: 2\n",
      "Count right childs: 1\n"
     ]
    }
   ],
   "source": [
    "print(f'{doc[2] = }')\n",
    "print('Left childs:', list(doc[2].lefts))\n",
    "print('Right childs:', list(doc[2].rights))\n",
    "print('Count left childs:', doc[2].n_lefts)  \n",
    "print('Count right childs:', doc[2].n_rights) "
   ]
  },
  {
   "cell_type": "markdown",
   "id": "d67c6aa4-dd5c-4ebb-9061-96b3c76b3b0a",
   "metadata": {},
   "source": [
    "Визуализируем дерево:"
   ]
  },
  {
   "cell_type": "code",
   "execution_count": 310,
   "id": "7391e1a4-5061-4780-9dbe-8b8edc0bd95f",
   "metadata": {},
   "outputs": [
    {
     "data": {
      "text/html": [
       "<span class=\"tex2jax_ignore\"><svg xmlns=\"http://www.w3.org/2000/svg\" xmlns:xlink=\"http://www.w3.org/1999/xlink\" xml:lang=\"en\" id=\"c13b76bd2a9148c582ad9f94cd86be9d-0\" class=\"displacy\" width=\"1275\" height=\"399.5\" direction=\"ltr\" style=\"max-width: none; height: 399.5px; color: #000000; background: #ffffff; font-family: Arial; direction: ltr\">\n",
       "<text class=\"displacy-token\" fill=\"currentColor\" text-anchor=\"middle\" y=\"309.5\">\n",
       "    <tspan class=\"displacy-word\" fill=\"currentColor\" x=\"50\">Autonomous</tspan>\n",
       "    <tspan class=\"displacy-tag\" dy=\"2em\" fill=\"currentColor\" x=\"50\">ADJ</tspan>\n",
       "</text>\n",
       "\n",
       "<text class=\"displacy-token\" fill=\"currentColor\" text-anchor=\"middle\" y=\"309.5\">\n",
       "    <tspan class=\"displacy-word\" fill=\"currentColor\" x=\"225\">cars</tspan>\n",
       "    <tspan class=\"displacy-tag\" dy=\"2em\" fill=\"currentColor\" x=\"225\">NOUN</tspan>\n",
       "</text>\n",
       "\n",
       "<text class=\"displacy-token\" fill=\"currentColor\" text-anchor=\"middle\" y=\"309.5\">\n",
       "    <tspan class=\"displacy-word\" fill=\"currentColor\" x=\"400\">shift</tspan>\n",
       "    <tspan class=\"displacy-tag\" dy=\"2em\" fill=\"currentColor\" x=\"400\">VERB</tspan>\n",
       "</text>\n",
       "\n",
       "<text class=\"displacy-token\" fill=\"currentColor\" text-anchor=\"middle\" y=\"309.5\">\n",
       "    <tspan class=\"displacy-word\" fill=\"currentColor\" x=\"575\">insurance</tspan>\n",
       "    <tspan class=\"displacy-tag\" dy=\"2em\" fill=\"currentColor\" x=\"575\">NOUN</tspan>\n",
       "</text>\n",
       "\n",
       "<text class=\"displacy-token\" fill=\"currentColor\" text-anchor=\"middle\" y=\"309.5\">\n",
       "    <tspan class=\"displacy-word\" fill=\"currentColor\" x=\"750\">liability</tspan>\n",
       "    <tspan class=\"displacy-tag\" dy=\"2em\" fill=\"currentColor\" x=\"750\">NOUN</tspan>\n",
       "</text>\n",
       "\n",
       "<text class=\"displacy-token\" fill=\"currentColor\" text-anchor=\"middle\" y=\"309.5\">\n",
       "    <tspan class=\"displacy-word\" fill=\"currentColor\" x=\"925\">toward</tspan>\n",
       "    <tspan class=\"displacy-tag\" dy=\"2em\" fill=\"currentColor\" x=\"925\">ADP</tspan>\n",
       "</text>\n",
       "\n",
       "<text class=\"displacy-token\" fill=\"currentColor\" text-anchor=\"middle\" y=\"309.5\">\n",
       "    <tspan class=\"displacy-word\" fill=\"currentColor\" x=\"1100\">manufacturers</tspan>\n",
       "    <tspan class=\"displacy-tag\" dy=\"2em\" fill=\"currentColor\" x=\"1100\">NOUN</tspan>\n",
       "</text>\n",
       "\n",
       "<g class=\"displacy-arrow\">\n",
       "    <path class=\"displacy-arc\" id=\"arrow-c13b76bd2a9148c582ad9f94cd86be9d-0-0\" stroke-width=\"2px\" d=\"M70,264.5 C70,177.0 215.0,177.0 215.0,264.5\" fill=\"none\" stroke=\"currentColor\"/>\n",
       "    <text dy=\"1.25em\" style=\"font-size: 0.8em; letter-spacing: 1px\">\n",
       "        <textPath xlink:href=\"#arrow-c13b76bd2a9148c582ad9f94cd86be9d-0-0\" class=\"displacy-label\" startOffset=\"50%\" side=\"left\" fill=\"currentColor\" text-anchor=\"middle\">amod</textPath>\n",
       "    </text>\n",
       "    <path class=\"displacy-arrowhead\" d=\"M70,266.5 L62,254.5 78,254.5\" fill=\"currentColor\"/>\n",
       "</g>\n",
       "\n",
       "<g class=\"displacy-arrow\">\n",
       "    <path class=\"displacy-arc\" id=\"arrow-c13b76bd2a9148c582ad9f94cd86be9d-0-1\" stroke-width=\"2px\" d=\"M245,264.5 C245,177.0 390.0,177.0 390.0,264.5\" fill=\"none\" stroke=\"currentColor\"/>\n",
       "    <text dy=\"1.25em\" style=\"font-size: 0.8em; letter-spacing: 1px\">\n",
       "        <textPath xlink:href=\"#arrow-c13b76bd2a9148c582ad9f94cd86be9d-0-1\" class=\"displacy-label\" startOffset=\"50%\" side=\"left\" fill=\"currentColor\" text-anchor=\"middle\">nsubj</textPath>\n",
       "    </text>\n",
       "    <path class=\"displacy-arrowhead\" d=\"M245,266.5 L237,254.5 253,254.5\" fill=\"currentColor\"/>\n",
       "</g>\n",
       "\n",
       "<g class=\"displacy-arrow\">\n",
       "    <path class=\"displacy-arc\" id=\"arrow-c13b76bd2a9148c582ad9f94cd86be9d-0-2\" stroke-width=\"2px\" d=\"M595,264.5 C595,177.0 740.0,177.0 740.0,264.5\" fill=\"none\" stroke=\"currentColor\"/>\n",
       "    <text dy=\"1.25em\" style=\"font-size: 0.8em; letter-spacing: 1px\">\n",
       "        <textPath xlink:href=\"#arrow-c13b76bd2a9148c582ad9f94cd86be9d-0-2\" class=\"displacy-label\" startOffset=\"50%\" side=\"left\" fill=\"currentColor\" text-anchor=\"middle\">compound</textPath>\n",
       "    </text>\n",
       "    <path class=\"displacy-arrowhead\" d=\"M595,266.5 L587,254.5 603,254.5\" fill=\"currentColor\"/>\n",
       "</g>\n",
       "\n",
       "<g class=\"displacy-arrow\">\n",
       "    <path class=\"displacy-arc\" id=\"arrow-c13b76bd2a9148c582ad9f94cd86be9d-0-3\" stroke-width=\"2px\" d=\"M420,264.5 C420,89.5 745.0,89.5 745.0,264.5\" fill=\"none\" stroke=\"currentColor\"/>\n",
       "    <text dy=\"1.25em\" style=\"font-size: 0.8em; letter-spacing: 1px\">\n",
       "        <textPath xlink:href=\"#arrow-c13b76bd2a9148c582ad9f94cd86be9d-0-3\" class=\"displacy-label\" startOffset=\"50%\" side=\"left\" fill=\"currentColor\" text-anchor=\"middle\">dobj</textPath>\n",
       "    </text>\n",
       "    <path class=\"displacy-arrowhead\" d=\"M745.0,266.5 L753.0,254.5 737.0,254.5\" fill=\"currentColor\"/>\n",
       "</g>\n",
       "\n",
       "<g class=\"displacy-arrow\">\n",
       "    <path class=\"displacy-arc\" id=\"arrow-c13b76bd2a9148c582ad9f94cd86be9d-0-4\" stroke-width=\"2px\" d=\"M420,264.5 C420,2.0 925.0,2.0 925.0,264.5\" fill=\"none\" stroke=\"currentColor\"/>\n",
       "    <text dy=\"1.25em\" style=\"font-size: 0.8em; letter-spacing: 1px\">\n",
       "        <textPath xlink:href=\"#arrow-c13b76bd2a9148c582ad9f94cd86be9d-0-4\" class=\"displacy-label\" startOffset=\"50%\" side=\"left\" fill=\"currentColor\" text-anchor=\"middle\">prep</textPath>\n",
       "    </text>\n",
       "    <path class=\"displacy-arrowhead\" d=\"M925.0,266.5 L933.0,254.5 917.0,254.5\" fill=\"currentColor\"/>\n",
       "</g>\n",
       "\n",
       "<g class=\"displacy-arrow\">\n",
       "    <path class=\"displacy-arc\" id=\"arrow-c13b76bd2a9148c582ad9f94cd86be9d-0-5\" stroke-width=\"2px\" d=\"M945,264.5 C945,177.0 1090.0,177.0 1090.0,264.5\" fill=\"none\" stroke=\"currentColor\"/>\n",
       "    <text dy=\"1.25em\" style=\"font-size: 0.8em; letter-spacing: 1px\">\n",
       "        <textPath xlink:href=\"#arrow-c13b76bd2a9148c582ad9f94cd86be9d-0-5\" class=\"displacy-label\" startOffset=\"50%\" side=\"left\" fill=\"currentColor\" text-anchor=\"middle\">pobj</textPath>\n",
       "    </text>\n",
       "    <path class=\"displacy-arrowhead\" d=\"M1090.0,266.5 L1098.0,254.5 1082.0,254.5\" fill=\"currentColor\"/>\n",
       "</g>\n",
       "</svg></span>"
      ],
      "text/plain": [
       "<IPython.core.display.HTML object>"
      ]
     },
     "metadata": {},
     "output_type": "display_data"
    }
   ],
   "source": [
    "doc = eng_default(\"Autonomous cars shift insurance liability toward manufacturers\")\n",
    "displacy.render(doc, style='dep')"
   ]
  },
  {
   "cell_type": "markdown",
   "id": "a3110e09-509b-4891-b7bf-73fd0d4f3a85",
   "metadata": {},
   "source": [
    "## NER - Named Entity Recognition"
   ]
  },
  {
   "cell_type": "code",
   "execution_count": 312,
   "id": "9512de16-4d79-47d3-9640-36cb194ce772",
   "metadata": {},
   "outputs": [
    {
     "name": "stdout",
     "output_type": "stream",
     "text": [
      "Apple 0 5 ORG\n",
      "U.K. 27 31 GPE\n",
      "$1 billion 44 54 MONEY\n"
     ]
    }
   ],
   "source": [
    "doc = eng_default(\"Apple is looking at buying U.K. startup for $1 billion\")\n",
    "\n",
    "for ent in doc.ents:\n",
    "    print(ent.text, ent.start_char, ent.end_char, ent.label_)"
   ]
  },
  {
   "cell_type": "code",
   "execution_count": 313,
   "id": "50b139ae-31aa-4965-8bca-ecd2495a03c1",
   "metadata": {},
   "outputs": [
    {
     "data": {
      "text/html": [
       "<span class=\"tex2jax_ignore\"><div class=\"entities\" style=\"line-height: 2.5; direction: ltr\">\n",
       "<mark class=\"entity\" style=\"background: #7aecec; padding: 0.45em 0.6em; margin: 0 0.25em; line-height: 1; border-radius: 0.35em;\">\n",
       "    Apple\n",
       "    <span style=\"font-size: 0.8em; font-weight: bold; line-height: 1; border-radius: 0.35em; vertical-align: middle; margin-left: 0.5rem\">ORG</span>\n",
       "</mark>\n",
       " is looking at buying \n",
       "<mark class=\"entity\" style=\"background: #feca74; padding: 0.45em 0.6em; margin: 0 0.25em; line-height: 1; border-radius: 0.35em;\">\n",
       "    U.K.\n",
       "    <span style=\"font-size: 0.8em; font-weight: bold; line-height: 1; border-radius: 0.35em; vertical-align: middle; margin-left: 0.5rem\">GPE</span>\n",
       "</mark>\n",
       " startup for \n",
       "<mark class=\"entity\" style=\"background: #e4e7d2; padding: 0.45em 0.6em; margin: 0 0.25em; line-height: 1; border-radius: 0.35em;\">\n",
       "    $1 billion\n",
       "    <span style=\"font-size: 0.8em; font-weight: bold; line-height: 1; border-radius: 0.35em; vertical-align: middle; margin-left: 0.5rem\">MONEY</span>\n",
       "</mark>\n",
       "</div></span>"
      ],
      "text/plain": [
       "<IPython.core.display.HTML object>"
      ]
     },
     "metadata": {},
     "output_type": "display_data"
    }
   ],
   "source": [
    "displacy.render(doc, style=\"ent\")"
   ]
  },
  {
   "cell_type": "code",
   "execution_count": null,
   "id": "b6086e1b-0e71-42bf-bfb0-81bdbd7739b8",
   "metadata": {},
   "outputs": [],
   "source": [
    "eng_default.pe"
   ]
  },
  {
   "cell_type": "code",
   "execution_count": 314,
   "id": "e71ad04f-eaa8-44bf-b050-a678a7ce52b8",
   "metadata": {},
   "outputs": [
    {
     "data": {
      "text/plain": [
       "('CARDINAL',\n",
       " 'DATE',\n",
       " 'EVENT',\n",
       " 'FAC',\n",
       " 'GPE',\n",
       " 'LANGUAGE',\n",
       " 'LAW',\n",
       " 'LOC',\n",
       " 'MONEY',\n",
       " 'NORP',\n",
       " 'ORDINAL',\n",
       " 'ORG',\n",
       " 'PERCENT',\n",
       " 'PERSON',\n",
       " 'PRODUCT',\n",
       " 'QUANTITY',\n",
       " 'TIME',\n",
       " 'WORK_OF_ART')"
      ]
     },
     "execution_count": 314,
     "metadata": {},
     "output_type": "execute_result"
    }
   ],
   "source": [
    "eng_default.get_pipe('ner').labels"
   ]
  },
  {
   "cell_type": "code",
   "execution_count": 316,
   "id": "0ac50ac6-4746-4502-ba33-44b0d08b06fc",
   "metadata": {},
   "outputs": [
    {
     "data": {
      "text/plain": [
       "'Named documents made into laws.'"
      ]
     },
     "execution_count": 316,
     "metadata": {},
     "output_type": "execute_result"
    }
   ],
   "source": [
    "spacy.explain('LAW')"
   ]
  },
  {
   "cell_type": "code",
   "execution_count": 317,
   "id": "d50089c8-5a8b-4569-85a7-408b1aa9456a",
   "metadata": {},
   "outputs": [
    {
     "data": {
      "text/html": [
       "<div>\n",
       "<style scoped>\n",
       "    .dataframe tbody tr th:only-of-type {\n",
       "        vertical-align: middle;\n",
       "    }\n",
       "\n",
       "    .dataframe tbody tr th {\n",
       "        vertical-align: top;\n",
       "    }\n",
       "\n",
       "    .dataframe thead th {\n",
       "        text-align: right;\n",
       "    }\n",
       "</style>\n",
       "<table border=\"1\" class=\"dataframe\">\n",
       "  <thead>\n",
       "    <tr style=\"text-align: right;\">\n",
       "      <th></th>\n",
       "      <th>text</th>\n",
       "      <th>ent_iob</th>\n",
       "      <th>ent_type</th>\n",
       "      <th>iob_description</th>\n",
       "      <th>type_description</th>\n",
       "    </tr>\n",
       "  </thead>\n",
       "  <tbody>\n",
       "    <tr>\n",
       "      <th>0</th>\n",
       "      <td>Apple</td>\n",
       "      <td>B</td>\n",
       "      <td>ORG</td>\n",
       "      <td>Beginning of an entity</td>\n",
       "      <td>Companies, agencies, institutions, etc.</td>\n",
       "    </tr>\n",
       "    <tr>\n",
       "      <th>1</th>\n",
       "      <td>is</td>\n",
       "      <td>O</td>\n",
       "      <td></td>\n",
       "      <td>Outside an entity</td>\n",
       "      <td>None</td>\n",
       "    </tr>\n",
       "    <tr>\n",
       "      <th>2</th>\n",
       "      <td>looking</td>\n",
       "      <td>O</td>\n",
       "      <td></td>\n",
       "      <td>Outside an entity</td>\n",
       "      <td>None</td>\n",
       "    </tr>\n",
       "    <tr>\n",
       "      <th>3</th>\n",
       "      <td>at</td>\n",
       "      <td>O</td>\n",
       "      <td></td>\n",
       "      <td>Outside an entity</td>\n",
       "      <td>None</td>\n",
       "    </tr>\n",
       "    <tr>\n",
       "      <th>4</th>\n",
       "      <td>buying</td>\n",
       "      <td>O</td>\n",
       "      <td></td>\n",
       "      <td>Outside an entity</td>\n",
       "      <td>None</td>\n",
       "    </tr>\n",
       "    <tr>\n",
       "      <th>5</th>\n",
       "      <td>U.K.</td>\n",
       "      <td>B</td>\n",
       "      <td>GPE</td>\n",
       "      <td>Beginning of an entity</td>\n",
       "      <td>Countries, cities, states</td>\n",
       "    </tr>\n",
       "    <tr>\n",
       "      <th>6</th>\n",
       "      <td>startup</td>\n",
       "      <td>O</td>\n",
       "      <td></td>\n",
       "      <td>Outside an entity</td>\n",
       "      <td>None</td>\n",
       "    </tr>\n",
       "    <tr>\n",
       "      <th>7</th>\n",
       "      <td>for</td>\n",
       "      <td>O</td>\n",
       "      <td></td>\n",
       "      <td>Outside an entity</td>\n",
       "      <td>None</td>\n",
       "    </tr>\n",
       "    <tr>\n",
       "      <th>8</th>\n",
       "      <td>$</td>\n",
       "      <td>B</td>\n",
       "      <td>MONEY</td>\n",
       "      <td>Beginning of an entity</td>\n",
       "      <td>Monetary values, including unit</td>\n",
       "    </tr>\n",
       "    <tr>\n",
       "      <th>9</th>\n",
       "      <td>1</td>\n",
       "      <td>I</td>\n",
       "      <td>MONEY</td>\n",
       "      <td>Inside an entity</td>\n",
       "      <td>Monetary values, including unit</td>\n",
       "    </tr>\n",
       "    <tr>\n",
       "      <th>10</th>\n",
       "      <td>billion</td>\n",
       "      <td>I</td>\n",
       "      <td>MONEY</td>\n",
       "      <td>Inside an entity</td>\n",
       "      <td>Monetary values, including unit</td>\n",
       "    </tr>\n",
       "  </tbody>\n",
       "</table>\n",
       "</div>"
      ],
      "text/plain": [
       "       text ent_iob ent_type         iob_description  \\\n",
       "0     Apple       B      ORG  Beginning of an entity   \n",
       "1        is       O                Outside an entity   \n",
       "2   looking       O                Outside an entity   \n",
       "3        at       O                Outside an entity   \n",
       "4    buying       O                Outside an entity   \n",
       "5      U.K.       B      GPE  Beginning of an entity   \n",
       "6   startup       O                Outside an entity   \n",
       "7       for       O                Outside an entity   \n",
       "8         $       B    MONEY  Beginning of an entity   \n",
       "9         1       I    MONEY        Inside an entity   \n",
       "10  billion       I    MONEY        Inside an entity   \n",
       "\n",
       "                           type_description  \n",
       "0   Companies, agencies, institutions, etc.  \n",
       "1                                      None  \n",
       "2                                      None  \n",
       "3                                      None  \n",
       "4                                      None  \n",
       "5                 Countries, cities, states  \n",
       "6                                      None  \n",
       "7                                      None  \n",
       "8           Monetary values, including unit  \n",
       "9           Monetary values, including unit  \n",
       "10          Monetary values, including unit  "
      ]
     },
     "execution_count": 317,
     "metadata": {},
     "output_type": "execute_result"
    }
   ],
   "source": [
    "def get_token_entities(token):\n",
    "    features = {\n",
    "        'text': token.text,\n",
    "        'ent_iob': token.ent_iob_,\n",
    "        'ent_type': token.ent_type_\n",
    "    }\n",
    "    \n",
    "    if features['ent_iob'] == 'I' :\n",
    "        features['iob_description'] =  'Inside an entity'\n",
    "    elif features['ent_iob'] == 'O' :\n",
    "        features['iob_description'] =  'Outside an entity'\n",
    "    else:\n",
    "        features['iob_description'] =  'Beginning of an entity'\n",
    "        \n",
    "    features['type_description'] = None if features['ent_iob'] == 'O' else spacy.explain(features['ent_type'])\n",
    "    return features\n",
    "\n",
    "eng_doc_df = pd.DataFrame([get_token_entities(token) for token in doc])\n",
    "eng_doc_df"
   ]
  },
  {
   "cell_type": "code",
   "execution_count": 318,
   "id": "7579d1d3-e364-4c0d-b7a5-c9f6ada6cc74",
   "metadata": {},
   "outputs": [
    {
     "data": {
      "text/html": [
       "<span class=\"tex2jax_ignore\"><div class=\"entities\" style=\"line-height: 2.5; direction: ltr\">Twitter permanently suspends President \n",
       "<mark class=\"entity\" style=\"background: #aa9cfc; padding: 0.45em 0.6em; margin: 0 0.25em; line-height: 1; border-radius: 0.35em;\">\n",
       "    Donald Trump\n",
       "    <span style=\"font-size: 0.8em; font-weight: bold; line-height: 1; border-radius: 0.35em; vertical-align: middle; margin-left: 0.5rem\">PERSON</span>\n",
       "</mark>\n",
       "</div></span>"
      ],
      "text/plain": [
       "<IPython.core.display.HTML object>"
      ]
     },
     "metadata": {},
     "output_type": "display_data"
    }
   ],
   "source": [
    "doc = eng_default(\"Twitter permanently suspends President Donald Trump\")\n",
    "displacy.render(doc, style=\"ent\")"
   ]
  },
  {
   "cell_type": "code",
   "execution_count": 319,
   "id": "35132330-4d91-4c80-aed5-0bc523d32b0a",
   "metadata": {},
   "outputs": [
    {
     "data": {
      "text/html": [
       "<span class=\"tex2jax_ignore\"><div class=\"entities\" style=\"line-height: 2.5; direction: ltr\">\n",
       "<mark class=\"entity\" style=\"background: #7aecec; padding: 0.45em 0.6em; margin: 0 0.25em; line-height: 1; border-radius: 0.35em;\">\n",
       "    Twitter\n",
       "    <span style=\"font-size: 0.8em; font-weight: bold; line-height: 1; border-radius: 0.35em; vertical-align: middle; margin-left: 0.5rem\">ORG</span>\n",
       "</mark>\n",
       " permanently suspends President \n",
       "<mark class=\"entity\" style=\"background: #aa9cfc; padding: 0.45em 0.6em; margin: 0 0.25em; line-height: 1; border-radius: 0.35em;\">\n",
       "    Donald Trump\n",
       "    <span style=\"font-size: 0.8em; font-weight: bold; line-height: 1; border-radius: 0.35em; vertical-align: middle; margin-left: 0.5rem\">PERSON</span>\n",
       "</mark>\n",
       "</div></span>"
      ],
      "text/plain": [
       "<IPython.core.display.HTML object>"
      ]
     },
     "metadata": {},
     "output_type": "display_data"
    }
   ],
   "source": [
    "twitter_ent = Span(doc, 0, 1, label=\"ORG\")\n",
    "doc.ents = list(doc.ents) + [twitter_ent]\n",
    "displacy.render(doc, style=\"ent\")"
   ]
  },
  {
   "cell_type": "code",
   "execution_count": 320,
   "id": "a6950807-4e5f-4053-9119-1c6eca6e339e",
   "metadata": {},
   "outputs": [
    {
     "data": {
      "text/html": [
       "<span class=\"tex2jax_ignore\"><div class=\"entities\" style=\"line-height: 2.5; direction: ltr\">\n",
       "<mark class=\"entity\" style=\"background: #7aecec; padding: 0.45em 0.6em; margin: 0 0.25em; line-height: 1; border-radius: 0.35em;\">\n",
       "    Twitter\n",
       "    <span style=\"font-size: 0.8em; font-weight: bold; line-height: 1; border-radius: 0.35em; vertical-align: middle; margin-left: 0.5rem\">ORG</span>\n",
       "</mark>\n",
       " permanently suspends \n",
       "<mark class=\"entity\" style=\"background: #ddd; padding: 0.45em 0.6em; margin: 0 0.25em; line-height: 1; border-radius: 0.35em;\">\n",
       "    President\n",
       "    <span style=\"font-size: 0.8em; font-weight: bold; line-height: 1; border-radius: 0.35em; vertical-align: middle; margin-left: 0.5rem\">POLITIC</span>\n",
       "</mark>\n",
       " \n",
       "<mark class=\"entity\" style=\"background: #aa9cfc; padding: 0.45em 0.6em; margin: 0 0.25em; line-height: 1; border-radius: 0.35em;\">\n",
       "    Donald Trump\n",
       "    <span style=\"font-size: 0.8em; font-weight: bold; line-height: 1; border-radius: 0.35em; vertical-align: middle; margin-left: 0.5rem\">PERSON</span>\n",
       "</mark>\n",
       "</div></span>"
      ],
      "text/plain": [
       "<IPython.core.display.HTML object>"
      ]
     },
     "metadata": {},
     "output_type": "display_data"
    }
   ],
   "source": [
    "president_ent = Span(doc, 3, 4, label=\"POLITIC\")\n",
    "doc.ents = list(doc.ents) + [president_ent]\n",
    "displacy.render(doc, style=\"ent\")"
   ]
  },
  {
   "cell_type": "markdown",
   "id": "a806501a-c58b-4a14-9e81-57f138c7166c",
   "metadata": {},
   "source": [
    "## Практика\n",
    "1) Дадим на разбор предложение с синтаксической неоднозначностью. Какой анализ предлагает SpaCy?\n",
    "    + John saw the man on the mountain with a telescope.\n",
    "    + I'm glad I'm a man, and so is Lola.\n",
    "    + больше примеров: https://en.wikipedia.org/wiki/Syntactic_ambiguity\n",
    "2) Проверьте, справляется ли SpaCy с эллипсисом:\n",
    "    + John can play the guitar; Mary can, too.\n",
    "3) Протестируйте SpaCy для русского языка. Сравните какие типы зависимостей есть в русском и английском языке, отличаются ли они."
   ]
  },
  {
   "cell_type": "markdown",
   "id": "c9e9ac0d-ba1b-4755-aec6-0078344ddb52",
   "metadata": {},
   "source": [
    "# UDPipe\n",
    "SpaCy интегрирует в свою модуль не только собственные разработки, но и достижения сторонних разработчиков и организаций. Так они добавили свою обертку над синтаксическим парсером UDPipe, которая намного удобней своих аналогов.  \n",
    "\n",
    "[**Universal Dependencies**](https://universaldependencies.org/) — это проект по унификации разметки синтаксических корпусов (трибанков) в рамках грамматики зависимостей. В русском языке количество типов синтаксических связей ограничено — подлежащее, сказуемое и т.д. В английском то же самое, но набор уже другой. Например, там появляется артикль, который тоже надо как-то маркировать. Если бы мы хотели написать волшебный парсер, который мог бы обрабатывать все языки, то довольно быстро уперлись бы в проблемы сопоставления разных грамматик. Героическим создателям Universal Dependencies удалось договориться между собой и разметить все корпусы, которые имелись в их распоряжении, в едином формате.\n",
    "\n",
    "Для того, чтобы разметить что-то новое, нужно обучить модель на размеченном корпусе. Таких корпусов для русского языка есть несколько (можно посмотреть на сайте Universal Dependencies). Основные и самые большие размеченные корпуса:\n",
    "+ Syntagrus\n",
    "+ Taiga\n",
    "\n",
    "[Очень хороший туториал по UDPipe.](https://habr.com/ru/company/sberbank/blog/418701/)\n",
    "\n",
    "[**Список всех отношения в Universal Dependencies для русского языка.**](https://universaldependencies.org/ru/index.html)"
   ]
  },
  {
   "cell_type": "markdown",
   "id": "7ef8afa4-b97a-4ab5-b903-2e643978a143",
   "metadata": {},
   "source": [
    "## UDPipe Online\n",
    "Перейдем по ссылке: http://lindat.mff.cuni.cz/services/udpipe/run.php\n",
    "\n",
    "+ Сначала надо выбрать корпус syntagrus. \n",
    "+ Потом можно вводить свои предложения и рисовать для них таблицы и деревья."
   ]
  },
  {
   "cell_type": "markdown",
   "id": "5d28c88c-c181-4da3-9bda-9d5da7673c70",
   "metadata": {},
   "source": [
    "## Spacy UDPipe"
   ]
  },
  {
   "cell_type": "code",
   "execution_count": 76,
   "id": "bf0f1795-2835-4130-b875-031923f55a45",
   "metadata": {
    "collapsed": true,
    "jupyter": {
     "outputs_hidden": true
    },
    "tags": []
   },
   "outputs": [
    {
     "name": "stdout",
     "output_type": "stream",
     "text": [
      "Collecting spacy_udpipe\n",
      "  Downloading spacy_udpipe-1.0.0-py3-none-any.whl (11 kB)\n",
      "Requirement already satisfied: ufal.udpipe>=1.2.0 in /Users/u14510182/Documents/python_for_nlp_stud/venv/lib/python3.9/site-packages (from spacy_udpipe) (1.2.0.3)\n",
      "Requirement already satisfied: spacy<4.0.0,>=3.0.0 in /Users/u14510182/Documents/python_for_nlp_stud/venv/lib/python3.9/site-packages (from spacy_udpipe) (3.4.1)\n",
      "Requirement already satisfied: spacy-loggers<2.0.0,>=1.0.0 in /Users/u14510182/Documents/python_for_nlp_stud/venv/lib/python3.9/site-packages (from spacy<4.0.0,>=3.0.0->spacy_udpipe) (1.0.3)\n",
      "Requirement already satisfied: jinja2 in /Users/u14510182/Documents/python_for_nlp_stud/venv/lib/python3.9/site-packages (from spacy<4.0.0,>=3.0.0->spacy_udpipe) (3.1.2)\n",
      "Requirement already satisfied: catalogue<2.1.0,>=2.0.6 in /Users/u14510182/Documents/python_for_nlp_stud/venv/lib/python3.9/site-packages (from spacy<4.0.0,>=3.0.0->spacy_udpipe) (2.0.8)\n",
      "Requirement already satisfied: numpy>=1.15.0 in /Users/u14510182/Documents/python_for_nlp_stud/venv/lib/python3.9/site-packages (from spacy<4.0.0,>=3.0.0->spacy_udpipe) (1.23.2)\n",
      "Requirement already satisfied: tqdm<5.0.0,>=4.38.0 in /Users/u14510182/Documents/python_for_nlp_stud/venv/lib/python3.9/site-packages (from spacy<4.0.0,>=3.0.0->spacy_udpipe) (4.64.1)\n",
      "Requirement already satisfied: spacy-legacy<3.1.0,>=3.0.9 in /Users/u14510182/Documents/python_for_nlp_stud/venv/lib/python3.9/site-packages (from spacy<4.0.0,>=3.0.0->spacy_udpipe) (3.0.10)\n",
      "Requirement already satisfied: langcodes<4.0.0,>=3.2.0 in /Users/u14510182/Documents/python_for_nlp_stud/venv/lib/python3.9/site-packages (from spacy<4.0.0,>=3.0.0->spacy_udpipe) (3.3.0)\n",
      "Requirement already satisfied: pydantic!=1.8,!=1.8.1,<1.10.0,>=1.7.4 in /Users/u14510182/Documents/python_for_nlp_stud/venv/lib/python3.9/site-packages (from spacy<4.0.0,>=3.0.0->spacy_udpipe) (1.9.2)\n",
      "Requirement already satisfied: thinc<8.2.0,>=8.1.0 in /Users/u14510182/Documents/python_for_nlp_stud/venv/lib/python3.9/site-packages (from spacy<4.0.0,>=3.0.0->spacy_udpipe) (8.1.4)\n",
      "Requirement already satisfied: setuptools in /Users/u14510182/Documents/python_for_nlp_stud/venv/lib/python3.9/site-packages (from spacy<4.0.0,>=3.0.0->spacy_udpipe) (57.0.0)\n",
      "Requirement already satisfied: wasabi<1.1.0,>=0.9.1 in /Users/u14510182/Documents/python_for_nlp_stud/venv/lib/python3.9/site-packages (from spacy<4.0.0,>=3.0.0->spacy_udpipe) (0.10.1)\n",
      "Requirement already satisfied: preshed<3.1.0,>=3.0.2 in /Users/u14510182/Documents/python_for_nlp_stud/venv/lib/python3.9/site-packages (from spacy<4.0.0,>=3.0.0->spacy_udpipe) (3.0.7)\n",
      "Requirement already satisfied: packaging>=20.0 in /Users/u14510182/Documents/python_for_nlp_stud/venv/lib/python3.9/site-packages (from spacy<4.0.0,>=3.0.0->spacy_udpipe) (21.3)\n",
      "Requirement already satisfied: murmurhash<1.1.0,>=0.28.0 in /Users/u14510182/Documents/python_for_nlp_stud/venv/lib/python3.9/site-packages (from spacy<4.0.0,>=3.0.0->spacy_udpipe) (1.0.8)\n",
      "Requirement already satisfied: pathy>=0.3.5 in /Users/u14510182/Documents/python_for_nlp_stud/venv/lib/python3.9/site-packages (from spacy<4.0.0,>=3.0.0->spacy_udpipe) (0.6.2)\n",
      "Requirement already satisfied: cymem<2.1.0,>=2.0.2 in /Users/u14510182/Documents/python_for_nlp_stud/venv/lib/python3.9/site-packages (from spacy<4.0.0,>=3.0.0->spacy_udpipe) (2.0.6)\n",
      "Requirement already satisfied: srsly<3.0.0,>=2.4.3 in /Users/u14510182/Documents/python_for_nlp_stud/venv/lib/python3.9/site-packages (from spacy<4.0.0,>=3.0.0->spacy_udpipe) (2.4.4)\n",
      "Requirement already satisfied: typer<0.5.0,>=0.3.0 in /Users/u14510182/Documents/python_for_nlp_stud/venv/lib/python3.9/site-packages (from spacy<4.0.0,>=3.0.0->spacy_udpipe) (0.4.2)\n",
      "Requirement already satisfied: requests<3.0.0,>=2.13.0 in /Users/u14510182/Documents/python_for_nlp_stud/venv/lib/python3.9/site-packages (from spacy<4.0.0,>=3.0.0->spacy_udpipe) (2.28.1)\n",
      "Requirement already satisfied: pyparsing!=3.0.5,>=2.0.2 in /Users/u14510182/Documents/python_for_nlp_stud/venv/lib/python3.9/site-packages (from packaging>=20.0->spacy<4.0.0,>=3.0.0->spacy_udpipe) (3.0.9)\n",
      "Requirement already satisfied: smart-open<6.0.0,>=5.2.1 in /Users/u14510182/Documents/python_for_nlp_stud/venv/lib/python3.9/site-packages (from pathy>=0.3.5->spacy<4.0.0,>=3.0.0->spacy_udpipe) (5.2.1)\n",
      "Requirement already satisfied: typing-extensions>=3.7.4.3 in /Users/u14510182/Documents/python_for_nlp_stud/venv/lib/python3.9/site-packages (from pydantic!=1.8,!=1.8.1,<1.10.0,>=1.7.4->spacy<4.0.0,>=3.0.0->spacy_udpipe) (4.4.0)\n",
      "Requirement already satisfied: idna<4,>=2.5 in /Users/u14510182/Documents/python_for_nlp_stud/venv/lib/python3.9/site-packages (from requests<3.0.0,>=2.13.0->spacy<4.0.0,>=3.0.0->spacy_udpipe) (3.3)\n",
      "Requirement already satisfied: charset-normalizer<3,>=2 in /Users/u14510182/Documents/python_for_nlp_stud/venv/lib/python3.9/site-packages (from requests<3.0.0,>=2.13.0->spacy<4.0.0,>=3.0.0->spacy_udpipe) (2.1.1)\n",
      "Requirement already satisfied: certifi>=2017.4.17 in /Users/u14510182/Documents/python_for_nlp_stud/venv/lib/python3.9/site-packages (from requests<3.0.0,>=2.13.0->spacy<4.0.0,>=3.0.0->spacy_udpipe) (2022.6.15)\n",
      "Requirement already satisfied: urllib3<1.27,>=1.21.1 in /Users/u14510182/Documents/python_for_nlp_stud/venv/lib/python3.9/site-packages (from requests<3.0.0,>=2.13.0->spacy<4.0.0,>=3.0.0->spacy_udpipe) (1.26.12)\n",
      "Requirement already satisfied: blis<0.8.0,>=0.7.8 in /Users/u14510182/Documents/python_for_nlp_stud/venv/lib/python3.9/site-packages (from thinc<8.2.0,>=8.1.0->spacy<4.0.0,>=3.0.0->spacy_udpipe) (0.7.8)\n",
      "Requirement already satisfied: confection<1.0.0,>=0.0.1 in /Users/u14510182/Documents/python_for_nlp_stud/venv/lib/python3.9/site-packages (from thinc<8.2.0,>=8.1.0->spacy<4.0.0,>=3.0.0->spacy_udpipe) (0.0.3)\n",
      "Requirement already satisfied: click<9.0.0,>=7.1.1 in /Users/u14510182/Documents/python_for_nlp_stud/venv/lib/python3.9/site-packages (from typer<0.5.0,>=0.3.0->spacy<4.0.0,>=3.0.0->spacy_udpipe) (8.1.3)\n",
      "Requirement already satisfied: MarkupSafe>=2.0 in /Users/u14510182/Documents/python_for_nlp_stud/venv/lib/python3.9/site-packages (from jinja2->spacy<4.0.0,>=3.0.0->spacy_udpipe) (2.1.1)\n",
      "Installing collected packages: spacy-udpipe\n",
      "Successfully installed spacy-udpipe-1.0.0\n",
      "\u001b[33mWARNING: You are using pip version 21.1.2; however, version 22.3 is available.\n",
      "You should consider upgrading via the '/Users/u14510182/Documents/python_for_nlp_stud/venv/bin/python -m pip install --upgrade pip' command.\u001b[0m\n"
     ]
    }
   ],
   "source": [
    "!pip install spacy_udpipe"
   ]
  },
  {
   "cell_type": "code",
   "execution_count": 78,
   "id": "1f76a38f-5ad0-4db1-9e38-7d840f12feb0",
   "metadata": {},
   "outputs": [],
   "source": [
    "import spacy_udpipe"
   ]
  },
  {
   "cell_type": "code",
   "execution_count": 89,
   "id": "b73835ac-d925-4252-85b3-20834c1dd4f2",
   "metadata": {},
   "outputs": [
    {
     "name": "stdout",
     "output_type": "stream",
     "text": [
      "Downloaded pre-trained UDPipe model for 'ru' language\n"
     ]
    }
   ],
   "source": [
    "import ssl\n",
    "ssl._create_default_https_context = ssl._create_unverified_context\n",
    "spacy_udpipe.download(\"ru\") # Скачиваем модель UDPipe для русского языка. Скачиваем только одни раз!"
   ]
  },
  {
   "cell_type": "code",
   "execution_count": 322,
   "id": "a4f67999-67f9-417f-8c56-04cba34e66f5",
   "metadata": {},
   "outputs": [
    {
     "data": {
      "text/plain": [
       "[]"
      ]
     },
     "execution_count": 322,
     "metadata": {},
     "output_type": "execute_result"
    }
   ],
   "source": [
    "ru_udpipe = spacy_udpipe.load(\"ru\")\n",
    "ru_udpipe.pipe_names"
   ]
  },
  {
   "cell_type": "code",
   "execution_count": 329,
   "id": "9cbbafbc-87d4-4cf1-8a84-768f5134a4b3",
   "metadata": {},
   "outputs": [],
   "source": [
    "txt = 'Я был в деревне целый день. И завтра тоже там буду.'\n",
    "txt = 'Миновав галерею, я приблизился к арочному проему, за которым открывался зал с высоким сводом, и остановился.'\n",
    "doc = ru_udpipe(txt)"
   ]
  },
  {
   "cell_type": "code",
   "execution_count": 324,
   "id": "4b651a40-2a1e-4862-9c3a-1973a51638a2",
   "metadata": {},
   "outputs": [
    {
     "data": {
      "text/plain": [
       "(spacy.tokens.doc.Doc, Я был в деревне целый день. И завтра тоже там буду.)"
      ]
     },
     "execution_count": 324,
     "metadata": {},
     "output_type": "execute_result"
    }
   ],
   "source": [
    "type(doc), doc"
   ]
  },
  {
   "cell_type": "code",
   "execution_count": 325,
   "id": "50466f5e-319c-46ae-8b8d-21d520b39f16",
   "metadata": {},
   "outputs": [
    {
     "data": {
      "text/plain": [
       "(spacy.tokens.token.Token, был)"
      ]
     },
     "execution_count": 325,
     "metadata": {},
     "output_type": "execute_result"
    }
   ],
   "source": [
    "type(doc[1]), doc[1]"
   ]
  },
  {
   "cell_type": "code",
   "execution_count": 330,
   "id": "1f85a290-4a04-4150-bfaa-af9f3f2f4059",
   "metadata": {},
   "outputs": [
    {
     "data": {
      "text/plain": [
       "[Миновав галерею, я приблизился к арочному проему, за которым открывался зал с высоким сводом, и остановился.]"
      ]
     },
     "execution_count": 330,
     "metadata": {},
     "output_type": "execute_result"
    }
   ],
   "source": [
    "sents = list(doc.sents)\n",
    "sents"
   ]
  },
  {
   "cell_type": "code",
   "execution_count": 331,
   "id": "434cc2f3-5828-488a-9422-faba6d43b54c",
   "metadata": {},
   "outputs": [
    {
     "data": {
      "text/html": [
       "<span class=\"tex2jax_ignore\"><svg xmlns=\"http://www.w3.org/2000/svg\" xmlns:xlink=\"http://www.w3.org/1999/xlink\" xml:lang=\"ru\" id=\"71bdf03f33ac42c3905433542f07e00f-0\" class=\"displacy\" width=\"2850\" height=\"487.0\" direction=\"ltr\" style=\"max-width: none; height: 487.0px; color: #000000; background: #ffffff; font-family: Arial; direction: ltr\">\n",
       "<text class=\"displacy-token\" fill=\"currentColor\" text-anchor=\"middle\" y=\"397.0\">\n",
       "    <tspan class=\"displacy-word\" fill=\"currentColor\" x=\"50\">Миновав</tspan>\n",
       "    <tspan class=\"displacy-tag\" dy=\"2em\" fill=\"currentColor\" x=\"50\">VERB</tspan>\n",
       "</text>\n",
       "\n",
       "<text class=\"displacy-token\" fill=\"currentColor\" text-anchor=\"middle\" y=\"397.0\">\n",
       "    <tspan class=\"displacy-word\" fill=\"currentColor\" x=\"225\">галерею,</tspan>\n",
       "    <tspan class=\"displacy-tag\" dy=\"2em\" fill=\"currentColor\" x=\"225\">NOUN</tspan>\n",
       "</text>\n",
       "\n",
       "<text class=\"displacy-token\" fill=\"currentColor\" text-anchor=\"middle\" y=\"397.0\">\n",
       "    <tspan class=\"displacy-word\" fill=\"currentColor\" x=\"400\">я</tspan>\n",
       "    <tspan class=\"displacy-tag\" dy=\"2em\" fill=\"currentColor\" x=\"400\">PRON</tspan>\n",
       "</text>\n",
       "\n",
       "<text class=\"displacy-token\" fill=\"currentColor\" text-anchor=\"middle\" y=\"397.0\">\n",
       "    <tspan class=\"displacy-word\" fill=\"currentColor\" x=\"575\">приблизился</tspan>\n",
       "    <tspan class=\"displacy-tag\" dy=\"2em\" fill=\"currentColor\" x=\"575\">VERB</tspan>\n",
       "</text>\n",
       "\n",
       "<text class=\"displacy-token\" fill=\"currentColor\" text-anchor=\"middle\" y=\"397.0\">\n",
       "    <tspan class=\"displacy-word\" fill=\"currentColor\" x=\"750\">к</tspan>\n",
       "    <tspan class=\"displacy-tag\" dy=\"2em\" fill=\"currentColor\" x=\"750\">ADP</tspan>\n",
       "</text>\n",
       "\n",
       "<text class=\"displacy-token\" fill=\"currentColor\" text-anchor=\"middle\" y=\"397.0\">\n",
       "    <tspan class=\"displacy-word\" fill=\"currentColor\" x=\"925\">арочному</tspan>\n",
       "    <tspan class=\"displacy-tag\" dy=\"2em\" fill=\"currentColor\" x=\"925\">NOUN</tspan>\n",
       "</text>\n",
       "\n",
       "<text class=\"displacy-token\" fill=\"currentColor\" text-anchor=\"middle\" y=\"397.0\">\n",
       "    <tspan class=\"displacy-word\" fill=\"currentColor\" x=\"1100\">проему,</tspan>\n",
       "    <tspan class=\"displacy-tag\" dy=\"2em\" fill=\"currentColor\" x=\"1100\">DET</tspan>\n",
       "</text>\n",
       "\n",
       "<text class=\"displacy-token\" fill=\"currentColor\" text-anchor=\"middle\" y=\"397.0\">\n",
       "    <tspan class=\"displacy-word\" fill=\"currentColor\" x=\"1275\">за</tspan>\n",
       "    <tspan class=\"displacy-tag\" dy=\"2em\" fill=\"currentColor\" x=\"1275\">ADP</tspan>\n",
       "</text>\n",
       "\n",
       "<text class=\"displacy-token\" fill=\"currentColor\" text-anchor=\"middle\" y=\"397.0\">\n",
       "    <tspan class=\"displacy-word\" fill=\"currentColor\" x=\"1450\">которым</tspan>\n",
       "    <tspan class=\"displacy-tag\" dy=\"2em\" fill=\"currentColor\" x=\"1450\">PRON</tspan>\n",
       "</text>\n",
       "\n",
       "<text class=\"displacy-token\" fill=\"currentColor\" text-anchor=\"middle\" y=\"397.0\">\n",
       "    <tspan class=\"displacy-word\" fill=\"currentColor\" x=\"1625\">открывался</tspan>\n",
       "    <tspan class=\"displacy-tag\" dy=\"2em\" fill=\"currentColor\" x=\"1625\">VERB</tspan>\n",
       "</text>\n",
       "\n",
       "<text class=\"displacy-token\" fill=\"currentColor\" text-anchor=\"middle\" y=\"397.0\">\n",
       "    <tspan class=\"displacy-word\" fill=\"currentColor\" x=\"1800\">зал</tspan>\n",
       "    <tspan class=\"displacy-tag\" dy=\"2em\" fill=\"currentColor\" x=\"1800\">NOUN</tspan>\n",
       "</text>\n",
       "\n",
       "<text class=\"displacy-token\" fill=\"currentColor\" text-anchor=\"middle\" y=\"397.0\">\n",
       "    <tspan class=\"displacy-word\" fill=\"currentColor\" x=\"1975\">с</tspan>\n",
       "    <tspan class=\"displacy-tag\" dy=\"2em\" fill=\"currentColor\" x=\"1975\">ADP</tspan>\n",
       "</text>\n",
       "\n",
       "<text class=\"displacy-token\" fill=\"currentColor\" text-anchor=\"middle\" y=\"397.0\">\n",
       "    <tspan class=\"displacy-word\" fill=\"currentColor\" x=\"2150\">высоким</tspan>\n",
       "    <tspan class=\"displacy-tag\" dy=\"2em\" fill=\"currentColor\" x=\"2150\">ADJ</tspan>\n",
       "</text>\n",
       "\n",
       "<text class=\"displacy-token\" fill=\"currentColor\" text-anchor=\"middle\" y=\"397.0\">\n",
       "    <tspan class=\"displacy-word\" fill=\"currentColor\" x=\"2325\">сводом,</tspan>\n",
       "    <tspan class=\"displacy-tag\" dy=\"2em\" fill=\"currentColor\" x=\"2325\">NOUN</tspan>\n",
       "</text>\n",
       "\n",
       "<text class=\"displacy-token\" fill=\"currentColor\" text-anchor=\"middle\" y=\"397.0\">\n",
       "    <tspan class=\"displacy-word\" fill=\"currentColor\" x=\"2500\">и</tspan>\n",
       "    <tspan class=\"displacy-tag\" dy=\"2em\" fill=\"currentColor\" x=\"2500\">CCONJ</tspan>\n",
       "</text>\n",
       "\n",
       "<text class=\"displacy-token\" fill=\"currentColor\" text-anchor=\"middle\" y=\"397.0\">\n",
       "    <tspan class=\"displacy-word\" fill=\"currentColor\" x=\"2675\">остановился.</tspan>\n",
       "    <tspan class=\"displacy-tag\" dy=\"2em\" fill=\"currentColor\" x=\"2675\">VERB</tspan>\n",
       "</text>\n",
       "\n",
       "<g class=\"displacy-arrow\">\n",
       "    <path class=\"displacy-arc\" id=\"arrow-71bdf03f33ac42c3905433542f07e00f-0-0\" stroke-width=\"2px\" d=\"M70,352.0 C70,177.0 565.0,177.0 565.0,352.0\" fill=\"none\" stroke=\"currentColor\"/>\n",
       "    <text dy=\"1.25em\" style=\"font-size: 0.8em; letter-spacing: 1px\">\n",
       "        <textPath xlink:href=\"#arrow-71bdf03f33ac42c3905433542f07e00f-0-0\" class=\"displacy-label\" startOffset=\"50%\" side=\"left\" fill=\"currentColor\" text-anchor=\"middle\">advcl</textPath>\n",
       "    </text>\n",
       "    <path class=\"displacy-arrowhead\" d=\"M70,354.0 L62,342.0 78,342.0\" fill=\"currentColor\"/>\n",
       "</g>\n",
       "\n",
       "<g class=\"displacy-arrow\">\n",
       "    <path class=\"displacy-arc\" id=\"arrow-71bdf03f33ac42c3905433542f07e00f-0-1\" stroke-width=\"2px\" d=\"M70,352.0 C70,264.5 210.0,264.5 210.0,352.0\" fill=\"none\" stroke=\"currentColor\"/>\n",
       "    <text dy=\"1.25em\" style=\"font-size: 0.8em; letter-spacing: 1px\">\n",
       "        <textPath xlink:href=\"#arrow-71bdf03f33ac42c3905433542f07e00f-0-1\" class=\"displacy-label\" startOffset=\"50%\" side=\"left\" fill=\"currentColor\" text-anchor=\"middle\">obj</textPath>\n",
       "    </text>\n",
       "    <path class=\"displacy-arrowhead\" d=\"M210.0,354.0 L218.0,342.0 202.0,342.0\" fill=\"currentColor\"/>\n",
       "</g>\n",
       "\n",
       "<g class=\"displacy-arrow\">\n",
       "    <path class=\"displacy-arc\" id=\"arrow-71bdf03f33ac42c3905433542f07e00f-0-2\" stroke-width=\"2px\" d=\"M420,352.0 C420,264.5 560.0,264.5 560.0,352.0\" fill=\"none\" stroke=\"currentColor\"/>\n",
       "    <text dy=\"1.25em\" style=\"font-size: 0.8em; letter-spacing: 1px\">\n",
       "        <textPath xlink:href=\"#arrow-71bdf03f33ac42c3905433542f07e00f-0-2\" class=\"displacy-label\" startOffset=\"50%\" side=\"left\" fill=\"currentColor\" text-anchor=\"middle\">nsubj</textPath>\n",
       "    </text>\n",
       "    <path class=\"displacy-arrowhead\" d=\"M420,354.0 L412,342.0 428,342.0\" fill=\"currentColor\"/>\n",
       "</g>\n",
       "\n",
       "<g class=\"displacy-arrow\">\n",
       "    <path class=\"displacy-arc\" id=\"arrow-71bdf03f33ac42c3905433542f07e00f-0-3\" stroke-width=\"2px\" d=\"M770,352.0 C770,264.5 910.0,264.5 910.0,352.0\" fill=\"none\" stroke=\"currentColor\"/>\n",
       "    <text dy=\"1.25em\" style=\"font-size: 0.8em; letter-spacing: 1px\">\n",
       "        <textPath xlink:href=\"#arrow-71bdf03f33ac42c3905433542f07e00f-0-3\" class=\"displacy-label\" startOffset=\"50%\" side=\"left\" fill=\"currentColor\" text-anchor=\"middle\">case</textPath>\n",
       "    </text>\n",
       "    <path class=\"displacy-arrowhead\" d=\"M770,354.0 L762,342.0 778,342.0\" fill=\"currentColor\"/>\n",
       "</g>\n",
       "\n",
       "<g class=\"displacy-arrow\">\n",
       "    <path class=\"displacy-arc\" id=\"arrow-71bdf03f33ac42c3905433542f07e00f-0-4\" stroke-width=\"2px\" d=\"M595,352.0 C595,177.0 915.0,177.0 915.0,352.0\" fill=\"none\" stroke=\"currentColor\"/>\n",
       "    <text dy=\"1.25em\" style=\"font-size: 0.8em; letter-spacing: 1px\">\n",
       "        <textPath xlink:href=\"#arrow-71bdf03f33ac42c3905433542f07e00f-0-4\" class=\"displacy-label\" startOffset=\"50%\" side=\"left\" fill=\"currentColor\" text-anchor=\"middle\">obl</textPath>\n",
       "    </text>\n",
       "    <path class=\"displacy-arrowhead\" d=\"M915.0,354.0 L923.0,342.0 907.0,342.0\" fill=\"currentColor\"/>\n",
       "</g>\n",
       "\n",
       "<g class=\"displacy-arrow\">\n",
       "    <path class=\"displacy-arc\" id=\"arrow-71bdf03f33ac42c3905433542f07e00f-0-5\" stroke-width=\"2px\" d=\"M595,352.0 C595,89.5 1095.0,89.5 1095.0,352.0\" fill=\"none\" stroke=\"currentColor\"/>\n",
       "    <text dy=\"1.25em\" style=\"font-size: 0.8em; letter-spacing: 1px\">\n",
       "        <textPath xlink:href=\"#arrow-71bdf03f33ac42c3905433542f07e00f-0-5\" class=\"displacy-label\" startOffset=\"50%\" side=\"left\" fill=\"currentColor\" text-anchor=\"middle\">det</textPath>\n",
       "    </text>\n",
       "    <path class=\"displacy-arrowhead\" d=\"M1095.0,354.0 L1103.0,342.0 1087.0,342.0\" fill=\"currentColor\"/>\n",
       "</g>\n",
       "\n",
       "<g class=\"displacy-arrow\">\n",
       "    <path class=\"displacy-arc\" id=\"arrow-71bdf03f33ac42c3905433542f07e00f-0-6\" stroke-width=\"2px\" d=\"M1295,352.0 C1295,264.5 1435.0,264.5 1435.0,352.0\" fill=\"none\" stroke=\"currentColor\"/>\n",
       "    <text dy=\"1.25em\" style=\"font-size: 0.8em; letter-spacing: 1px\">\n",
       "        <textPath xlink:href=\"#arrow-71bdf03f33ac42c3905433542f07e00f-0-6\" class=\"displacy-label\" startOffset=\"50%\" side=\"left\" fill=\"currentColor\" text-anchor=\"middle\">case</textPath>\n",
       "    </text>\n",
       "    <path class=\"displacy-arrowhead\" d=\"M1295,354.0 L1287,342.0 1303,342.0\" fill=\"currentColor\"/>\n",
       "</g>\n",
       "\n",
       "<g class=\"displacy-arrow\">\n",
       "    <path class=\"displacy-arc\" id=\"arrow-71bdf03f33ac42c3905433542f07e00f-0-7\" stroke-width=\"2px\" d=\"M1470,352.0 C1470,264.5 1610.0,264.5 1610.0,352.0\" fill=\"none\" stroke=\"currentColor\"/>\n",
       "    <text dy=\"1.25em\" style=\"font-size: 0.8em; letter-spacing: 1px\">\n",
       "        <textPath xlink:href=\"#arrow-71bdf03f33ac42c3905433542f07e00f-0-7\" class=\"displacy-label\" startOffset=\"50%\" side=\"left\" fill=\"currentColor\" text-anchor=\"middle\">obl</textPath>\n",
       "    </text>\n",
       "    <path class=\"displacy-arrowhead\" d=\"M1470,354.0 L1462,342.0 1478,342.0\" fill=\"currentColor\"/>\n",
       "</g>\n",
       "\n",
       "<g class=\"displacy-arrow\">\n",
       "    <path class=\"displacy-arc\" id=\"arrow-71bdf03f33ac42c3905433542f07e00f-0-8\" stroke-width=\"2px\" d=\"M1120,352.0 C1120,177.0 1615.0,177.0 1615.0,352.0\" fill=\"none\" stroke=\"currentColor\"/>\n",
       "    <text dy=\"1.25em\" style=\"font-size: 0.8em; letter-spacing: 1px\">\n",
       "        <textPath xlink:href=\"#arrow-71bdf03f33ac42c3905433542f07e00f-0-8\" class=\"displacy-label\" startOffset=\"50%\" side=\"left\" fill=\"currentColor\" text-anchor=\"middle\">acl:relcl</textPath>\n",
       "    </text>\n",
       "    <path class=\"displacy-arrowhead\" d=\"M1615.0,354.0 L1623.0,342.0 1607.0,342.0\" fill=\"currentColor\"/>\n",
       "</g>\n",
       "\n",
       "<g class=\"displacy-arrow\">\n",
       "    <path class=\"displacy-arc\" id=\"arrow-71bdf03f33ac42c3905433542f07e00f-0-9\" stroke-width=\"2px\" d=\"M1645,352.0 C1645,264.5 1785.0,264.5 1785.0,352.0\" fill=\"none\" stroke=\"currentColor\"/>\n",
       "    <text dy=\"1.25em\" style=\"font-size: 0.8em; letter-spacing: 1px\">\n",
       "        <textPath xlink:href=\"#arrow-71bdf03f33ac42c3905433542f07e00f-0-9\" class=\"displacy-label\" startOffset=\"50%\" side=\"left\" fill=\"currentColor\" text-anchor=\"middle\">nsubj</textPath>\n",
       "    </text>\n",
       "    <path class=\"displacy-arrowhead\" d=\"M1785.0,354.0 L1793.0,342.0 1777.0,342.0\" fill=\"currentColor\"/>\n",
       "</g>\n",
       "\n",
       "<g class=\"displacy-arrow\">\n",
       "    <path class=\"displacy-arc\" id=\"arrow-71bdf03f33ac42c3905433542f07e00f-0-10\" stroke-width=\"2px\" d=\"M1995,352.0 C1995,177.0 2315.0,177.0 2315.0,352.0\" fill=\"none\" stroke=\"currentColor\"/>\n",
       "    <text dy=\"1.25em\" style=\"font-size: 0.8em; letter-spacing: 1px\">\n",
       "        <textPath xlink:href=\"#arrow-71bdf03f33ac42c3905433542f07e00f-0-10\" class=\"displacy-label\" startOffset=\"50%\" side=\"left\" fill=\"currentColor\" text-anchor=\"middle\">case</textPath>\n",
       "    </text>\n",
       "    <path class=\"displacy-arrowhead\" d=\"M1995,354.0 L1987,342.0 2003,342.0\" fill=\"currentColor\"/>\n",
       "</g>\n",
       "\n",
       "<g class=\"displacy-arrow\">\n",
       "    <path class=\"displacy-arc\" id=\"arrow-71bdf03f33ac42c3905433542f07e00f-0-11\" stroke-width=\"2px\" d=\"M2170,352.0 C2170,264.5 2310.0,264.5 2310.0,352.0\" fill=\"none\" stroke=\"currentColor\"/>\n",
       "    <text dy=\"1.25em\" style=\"font-size: 0.8em; letter-spacing: 1px\">\n",
       "        <textPath xlink:href=\"#arrow-71bdf03f33ac42c3905433542f07e00f-0-11\" class=\"displacy-label\" startOffset=\"50%\" side=\"left\" fill=\"currentColor\" text-anchor=\"middle\">amod</textPath>\n",
       "    </text>\n",
       "    <path class=\"displacy-arrowhead\" d=\"M2170,354.0 L2162,342.0 2178,342.0\" fill=\"currentColor\"/>\n",
       "</g>\n",
       "\n",
       "<g class=\"displacy-arrow\">\n",
       "    <path class=\"displacy-arc\" id=\"arrow-71bdf03f33ac42c3905433542f07e00f-0-12\" stroke-width=\"2px\" d=\"M1820,352.0 C1820,89.5 2320.0,89.5 2320.0,352.0\" fill=\"none\" stroke=\"currentColor\"/>\n",
       "    <text dy=\"1.25em\" style=\"font-size: 0.8em; letter-spacing: 1px\">\n",
       "        <textPath xlink:href=\"#arrow-71bdf03f33ac42c3905433542f07e00f-0-12\" class=\"displacy-label\" startOffset=\"50%\" side=\"left\" fill=\"currentColor\" text-anchor=\"middle\">nmod</textPath>\n",
       "    </text>\n",
       "    <path class=\"displacy-arrowhead\" d=\"M2320.0,354.0 L2328.0,342.0 2312.0,342.0\" fill=\"currentColor\"/>\n",
       "</g>\n",
       "\n",
       "<g class=\"displacy-arrow\">\n",
       "    <path class=\"displacy-arc\" id=\"arrow-71bdf03f33ac42c3905433542f07e00f-0-13\" stroke-width=\"2px\" d=\"M2520,352.0 C2520,264.5 2660.0,264.5 2660.0,352.0\" fill=\"none\" stroke=\"currentColor\"/>\n",
       "    <text dy=\"1.25em\" style=\"font-size: 0.8em; letter-spacing: 1px\">\n",
       "        <textPath xlink:href=\"#arrow-71bdf03f33ac42c3905433542f07e00f-0-13\" class=\"displacy-label\" startOffset=\"50%\" side=\"left\" fill=\"currentColor\" text-anchor=\"middle\">cc</textPath>\n",
       "    </text>\n",
       "    <path class=\"displacy-arrowhead\" d=\"M2520,354.0 L2512,342.0 2528,342.0\" fill=\"currentColor\"/>\n",
       "</g>\n",
       "\n",
       "<g class=\"displacy-arrow\">\n",
       "    <path class=\"displacy-arc\" id=\"arrow-71bdf03f33ac42c3905433542f07e00f-0-14\" stroke-width=\"2px\" d=\"M595,352.0 C595,2.0 2675.0,2.0 2675.0,352.0\" fill=\"none\" stroke=\"currentColor\"/>\n",
       "    <text dy=\"1.25em\" style=\"font-size: 0.8em; letter-spacing: 1px\">\n",
       "        <textPath xlink:href=\"#arrow-71bdf03f33ac42c3905433542f07e00f-0-14\" class=\"displacy-label\" startOffset=\"50%\" side=\"left\" fill=\"currentColor\" text-anchor=\"middle\">conj</textPath>\n",
       "    </text>\n",
       "    <path class=\"displacy-arrowhead\" d=\"M2675.0,354.0 L2683.0,342.0 2667.0,342.0\" fill=\"currentColor\"/>\n",
       "</g>\n",
       "</svg></span>"
      ],
      "text/plain": [
       "<IPython.core.display.HTML object>"
      ]
     },
     "metadata": {},
     "output_type": "display_data"
    }
   ],
   "source": [
    "displacy.render(sents[0], style='dep')"
   ]
  },
  {
   "cell_type": "code",
   "execution_count": 332,
   "id": "8b06ada5-ec33-41ba-b38d-3389096ad76b",
   "metadata": {},
   "outputs": [
    {
     "data": {
      "text/html": [
       "<div>\n",
       "<style scoped>\n",
       "    .dataframe tbody tr th:only-of-type {\n",
       "        vertical-align: middle;\n",
       "    }\n",
       "\n",
       "    .dataframe tbody tr th {\n",
       "        vertical-align: top;\n",
       "    }\n",
       "\n",
       "    .dataframe thead th {\n",
       "        text-align: right;\n",
       "    }\n",
       "</style>\n",
       "<table border=\"1\" class=\"dataframe\">\n",
       "  <thead>\n",
       "    <tr style=\"text-align: right;\">\n",
       "      <th></th>\n",
       "      <th>text</th>\n",
       "      <th>lemma</th>\n",
       "      <th>pos</th>\n",
       "      <th>tag</th>\n",
       "      <th>morph</th>\n",
       "      <th>dep</th>\n",
       "      <th>head</th>\n",
       "      <th>shape</th>\n",
       "      <th>is_alpha</th>\n",
       "      <th>is_stop</th>\n",
       "    </tr>\n",
       "  </thead>\n",
       "  <tbody>\n",
       "    <tr>\n",
       "      <th>0</th>\n",
       "      <td>Миновав</td>\n",
       "      <td>миновать</td>\n",
       "      <td>VERB</td>\n",
       "      <td></td>\n",
       "      <td>(Aspect=Imp, Tense=Past, VerbForm=Conv, Voice=...</td>\n",
       "      <td>advcl</td>\n",
       "      <td>приблизился</td>\n",
       "      <td>Xxxxx</td>\n",
       "      <td>True</td>\n",
       "      <td>False</td>\n",
       "    </tr>\n",
       "    <tr>\n",
       "      <th>1</th>\n",
       "      <td>галерею</td>\n",
       "      <td>галерея</td>\n",
       "      <td>NOUN</td>\n",
       "      <td></td>\n",
       "      <td>(Animacy=Inan, Case=Acc, Gender=Fem, Number=Sing)</td>\n",
       "      <td>obj</td>\n",
       "      <td>Миновав</td>\n",
       "      <td>xxxx</td>\n",
       "      <td>True</td>\n",
       "      <td>False</td>\n",
       "    </tr>\n",
       "    <tr>\n",
       "      <th>2</th>\n",
       "      <td>,</td>\n",
       "      <td>,</td>\n",
       "      <td>PUNCT</td>\n",
       "      <td></td>\n",
       "      <td>()</td>\n",
       "      <td>punct</td>\n",
       "      <td>Миновав</td>\n",
       "      <td>,</td>\n",
       "      <td>False</td>\n",
       "      <td>False</td>\n",
       "    </tr>\n",
       "    <tr>\n",
       "      <th>3</th>\n",
       "      <td>я</td>\n",
       "      <td>я</td>\n",
       "      <td>PRON</td>\n",
       "      <td></td>\n",
       "      <td>(Case=Nom, Number=Sing, Person=1)</td>\n",
       "      <td>nsubj</td>\n",
       "      <td>приблизился</td>\n",
       "      <td>x</td>\n",
       "      <td>True</td>\n",
       "      <td>True</td>\n",
       "    </tr>\n",
       "    <tr>\n",
       "      <th>4</th>\n",
       "      <td>приблизился</td>\n",
       "      <td>приблизиться</td>\n",
       "      <td>VERB</td>\n",
       "      <td></td>\n",
       "      <td>(Aspect=Perf, Gender=Masc, Mood=Ind, Number=Si...</td>\n",
       "      <td>ROOT</td>\n",
       "      <td>приблизился</td>\n",
       "      <td>xxxx</td>\n",
       "      <td>True</td>\n",
       "      <td>False</td>\n",
       "    </tr>\n",
       "    <tr>\n",
       "      <th>5</th>\n",
       "      <td>к</td>\n",
       "      <td>к</td>\n",
       "      <td>ADP</td>\n",
       "      <td></td>\n",
       "      <td>()</td>\n",
       "      <td>case</td>\n",
       "      <td>арочному</td>\n",
       "      <td>x</td>\n",
       "      <td>True</td>\n",
       "      <td>True</td>\n",
       "    </tr>\n",
       "    <tr>\n",
       "      <th>6</th>\n",
       "      <td>арочному</td>\n",
       "      <td>арочный</td>\n",
       "      <td>NOUN</td>\n",
       "      <td></td>\n",
       "      <td>(Animacy=Anim, Case=Dat, Gender=Masc, Number=S...</td>\n",
       "      <td>obl</td>\n",
       "      <td>приблизился</td>\n",
       "      <td>xxxx</td>\n",
       "      <td>True</td>\n",
       "      <td>False</td>\n",
       "    </tr>\n",
       "    <tr>\n",
       "      <th>7</th>\n",
       "      <td>проему</td>\n",
       "      <td>проема</td>\n",
       "      <td>DET</td>\n",
       "      <td></td>\n",
       "      <td>(Case=Dat, Gender=Masc, Number=Sing)</td>\n",
       "      <td>det</td>\n",
       "      <td>приблизился</td>\n",
       "      <td>xxxx</td>\n",
       "      <td>True</td>\n",
       "      <td>False</td>\n",
       "    </tr>\n",
       "    <tr>\n",
       "      <th>8</th>\n",
       "      <td>,</td>\n",
       "      <td>,</td>\n",
       "      <td>PUNCT</td>\n",
       "      <td></td>\n",
       "      <td>()</td>\n",
       "      <td>punct</td>\n",
       "      <td>открывался</td>\n",
       "      <td>,</td>\n",
       "      <td>False</td>\n",
       "      <td>False</td>\n",
       "    </tr>\n",
       "    <tr>\n",
       "      <th>9</th>\n",
       "      <td>за</td>\n",
       "      <td>за</td>\n",
       "      <td>ADP</td>\n",
       "      <td></td>\n",
       "      <td>()</td>\n",
       "      <td>case</td>\n",
       "      <td>которым</td>\n",
       "      <td>xx</td>\n",
       "      <td>True</td>\n",
       "      <td>True</td>\n",
       "    </tr>\n",
       "    <tr>\n",
       "      <th>10</th>\n",
       "      <td>которым</td>\n",
       "      <td>который</td>\n",
       "      <td>PRON</td>\n",
       "      <td></td>\n",
       "      <td>(Case=Ins)</td>\n",
       "      <td>obl</td>\n",
       "      <td>открывался</td>\n",
       "      <td>xxxx</td>\n",
       "      <td>True</td>\n",
       "      <td>True</td>\n",
       "    </tr>\n",
       "    <tr>\n",
       "      <th>11</th>\n",
       "      <td>открывался</td>\n",
       "      <td>открывать</td>\n",
       "      <td>VERB</td>\n",
       "      <td></td>\n",
       "      <td>(Aspect=Imp, Gender=Masc, Mood=Ind, Number=Sin...</td>\n",
       "      <td>acl:relcl</td>\n",
       "      <td>проему</td>\n",
       "      <td>xxxx</td>\n",
       "      <td>True</td>\n",
       "      <td>False</td>\n",
       "    </tr>\n",
       "    <tr>\n",
       "      <th>12</th>\n",
       "      <td>зал</td>\n",
       "      <td>зал</td>\n",
       "      <td>NOUN</td>\n",
       "      <td></td>\n",
       "      <td>(Animacy=Inan, Case=Nom, Gender=Masc, Number=S...</td>\n",
       "      <td>nsubj</td>\n",
       "      <td>открывался</td>\n",
       "      <td>xxx</td>\n",
       "      <td>True</td>\n",
       "      <td>False</td>\n",
       "    </tr>\n",
       "    <tr>\n",
       "      <th>13</th>\n",
       "      <td>с</td>\n",
       "      <td>с</td>\n",
       "      <td>ADP</td>\n",
       "      <td></td>\n",
       "      <td>()</td>\n",
       "      <td>case</td>\n",
       "      <td>сводом</td>\n",
       "      <td>x</td>\n",
       "      <td>True</td>\n",
       "      <td>True</td>\n",
       "    </tr>\n",
       "    <tr>\n",
       "      <th>14</th>\n",
       "      <td>высоким</td>\n",
       "      <td>высокий</td>\n",
       "      <td>ADJ</td>\n",
       "      <td></td>\n",
       "      <td>(Case=Ins, Degree=Pos, Gender=Masc, Number=Sing)</td>\n",
       "      <td>amod</td>\n",
       "      <td>сводом</td>\n",
       "      <td>xxxx</td>\n",
       "      <td>True</td>\n",
       "      <td>False</td>\n",
       "    </tr>\n",
       "    <tr>\n",
       "      <th>15</th>\n",
       "      <td>сводом</td>\n",
       "      <td>свод</td>\n",
       "      <td>NOUN</td>\n",
       "      <td></td>\n",
       "      <td>(Animacy=Inan, Case=Ins, Gender=Masc, Number=S...</td>\n",
       "      <td>nmod</td>\n",
       "      <td>зал</td>\n",
       "      <td>xxxx</td>\n",
       "      <td>True</td>\n",
       "      <td>False</td>\n",
       "    </tr>\n",
       "    <tr>\n",
       "      <th>16</th>\n",
       "      <td>,</td>\n",
       "      <td>,</td>\n",
       "      <td>PUNCT</td>\n",
       "      <td></td>\n",
       "      <td>()</td>\n",
       "      <td>punct</td>\n",
       "      <td>остановился</td>\n",
       "      <td>,</td>\n",
       "      <td>False</td>\n",
       "      <td>False</td>\n",
       "    </tr>\n",
       "    <tr>\n",
       "      <th>17</th>\n",
       "      <td>и</td>\n",
       "      <td>и</td>\n",
       "      <td>CCONJ</td>\n",
       "      <td></td>\n",
       "      <td>()</td>\n",
       "      <td>cc</td>\n",
       "      <td>остановился</td>\n",
       "      <td>x</td>\n",
       "      <td>True</td>\n",
       "      <td>True</td>\n",
       "    </tr>\n",
       "    <tr>\n",
       "      <th>18</th>\n",
       "      <td>остановился</td>\n",
       "      <td>остановиться</td>\n",
       "      <td>VERB</td>\n",
       "      <td></td>\n",
       "      <td>(Aspect=Perf, Gender=Masc, Mood=Ind, Number=Si...</td>\n",
       "      <td>conj</td>\n",
       "      <td>приблизился</td>\n",
       "      <td>xxxx</td>\n",
       "      <td>True</td>\n",
       "      <td>False</td>\n",
       "    </tr>\n",
       "    <tr>\n",
       "      <th>19</th>\n",
       "      <td>.</td>\n",
       "      <td>.</td>\n",
       "      <td>PUNCT</td>\n",
       "      <td></td>\n",
       "      <td>()</td>\n",
       "      <td>punct</td>\n",
       "      <td>приблизился</td>\n",
       "      <td>.</td>\n",
       "      <td>False</td>\n",
       "      <td>False</td>\n",
       "    </tr>\n",
       "  </tbody>\n",
       "</table>\n",
       "</div>"
      ],
      "text/plain": [
       "           text         lemma    pos tag  \\\n",
       "0       Миновав      миновать   VERB       \n",
       "1       галерею       галерея   NOUN       \n",
       "2             ,             ,  PUNCT       \n",
       "3             я             я   PRON       \n",
       "4   приблизился  приблизиться   VERB       \n",
       "5             к             к    ADP       \n",
       "6      арочному       арочный   NOUN       \n",
       "7        проему        проема    DET       \n",
       "8             ,             ,  PUNCT       \n",
       "9            за            за    ADP       \n",
       "10      которым       который   PRON       \n",
       "11   открывался     открывать   VERB       \n",
       "12          зал           зал   NOUN       \n",
       "13            с             с    ADP       \n",
       "14      высоким       высокий    ADJ       \n",
       "15       сводом          свод   NOUN       \n",
       "16            ,             ,  PUNCT       \n",
       "17            и             и  CCONJ       \n",
       "18  остановился  остановиться   VERB       \n",
       "19            .             .  PUNCT       \n",
       "\n",
       "                                                morph        dep         head  \\\n",
       "0   (Aspect=Imp, Tense=Past, VerbForm=Conv, Voice=...      advcl  приблизился   \n",
       "1   (Animacy=Inan, Case=Acc, Gender=Fem, Number=Sing)        obj      Миновав   \n",
       "2                                                  ()      punct      Миновав   \n",
       "3                   (Case=Nom, Number=Sing, Person=1)      nsubj  приблизился   \n",
       "4   (Aspect=Perf, Gender=Masc, Mood=Ind, Number=Si...       ROOT  приблизился   \n",
       "5                                                  ()       case     арочному   \n",
       "6   (Animacy=Anim, Case=Dat, Gender=Masc, Number=S...        obl  приблизился   \n",
       "7                (Case=Dat, Gender=Masc, Number=Sing)        det  приблизился   \n",
       "8                                                  ()      punct   открывался   \n",
       "9                                                  ()       case      которым   \n",
       "10                                         (Case=Ins)        obl   открывался   \n",
       "11  (Aspect=Imp, Gender=Masc, Mood=Ind, Number=Sin...  acl:relcl       проему   \n",
       "12  (Animacy=Inan, Case=Nom, Gender=Masc, Number=S...      nsubj   открывался   \n",
       "13                                                 ()       case       сводом   \n",
       "14   (Case=Ins, Degree=Pos, Gender=Masc, Number=Sing)       amod       сводом   \n",
       "15  (Animacy=Inan, Case=Ins, Gender=Masc, Number=S...       nmod          зал   \n",
       "16                                                 ()      punct  остановился   \n",
       "17                                                 ()         cc  остановился   \n",
       "18  (Aspect=Perf, Gender=Masc, Mood=Ind, Number=Si...       conj  приблизился   \n",
       "19                                                 ()      punct  приблизился   \n",
       "\n",
       "    shape  is_alpha  is_stop  \n",
       "0   Xxxxx      True    False  \n",
       "1    xxxx      True    False  \n",
       "2       ,     False    False  \n",
       "3       x      True     True  \n",
       "4    xxxx      True    False  \n",
       "5       x      True     True  \n",
       "6    xxxx      True    False  \n",
       "7    xxxx      True    False  \n",
       "8       ,     False    False  \n",
       "9      xx      True     True  \n",
       "10   xxxx      True     True  \n",
       "11   xxxx      True    False  \n",
       "12    xxx      True    False  \n",
       "13      x      True     True  \n",
       "14   xxxx      True    False  \n",
       "15   xxxx      True    False  \n",
       "16      ,     False    False  \n",
       "17      x      True     True  \n",
       "18   xxxx      True    False  \n",
       "19      .     False    False  "
      ]
     },
     "execution_count": 332,
     "metadata": {},
     "output_type": "execute_result"
    }
   ],
   "source": [
    "doc_df = pd.DataFrame([get_features(token) for token in sents[0]])\n",
    "doc_df"
   ]
  },
  {
   "cell_type": "code",
   "execution_count": 333,
   "id": "7dfd9e50-1b9e-4d6c-8ba7-365852af77ac",
   "metadata": {},
   "outputs": [
    {
     "name": "stdout",
     "output_type": "stream",
     "text": [
      "Миновав advcl приблизился VERB [галерею, ,]\n",
      "галерею obj Миновав VERB []\n",
      ", punct Миновав VERB []\n",
      "я nsubj приблизился VERB []\n",
      "приблизился ROOT приблизился VERB [Миновав, я, арочному, проему, остановился, .]\n",
      "к case арочному NOUN []\n",
      "арочному obl приблизился VERB [к]\n",
      "проему det приблизился VERB [открывался]\n",
      ", punct открывался VERB []\n",
      "за case которым PRON []\n",
      "которым obl открывался VERB [за]\n",
      "открывался acl:relcl проему DET [,, которым, зал]\n",
      "зал nsubj открывался VERB [сводом]\n",
      "с case сводом NOUN []\n",
      "высоким amod сводом NOUN []\n",
      "сводом nmod зал NOUN [с, высоким]\n",
      ", punct остановился VERB []\n",
      "и cc остановился VERB []\n",
      "остановился conj приблизился VERB [,, и]\n",
      ". punct приблизился VERB []\n"
     ]
    }
   ],
   "source": [
    "for token in doc:\n",
    "    print(token.text, token.dep_, token.head.text, token.head.pos_,\n",
    "            [child for child in token.children])"
   ]
  },
  {
   "cell_type": "markdown",
   "id": "4d35fd05-4bf4-4549-9bd5-d51c2281d128",
   "metadata": {},
   "source": [
    "# [Stanza](https://stanfordnlp.github.io/stanza/index.html)\n",
    "Данная библиотека разработана **Stanford NLP Group**. В основе ее лежат нейросетевые модели (Pytorch). Так же библотека является оберткой над их известным java фреймворком для работы с текстом - **CoreNLP**. `Stanza` так же придерживалась стандарта разметки Universal Dependencies.  \n",
    "\n",
    "Что входит в пайплайн `stanza`:\n",
    "- Токенизация  \n",
    "- Лемматизация (token.lemma and token.lemma_)\n",
    "- Морфологический разбор = Part-of-speech tagging (token.tag, token.tag_, token.pos, token.pos_)\n",
    "- Синтаксический анализ = Dependency parsing (token.dep, token.dep_, token.head)\n",
    "- Распознавание сущностей = Named entity recognition (doc.ents, token.ent_type, token.ent_type_, token.ent_iob, token.ent_iob_)\n",
    "- Разбиение на предложения = Sentence segmentation (doc.sents)\n",
    "\n",
    "Так как под капотом здесь Pytorch, вы можете получить большой выигрыш в скорости обработки, если задействуете GPU."
   ]
  },
  {
   "cell_type": "code",
   "execution_count": 197,
   "id": "5d412e4c-3666-4665-bc1b-f182820a3d57",
   "metadata": {
    "collapsed": true,
    "jupyter": {
     "outputs_hidden": true
    },
    "tags": []
   },
   "outputs": [
    {
     "name": "stdout",
     "output_type": "stream",
     "text": [
      "Requirement already satisfied: stanza in /Users/u14510182/Documents/python_for_nlp_stud/venv/lib/python3.9/site-packages (1.4.2)\n",
      "Requirement already satisfied: numpy in /Users/u14510182/Documents/python_for_nlp_stud/venv/lib/python3.9/site-packages (from stanza) (1.23.2)\n",
      "Requirement already satisfied: tqdm in /Users/u14510182/Documents/python_for_nlp_stud/venv/lib/python3.9/site-packages (from stanza) (4.64.1)\n",
      "Requirement already satisfied: six in /Users/u14510182/Documents/python_for_nlp_stud/venv/lib/python3.9/site-packages (from stanza) (1.16.0)\n",
      "Requirement already satisfied: emoji in /Users/u14510182/Documents/python_for_nlp_stud/venv/lib/python3.9/site-packages (from stanza) (2.1.0)\n",
      "Requirement already satisfied: torch>=1.3.0 in /Users/u14510182/Documents/python_for_nlp_stud/venv/lib/python3.9/site-packages (from stanza) (1.12.1)\n",
      "Requirement already satisfied: requests in /Users/u14510182/Documents/python_for_nlp_stud/venv/lib/python3.9/site-packages (from stanza) (2.28.1)\n",
      "Requirement already satisfied: protobuf in /Users/u14510182/Documents/python_for_nlp_stud/venv/lib/python3.9/site-packages (from stanza) (4.21.7)\n",
      "Requirement already satisfied: typing-extensions in /Users/u14510182/Documents/python_for_nlp_stud/venv/lib/python3.9/site-packages (from torch>=1.3.0->stanza) (4.4.0)\n",
      "Requirement already satisfied: urllib3<1.27,>=1.21.1 in /Users/u14510182/Documents/python_for_nlp_stud/venv/lib/python3.9/site-packages (from requests->stanza) (1.26.12)\n",
      "Requirement already satisfied: idna<4,>=2.5 in /Users/u14510182/Documents/python_for_nlp_stud/venv/lib/python3.9/site-packages (from requests->stanza) (3.3)\n",
      "Requirement already satisfied: charset-normalizer<3,>=2 in /Users/u14510182/Documents/python_for_nlp_stud/venv/lib/python3.9/site-packages (from requests->stanza) (2.1.1)\n",
      "Requirement already satisfied: certifi>=2017.4.17 in /Users/u14510182/Documents/python_for_nlp_stud/venv/lib/python3.9/site-packages (from requests->stanza) (2022.9.24)\n",
      "\u001b[33mWARNING: You are using pip version 21.1.2; however, version 22.3 is available.\n",
      "You should consider upgrading via the '/Users/u14510182/Documents/python_for_nlp_stud/venv/bin/python -m pip install --upgrade pip' command.\u001b[0m\n"
     ]
    }
   ],
   "source": [
    "!pip install stanza"
   ]
  },
  {
   "cell_type": "code",
   "execution_count": 198,
   "id": "bb9b9f76-95a4-4ee9-b7a6-831c0dfc7978",
   "metadata": {},
   "outputs": [
    {
     "name": "stderr",
     "output_type": "stream",
     "text": [
      "/Users/u14510182/Documents/python_for_nlp_stud/venv/lib/python3.9/site-packages/tqdm/auto.py:22: TqdmWarning: IProgress not found. Please update jupyter and ipywidgets. See https://ipywidgets.readthedocs.io/en/stable/user_install.html\n",
      "  from .autonotebook import tqdm as notebook_tqdm\n"
     ]
    }
   ],
   "source": [
    "import stanza"
   ]
  },
  {
   "cell_type": "code",
   "execution_count": 199,
   "id": "67e7206b-0faa-4175-9e23-e4df7d7c453d",
   "metadata": {},
   "outputs": [
    {
     "name": "stderr",
     "output_type": "stream",
     "text": [
      "Downloading https://raw.githubusercontent.com/stanfordnlp/stanza-resources/main/resources_1.4.1.json: 193kB [00:00, 33.2MB/s]                                                                                \n",
      "2022-10-17 03:38:10 INFO: Downloading default packages for language: ru (Russian) ...\n",
      "Downloading https://huggingface.co/stanfordnlp/stanza-ru/resolve/v1.4.1/models/default.zip: 100%|█████████████████████████████████████████████████████████████████████████| 597M/597M [00:11<00:00, 53.0MB/s]\n",
      "2022-10-17 03:38:27 INFO: Finished downloading models and saved to /Users/u14510182/stanza_resources.\n"
     ]
    }
   ],
   "source": [
    "stanza.download(\"ru\") # Загружаем один раз."
   ]
  },
  {
   "cell_type": "markdown",
   "id": "484553a0-a255-4a7c-966e-db6b0085f736",
   "metadata": {
    "tags": []
   },
   "source": [
    "## Spacy Stanza"
   ]
  },
  {
   "cell_type": "code",
   "execution_count": 193,
   "id": "10321c0b-8ef6-431c-ad57-760513080d0e",
   "metadata": {
    "collapsed": true,
    "jupyter": {
     "outputs_hidden": true
    },
    "tags": []
   },
   "outputs": [
    {
     "name": "stdout",
     "output_type": "stream",
     "text": [
      "Collecting spacy-stanza\n",
      "  Downloading spacy_stanza-1.0.2-py3-none-any.whl (9.7 kB)\n",
      "Requirement already satisfied: spacy<4.0.0,>=3.0.0 in /Users/u14510182/Documents/python_for_nlp_stud/venv/lib/python3.9/site-packages (from spacy-stanza) (3.4.1)\n",
      "Collecting stanza<1.5.0,>=1.2.0\n",
      "  Downloading stanza-1.4.2-py3-none-any.whl (691 kB)\n",
      "\u001b[K     |████████████████████████████████| 691 kB 770 kB/s eta 0:00:01\n",
      "\u001b[?25hRequirement already satisfied: murmurhash<1.1.0,>=0.28.0 in /Users/u14510182/Documents/python_for_nlp_stud/venv/lib/python3.9/site-packages (from spacy<4.0.0,>=3.0.0->spacy-stanza) (1.0.8)\n",
      "Requirement already satisfied: numpy>=1.15.0 in /Users/u14510182/Documents/python_for_nlp_stud/venv/lib/python3.9/site-packages (from spacy<4.0.0,>=3.0.0->spacy-stanza) (1.23.2)\n",
      "Requirement already satisfied: pydantic!=1.8,!=1.8.1,<1.10.0,>=1.7.4 in /Users/u14510182/Documents/python_for_nlp_stud/venv/lib/python3.9/site-packages (from spacy<4.0.0,>=3.0.0->spacy-stanza) (1.9.2)\n",
      "Requirement already satisfied: catalogue<2.1.0,>=2.0.6 in /Users/u14510182/Documents/python_for_nlp_stud/venv/lib/python3.9/site-packages (from spacy<4.0.0,>=3.0.0->spacy-stanza) (2.0.8)\n",
      "Requirement already satisfied: wasabi<1.1.0,>=0.9.1 in /Users/u14510182/Documents/python_for_nlp_stud/venv/lib/python3.9/site-packages (from spacy<4.0.0,>=3.0.0->spacy-stanza) (0.10.1)\n",
      "Requirement already satisfied: typer<0.5.0,>=0.3.0 in /Users/u14510182/Documents/python_for_nlp_stud/venv/lib/python3.9/site-packages (from spacy<4.0.0,>=3.0.0->spacy-stanza) (0.4.2)\n",
      "Requirement already satisfied: packaging>=20.0 in /Users/u14510182/Documents/python_for_nlp_stud/venv/lib/python3.9/site-packages (from spacy<4.0.0,>=3.0.0->spacy-stanza) (21.3)\n",
      "Requirement already satisfied: pathy>=0.3.5 in /Users/u14510182/Documents/python_for_nlp_stud/venv/lib/python3.9/site-packages (from spacy<4.0.0,>=3.0.0->spacy-stanza) (0.6.2)\n",
      "Requirement already satisfied: preshed<3.1.0,>=3.0.2 in /Users/u14510182/Documents/python_for_nlp_stud/venv/lib/python3.9/site-packages (from spacy<4.0.0,>=3.0.0->spacy-stanza) (3.0.7)\n",
      "Requirement already satisfied: thinc<8.2.0,>=8.1.0 in /Users/u14510182/Documents/python_for_nlp_stud/venv/lib/python3.9/site-packages (from spacy<4.0.0,>=3.0.0->spacy-stanza) (8.1.4)\n",
      "Requirement already satisfied: tqdm<5.0.0,>=4.38.0 in /Users/u14510182/Documents/python_for_nlp_stud/venv/lib/python3.9/site-packages (from spacy<4.0.0,>=3.0.0->spacy-stanza) (4.64.1)\n",
      "Requirement already satisfied: spacy-legacy<3.1.0,>=3.0.9 in /Users/u14510182/Documents/python_for_nlp_stud/venv/lib/python3.9/site-packages (from spacy<4.0.0,>=3.0.0->spacy-stanza) (3.0.10)\n",
      "Requirement already satisfied: srsly<3.0.0,>=2.4.3 in /Users/u14510182/Documents/python_for_nlp_stud/venv/lib/python3.9/site-packages (from spacy<4.0.0,>=3.0.0->spacy-stanza) (2.4.4)\n",
      "Requirement already satisfied: requests<3.0.0,>=2.13.0 in /Users/u14510182/Documents/python_for_nlp_stud/venv/lib/python3.9/site-packages (from spacy<4.0.0,>=3.0.0->spacy-stanza) (2.28.1)\n",
      "Requirement already satisfied: cymem<2.1.0,>=2.0.2 in /Users/u14510182/Documents/python_for_nlp_stud/venv/lib/python3.9/site-packages (from spacy<4.0.0,>=3.0.0->spacy-stanza) (2.0.6)\n",
      "Requirement already satisfied: setuptools in /Users/u14510182/Documents/python_for_nlp_stud/venv/lib/python3.9/site-packages (from spacy<4.0.0,>=3.0.0->spacy-stanza) (57.0.0)\n",
      "Requirement already satisfied: spacy-loggers<2.0.0,>=1.0.0 in /Users/u14510182/Documents/python_for_nlp_stud/venv/lib/python3.9/site-packages (from spacy<4.0.0,>=3.0.0->spacy-stanza) (1.0.3)\n",
      "Requirement already satisfied: langcodes<4.0.0,>=3.2.0 in /Users/u14510182/Documents/python_for_nlp_stud/venv/lib/python3.9/site-packages (from spacy<4.0.0,>=3.0.0->spacy-stanza) (3.3.0)\n",
      "Requirement already satisfied: jinja2 in /Users/u14510182/Documents/python_for_nlp_stud/venv/lib/python3.9/site-packages (from spacy<4.0.0,>=3.0.0->spacy-stanza) (3.1.2)\n",
      "Requirement already satisfied: pyparsing!=3.0.5,>=2.0.2 in /Users/u14510182/Documents/python_for_nlp_stud/venv/lib/python3.9/site-packages (from packaging>=20.0->spacy<4.0.0,>=3.0.0->spacy-stanza) (3.0.9)\n",
      "Requirement already satisfied: smart-open<6.0.0,>=5.2.1 in /Users/u14510182/Documents/python_for_nlp_stud/venv/lib/python3.9/site-packages (from pathy>=0.3.5->spacy<4.0.0,>=3.0.0->spacy-stanza) (5.2.1)\n",
      "Requirement already satisfied: typing-extensions>=3.7.4.3 in /Users/u14510182/Documents/python_for_nlp_stud/venv/lib/python3.9/site-packages (from pydantic!=1.8,!=1.8.1,<1.10.0,>=1.7.4->spacy<4.0.0,>=3.0.0->spacy-stanza) (4.4.0)\n",
      "Requirement already satisfied: urllib3<1.27,>=1.21.1 in /Users/u14510182/Documents/python_for_nlp_stud/venv/lib/python3.9/site-packages (from requests<3.0.0,>=2.13.0->spacy<4.0.0,>=3.0.0->spacy-stanza) (1.26.12)\n",
      "Requirement already satisfied: charset-normalizer<3,>=2 in /Users/u14510182/Documents/python_for_nlp_stud/venv/lib/python3.9/site-packages (from requests<3.0.0,>=2.13.0->spacy<4.0.0,>=3.0.0->spacy-stanza) (2.1.1)\n",
      "Requirement already satisfied: idna<4,>=2.5 in /Users/u14510182/Documents/python_for_nlp_stud/venv/lib/python3.9/site-packages (from requests<3.0.0,>=2.13.0->spacy<4.0.0,>=3.0.0->spacy-stanza) (3.3)\n",
      "Requirement already satisfied: certifi>=2017.4.17 in /Users/u14510182/Documents/python_for_nlp_stud/venv/lib/python3.9/site-packages (from requests<3.0.0,>=2.13.0->spacy<4.0.0,>=3.0.0->spacy-stanza) (2022.9.24)\n",
      "Requirement already satisfied: six in /Users/u14510182/Documents/python_for_nlp_stud/venv/lib/python3.9/site-packages (from stanza<1.5.0,>=1.2.0->spacy-stanza) (1.16.0)\n",
      "Collecting torch>=1.3.0\n",
      "  Downloading torch-1.12.1-cp39-none-macosx_10_9_x86_64.whl (133.8 MB)\n",
      "\u001b[K     |████████████████████████████████| 133.8 MB 2.7 MB/s eta 0:00:01\n",
      "\u001b[?25hCollecting protobuf\n",
      "  Downloading protobuf-4.21.7-cp37-abi3-macosx_10_9_universal2.whl (484 kB)\n",
      "\u001b[K     |████████████████████████████████| 484 kB 3.0 MB/s eta 0:00:01\n",
      "\u001b[?25hCollecting emoji\n",
      "  Downloading emoji-2.1.0.tar.gz (216 kB)\n",
      "\u001b[K     |████████████████████████████████| 216 kB 3.3 MB/s eta 0:00:01\n",
      "\u001b[?25hRequirement already satisfied: blis<0.8.0,>=0.7.8 in /Users/u14510182/Documents/python_for_nlp_stud/venv/lib/python3.9/site-packages (from thinc<8.2.0,>=8.1.0->spacy<4.0.0,>=3.0.0->spacy-stanza) (0.7.8)\n",
      "Requirement already satisfied: confection<1.0.0,>=0.0.1 in /Users/u14510182/Documents/python_for_nlp_stud/venv/lib/python3.9/site-packages (from thinc<8.2.0,>=8.1.0->spacy<4.0.0,>=3.0.0->spacy-stanza) (0.0.3)\n",
      "Requirement already satisfied: click<9.0.0,>=7.1.1 in /Users/u14510182/Documents/python_for_nlp_stud/venv/lib/python3.9/site-packages (from typer<0.5.0,>=0.3.0->spacy<4.0.0,>=3.0.0->spacy-stanza) (8.1.3)\n",
      "Requirement already satisfied: MarkupSafe>=2.0 in /Users/u14510182/Documents/python_for_nlp_stud/venv/lib/python3.9/site-packages (from jinja2->spacy<4.0.0,>=3.0.0->spacy-stanza) (2.1.1)\n",
      "Building wheels for collected packages: emoji\n",
      "  Building wheel for emoji (setup.py) ... \u001b[?25ldone\n",
      "\u001b[?25h  Created wheel for emoji: filename=emoji-2.1.0-py3-none-any.whl size=212391 sha256=13f6bb901dd0798b46f0afc7f64f36e22801f9a097313a2fa18fc657e4ffd849\n",
      "  Stored in directory: /Users/u14510182/Library/Caches/pip/wheels/b0/4a/c8/9c580a0ea94dea641b8023456a1b178a7e4509d992224ed4aa\n",
      "Successfully built emoji\n",
      "Installing collected packages: torch, protobuf, emoji, stanza, spacy-stanza\n",
      "Successfully installed emoji-2.1.0 protobuf-4.21.7 spacy-stanza-1.0.2 stanza-1.4.2 torch-1.12.1\n",
      "\u001b[33mWARNING: You are using pip version 21.1.2; however, version 22.3 is available.\n",
      "You should consider upgrading via the '/Users/u14510182/Documents/python_for_nlp_stud/venv/bin/python -m pip install --upgrade pip' command.\u001b[0m\n"
     ]
    }
   ],
   "source": [
    "!pip install spacy-stanza"
   ]
  },
  {
   "cell_type": "code",
   "execution_count": 334,
   "id": "256e5389-f1a1-47dd-97ed-805a192276a5",
   "metadata": {},
   "outputs": [],
   "source": [
    "import spacy_stanza"
   ]
  },
  {
   "cell_type": "code",
   "execution_count": 335,
   "id": "2e32fa1f-2809-4f11-a7b8-652bcee30ce5",
   "metadata": {},
   "outputs": [],
   "source": [
    "ru_stanza = spacy_stanza.load_pipeline(\"ru\")"
   ]
  },
  {
   "cell_type": "code",
   "execution_count": 341,
   "id": "8e44156d-3ac4-4c2a-a9b1-a34795907530",
   "metadata": {},
   "outputs": [],
   "source": [
    "# txt = 'Я был в деревне целый день. И завтра тоже там буду.'\n",
    "txt = 'Миновав галерею, я приблизился к арочному проему, за которым открывался зал с высоким сводом, и остановился.'\n",
    "doc = ru_stanza(txt)"
   ]
  },
  {
   "cell_type": "code",
   "execution_count": 337,
   "id": "c1242404-8fb5-4f18-b666-4bfbe9da7566",
   "metadata": {},
   "outputs": [
    {
     "data": {
      "text/plain": [
       "(spacy.tokens.doc.Doc, Я был в деревне целый день. И завтра тоже там буду.)"
      ]
     },
     "execution_count": 337,
     "metadata": {},
     "output_type": "execute_result"
    }
   ],
   "source": [
    "type(doc), doc"
   ]
  },
  {
   "cell_type": "code",
   "execution_count": 338,
   "id": "1e94912c-e2ef-48fc-a00e-9925f9ac9f5e",
   "metadata": {},
   "outputs": [
    {
     "data": {
      "text/plain": [
       "[]"
      ]
     },
     "execution_count": 338,
     "metadata": {},
     "output_type": "execute_result"
    }
   ],
   "source": [
    "ru_stanza.pipe_names"
   ]
  },
  {
   "cell_type": "code",
   "execution_count": 342,
   "id": "8ab4e0f2-9d93-46ee-b8dd-961c5574039d",
   "metadata": {},
   "outputs": [
    {
     "data": {
      "text/plain": [
       "[Миновав галерею, я приблизился к арочному проему, за которым открывался зал с высоким сводом, и остановился.]"
      ]
     },
     "execution_count": 342,
     "metadata": {},
     "output_type": "execute_result"
    }
   ],
   "source": [
    "sents = list(doc.sents)\n",
    "sents"
   ]
  },
  {
   "cell_type": "code",
   "execution_count": 343,
   "id": "b6953c68-b344-42bd-950c-24bd2befbb0a",
   "metadata": {},
   "outputs": [
    {
     "data": {
      "text/html": [
       "<span class=\"tex2jax_ignore\"><svg xmlns=\"http://www.w3.org/2000/svg\" xmlns:xlink=\"http://www.w3.org/1999/xlink\" xml:lang=\"ru\" id=\"845ad92d301247bd8c85c35f1f178fe0-0\" class=\"displacy\" width=\"2850\" height=\"487.0\" direction=\"ltr\" style=\"max-width: none; height: 487.0px; color: #000000; background: #ffffff; font-family: Arial; direction: ltr\">\n",
       "<text class=\"displacy-token\" fill=\"currentColor\" text-anchor=\"middle\" y=\"397.0\">\n",
       "    <tspan class=\"displacy-word\" fill=\"currentColor\" x=\"50\">Миновав</tspan>\n",
       "    <tspan class=\"displacy-tag\" dy=\"2em\" fill=\"currentColor\" x=\"50\">VERB</tspan>\n",
       "</text>\n",
       "\n",
       "<text class=\"displacy-token\" fill=\"currentColor\" text-anchor=\"middle\" y=\"397.0\">\n",
       "    <tspan class=\"displacy-word\" fill=\"currentColor\" x=\"225\">галерею,</tspan>\n",
       "    <tspan class=\"displacy-tag\" dy=\"2em\" fill=\"currentColor\" x=\"225\">NOUN</tspan>\n",
       "</text>\n",
       "\n",
       "<text class=\"displacy-token\" fill=\"currentColor\" text-anchor=\"middle\" y=\"397.0\">\n",
       "    <tspan class=\"displacy-word\" fill=\"currentColor\" x=\"400\">я</tspan>\n",
       "    <tspan class=\"displacy-tag\" dy=\"2em\" fill=\"currentColor\" x=\"400\">PRON</tspan>\n",
       "</text>\n",
       "\n",
       "<text class=\"displacy-token\" fill=\"currentColor\" text-anchor=\"middle\" y=\"397.0\">\n",
       "    <tspan class=\"displacy-word\" fill=\"currentColor\" x=\"575\">приблизился</tspan>\n",
       "    <tspan class=\"displacy-tag\" dy=\"2em\" fill=\"currentColor\" x=\"575\">VERB</tspan>\n",
       "</text>\n",
       "\n",
       "<text class=\"displacy-token\" fill=\"currentColor\" text-anchor=\"middle\" y=\"397.0\">\n",
       "    <tspan class=\"displacy-word\" fill=\"currentColor\" x=\"750\">к</tspan>\n",
       "    <tspan class=\"displacy-tag\" dy=\"2em\" fill=\"currentColor\" x=\"750\">ADP</tspan>\n",
       "</text>\n",
       "\n",
       "<text class=\"displacy-token\" fill=\"currentColor\" text-anchor=\"middle\" y=\"397.0\">\n",
       "    <tspan class=\"displacy-word\" fill=\"currentColor\" x=\"925\">арочному</tspan>\n",
       "    <tspan class=\"displacy-tag\" dy=\"2em\" fill=\"currentColor\" x=\"925\">ADJ</tspan>\n",
       "</text>\n",
       "\n",
       "<text class=\"displacy-token\" fill=\"currentColor\" text-anchor=\"middle\" y=\"397.0\">\n",
       "    <tspan class=\"displacy-word\" fill=\"currentColor\" x=\"1100\">проему,</tspan>\n",
       "    <tspan class=\"displacy-tag\" dy=\"2em\" fill=\"currentColor\" x=\"1100\">NOUN</tspan>\n",
       "</text>\n",
       "\n",
       "<text class=\"displacy-token\" fill=\"currentColor\" text-anchor=\"middle\" y=\"397.0\">\n",
       "    <tspan class=\"displacy-word\" fill=\"currentColor\" x=\"1275\">за</tspan>\n",
       "    <tspan class=\"displacy-tag\" dy=\"2em\" fill=\"currentColor\" x=\"1275\">ADP</tspan>\n",
       "</text>\n",
       "\n",
       "<text class=\"displacy-token\" fill=\"currentColor\" text-anchor=\"middle\" y=\"397.0\">\n",
       "    <tspan class=\"displacy-word\" fill=\"currentColor\" x=\"1450\">которым</tspan>\n",
       "    <tspan class=\"displacy-tag\" dy=\"2em\" fill=\"currentColor\" x=\"1450\">PRON</tspan>\n",
       "</text>\n",
       "\n",
       "<text class=\"displacy-token\" fill=\"currentColor\" text-anchor=\"middle\" y=\"397.0\">\n",
       "    <tspan class=\"displacy-word\" fill=\"currentColor\" x=\"1625\">открывался</tspan>\n",
       "    <tspan class=\"displacy-tag\" dy=\"2em\" fill=\"currentColor\" x=\"1625\">VERB</tspan>\n",
       "</text>\n",
       "\n",
       "<text class=\"displacy-token\" fill=\"currentColor\" text-anchor=\"middle\" y=\"397.0\">\n",
       "    <tspan class=\"displacy-word\" fill=\"currentColor\" x=\"1800\">зал</tspan>\n",
       "    <tspan class=\"displacy-tag\" dy=\"2em\" fill=\"currentColor\" x=\"1800\">NOUN</tspan>\n",
       "</text>\n",
       "\n",
       "<text class=\"displacy-token\" fill=\"currentColor\" text-anchor=\"middle\" y=\"397.0\">\n",
       "    <tspan class=\"displacy-word\" fill=\"currentColor\" x=\"1975\">с</tspan>\n",
       "    <tspan class=\"displacy-tag\" dy=\"2em\" fill=\"currentColor\" x=\"1975\">ADP</tspan>\n",
       "</text>\n",
       "\n",
       "<text class=\"displacy-token\" fill=\"currentColor\" text-anchor=\"middle\" y=\"397.0\">\n",
       "    <tspan class=\"displacy-word\" fill=\"currentColor\" x=\"2150\">высоким</tspan>\n",
       "    <tspan class=\"displacy-tag\" dy=\"2em\" fill=\"currentColor\" x=\"2150\">ADJ</tspan>\n",
       "</text>\n",
       "\n",
       "<text class=\"displacy-token\" fill=\"currentColor\" text-anchor=\"middle\" y=\"397.0\">\n",
       "    <tspan class=\"displacy-word\" fill=\"currentColor\" x=\"2325\">сводом,</tspan>\n",
       "    <tspan class=\"displacy-tag\" dy=\"2em\" fill=\"currentColor\" x=\"2325\">NOUN</tspan>\n",
       "</text>\n",
       "\n",
       "<text class=\"displacy-token\" fill=\"currentColor\" text-anchor=\"middle\" y=\"397.0\">\n",
       "    <tspan class=\"displacy-word\" fill=\"currentColor\" x=\"2500\">и</tspan>\n",
       "    <tspan class=\"displacy-tag\" dy=\"2em\" fill=\"currentColor\" x=\"2500\">CCONJ</tspan>\n",
       "</text>\n",
       "\n",
       "<text class=\"displacy-token\" fill=\"currentColor\" text-anchor=\"middle\" y=\"397.0\">\n",
       "    <tspan class=\"displacy-word\" fill=\"currentColor\" x=\"2675\">остановился.</tspan>\n",
       "    <tspan class=\"displacy-tag\" dy=\"2em\" fill=\"currentColor\" x=\"2675\">VERB</tspan>\n",
       "</text>\n",
       "\n",
       "<g class=\"displacy-arrow\">\n",
       "    <path class=\"displacy-arc\" id=\"arrow-845ad92d301247bd8c85c35f1f178fe0-0-0\" stroke-width=\"2px\" d=\"M70,352.0 C70,177.0 565.0,177.0 565.0,352.0\" fill=\"none\" stroke=\"currentColor\"/>\n",
       "    <text dy=\"1.25em\" style=\"font-size: 0.8em; letter-spacing: 1px\">\n",
       "        <textPath xlink:href=\"#arrow-845ad92d301247bd8c85c35f1f178fe0-0-0\" class=\"displacy-label\" startOffset=\"50%\" side=\"left\" fill=\"currentColor\" text-anchor=\"middle\">advcl</textPath>\n",
       "    </text>\n",
       "    <path class=\"displacy-arrowhead\" d=\"M70,354.0 L62,342.0 78,342.0\" fill=\"currentColor\"/>\n",
       "</g>\n",
       "\n",
       "<g class=\"displacy-arrow\">\n",
       "    <path class=\"displacy-arc\" id=\"arrow-845ad92d301247bd8c85c35f1f178fe0-0-1\" stroke-width=\"2px\" d=\"M70,352.0 C70,264.5 210.0,264.5 210.0,352.0\" fill=\"none\" stroke=\"currentColor\"/>\n",
       "    <text dy=\"1.25em\" style=\"font-size: 0.8em; letter-spacing: 1px\">\n",
       "        <textPath xlink:href=\"#arrow-845ad92d301247bd8c85c35f1f178fe0-0-1\" class=\"displacy-label\" startOffset=\"50%\" side=\"left\" fill=\"currentColor\" text-anchor=\"middle\">obj</textPath>\n",
       "    </text>\n",
       "    <path class=\"displacy-arrowhead\" d=\"M210.0,354.0 L218.0,342.0 202.0,342.0\" fill=\"currentColor\"/>\n",
       "</g>\n",
       "\n",
       "<g class=\"displacy-arrow\">\n",
       "    <path class=\"displacy-arc\" id=\"arrow-845ad92d301247bd8c85c35f1f178fe0-0-2\" stroke-width=\"2px\" d=\"M420,352.0 C420,264.5 560.0,264.5 560.0,352.0\" fill=\"none\" stroke=\"currentColor\"/>\n",
       "    <text dy=\"1.25em\" style=\"font-size: 0.8em; letter-spacing: 1px\">\n",
       "        <textPath xlink:href=\"#arrow-845ad92d301247bd8c85c35f1f178fe0-0-2\" class=\"displacy-label\" startOffset=\"50%\" side=\"left\" fill=\"currentColor\" text-anchor=\"middle\">nsubj</textPath>\n",
       "    </text>\n",
       "    <path class=\"displacy-arrowhead\" d=\"M420,354.0 L412,342.0 428,342.0\" fill=\"currentColor\"/>\n",
       "</g>\n",
       "\n",
       "<g class=\"displacy-arrow\">\n",
       "    <path class=\"displacy-arc\" id=\"arrow-845ad92d301247bd8c85c35f1f178fe0-0-3\" stroke-width=\"2px\" d=\"M770,352.0 C770,177.0 1090.0,177.0 1090.0,352.0\" fill=\"none\" stroke=\"currentColor\"/>\n",
       "    <text dy=\"1.25em\" style=\"font-size: 0.8em; letter-spacing: 1px\">\n",
       "        <textPath xlink:href=\"#arrow-845ad92d301247bd8c85c35f1f178fe0-0-3\" class=\"displacy-label\" startOffset=\"50%\" side=\"left\" fill=\"currentColor\" text-anchor=\"middle\">case</textPath>\n",
       "    </text>\n",
       "    <path class=\"displacy-arrowhead\" d=\"M770,354.0 L762,342.0 778,342.0\" fill=\"currentColor\"/>\n",
       "</g>\n",
       "\n",
       "<g class=\"displacy-arrow\">\n",
       "    <path class=\"displacy-arc\" id=\"arrow-845ad92d301247bd8c85c35f1f178fe0-0-4\" stroke-width=\"2px\" d=\"M945,352.0 C945,264.5 1085.0,264.5 1085.0,352.0\" fill=\"none\" stroke=\"currentColor\"/>\n",
       "    <text dy=\"1.25em\" style=\"font-size: 0.8em; letter-spacing: 1px\">\n",
       "        <textPath xlink:href=\"#arrow-845ad92d301247bd8c85c35f1f178fe0-0-4\" class=\"displacy-label\" startOffset=\"50%\" side=\"left\" fill=\"currentColor\" text-anchor=\"middle\">amod</textPath>\n",
       "    </text>\n",
       "    <path class=\"displacy-arrowhead\" d=\"M945,354.0 L937,342.0 953,342.0\" fill=\"currentColor\"/>\n",
       "</g>\n",
       "\n",
       "<g class=\"displacy-arrow\">\n",
       "    <path class=\"displacy-arc\" id=\"arrow-845ad92d301247bd8c85c35f1f178fe0-0-5\" stroke-width=\"2px\" d=\"M595,352.0 C595,89.5 1095.0,89.5 1095.0,352.0\" fill=\"none\" stroke=\"currentColor\"/>\n",
       "    <text dy=\"1.25em\" style=\"font-size: 0.8em; letter-spacing: 1px\">\n",
       "        <textPath xlink:href=\"#arrow-845ad92d301247bd8c85c35f1f178fe0-0-5\" class=\"displacy-label\" startOffset=\"50%\" side=\"left\" fill=\"currentColor\" text-anchor=\"middle\">obl</textPath>\n",
       "    </text>\n",
       "    <path class=\"displacy-arrowhead\" d=\"M1095.0,354.0 L1103.0,342.0 1087.0,342.0\" fill=\"currentColor\"/>\n",
       "</g>\n",
       "\n",
       "<g class=\"displacy-arrow\">\n",
       "    <path class=\"displacy-arc\" id=\"arrow-845ad92d301247bd8c85c35f1f178fe0-0-6\" stroke-width=\"2px\" d=\"M1295,352.0 C1295,264.5 1435.0,264.5 1435.0,352.0\" fill=\"none\" stroke=\"currentColor\"/>\n",
       "    <text dy=\"1.25em\" style=\"font-size: 0.8em; letter-spacing: 1px\">\n",
       "        <textPath xlink:href=\"#arrow-845ad92d301247bd8c85c35f1f178fe0-0-6\" class=\"displacy-label\" startOffset=\"50%\" side=\"left\" fill=\"currentColor\" text-anchor=\"middle\">case</textPath>\n",
       "    </text>\n",
       "    <path class=\"displacy-arrowhead\" d=\"M1295,354.0 L1287,342.0 1303,342.0\" fill=\"currentColor\"/>\n",
       "</g>\n",
       "\n",
       "<g class=\"displacy-arrow\">\n",
       "    <path class=\"displacy-arc\" id=\"arrow-845ad92d301247bd8c85c35f1f178fe0-0-7\" stroke-width=\"2px\" d=\"M1470,352.0 C1470,264.5 1610.0,264.5 1610.0,352.0\" fill=\"none\" stroke=\"currentColor\"/>\n",
       "    <text dy=\"1.25em\" style=\"font-size: 0.8em; letter-spacing: 1px\">\n",
       "        <textPath xlink:href=\"#arrow-845ad92d301247bd8c85c35f1f178fe0-0-7\" class=\"displacy-label\" startOffset=\"50%\" side=\"left\" fill=\"currentColor\" text-anchor=\"middle\">obl</textPath>\n",
       "    </text>\n",
       "    <path class=\"displacy-arrowhead\" d=\"M1470,354.0 L1462,342.0 1478,342.0\" fill=\"currentColor\"/>\n",
       "</g>\n",
       "\n",
       "<g class=\"displacy-arrow\">\n",
       "    <path class=\"displacy-arc\" id=\"arrow-845ad92d301247bd8c85c35f1f178fe0-0-8\" stroke-width=\"2px\" d=\"M1120,352.0 C1120,177.0 1615.0,177.0 1615.0,352.0\" fill=\"none\" stroke=\"currentColor\"/>\n",
       "    <text dy=\"1.25em\" style=\"font-size: 0.8em; letter-spacing: 1px\">\n",
       "        <textPath xlink:href=\"#arrow-845ad92d301247bd8c85c35f1f178fe0-0-8\" class=\"displacy-label\" startOffset=\"50%\" side=\"left\" fill=\"currentColor\" text-anchor=\"middle\">acl:relcl</textPath>\n",
       "    </text>\n",
       "    <path class=\"displacy-arrowhead\" d=\"M1615.0,354.0 L1623.0,342.0 1607.0,342.0\" fill=\"currentColor\"/>\n",
       "</g>\n",
       "\n",
       "<g class=\"displacy-arrow\">\n",
       "    <path class=\"displacy-arc\" id=\"arrow-845ad92d301247bd8c85c35f1f178fe0-0-9\" stroke-width=\"2px\" d=\"M1645,352.0 C1645,264.5 1785.0,264.5 1785.0,352.0\" fill=\"none\" stroke=\"currentColor\"/>\n",
       "    <text dy=\"1.25em\" style=\"font-size: 0.8em; letter-spacing: 1px\">\n",
       "        <textPath xlink:href=\"#arrow-845ad92d301247bd8c85c35f1f178fe0-0-9\" class=\"displacy-label\" startOffset=\"50%\" side=\"left\" fill=\"currentColor\" text-anchor=\"middle\">nsubj</textPath>\n",
       "    </text>\n",
       "    <path class=\"displacy-arrowhead\" d=\"M1785.0,354.0 L1793.0,342.0 1777.0,342.0\" fill=\"currentColor\"/>\n",
       "</g>\n",
       "\n",
       "<g class=\"displacy-arrow\">\n",
       "    <path class=\"displacy-arc\" id=\"arrow-845ad92d301247bd8c85c35f1f178fe0-0-10\" stroke-width=\"2px\" d=\"M1995,352.0 C1995,177.0 2315.0,177.0 2315.0,352.0\" fill=\"none\" stroke=\"currentColor\"/>\n",
       "    <text dy=\"1.25em\" style=\"font-size: 0.8em; letter-spacing: 1px\">\n",
       "        <textPath xlink:href=\"#arrow-845ad92d301247bd8c85c35f1f178fe0-0-10\" class=\"displacy-label\" startOffset=\"50%\" side=\"left\" fill=\"currentColor\" text-anchor=\"middle\">case</textPath>\n",
       "    </text>\n",
       "    <path class=\"displacy-arrowhead\" d=\"M1995,354.0 L1987,342.0 2003,342.0\" fill=\"currentColor\"/>\n",
       "</g>\n",
       "\n",
       "<g class=\"displacy-arrow\">\n",
       "    <path class=\"displacy-arc\" id=\"arrow-845ad92d301247bd8c85c35f1f178fe0-0-11\" stroke-width=\"2px\" d=\"M2170,352.0 C2170,264.5 2310.0,264.5 2310.0,352.0\" fill=\"none\" stroke=\"currentColor\"/>\n",
       "    <text dy=\"1.25em\" style=\"font-size: 0.8em; letter-spacing: 1px\">\n",
       "        <textPath xlink:href=\"#arrow-845ad92d301247bd8c85c35f1f178fe0-0-11\" class=\"displacy-label\" startOffset=\"50%\" side=\"left\" fill=\"currentColor\" text-anchor=\"middle\">amod</textPath>\n",
       "    </text>\n",
       "    <path class=\"displacy-arrowhead\" d=\"M2170,354.0 L2162,342.0 2178,342.0\" fill=\"currentColor\"/>\n",
       "</g>\n",
       "\n",
       "<g class=\"displacy-arrow\">\n",
       "    <path class=\"displacy-arc\" id=\"arrow-845ad92d301247bd8c85c35f1f178fe0-0-12\" stroke-width=\"2px\" d=\"M1820,352.0 C1820,89.5 2320.0,89.5 2320.0,352.0\" fill=\"none\" stroke=\"currentColor\"/>\n",
       "    <text dy=\"1.25em\" style=\"font-size: 0.8em; letter-spacing: 1px\">\n",
       "        <textPath xlink:href=\"#arrow-845ad92d301247bd8c85c35f1f178fe0-0-12\" class=\"displacy-label\" startOffset=\"50%\" side=\"left\" fill=\"currentColor\" text-anchor=\"middle\">nmod</textPath>\n",
       "    </text>\n",
       "    <path class=\"displacy-arrowhead\" d=\"M2320.0,354.0 L2328.0,342.0 2312.0,342.0\" fill=\"currentColor\"/>\n",
       "</g>\n",
       "\n",
       "<g class=\"displacy-arrow\">\n",
       "    <path class=\"displacy-arc\" id=\"arrow-845ad92d301247bd8c85c35f1f178fe0-0-13\" stroke-width=\"2px\" d=\"M2520,352.0 C2520,264.5 2660.0,264.5 2660.0,352.0\" fill=\"none\" stroke=\"currentColor\"/>\n",
       "    <text dy=\"1.25em\" style=\"font-size: 0.8em; letter-spacing: 1px\">\n",
       "        <textPath xlink:href=\"#arrow-845ad92d301247bd8c85c35f1f178fe0-0-13\" class=\"displacy-label\" startOffset=\"50%\" side=\"left\" fill=\"currentColor\" text-anchor=\"middle\">cc</textPath>\n",
       "    </text>\n",
       "    <path class=\"displacy-arrowhead\" d=\"M2520,354.0 L2512,342.0 2528,342.0\" fill=\"currentColor\"/>\n",
       "</g>\n",
       "\n",
       "<g class=\"displacy-arrow\">\n",
       "    <path class=\"displacy-arc\" id=\"arrow-845ad92d301247bd8c85c35f1f178fe0-0-14\" stroke-width=\"2px\" d=\"M595,352.0 C595,2.0 2675.0,2.0 2675.0,352.0\" fill=\"none\" stroke=\"currentColor\"/>\n",
       "    <text dy=\"1.25em\" style=\"font-size: 0.8em; letter-spacing: 1px\">\n",
       "        <textPath xlink:href=\"#arrow-845ad92d301247bd8c85c35f1f178fe0-0-14\" class=\"displacy-label\" startOffset=\"50%\" side=\"left\" fill=\"currentColor\" text-anchor=\"middle\">conj</textPath>\n",
       "    </text>\n",
       "    <path class=\"displacy-arrowhead\" d=\"M2675.0,354.0 L2683.0,342.0 2667.0,342.0\" fill=\"currentColor\"/>\n",
       "</g>\n",
       "</svg></span>"
      ],
      "text/plain": [
       "<IPython.core.display.HTML object>"
      ]
     },
     "metadata": {},
     "output_type": "display_data"
    }
   ],
   "source": [
    "displacy.render(sents[0], style='dep')"
   ]
  },
  {
   "cell_type": "markdown",
   "id": "17359d28-5110-49d0-b0ae-24ba006fb4f3",
   "metadata": {
    "tags": []
   },
   "source": [
    "# CoNLL\n",
    "Существует специальный текстовый формат для хранения разобранных предложений. Он называется CoNLL.\n",
    "Разобранный текст выглядит в виде строк, где каждая строчка - разбор отдельного слова.\n",
    "В рамках одной строки отображается вся информация по слову: лемма, морфологические признаки, порядковый номер слова, с каким словом оно связано и тип этой связи. Разделителем является `\\t`.  \n",
    "Предложения разделены `\\n\\n`.\n",
    "\n",
    "Само название формата пошло от названия конференции (Conference on Computational Natural Language Learning), в рамках который проводились и проводятся соревнования по парсингу текста. "
   ]
  },
  {
   "cell_type": "code",
   "execution_count": 245,
   "id": "16b7c7b6-9f0d-4d4b-9df2-d28ebab5db7c",
   "metadata": {
    "collapsed": true,
    "jupyter": {
     "outputs_hidden": true
    },
    "tags": []
   },
   "outputs": [
    {
     "name": "stdout",
     "output_type": "stream",
     "text": [
      "Requirement already satisfied: spacy_conll in /Users/u14510182/Documents/python_for_nlp_stud/venv/lib/python3.9/site-packages (3.2.0)\n",
      "Requirement already satisfied: spacy>=3.0.1 in /Users/u14510182/Documents/python_for_nlp_stud/venv/lib/python3.9/site-packages (from spacy_conll) (3.4.1)\n",
      "Requirement already satisfied: jinja2 in /Users/u14510182/Documents/python_for_nlp_stud/venv/lib/python3.9/site-packages (from spacy>=3.0.1->spacy_conll) (3.1.2)\n",
      "Requirement already satisfied: cymem<2.1.0,>=2.0.2 in /Users/u14510182/Documents/python_for_nlp_stud/venv/lib/python3.9/site-packages (from spacy>=3.0.1->spacy_conll) (2.0.6)\n",
      "Requirement already satisfied: catalogue<2.1.0,>=2.0.6 in /Users/u14510182/Documents/python_for_nlp_stud/venv/lib/python3.9/site-packages (from spacy>=3.0.1->spacy_conll) (2.0.8)\n",
      "Requirement already satisfied: pathy>=0.3.5 in /Users/u14510182/Documents/python_for_nlp_stud/venv/lib/python3.9/site-packages (from spacy>=3.0.1->spacy_conll) (0.6.2)\n",
      "Requirement already satisfied: setuptools in /Users/u14510182/Documents/python_for_nlp_stud/venv/lib/python3.9/site-packages (from spacy>=3.0.1->spacy_conll) (57.0.0)\n",
      "Requirement already satisfied: typer<0.5.0,>=0.3.0 in /Users/u14510182/Documents/python_for_nlp_stud/venv/lib/python3.9/site-packages (from spacy>=3.0.1->spacy_conll) (0.4.2)\n",
      "Requirement already satisfied: tqdm<5.0.0,>=4.38.0 in /Users/u14510182/Documents/python_for_nlp_stud/venv/lib/python3.9/site-packages (from spacy>=3.0.1->spacy_conll) (4.64.1)\n",
      "Requirement already satisfied: spacy-loggers<2.0.0,>=1.0.0 in /Users/u14510182/Documents/python_for_nlp_stud/venv/lib/python3.9/site-packages (from spacy>=3.0.1->spacy_conll) (1.0.3)\n",
      "Requirement already satisfied: pydantic!=1.8,!=1.8.1,<1.10.0,>=1.7.4 in /Users/u14510182/Documents/python_for_nlp_stud/venv/lib/python3.9/site-packages (from spacy>=3.0.1->spacy_conll) (1.9.2)\n",
      "Requirement already satisfied: langcodes<4.0.0,>=3.2.0 in /Users/u14510182/Documents/python_for_nlp_stud/venv/lib/python3.9/site-packages (from spacy>=3.0.1->spacy_conll) (3.3.0)\n",
      "Requirement already satisfied: preshed<3.1.0,>=3.0.2 in /Users/u14510182/Documents/python_for_nlp_stud/venv/lib/python3.9/site-packages (from spacy>=3.0.1->spacy_conll) (3.0.7)\n",
      "Requirement already satisfied: wasabi<1.1.0,>=0.9.1 in /Users/u14510182/Documents/python_for_nlp_stud/venv/lib/python3.9/site-packages (from spacy>=3.0.1->spacy_conll) (0.10.1)\n",
      "Requirement already satisfied: packaging>=20.0 in /Users/u14510182/Documents/python_for_nlp_stud/venv/lib/python3.9/site-packages (from spacy>=3.0.1->spacy_conll) (21.3)\n",
      "Requirement already satisfied: requests<3.0.0,>=2.13.0 in /Users/u14510182/Documents/python_for_nlp_stud/venv/lib/python3.9/site-packages (from spacy>=3.0.1->spacy_conll) (2.28.1)\n",
      "Requirement already satisfied: thinc<8.2.0,>=8.1.0 in /Users/u14510182/Documents/python_for_nlp_stud/venv/lib/python3.9/site-packages (from spacy>=3.0.1->spacy_conll) (8.1.4)\n",
      "Requirement already satisfied: spacy-legacy<3.1.0,>=3.0.9 in /Users/u14510182/Documents/python_for_nlp_stud/venv/lib/python3.9/site-packages (from spacy>=3.0.1->spacy_conll) (3.0.10)\n",
      "Requirement already satisfied: srsly<3.0.0,>=2.4.3 in /Users/u14510182/Documents/python_for_nlp_stud/venv/lib/python3.9/site-packages (from spacy>=3.0.1->spacy_conll) (2.4.4)\n",
      "Requirement already satisfied: murmurhash<1.1.0,>=0.28.0 in /Users/u14510182/Documents/python_for_nlp_stud/venv/lib/python3.9/site-packages (from spacy>=3.0.1->spacy_conll) (1.0.8)\n",
      "Requirement already satisfied: numpy>=1.15.0 in /Users/u14510182/Documents/python_for_nlp_stud/venv/lib/python3.9/site-packages (from spacy>=3.0.1->spacy_conll) (1.23.2)\n",
      "Requirement already satisfied: pyparsing!=3.0.5,>=2.0.2 in /Users/u14510182/Documents/python_for_nlp_stud/venv/lib/python3.9/site-packages (from packaging>=20.0->spacy>=3.0.1->spacy_conll) (3.0.9)\n",
      "Requirement already satisfied: smart-open<6.0.0,>=5.2.1 in /Users/u14510182/Documents/python_for_nlp_stud/venv/lib/python3.9/site-packages (from pathy>=0.3.5->spacy>=3.0.1->spacy_conll) (5.2.1)\n",
      "Requirement already satisfied: typing-extensions>=3.7.4.3 in /Users/u14510182/Documents/python_for_nlp_stud/venv/lib/python3.9/site-packages (from pydantic!=1.8,!=1.8.1,<1.10.0,>=1.7.4->spacy>=3.0.1->spacy_conll) (4.4.0)\n",
      "Requirement already satisfied: charset-normalizer<3,>=2 in /Users/u14510182/Documents/python_for_nlp_stud/venv/lib/python3.9/site-packages (from requests<3.0.0,>=2.13.0->spacy>=3.0.1->spacy_conll) (2.1.1)\n",
      "Requirement already satisfied: certifi>=2017.4.17 in /Users/u14510182/Documents/python_for_nlp_stud/venv/lib/python3.9/site-packages (from requests<3.0.0,>=2.13.0->spacy>=3.0.1->spacy_conll) (2022.9.24)\n",
      "Requirement already satisfied: urllib3<1.27,>=1.21.1 in /Users/u14510182/Documents/python_for_nlp_stud/venv/lib/python3.9/site-packages (from requests<3.0.0,>=2.13.0->spacy>=3.0.1->spacy_conll) (1.26.12)\n",
      "Requirement already satisfied: idna<4,>=2.5 in /Users/u14510182/Documents/python_for_nlp_stud/venv/lib/python3.9/site-packages (from requests<3.0.0,>=2.13.0->spacy>=3.0.1->spacy_conll) (3.3)\n",
      "Requirement already satisfied: confection<1.0.0,>=0.0.1 in /Users/u14510182/Documents/python_for_nlp_stud/venv/lib/python3.9/site-packages (from thinc<8.2.0,>=8.1.0->spacy>=3.0.1->spacy_conll) (0.0.3)\n",
      "Requirement already satisfied: blis<0.8.0,>=0.7.8 in /Users/u14510182/Documents/python_for_nlp_stud/venv/lib/python3.9/site-packages (from thinc<8.2.0,>=8.1.0->spacy>=3.0.1->spacy_conll) (0.7.8)\n",
      "Requirement already satisfied: click<9.0.0,>=7.1.1 in /Users/u14510182/Documents/python_for_nlp_stud/venv/lib/python3.9/site-packages (from typer<0.5.0,>=0.3.0->spacy>=3.0.1->spacy_conll) (8.1.3)\n",
      "Requirement already satisfied: MarkupSafe>=2.0 in /Users/u14510182/Documents/python_for_nlp_stud/venv/lib/python3.9/site-packages (from jinja2->spacy>=3.0.1->spacy_conll) (2.1.1)\n",
      "\u001b[33mWARNING: You are using pip version 21.1.2; however, version 22.3 is available.\n",
      "You should consider upgrading via the '/Users/u14510182/Documents/python_for_nlp_stud/venv/bin/python -m pip install --upgrade pip' command.\u001b[0m\n"
     ]
    }
   ],
   "source": [
    "!pip install spacy_conll"
   ]
  },
  {
   "cell_type": "code",
   "execution_count": 344,
   "id": "a039a830-d25b-4460-bdbd-d8f4b3a11825",
   "metadata": {},
   "outputs": [],
   "source": [
    "from spacy_conll import init_parser\n",
    "import spacy_conll"
   ]
  },
  {
   "cell_type": "code",
   "execution_count": 345,
   "id": "c39488b9-f788-4d5f-a8c1-2cbe3141126a",
   "metadata": {},
   "outputs": [],
   "source": [
    "ru_stanza_conll = init_parser(\n",
    "    model_or_lang=\"ru\", \n",
    "    parser=\"stanza\", # Varians: 'spacy', 'stanza', 'udpipe'\n",
    "    # parser_opts={\"use_gpu\": True, \"verbose\": False}, GPU turn off/on\n",
    ")"
   ]
  },
  {
   "cell_type": "code",
   "execution_count": 346,
   "id": "7e77bc14-43ef-45d9-acb6-64f170494206",
   "metadata": {},
   "outputs": [],
   "source": [
    "txt = 'Я был в деревне целый день. И завтра тоже там буду.'\n",
    "doc = ru_stanza_conll(txt)"
   ]
  },
  {
   "cell_type": "code",
   "execution_count": 348,
   "id": "62669a37-bf00-435d-8aab-8652bd90bbe7",
   "metadata": {},
   "outputs": [
    {
     "name": "stdout",
     "output_type": "stream",
     "text": [
      "1\tЯ\tя\tPRON\tPRON\tCase=Nom|Number=Sing|Person=1|PronType=Prs\t4\tnsubj\t_\t_\n",
      "2\tбыл\tбыть\tAUX\tAUX\tAspect=Imp|Gender=Masc|Mood=Ind|Number=Sing|Tense=Past|VerbForm=Fin|Voice=Act\t4\tcop\t_\t_\n",
      "3\tв\tв\tADP\tADP\t_\t4\tcase\t_\t_\n",
      "4\tдеревне\tдеревня\tNOUN\tNOUN\tAnimacy=Inan|Case=Loc|Gender=Fem|Number=Sing\t0\troot\t_\t_\n",
      "5\tцелый\tцелый\tADJ\tADJ\tAnimacy=Inan|Case=Acc|Degree=Pos|Gender=Masc|Number=Sing\t6\tamod\t_\t_\n",
      "6\tдень\tдень\tNOUN\tNOUN\tAnimacy=Inan|Case=Acc|Gender=Masc|Number=Sing\t4\tnmod\t_\tSpaceAfter=No\n",
      "7\t.\t.\tPUNCT\tPUNCT\t_\t4\tpunct\t_\t_\n",
      "\n",
      "1\tИ\tи\tCCONJ\tCCONJ\t_\t4\tcc\t_\t_\n",
      "2\tзавтра\tзавтра\tADV\tADV\tDegree=Pos\t4\tadvmod\t_\t_\n",
      "3\tтоже\tтоже\tPART\tPART\t_\t4\tadvmod\t_\t_\n",
      "4\tтам\tтам\tADV\tADV\tDegree=Pos\t0\troot\t_\t_\n",
      "5\tбуду\tбыть\tAUX\tAUX\tAspect=Imp|Mood=Ind|Number=Sing|Person=1|Tense=Pres|VerbForm=Fin|Voice=Act\t4\tcop\t_\tSpaceAfter=No\n",
      "6\t.\t.\tPUNCT\tPUNCT\t_\t4\tpunct\t_\tSpaceAfter=No\n",
      "\n"
     ]
    }
   ],
   "source": [
    "# Получили разбор текста в формате CoNLL\n",
    "conll_doc = doc._.conll_str \n",
    "print(conll_doc)"
   ]
  },
  {
   "cell_type": "markdown",
   "id": "4eafac0a-ed32-4507-a0dc-055f0ce08448",
   "metadata": {},
   "source": [
    "Что делать, если у нас есть распарсеный текст, сохраненный в формат CoNLL?  \n",
    "В `spacy_conll` есть возможность из CoNLL получить объект SpaCy. После этого вам открываются все возможности работы с текстом от Spacy."
   ]
  },
  {
   "cell_type": "code",
   "execution_count": 250,
   "id": "46a868e9-e1d5-4262-8a80-bb2d15449a43",
   "metadata": {},
   "outputs": [],
   "source": [
    "conll_parser = spacy_conll.ConllParser(ru_stanza_conll)"
   ]
  },
  {
   "cell_type": "code",
   "execution_count": 350,
   "id": "97127984-5709-42b2-8e97-156a0a6d64bf",
   "metadata": {},
   "outputs": [],
   "source": [
    "def prepare_conll(conll_text):\n",
    "    clear_conll = []\n",
    "    sents = conll_text.split('\\n\\n')\n",
    "        \n",
    "    for sent in sents:\n",
    "        tree = [line for line in sent.split('\\n') if line and line[0] != '#']\n",
    "        clear_conll.append('\\n'.join(tree))\n",
    "    return clear_conll"
   ]
  },
  {
   "cell_type": "code",
   "execution_count": 351,
   "id": "a0ed8b6e-ce8d-4498-a6c6-baaf7a4bc754",
   "metadata": {},
   "outputs": [
    {
     "data": {
      "text/plain": [
       "(list, 2)"
      ]
     },
     "execution_count": 351,
     "metadata": {},
     "output_type": "execute_result"
    }
   ],
   "source": [
    "clear_conll_doc = prepare_conll(conll_doc)\n",
    "type(clear_conll_doc), len(clear_conll_doc)"
   ]
  },
  {
   "cell_type": "code",
   "execution_count": 352,
   "id": "3aea8f17-9743-47a9-b53b-b754d8d4685b",
   "metadata": {},
   "outputs": [
    {
     "data": {
      "text/plain": [
       "'1\\tЯ\\tя\\tPRON\\tPRON\\tCase=Nom|Number=Sing|Person=1|PronType=Prs\\t4\\tnsubj\\t_\\t_\\n2\\tбыл\\tбыть\\tAUX\\tAUX\\tAspect=Imp|Gender=Masc|Mood=Ind|Number=Sing|Tense=Past|VerbForm=Fin|Voice=Act\\t4\\tcop\\t_\\t_\\n3\\tв\\tв\\tADP\\tADP\\t_\\t4\\tcase\\t_\\t_\\n4\\tдеревне\\tдеревня\\tNOUN\\tNOUN\\tAnimacy=Inan|Case=Loc|Gender=Fem|Number=Sing\\t0\\troot\\t_\\t_\\n5\\tцелый\\tцелый\\tADJ\\tADJ\\tAnimacy=Inan|Case=Acc|Degree=Pos|Gender=Masc|Number=Sing\\t6\\tamod\\t_\\t_\\n6\\tдень\\tдень\\tNOUN\\tNOUN\\tAnimacy=Inan|Case=Acc|Gender=Masc|Number=Sing\\t4\\tnmod\\t_\\tSpaceAfter=No\\n7\\t.\\t.\\tPUNCT\\tPUNCT\\t_\\t4\\tpunct\\t_\\t_'"
      ]
     },
     "execution_count": 352,
     "metadata": {},
     "output_type": "execute_result"
    }
   ],
   "source": [
    "clear_conll_doc[0]"
   ]
  },
  {
   "cell_type": "code",
   "execution_count": 353,
   "id": "a08b66c4-33ce-4981-8d2b-112860496b41",
   "metadata": {},
   "outputs": [
    {
     "data": {
      "text/plain": [
       "spacy.tokens.doc.Doc"
      ]
     },
     "execution_count": 353,
     "metadata": {},
     "output_type": "execute_result"
    }
   ],
   "source": [
    "sent = conll_parser.parse_conll_text_as_spacy(clear_conll_doc[0])\n",
    "type(sent)"
   ]
  },
  {
   "cell_type": "code",
   "execution_count": 356,
   "id": "e49e2ac0-f4e8-4ea6-b130-ab90dffd2e2d",
   "metadata": {},
   "outputs": [
    {
     "data": {
      "text/plain": [
       "в"
      ]
     },
     "execution_count": 356,
     "metadata": {},
     "output_type": "execute_result"
    }
   ],
   "source": [
    "sent[2]"
   ]
  },
  {
   "cell_type": "code",
   "execution_count": 357,
   "id": "91c77aac-e0c7-4639-b1cc-5b71f1a8d367",
   "metadata": {},
   "outputs": [
    {
     "data": {
      "text/html": [
       "<div>\n",
       "<style scoped>\n",
       "    .dataframe tbody tr th:only-of-type {\n",
       "        vertical-align: middle;\n",
       "    }\n",
       "\n",
       "    .dataframe tbody tr th {\n",
       "        vertical-align: top;\n",
       "    }\n",
       "\n",
       "    .dataframe thead th {\n",
       "        text-align: right;\n",
       "    }\n",
       "</style>\n",
       "<table border=\"1\" class=\"dataframe\">\n",
       "  <thead>\n",
       "    <tr style=\"text-align: right;\">\n",
       "      <th></th>\n",
       "      <th>text</th>\n",
       "      <th>lemma</th>\n",
       "      <th>pos</th>\n",
       "      <th>tag</th>\n",
       "      <th>morph</th>\n",
       "      <th>dep</th>\n",
       "      <th>head</th>\n",
       "      <th>shape</th>\n",
       "      <th>is_alpha</th>\n",
       "      <th>is_stop</th>\n",
       "    </tr>\n",
       "  </thead>\n",
       "  <tbody>\n",
       "    <tr>\n",
       "      <th>0</th>\n",
       "      <td>Я</td>\n",
       "      <td>я</td>\n",
       "      <td>PRON</td>\n",
       "      <td>PRON</td>\n",
       "      <td>(Case=Nom, Number=Sing, Person=1, PronType=Prs)</td>\n",
       "      <td>nsubj</td>\n",
       "      <td>деревне</td>\n",
       "      <td>X</td>\n",
       "      <td>True</td>\n",
       "      <td>True</td>\n",
       "    </tr>\n",
       "    <tr>\n",
       "      <th>1</th>\n",
       "      <td>был</td>\n",
       "      <td>быть</td>\n",
       "      <td>AUX</td>\n",
       "      <td>AUX</td>\n",
       "      <td>(Aspect=Imp, Gender=Masc, Mood=Ind, Number=Sin...</td>\n",
       "      <td>cop</td>\n",
       "      <td>деревне</td>\n",
       "      <td>xxx</td>\n",
       "      <td>True</td>\n",
       "      <td>True</td>\n",
       "    </tr>\n",
       "    <tr>\n",
       "      <th>2</th>\n",
       "      <td>в</td>\n",
       "      <td>в</td>\n",
       "      <td>ADP</td>\n",
       "      <td>ADP</td>\n",
       "      <td>()</td>\n",
       "      <td>case</td>\n",
       "      <td>деревне</td>\n",
       "      <td>x</td>\n",
       "      <td>True</td>\n",
       "      <td>True</td>\n",
       "    </tr>\n",
       "    <tr>\n",
       "      <th>3</th>\n",
       "      <td>деревне</td>\n",
       "      <td>деревня</td>\n",
       "      <td>NOUN</td>\n",
       "      <td>NOUN</td>\n",
       "      <td>(Animacy=Inan, Case=Loc, Gender=Fem, Number=Sing)</td>\n",
       "      <td>ROOT</td>\n",
       "      <td>деревне</td>\n",
       "      <td>xxxx</td>\n",
       "      <td>True</td>\n",
       "      <td>False</td>\n",
       "    </tr>\n",
       "    <tr>\n",
       "      <th>4</th>\n",
       "      <td>целый</td>\n",
       "      <td>целый</td>\n",
       "      <td>ADJ</td>\n",
       "      <td>ADJ</td>\n",
       "      <td>(Animacy=Inan, Case=Acc, Degree=Pos, Gender=Ma...</td>\n",
       "      <td>amod</td>\n",
       "      <td>день</td>\n",
       "      <td>xxxx</td>\n",
       "      <td>True</td>\n",
       "      <td>False</td>\n",
       "    </tr>\n",
       "    <tr>\n",
       "      <th>5</th>\n",
       "      <td>день</td>\n",
       "      <td>день</td>\n",
       "      <td>NOUN</td>\n",
       "      <td>NOUN</td>\n",
       "      <td>(Animacy=Inan, Case=Acc, Gender=Masc, Number=S...</td>\n",
       "      <td>nmod</td>\n",
       "      <td>деревне</td>\n",
       "      <td>xxxx</td>\n",
       "      <td>True</td>\n",
       "      <td>False</td>\n",
       "    </tr>\n",
       "    <tr>\n",
       "      <th>6</th>\n",
       "      <td>.</td>\n",
       "      <td>.</td>\n",
       "      <td>PUNCT</td>\n",
       "      <td>PUNCT</td>\n",
       "      <td>()</td>\n",
       "      <td>punct</td>\n",
       "      <td>деревне</td>\n",
       "      <td>.</td>\n",
       "      <td>False</td>\n",
       "      <td>False</td>\n",
       "    </tr>\n",
       "  </tbody>\n",
       "</table>\n",
       "</div>"
      ],
      "text/plain": [
       "      text    lemma    pos    tag  \\\n",
       "0        Я        я   PRON   PRON   \n",
       "1      был     быть    AUX    AUX   \n",
       "2        в        в    ADP    ADP   \n",
       "3  деревне  деревня   NOUN   NOUN   \n",
       "4    целый    целый    ADJ    ADJ   \n",
       "5     день     день   NOUN   NOUN   \n",
       "6        .        .  PUNCT  PUNCT   \n",
       "\n",
       "                                               morph    dep     head shape  \\\n",
       "0    (Case=Nom, Number=Sing, Person=1, PronType=Prs)  nsubj  деревне     X   \n",
       "1  (Aspect=Imp, Gender=Masc, Mood=Ind, Number=Sin...    cop  деревне   xxx   \n",
       "2                                                 ()   case  деревне     x   \n",
       "3  (Animacy=Inan, Case=Loc, Gender=Fem, Number=Sing)   ROOT  деревне  xxxx   \n",
       "4  (Animacy=Inan, Case=Acc, Degree=Pos, Gender=Ma...   amod     день  xxxx   \n",
       "5  (Animacy=Inan, Case=Acc, Gender=Masc, Number=S...   nmod  деревне  xxxx   \n",
       "6                                                 ()  punct  деревне     .   \n",
       "\n",
       "   is_alpha  is_stop  \n",
       "0      True     True  \n",
       "1      True     True  \n",
       "2      True     True  \n",
       "3      True    False  \n",
       "4      True    False  \n",
       "5      True    False  \n",
       "6     False    False  "
      ]
     },
     "execution_count": 357,
     "metadata": {},
     "output_type": "execute_result"
    }
   ],
   "source": [
    "doc_df = pd.DataFrame([get_features(token) for token in sent])\n",
    "doc_df"
   ]
  },
  {
   "cell_type": "code",
   "execution_count": 358,
   "id": "0af044e4-9c9e-4fca-a78a-a03ce68e834b",
   "metadata": {},
   "outputs": [
    {
     "data": {
      "text/html": [
       "<span class=\"tex2jax_ignore\"><svg xmlns=\"http://www.w3.org/2000/svg\" xmlns:xlink=\"http://www.w3.org/1999/xlink\" xml:lang=\"ru\" id=\"666d731126f54a93a98d2476c021af0d-0\" class=\"displacy\" width=\"1100\" height=\"399.5\" direction=\"ltr\" style=\"max-width: none; height: 399.5px; color: #000000; background: #ffffff; font-family: Arial; direction: ltr\">\n",
       "<text class=\"displacy-token\" fill=\"currentColor\" text-anchor=\"middle\" y=\"309.5\">\n",
       "    <tspan class=\"displacy-word\" fill=\"currentColor\" x=\"50\">Я</tspan>\n",
       "    <tspan class=\"displacy-tag\" dy=\"2em\" fill=\"currentColor\" x=\"50\">PRON</tspan>\n",
       "</text>\n",
       "\n",
       "<text class=\"displacy-token\" fill=\"currentColor\" text-anchor=\"middle\" y=\"309.5\">\n",
       "    <tspan class=\"displacy-word\" fill=\"currentColor\" x=\"225\">был</tspan>\n",
       "    <tspan class=\"displacy-tag\" dy=\"2em\" fill=\"currentColor\" x=\"225\">AUX</tspan>\n",
       "</text>\n",
       "\n",
       "<text class=\"displacy-token\" fill=\"currentColor\" text-anchor=\"middle\" y=\"309.5\">\n",
       "    <tspan class=\"displacy-word\" fill=\"currentColor\" x=\"400\">в</tspan>\n",
       "    <tspan class=\"displacy-tag\" dy=\"2em\" fill=\"currentColor\" x=\"400\">ADP</tspan>\n",
       "</text>\n",
       "\n",
       "<text class=\"displacy-token\" fill=\"currentColor\" text-anchor=\"middle\" y=\"309.5\">\n",
       "    <tspan class=\"displacy-word\" fill=\"currentColor\" x=\"575\">деревне</tspan>\n",
       "    <tspan class=\"displacy-tag\" dy=\"2em\" fill=\"currentColor\" x=\"575\">NOUN</tspan>\n",
       "</text>\n",
       "\n",
       "<text class=\"displacy-token\" fill=\"currentColor\" text-anchor=\"middle\" y=\"309.5\">\n",
       "    <tspan class=\"displacy-word\" fill=\"currentColor\" x=\"750\">целый</tspan>\n",
       "    <tspan class=\"displacy-tag\" dy=\"2em\" fill=\"currentColor\" x=\"750\">ADJ</tspan>\n",
       "</text>\n",
       "\n",
       "<text class=\"displacy-token\" fill=\"currentColor\" text-anchor=\"middle\" y=\"309.5\">\n",
       "    <tspan class=\"displacy-word\" fill=\"currentColor\" x=\"925\">день.</tspan>\n",
       "    <tspan class=\"displacy-tag\" dy=\"2em\" fill=\"currentColor\" x=\"925\">NOUN</tspan>\n",
       "</text>\n",
       "\n",
       "<g class=\"displacy-arrow\">\n",
       "    <path class=\"displacy-arc\" id=\"arrow-666d731126f54a93a98d2476c021af0d-0-0\" stroke-width=\"2px\" d=\"M70,264.5 C70,2.0 575.0,2.0 575.0,264.5\" fill=\"none\" stroke=\"currentColor\"/>\n",
       "    <text dy=\"1.25em\" style=\"font-size: 0.8em; letter-spacing: 1px\">\n",
       "        <textPath xlink:href=\"#arrow-666d731126f54a93a98d2476c021af0d-0-0\" class=\"displacy-label\" startOffset=\"50%\" side=\"left\" fill=\"currentColor\" text-anchor=\"middle\">nsubj</textPath>\n",
       "    </text>\n",
       "    <path class=\"displacy-arrowhead\" d=\"M70,266.5 L62,254.5 78,254.5\" fill=\"currentColor\"/>\n",
       "</g>\n",
       "\n",
       "<g class=\"displacy-arrow\">\n",
       "    <path class=\"displacy-arc\" id=\"arrow-666d731126f54a93a98d2476c021af0d-0-1\" stroke-width=\"2px\" d=\"M245,264.5 C245,89.5 570.0,89.5 570.0,264.5\" fill=\"none\" stroke=\"currentColor\"/>\n",
       "    <text dy=\"1.25em\" style=\"font-size: 0.8em; letter-spacing: 1px\">\n",
       "        <textPath xlink:href=\"#arrow-666d731126f54a93a98d2476c021af0d-0-1\" class=\"displacy-label\" startOffset=\"50%\" side=\"left\" fill=\"currentColor\" text-anchor=\"middle\">cop</textPath>\n",
       "    </text>\n",
       "    <path class=\"displacy-arrowhead\" d=\"M245,266.5 L237,254.5 253,254.5\" fill=\"currentColor\"/>\n",
       "</g>\n",
       "\n",
       "<g class=\"displacy-arrow\">\n",
       "    <path class=\"displacy-arc\" id=\"arrow-666d731126f54a93a98d2476c021af0d-0-2\" stroke-width=\"2px\" d=\"M420,264.5 C420,177.0 565.0,177.0 565.0,264.5\" fill=\"none\" stroke=\"currentColor\"/>\n",
       "    <text dy=\"1.25em\" style=\"font-size: 0.8em; letter-spacing: 1px\">\n",
       "        <textPath xlink:href=\"#arrow-666d731126f54a93a98d2476c021af0d-0-2\" class=\"displacy-label\" startOffset=\"50%\" side=\"left\" fill=\"currentColor\" text-anchor=\"middle\">case</textPath>\n",
       "    </text>\n",
       "    <path class=\"displacy-arrowhead\" d=\"M420,266.5 L412,254.5 428,254.5\" fill=\"currentColor\"/>\n",
       "</g>\n",
       "\n",
       "<g class=\"displacy-arrow\">\n",
       "    <path class=\"displacy-arc\" id=\"arrow-666d731126f54a93a98d2476c021af0d-0-3\" stroke-width=\"2px\" d=\"M770,264.5 C770,177.0 915.0,177.0 915.0,264.5\" fill=\"none\" stroke=\"currentColor\"/>\n",
       "    <text dy=\"1.25em\" style=\"font-size: 0.8em; letter-spacing: 1px\">\n",
       "        <textPath xlink:href=\"#arrow-666d731126f54a93a98d2476c021af0d-0-3\" class=\"displacy-label\" startOffset=\"50%\" side=\"left\" fill=\"currentColor\" text-anchor=\"middle\">amod</textPath>\n",
       "    </text>\n",
       "    <path class=\"displacy-arrowhead\" d=\"M770,266.5 L762,254.5 778,254.5\" fill=\"currentColor\"/>\n",
       "</g>\n",
       "\n",
       "<g class=\"displacy-arrow\">\n",
       "    <path class=\"displacy-arc\" id=\"arrow-666d731126f54a93a98d2476c021af0d-0-4\" stroke-width=\"2px\" d=\"M595,264.5 C595,89.5 920.0,89.5 920.0,264.5\" fill=\"none\" stroke=\"currentColor\"/>\n",
       "    <text dy=\"1.25em\" style=\"font-size: 0.8em; letter-spacing: 1px\">\n",
       "        <textPath xlink:href=\"#arrow-666d731126f54a93a98d2476c021af0d-0-4\" class=\"displacy-label\" startOffset=\"50%\" side=\"left\" fill=\"currentColor\" text-anchor=\"middle\">nmod</textPath>\n",
       "    </text>\n",
       "    <path class=\"displacy-arrowhead\" d=\"M920.0,266.5 L928.0,254.5 912.0,254.5\" fill=\"currentColor\"/>\n",
       "</g>\n",
       "</svg></span>"
      ],
      "text/plain": [
       "<IPython.core.display.HTML object>"
      ]
     },
     "metadata": {},
     "output_type": "display_data"
    }
   ],
   "source": [
    "displacy.render(sent, style='dep')"
   ]
  }
 ],
 "metadata": {
  "kernelspec": {
   "display_name": "Python 3 (ipykernel)",
   "language": "python",
   "name": "python3"
  },
  "language_info": {
   "codemirror_mode": {
    "name": "ipython",
    "version": 3
   },
   "file_extension": ".py",
   "mimetype": "text/x-python",
   "name": "python",
   "nbconvert_exporter": "python",
   "pygments_lexer": "ipython3",
   "version": "3.9.6"
  }
 },
 "nbformat": 4,
 "nbformat_minor": 5
}
