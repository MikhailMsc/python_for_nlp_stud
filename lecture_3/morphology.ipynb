{
 "cells": [
  {
   "cell_type": "markdown",
   "id": "3eb15d9b-817d-4281-92af-86b909d87e2d",
   "metadata": {},
   "source": [
    "## Морфология\n",
    "#### План семинара:\n",
    "\n",
    "1. Mystem консольный\n",
    "2. Mystem через python\n",
    "3. Pymorphy\n",
    "4. NLTK\n"
   ]
  },
  {
   "cell_type": "markdown",
   "id": "c69c76f6-1fb4-45f5-b0a5-1c7d20bb6691",
   "metadata": {},
   "source": [
    "Нужные пакеты для этого семинара:\n",
    "\n",
    "``pip install pymystem3``\n",
    "\n",
    "``pip install pymorphy2``\n",
    "\n",
    "``pip install nltk`` (Возможны проблемы для Windows)"
   ]
  },
  {
   "cell_type": "markdown",
   "id": "16c0351b-43dc-45c9-81b0-cd265b49a76c",
   "metadata": {},
   "source": [
    "# Mystem"
   ]
  },
  {
   "cell_type": "markdown",
   "id": "5afca06d-b967-4c1b-b8b5-ee30f2076130",
   "metadata": {},
   "source": [
    "Mystem - это свободно распространяемый морфологический анализатор для русского языка с закрытым исходным кодом.\n",
    "\n",
    "My-stem значит my stemmer, стемминг -- это разбиение формы на основу и флексию. На самом деле Mystem может гораздо больше: устанавливать словарную форму слова, определять часть речи и грамматическую форму слова. В последних версиях Mystem умеет и выбирать из нескольких возможных грамматических разборов один, наиболее верный.\n",
    "\n",
    "У Mystem нет графического оконного интерфейса"
   ]
  },
  {
   "cell_type": "markdown",
   "id": "9b91cde8-1824-41a3-b57d-9db86005cc58",
   "metadata": {},
   "source": [
    "## Mystem консольный\n",
    "\n",
    "**Preface:**\n",
    "\n",
    "Программа для морфологического анализа **Mystem** запускается через командную строку и требует передачи определённых *аргументов* (или ещё их называют *параметрами*). Эти аргументы пишутся после пути к программе через пробел. Если сам аргумент тоже содержит пробел, его нужно обернуть в кавычки: `C:\\some_programm.exe argument1 \"argument 2\"`\n",
    "\n",
    "Среди аргументов есть такие, которые принято называть *опциями* или *ключами*, они начинаются с символа дефиса: `C:\\some_prog.exe -a -b`. Их можно \"склеивать\": `C:\\some_prog.exe -ab`.\n",
    "\n",
    "**Как скачать**\n",
    "\n",
    "Скачать Mystem можно [отсюда](https://tech.yandex.ru/mystem/), а [тут](https://tech.yandex.ru/mystem/doc/index-docpage/) лежит его документация (там описаны различные возможности вызова программы).\n",
    "\n",
    "Примеры, которые приведены в документации, рассчитаны на пользователя Unix-подобной операционной системы. В начале примеров вызова стоит знак доллара, $. Доллар -- это аналог приглашения командной строки, просто не в Windows, а в Unix-подобных системах. Если вы берете примеры вызова со страницы документации за основу, игнорируйте знак доллара.\n",
    "\n",
    "В документации написано: `$ mystem input`. На практике для пользователей Windows это будет значить что-то вроде `C:\\mystem.exe input.txt`. \n",
    "\n",
    "В документации написано \"стандартный ввод\" и \"стандартный вывод\", это значит то, что вводится в командной строке или выводится в тот же терминал. Если не используются стандартный ввод и вывод, то используются файлы (выводной файл Mystem способен создать сам).\n",
    "\n",
    "В 3-й версии Mystem кодировка по умолчанию -- utf-8. В первых версиях -- cp1251. Кодировка по умолчанию в командной строке Windows -- cp866. Из-за этого Mystem может не понимать слова, которые попадают к нему из стандартного ввода.\n",
    "\n",
    "**Как запустить**\n",
    "\n",
    "Особое внимание нужно уделить опции `-d`, она заставляет анализатор выбирать только один разбор из возможных. При этом выбор происходит только между разными частями речи. Если у одной части речи возможны разные разборы (например, разные падежи одного и того же существительного), то эти разборы не отбрасываются. Иначе говоря, Mystem снимает только частеречную омонимию. Омонимию форм он не снимает.\n",
    "\n",
    "**Пример запуска из командной строки**\n",
    "\n",
    "Возьмите файл experiment.txt и запустите его так, чтобы для каждого слова была снята омонимия и напечатана грамматическая информация.\n",
    "\n",
    "Посмотрим, как Mystem справится с глокой куздрой и бокрёнком."
   ]
  },
  {
   "cell_type": "markdown",
   "id": "4204cb04-d617-4e53-8a77-1107754b4e05",
   "metadata": {
    "tags": []
   },
   "source": [
    "## Mystem через python"
   ]
  },
  {
   "cell_type": "markdown",
   "id": "7567c886-11fe-4c54-903d-9032727358cf",
   "metadata": {},
   "source": [
    "Для запуска сторонних программ, имеющих интерфейс командной строки, в питоне есть system, предоставляемая модулем os: `os.system(\"C:\\mystem.exe input.txt output.txt\")`. Но не забудьте импортировать модуль os.\n",
    "\n",
    "Этот код берёт из директории *input_texts* все лежащие в ней файлы, отдаёт на разметку майстему и кладёт результат в соседнюю директорию *output_texts*."
   ]
  },
  {
   "cell_type": "code",
   "execution_count": 4,
   "id": "a95240cb-bada-45b1-9091-2a5641174a43",
   "metadata": {},
   "outputs": [],
   "source": [
    "import os\n",
    "\n",
    "inp = \"./input_files\"\n",
    "outp = \"./output_files\"\n",
    "mystem_path = os.path.join('/Users/dkbrz/Downloads', 'mystem')\n",
    "files = os.listdir(inp)\n",
    "for fname in files:\n",
    "    # os.path.abspath - находит абсолютный путь\n",
    "    # os.path.join - объединяет части пути до файла\n",
    "    input_filename = os.path.join(os.path.abspath(inp), fname)\n",
    "    output_filename = os.path.join(os.path.abspath(outp), fname)\n",
    "    os.system(f\"{mystem_path} {input_filename} {output_filename}\")"
   ]
  },
  {
   "cell_type": "markdown",
   "id": "ac240a1b-4707-467d-902b-b165c178b808",
   "metadata": {},
   "source": [
    "А что там на самом деле пишется? Посмотрим на последних переменных"
   ]
  },
  {
   "cell_type": "code",
   "execution_count": 5,
   "id": "6e03b94b-bd89-4a76-ad11-8f8a02c5ea7e",
   "metadata": {},
   "outputs": [
    {
     "data": {
      "text/plain": [
       "'/Users/dkbrz/Downloads/mystem /Users/dkbrz/hse-python/seminars/morphology/input_files/nabokov_4.txt /Users/dkbrz/hse-python/seminars/morphology/output_files/nabokov_4.txt'"
      ]
     },
     "execution_count": 5,
     "metadata": {},
     "output_type": "execute_result"
    }
   ],
   "source": [
    "f\"{mystem_path} {input_filename} {output_filename}\""
   ]
  },
  {
   "cell_type": "markdown",
   "id": "ac37cd70-f7a3-4a30-98d0-fa399575dacc",
   "metadata": {},
   "source": [
    "Кстати, этот способ записи называется f-string и позволяет собирать строчки по шаблону"
   ]
  },
  {
   "cell_type": "markdown",
   "id": "991eb8a5-1a98-4ca3-aea4-2f3173ba2fbf",
   "metadata": {},
   "source": [
    "Это тоже можно попробовать. Для примера у нас в папке input_texts лежат нарезанные тексты Набокова Дар"
   ]
  },
  {
   "cell_type": "markdown",
   "id": "fed0d127-e14c-4226-b4e1-984b14b8d740",
   "metadata": {},
   "source": [
    "## Библиотека pymystem3"
   ]
  },
  {
   "cell_type": "markdown",
   "id": "e8a4c855-fbfa-4b80-9e88-c6a378177a40",
   "metadata": {},
   "source": [
    "Можно запускать mystem и с помощью специального модуля, **pymystem3**. Это проще и удобнее, потому что с тем, что выдаёт mystem, можно сразу работать как с питоновскими структурами данных. Но медленнее. Иногда гораздо-гораздо медленнее, чем разметить один файл mystem'ом сразу.   \n",
    "\n",
    "**НО!**  \n",
    "[В этой небольшой статье рассказывается как можно это обойти и в чем причина такой задержки.](https://habr.com/ru/post/503420/)"
   ]
  },
  {
   "cell_type": "code",
   "execution_count": 5,
   "id": "2ca78656-1101-4555-a4dc-c3a73da9b4f7",
   "metadata": {
    "scrolled": true
   },
   "outputs": [],
   "source": [
    "from pymystem3 import Mystem"
   ]
  },
  {
   "cell_type": "code",
   "execution_count": 7,
   "id": "bfe22eee-007a-4302-815f-b964a76c9677",
   "metadata": {},
   "outputs": [],
   "source": [
    "mystem = Mystem()"
   ]
  },
  {
   "cell_type": "markdown",
   "id": "9f0b2de2-2efb-483b-a9e3-7e92ea1b14e6",
   "metadata": {},
   "source": [
    "У этого класса Mystem() есть два метода:\n",
    "\n",
    "* lemmatize, возвращающий список лемм,\n",
    "* и analyze, возвращающий полные разборы в виде словаря.\n",
    "\n",
    "Возьмем небольшой текст и опробуем на нем эти два метода:"
   ]
  },
  {
   "cell_type": "code",
   "execution_count": 9,
   "id": "0efd266f-dac8-4e90-9af3-0f9f1a856da6",
   "metadata": {},
   "outputs": [],
   "source": [
    "text = \"Но не становится ли событие тем значительнее и исключительнее,\" +\\\n",
    "\"чем большее число случайностей приводит к нему?\" +\\\n",
    "\" Лишь случайность может предстать перед нами как послание.\" +\\\n",
    "\" Все, что происходит по необходимости, что ожидаемо, что повторяется всякий день, то немо.\" +\\\n",
    "\" Лишь случайность о чем-то говорит нам. Мы стремимся прочесть ее, \" +\\\n",
    "\"как читают цыганки по узорам, начертанным кофейной гущей на дне чашки.\""
   ]
  },
  {
   "cell_type": "code",
   "execution_count": 10,
   "id": "e88f6841-2945-42ed-9424-0571815228f3",
   "metadata": {},
   "outputs": [
    {
     "data": {
      "text/plain": [
       "['тем', ' ', 'значительный', ' ', 'и', ' ', 'исключительный', ',', 'чем', ' ']"
      ]
     },
     "execution_count": 10,
     "metadata": {},
     "output_type": "execute_result"
    }
   ],
   "source": [
    "lemmas = mystem.lemmatize(text)\n",
    "lemmas[10:20]"
   ]
  },
  {
   "cell_type": "markdown",
   "id": "a04c5641-875e-4d91-bb64-0c1c7a0aa5de",
   "metadata": {},
   "source": [
    "Можно собрать лемматизированный текст обратно:"
   ]
  },
  {
   "cell_type": "code",
   "execution_count": 11,
   "id": "ac77102b-b74b-4a7f-9a35-e70ccae0f0d5",
   "metadata": {},
   "outputs": [
    {
     "name": "stdout",
     "output_type": "stream",
     "text": [
      "но не становиться ли событие тем значительный и исключительный,чем больший число случайность приводить к он? лишь случайность мочь представать перед мы как послание. все, что происходить по необходимость, что ожидать, что повторяться всякий день, то немо. лишь случайность о что-то говорить мы. мы стремиться прочитывать она, как читать цыганка по узор, начертать кофейный гуща на дно чашка.\n",
      "\n"
     ]
    }
   ],
   "source": [
    "print(''.join(lemmas))"
   ]
  },
  {
   "cell_type": "code",
   "execution_count": 12,
   "id": "a22ecc1e-65b9-4df9-aa8f-01e8074ff422",
   "metadata": {},
   "outputs": [],
   "source": [
    "from pprint import pprint"
   ]
  },
  {
   "cell_type": "code",
   "execution_count": 13,
   "id": "432937e7-e966-440f-ab83-9855f4cbc6ee",
   "metadata": {},
   "outputs": [
    {
     "name": "stdout",
     "output_type": "stream",
     "text": [
      "[{'analysis': [{'gr': 'CONJ=', 'lex': 'но', 'wt': 0.9998906299}], 'text': 'Но'},\n",
      " {'text': ' '},\n",
      " {'analysis': [{'gr': 'PART=', 'lex': 'не', 'wt': 1}], 'text': 'не'},\n",
      " {'text': ' '},\n",
      " {'analysis': [{'gr': 'V,нп=непрош,ед,изъяв,3-л,несов',\n",
      "                'lex': 'становиться',\n",
      "                'wt': 1}],\n",
      "  'text': 'становится'},\n",
      " {'text': ' '},\n",
      " {'analysis': [{'gr': 'PART=', 'lex': 'ли', 'wt': 0.7719288688}], 'text': 'ли'},\n",
      " {'text': ' '},\n",
      " {'analysis': [{'gr': 'S,сред,неод=(вин,ед|им,ед)', 'lex': 'событие', 'wt': 1}],\n",
      "  'text': 'событие'},\n",
      " {'text': ' '},\n",
      " {'analysis': [{'gr': 'CONJ=', 'lex': 'тем', 'wt': 0.0857739759}],\n",
      "  'text': 'тем'},\n",
      " {'text': ' '},\n",
      " {'analysis': [{'gr': 'A=срав', 'lex': 'значительный', 'wt': 0.2062520859}],\n",
      "  'text': 'значительнее'},\n",
      " {'text': ' '},\n",
      " {'analysis': [{'gr': 'CONJ=', 'lex': 'и', 'wt': 0.9999770357}], 'text': 'и'},\n",
      " {'text': ' '},\n",
      " {'analysis': [{'gr': 'A=срав', 'lex': 'исключительный', 'wt': 1}],\n",
      "  'text': 'исключительнее'},\n",
      " {'text': ','},\n",
      " {'analysis': [{'gr': 'CONJ=', 'lex': 'чем', 'wt': 0.8023791472}],\n",
      "  'text': 'чем'},\n",
      " {'text': ' '}]\n"
     ]
    }
   ],
   "source": [
    "ana = mystem.analyze(text)\n",
    "pprint(ana[:20])"
   ]
  },
  {
   "cell_type": "markdown",
   "id": "68004f80-4302-4dcd-9780-8e037770e5a4",
   "metadata": {},
   "source": [
    "Разбор для каждого слова является элементом массива:"
   ]
  },
  {
   "cell_type": "code",
   "execution_count": 34,
   "id": "5dd5ae3a-ef8f-4848-85b8-26ba113d815e",
   "metadata": {},
   "outputs": [
    {
     "name": "stdout",
     "output_type": "stream",
     "text": [
      "<class 'dict'>\n",
      "{'analysis': [{'gr': 'A=срав', 'lex': 'значительный', 'wt': 0.2062520859}],\n",
      " 'text': 'значительнее'}\n"
     ]
    }
   ],
   "source": [
    "word_example = ana[12]\n",
    "print(type(word_example))\n",
    "pprint(word_example)"
   ]
  },
  {
   "cell_type": "code",
   "execution_count": 35,
   "id": "a32afef7-2bb9-46a9-8f13-5e2b635b0c87",
   "metadata": {},
   "outputs": [
    {
     "data": {
      "text/plain": [
       "dict_keys(['analysis', 'text'])"
      ]
     },
     "execution_count": 35,
     "metadata": {},
     "output_type": "execute_result"
    }
   ],
   "source": [
    "# Не всегда словарь имеет ключ 'analysis'. \n",
    "# Для пунктуации, пробелов и если pymystem не удается проанализровать слово, то такого ключа может и не быть.\n",
    "word_example.keys() "
   ]
  },
  {
   "cell_type": "code",
   "execution_count": 36,
   "id": "c16a1ef9-9f23-4d31-abc0-1d4b66c86fd9",
   "metadata": {},
   "outputs": [
    {
     "data": {
      "text/plain": [
       "'значительнее'"
      ]
     },
     "execution_count": 36,
     "metadata": {},
     "output_type": "execute_result"
    }
   ],
   "source": [
    "word_example['text']"
   ]
  },
  {
   "cell_type": "code",
   "execution_count": 37,
   "id": "9e945a3e-3ed2-4a0d-ac7b-e4c017aee360",
   "metadata": {},
   "outputs": [
    {
     "data": {
      "text/plain": [
       "[{'lex': 'значительный', 'wt': 0.2062520859, 'gr': 'A=срав'}]"
      ]
     },
     "execution_count": 37,
     "metadata": {},
     "output_type": "execute_result"
    }
   ],
   "source": [
    "word_example['analysis']"
   ]
  },
  {
   "cell_type": "code",
   "execution_count": 41,
   "id": "c67d4c00-c06e-4a1d-989e-4c29798d6dfb",
   "metadata": {},
   "outputs": [
    {
     "name": "stdout",
     "output_type": "stream",
     "text": [
      "type(tags) = <class 'str'>\n",
      "A=срав\n"
     ]
    }
   ],
   "source": [
    "tags = word_example['analysis'][0]['gr']\n",
    "print(f'{type(tags) = }')\n",
    "print(tags)"
   ]
  },
  {
   "cell_type": "markdown",
   "id": "91466673-66a0-437f-a7ed-ef02137931b5",
   "metadata": {},
   "source": [
    "В ключе **`text`** можно найти исходное слово, в **`analysis`** - грамматические характеристики и леммы, но его может и не быть.\n",
    "Для пунктуации, пробелов и если pymystem не удается проанализировать слово, то ключ **`analysis`** отсутствует в ответе.   \n",
    "В грамматическом разборе знаком ``=`` отделяются изменяемые характеристики от неизменяемых. Знаком ``|`` отделяются омонимичные разборы.  \n",
    "[**Ссылка на расшифровку граммем.**](https://yandex.ru/dev/mystem/doc/grammemes-values.html)"
   ]
  },
  {
   "cell_type": "code",
   "execution_count": 16,
   "id": "cb7c2cd6-d99c-4731-9ba5-ab6fe2fddbce",
   "metadata": {},
   "outputs": [
    {
     "name": "stdout",
     "output_type": "stream",
     "text": [
      "Но CONJ\n",
      "не PART\n",
      "становится V\n",
      "ли PART\n",
      "событие S\n",
      "тем CONJ\n",
      "значительнее A\n",
      "и CONJ\n",
      "исключительнее A\n",
      "чем CONJ\n",
      "большее A\n",
      "число S\n",
      "случайностей S\n",
      "приводит V\n",
      "к PR\n",
      "нему SPRO\n",
      "Лишь PART\n",
      "случайность S\n",
      "может V\n",
      "предстать V\n",
      "перед PR\n",
      "нами SPRO\n",
      "как CONJ\n",
      "послание S\n",
      "Все SPRO\n",
      "что CONJ\n",
      "происходит V\n",
      "по PR\n",
      "необходимости S\n",
      "что CONJ\n",
      "ожидаемо V\n",
      "что CONJ\n",
      "повторяется V\n",
      "всякий APRO\n",
      "день S\n",
      "то CONJ\n",
      "немо ADV\n",
      "Лишь PART\n",
      "случайность S\n",
      "о PR\n",
      "чем-то SPRO\n",
      "говорит V\n",
      "нам SPRO\n",
      "Мы SPRO\n",
      "стремимся V\n",
      "прочесть V\n",
      "ее SPRO\n",
      "как ADVPRO\n",
      "читают V\n",
      "цыганки S\n",
      "по PR\n",
      "узорам S\n",
      "начертанным V\n",
      "кофейной A\n",
      "гущей S\n",
      "на PR\n",
      "дне S\n",
      "чашки S\n"
     ]
    }
   ],
   "source": [
    "# Достанем все части речи:\n",
    "for word in ana:\n",
    "    if 'analysis' in word:\n",
    "        gr = word['analysis'][0]['gr']\n",
    "        pos = gr.split('=')[0].split(',')[0]\n",
    "        print(word['text'], pos)"
   ]
  },
  {
   "cell_type": "markdown",
   "id": "8ccd5325-ef66-4459-a027-e69ea1578173",
   "metadata": {},
   "source": [
    "## Итог:"
   ]
  },
  {
   "cell_type": "markdown",
   "id": "6e2369e3-28bb-430a-802c-277f932bbf04",
   "metadata": {},
   "source": [
    "**Достоинства Mystem'a:**\n",
    "\n",
    "- хорошее качество разбора\n",
    "- по умолчанию разрешается частеречная омонимия (внутри части речи остается)\n",
    "- при разборе учитывается контекст\n",
    "- совместим с разметкой НКРЯ\n",
    "\n",
    "**Недостатки Mystem'a:**\n",
    "\n",
    "- медленный, но есть способы ускорить"
   ]
  },
  {
   "cell_type": "markdown",
   "id": "a824e598-002c-467c-b9a3-f3631395a9f2",
   "metadata": {},
   "source": [
    "# Pymorphy"
   ]
  },
  {
   "cell_type": "markdown",
   "id": "45caae59-be3e-41d6-b4af-e1d16d2a4bcd",
   "metadata": {},
   "source": [
    "Может делать то же, что и pymystem3, и даже больше: изменять слова в нужную форму (спрягать и склонять). При этом pymorphy2 справляется и с незнакомыми словами.\n",
    "\n",
    "[Документация](https://pymorphy2.readthedocs.io/en/latest/)\n",
    "\n",
    "pymorphy2 обучался на словарях проекта OpenCorpora, что накладывается определённый отпечаток на его тагсет (например, он не очень хорошо совместим с тагсетом Mystem).\n",
    "\n",
    "Для работы точно так же надо создать экземпляр класса ``MorphAnalyzer``. Рекомендуется создать один экземпляр и дальше с ним и работать, поскольку он занимает достаточно много памяти, и если создать несколько экземпляров анализаторов, то они будут тормозить программу."
   ]
  },
  {
   "cell_type": "code",
   "execution_count": 45,
   "id": "344be031-2c69-4497-8b5d-1d3fcff07022",
   "metadata": {},
   "outputs": [],
   "source": [
    "from pymorphy2 import MorphAnalyzer\n",
    "morph = MorphAnalyzer()"
   ]
  },
  {
   "cell_type": "markdown",
   "id": "d2604824-31af-4daf-90ea-623f5b41247d",
   "metadata": {},
   "source": [
    "Разбор слова делается при помощи метода parse:"
   ]
  },
  {
   "cell_type": "code",
   "execution_count": 56,
   "id": "3d9ba737-aadc-42af-bfa2-323dae7c7c7c",
   "metadata": {},
   "outputs": [
    {
     "data": {
      "text/plain": [
       "[Parse(word='мама мыла раму', tag=OpencorporaTag('NOUN,anim,masc,Name sing,datv'), normal_form='мама мыла рам', score=1.0, methods_stack=((FakeDictionary(), 'мама мыла раму', 27, 2), (KnownSuffixAnalyzer(min_word_length=4, score_multiplier=0.5), 'раму')))]"
      ]
     },
     "execution_count": 56,
     "metadata": {},
     "output_type": "execute_result"
    }
   ],
   "source": [
    "morph.parse('мама мыла раму')"
   ]
  },
  {
   "cell_type": "code",
   "execution_count": 46,
   "id": "a01325fb-7c36-479c-8c42-8e46f6e8d15d",
   "metadata": {},
   "outputs": [
    {
     "data": {
      "text/plain": [
       "[Parse(word='стекло', tag=OpencorporaTag('NOUN,inan,neut sing,nomn'), normal_form='стекло', score=0.690476, methods_stack=((DictionaryAnalyzer(), 'стекло', 157, 0),)),\n",
       " Parse(word='стекло', tag=OpencorporaTag('NOUN,inan,neut sing,accs'), normal_form='стекло', score=0.285714, methods_stack=((DictionaryAnalyzer(), 'стекло', 157, 3),)),\n",
       " Parse(word='стекло', tag=OpencorporaTag('VERB,perf,intr neut,sing,past,indc'), normal_form='стечь', score=0.023809, methods_stack=((DictionaryAnalyzer(), 'стекло', 1015, 3),))]"
      ]
     },
     "execution_count": 46,
     "metadata": {},
     "output_type": "execute_result"
    }
   ],
   "source": [
    "ana = morph.parse('стекло')\n",
    "ana"
   ]
  },
  {
   "cell_type": "markdown",
   "id": "1562cde0-72df-4850-82f6-7c69f2a7bf9b",
   "metadata": {},
   "source": [
    "Как видно, анализатор вернул все возможные разборы этого слова, отранжировав их по вероятности.\n",
    "\n",
    "У каждого разбора есть атрибуты: исходное слово, тэг, лемма, вероятность разбора:"
   ]
  },
  {
   "cell_type": "code",
   "execution_count": 47,
   "id": "c7f9b2e0-a741-4ee0-bfad-991c1bbc665b",
   "metadata": {},
   "outputs": [
    {
     "name": "stdout",
     "output_type": "stream",
     "text": [
      "Слово: стекло\n",
      "Тэг: NOUN,inan,neut sing,nomn\n",
      "Лемма: стекло\n",
      "Вероятность: 0.690476\n"
     ]
    }
   ],
   "source": [
    "first = ana[0]  # первый разбор\n",
    "print('Слово:', first.word)\n",
    "print('Тэг:', first.tag)\n",
    "print('Лемма:', first.normal_form)\n",
    "print('Вероятность:', first.score)"
   ]
  },
  {
   "cell_type": "markdown",
   "id": "88f93f57-894d-4971-9c46-edb9317912fd",
   "metadata": {},
   "source": [
    "Для каждого разбора можно получить лемму и всю информацию о ней (т.е. еще один разбор, только уже для леммы):"
   ]
  },
  {
   "cell_type": "code",
   "execution_count": 48,
   "id": "26c72ffc-e601-4ef2-b940-7af052cd62c0",
   "metadata": {},
   "outputs": [
    {
     "data": {
      "text/plain": [
       "Parse(word='стекло', tag=OpencorporaTag('NOUN,inan,neut sing,nomn'), normal_form='стекло', score=0.690476, methods_stack=((DictionaryAnalyzer(), 'стекло', 157, 0),))"
      ]
     },
     "execution_count": 48,
     "metadata": {},
     "output_type": "execute_result"
    }
   ],
   "source": [
    "first.normalized"
   ]
  },
  {
   "cell_type": "code",
   "execution_count": 49,
   "id": "d9095e5b-4606-44f6-b33d-383f01d1e36e",
   "metadata": {},
   "outputs": [
    {
     "name": "stdout",
     "output_type": "stream",
     "text": [
      "Разбор слова:  Parse(word='стекло', tag=OpencorporaTag('VERB,perf,intr neut,sing,past,indc'), normal_form='стечь', score=0.023809, methods_stack=((DictionaryAnalyzer(), 'стекло', 1015, 3),))\n",
      "\n",
      "Разбор леммы:  Parse(word='стечь', tag=OpencorporaTag('INFN,perf,intr'), normal_form='стечь', score=1.0, methods_stack=((DictionaryAnalyzer(), 'стечь', 1015, 0),))\n"
     ]
    }
   ],
   "source": [
    "last = ana[-1] # последний разбор\n",
    "print('Разбор слова: ', last)\n",
    "print()\n",
    "print('Разбор леммы: ', last.normalized)"
   ]
  },
  {
   "cell_type": "markdown",
   "id": "3aa343e4-44ec-4b08-b935-11dd6bef5070",
   "metadata": {},
   "source": [
    "Если распечатать тег разбора, то может показаться, что это строка:"
   ]
  },
  {
   "cell_type": "code",
   "execution_count": 50,
   "id": "93f55547-9f9a-4e77-b204-4d23af4a3b01",
   "metadata": {},
   "outputs": [
    {
     "name": "stdout",
     "output_type": "stream",
     "text": [
      "NOUN,inan,neut sing,nomn\n"
     ]
    }
   ],
   "source": [
    "first = ana[0]  # первый разбор\n",
    "print(first.tag)"
   ]
  },
  {
   "cell_type": "markdown",
   "id": "3f17b5e1-bbbf-4641-b2e9-7026054b0910",
   "metadata": {},
   "source": [
    "Но на самом деле это объект класса OpencorporaTag, так что некоторые вещи, которые можно делать со строками, с тэгами делать нельзя. А некоторые все-таки можно.\n",
    "\n",
    "Например, можно проверить, есть ли какая-то граммема в теге:"
   ]
  },
  {
   "cell_type": "code",
   "execution_count": 51,
   "id": "71ce890b-9c50-4314-8ccc-99050e0c32bb",
   "metadata": {},
   "outputs": [
    {
     "data": {
      "text/plain": [
       "True"
      ]
     },
     "execution_count": 51,
     "metadata": {},
     "output_type": "execute_result"
    }
   ],
   "source": [
    "'NOUN' in first.tag"
   ]
  },
  {
   "cell_type": "code",
   "execution_count": 52,
   "id": "2d49576e-9e7f-4bdf-88d6-72d062e1e262",
   "metadata": {},
   "outputs": [
    {
     "data": {
      "text/plain": [
       "False"
      ]
     },
     "execution_count": 52,
     "metadata": {},
     "output_type": "execute_result"
    }
   ],
   "source": [
    "'VERB' in first.tag"
   ]
  },
  {
   "cell_type": "code",
   "execution_count": 53,
   "id": "37ac2676-decd-4e13-b9c8-1f7221c8b6c2",
   "metadata": {},
   "outputs": [
    {
     "data": {
      "text/plain": [
       "True"
      ]
     },
     "execution_count": 53,
     "metadata": {},
     "output_type": "execute_result"
    }
   ],
   "source": [
    "{'NOUN', 'inan'} in first.tag"
   ]
  },
  {
   "cell_type": "markdown",
   "id": "3752a647-3bf6-4970-8836-f0673f9c1887",
   "metadata": {},
   "source": [
    "Из каждого тега можно достать более дробную информацию. Если граммема есть в разборе, то вернется ее значение, если ее нет, то вернется None."
   ]
  },
  {
   "cell_type": "raw",
   "id": "beda4e1b-684c-46bf-885a-a0dccb8b3f70",
   "metadata": {},
   "source": [
    "p.tag.POS           # Part of Speech, часть речи\n",
    "p.tag.animacy       # одушевленность\n",
    "p.tag.aspect        # вид: совершенный или несовершенный\n",
    "p.tag.case          # падеж\n",
    "p.tag.gender        # род (мужской, женский, средний)\n",
    "p.tag.involvement   # включенность говорящего в действие\n",
    "p.tag.mood          # наклонение (повелительное, изъявительное)\n",
    "p.tag.number        # число (единственное, множественное)\n",
    "p.tag.person        # лицо (1, 2, 3)\n",
    "p.tag.tense         # время (настоящее, прошедшее, будущее)\n",
    "p.tag.transitivity  # переходность (переходный, непереходный)\n",
    "p.tag.voice         # залог (действительный, страдательный)"
   ]
  },
  {
   "cell_type": "code",
   "execution_count": 54,
   "id": "4b5ab0f0-5efe-4e0b-9345-b071767138fe",
   "metadata": {},
   "outputs": [
    {
     "name": "stdout",
     "output_type": "stream",
     "text": [
      "VERB,perf,intr neut,sing,past,indc\n",
      "Время:  past\n",
      "Падеж:  None\n"
     ]
    }
   ],
   "source": [
    "print(last.tag)\n",
    "print('Время: ', last.tag.tense)\n",
    "print('Падеж: ', last.tag.case)"
   ]
  },
  {
   "cell_type": "markdown",
   "id": "2cd99b19-a8e0-425a-921e-f1f77c34d3ce",
   "metadata": {},
   "source": [
    "Список граммем, которые используются в модуле, находится здесь - https://pymorphy2.readthedocs.io/en/latest/user/grammemes.html.\n",
    "\n",
    "Если искать какую-то граммему, которой нет в этом списке, возникнет ошибка.\n",
    "\n",
    "Можно получить строку с кириллическими обозначениями граммем:"
   ]
  },
  {
   "cell_type": "code",
   "execution_count": 55,
   "id": "06b2f0c5-16cc-416f-ae80-6ea20b05a50a",
   "metadata": {},
   "outputs": [
    {
     "data": {
      "text/plain": [
       "'СУЩ,неод,ср ед,им'"
      ]
     },
     "execution_count": 55,
     "metadata": {},
     "output_type": "execute_result"
    }
   ],
   "source": [
    "first.tag.cyr_repr"
   ]
  },
  {
   "cell_type": "markdown",
   "id": "4207c1f6-cb41-4e71-86fc-e0264ee98aec",
   "metadata": {},
   "source": [
    "## Словоизменение\n",
    "\n",
    "Если у нас есть разбор слова, то мы можем это слово поставить в другую форму с помощью функции inflect. Эта функция получает на вход множество граммем и пытается применить их к нашему разбору."
   ]
  },
  {
   "cell_type": "code",
   "execution_count": 58,
   "id": "009f8f9b-f4eb-4e0d-bc18-bc3c0eaf1d88",
   "metadata": {},
   "outputs": [
    {
     "data": {
      "text/plain": [
       "[Parse(word='программирую', tag=OpencorporaTag('VERB,impf,tran sing,1per,pres,indc'), normal_form='программировать', score=1.0, methods_stack=((DictionaryAnalyzer(), 'программирую', 171, 1),))]"
      ]
     },
     "execution_count": 58,
     "metadata": {},
     "output_type": "execute_result"
    }
   ],
   "source": [
    "morph.parse('программирую')"
   ]
  },
  {
   "cell_type": "code",
   "execution_count": 59,
   "id": "b1642ef4-670d-4cc5-9354-3ca6c6236078",
   "metadata": {},
   "outputs": [
    {
     "data": {
      "text/plain": [
       "Parse(word='программируем', tag=OpencorporaTag('VERB,impf,tran plur,1per,pres,indc'), normal_form='программировать', score=1.0, methods_stack=((DictionaryAnalyzer(), 'программируем', 171, 2),))"
      ]
     },
     "execution_count": 59,
     "metadata": {},
     "output_type": "execute_result"
    }
   ],
   "source": [
    "prog = morph.parse('программирую')[0]\n",
    "prog.inflect({'plur'})"
   ]
  },
  {
   "cell_type": "code",
   "execution_count": 60,
   "id": "f6b8826f-61f4-4569-8e43-586af1c55c89",
   "metadata": {},
   "outputs": [
    {
     "data": {
      "text/plain": [
       "Parse(word='программировали', tag=OpencorporaTag('VERB,impf,tran plur,past,indc'), normal_form='программировать', score=1.0, methods_stack=((DictionaryAnalyzer(), 'программировали', 171, 10),))"
      ]
     },
     "execution_count": 60,
     "metadata": {},
     "output_type": "execute_result"
    }
   ],
   "source": [
    "prog.inflect({'plur', 'past'})"
   ]
  },
  {
   "cell_type": "code",
   "execution_count": 61,
   "id": "640d5bd5-315a-410f-8895-3efc8eab9fbb",
   "metadata": {},
   "outputs": [
    {
     "data": {
      "text/plain": [
       "Parse(word='программировал', tag=OpencorporaTag('VERB,impf,tran masc,sing,past,indc'), normal_form='программировать', score=1.0, methods_stack=((DictionaryAnalyzer(), 'программировал', 171, 7),))"
      ]
     },
     "execution_count": 61,
     "metadata": {},
     "output_type": "execute_result"
    }
   ],
   "source": [
    "prog.inflect({'past'})"
   ]
  },
  {
   "cell_type": "code",
   "execution_count": 62,
   "id": "4daa0676-c58b-46d5-85da-c180374d31f0",
   "metadata": {},
   "outputs": [
    {
     "data": {
      "text/plain": [
       "'программировала'"
      ]
     },
     "execution_count": 62,
     "metadata": {},
     "output_type": "execute_result"
    }
   ],
   "source": [
    "prog.inflect({'past', 'femn'})[0]"
   ]
  },
  {
   "cell_type": "markdown",
   "id": "3bb7dc19-5207-4a37-ab05-29f4f9cd599f",
   "metadata": {},
   "source": [
    "**Формы слова**\n",
    "\n",
    "С помощью атрибута lexeme можно получить массив всех форм слова:"
   ]
  },
  {
   "cell_type": "code",
   "execution_count": 63,
   "id": "277fbf89-0b69-4a56-9cb7-7a84ddb93f0f",
   "metadata": {},
   "outputs": [
    {
     "data": {
      "text/plain": [
       "[Parse(word='программировать', tag=OpencorporaTag('INFN,impf,tran'), normal_form='программировать', score=1.0, methods_stack=((DictionaryAnalyzer(), 'программировать', 171, 0),)),\n",
       " Parse(word='программирую', tag=OpencorporaTag('VERB,impf,tran sing,1per,pres,indc'), normal_form='программировать', score=1.0, methods_stack=((DictionaryAnalyzer(), 'программирую', 171, 1),)),\n",
       " Parse(word='программируем', tag=OpencorporaTag('VERB,impf,tran plur,1per,pres,indc'), normal_form='программировать', score=1.0, methods_stack=((DictionaryAnalyzer(), 'программируем', 171, 2),)),\n",
       " Parse(word='программируешь', tag=OpencorporaTag('VERB,impf,tran sing,2per,pres,indc'), normal_form='программировать', score=1.0, methods_stack=((DictionaryAnalyzer(), 'программируешь', 171, 3),)),\n",
       " Parse(word='программируете', tag=OpencorporaTag('VERB,impf,tran plur,2per,pres,indc'), normal_form='программировать', score=1.0, methods_stack=((DictionaryAnalyzer(), 'программируете', 171, 4),))]"
      ]
     },
     "execution_count": 63,
     "metadata": {},
     "output_type": "execute_result"
    }
   ],
   "source": [
    "prog.lexeme[:5]"
   ]
  },
  {
   "cell_type": "markdown",
   "id": "789d63af-4072-4e90-affd-d1a978e7ba07",
   "metadata": {},
   "source": [
    "**Согласование слов с числительными**\n",
    "\n",
    "Из документации:\n",
    "\n",
    "    Слово нужно ставить в разные формы в зависимости от числительного, к которому оно относится. Например: “1 бутявка”, “2 бутявки”, “5 бутявок” Для этих целей используйте метод Parse.make_agree_with_number():"
   ]
  },
  {
   "cell_type": "code",
   "execution_count": 64,
   "id": "1c9f98ab-3ce2-4af1-8db3-53ce43003260",
   "metadata": {},
   "outputs": [],
   "source": [
    "butyavka = morph.parse('бутявка')[0]"
   ]
  },
  {
   "cell_type": "code",
   "execution_count": 65,
   "id": "ad9c2d85-7b8b-4c41-9032-80285bb00843",
   "metadata": {},
   "outputs": [
    {
     "data": {
      "text/plain": [
       "'бутявка'"
      ]
     },
     "execution_count": 65,
     "metadata": {},
     "output_type": "execute_result"
    }
   ],
   "source": [
    "butyavka.make_agree_with_number(1).word"
   ]
  },
  {
   "cell_type": "code",
   "execution_count": 66,
   "id": "a87a10aa-4fbb-4f0e-af5a-a37c179a659c",
   "metadata": {},
   "outputs": [
    {
     "data": {
      "text/plain": [
       "'бутявки'"
      ]
     },
     "execution_count": 66,
     "metadata": {},
     "output_type": "execute_result"
    }
   ],
   "source": [
    "butyavka.make_agree_with_number(2).word"
   ]
  },
  {
   "cell_type": "code",
   "execution_count": 67,
   "id": "05c8a348-3808-41cc-9886-fce75938329b",
   "metadata": {},
   "outputs": [
    {
     "data": {
      "text/plain": [
       "'бутявок'"
      ]
     },
     "execution_count": 67,
     "metadata": {},
     "output_type": "execute_result"
    }
   ],
   "source": [
    "butyavka.make_agree_with_number(5).word"
   ]
  },
  {
   "cell_type": "markdown",
   "id": "1c813946-ff25-4bf2-878c-035d573897ee",
   "metadata": {},
   "source": [
    "## Итог\n",
    "\n",
    "**Достоинства Pymorphy:**\n",
    "\n",
    "- умеет составлять разборы, находить лемму, склонять и спрягать\n",
    "- генерирует гипотезы для незнакомых слов\n",
    "- может работать с украинским языком (но словари нужно отдельно устанавливать)\n",
    "\n",
    "**Недостатки Pymorphy:**\n",
    "\n",
    "- качество хуже, чем у Mystem\n",
    "- работает только на уровне отдельных слов (и естественно, не учитывает контекст)"
   ]
  },
  {
   "cell_type": "markdown",
   "id": "f5a1c32e-465e-407d-a576-6feab2567413",
   "metadata": {},
   "source": [
    "**Небольшой хак**\n",
    "\n",
    "Pymorphy и так работает очень быстро, но можно еще быстрее, если мы будем сохранять разборы для очень популярных слов"
   ]
  },
  {
   "cell_type": "markdown",
   "id": "15acaed7-8814-4bf3-ac72-fb03df0e9741",
   "metadata": {},
   "source": [
    "# Сравнение скорости лемматизации"
   ]
  },
  {
   "cell_type": "code",
   "execution_count": 90,
   "id": "9af861f0-43a1-4e0a-8385-fb163784e9e3",
   "metadata": {},
   "outputs": [],
   "source": [
    "from string import punctuation"
   ]
  },
  {
   "cell_type": "code",
   "execution_count": 69,
   "id": "8071e748-6de8-4f6a-9a93-215de6d75a93",
   "metadata": {},
   "outputs": [
    {
     "data": {
      "text/plain": [
       "'!\"#$%&\\'()*+,-./:;<=>?@[\\\\]^_`{|}~'"
      ]
     },
     "execution_count": 69,
     "metadata": {},
     "output_type": "execute_result"
    }
   ],
   "source": [
    "punctuation"
   ]
  },
  {
   "cell_type": "code",
   "execution_count": 91,
   "id": "e97f37cf-acac-4818-bcdb-f45513b2d5c7",
   "metadata": {},
   "outputs": [],
   "source": [
    "text = open('./input_files/nabokov.txt').read()\n",
    "text = [word.lower().strip(punctuation) for word in text.split()]\n",
    "text = [word for word in text if word != '']"
   ]
  },
  {
   "cell_type": "markdown",
   "id": "16a5ac0b-76fd-4aea-ac51-f7ab98a318e9",
   "metadata": {},
   "source": [
    "### Чистый Pymorphy"
   ]
  },
  {
   "cell_type": "code",
   "execution_count": 92,
   "id": "ec5e7c1b-fdab-4ed2-8c0a-b8df7864f7fc",
   "metadata": {},
   "outputs": [
    {
     "name": "stdout",
     "output_type": "stream",
     "text": [
      "4.62 s ± 124 ms per loop (mean ± std. dev. of 7 runs, 1 loop each)\n"
     ]
    }
   ],
   "source": [
    "%%timeit\n",
    "lemmas = []\n",
    "\n",
    "for word in text:\n",
    "    lemmas.append(morph.parse(word)[0].normal_form)"
   ]
  },
  {
   "cell_type": "markdown",
   "id": "93a96128-78e0-433a-82a8-66cb1ae02c7b",
   "metadata": {},
   "source": [
    "### Pymorphy + запоминание слов"
   ]
  },
  {
   "cell_type": "code",
   "execution_count": 79,
   "id": "d86a3e18-a6c2-4737-823e-53a785675227",
   "metadata": {},
   "outputs": [
    {
     "name": "stdout",
     "output_type": "stream",
     "text": [
      "1.26 s ± 76.6 ms per loop (mean ± std. dev. of 7 runs, 1 loop each)\n"
     ]
    }
   ],
   "source": [
    "%%timeit\n",
    "lemmas = []\n",
    "known_words = {}\n",
    "\n",
    "for word in text:\n",
    "    if word in known_words:\n",
    "        lemmas.append(known_words[word])\n",
    "    else:\n",
    "        result = morph.parse(word)[0].normal_form\n",
    "        lemmas.append(result)\n",
    "        known_words[word] = result"
   ]
  },
  {
   "cell_type": "markdown",
   "id": "2450e0d1-32a2-4da4-97d2-07033bddcbaf",
   "metadata": {},
   "source": [
    "Мы просто запоминаем леммы и поэтому не парсим слово каждый раз, а берем из быстрого хранилища готовый результат. Это может серьезно загружать память (при больших объемах), но значительно сократит время работы."
   ]
  },
  {
   "cell_type": "markdown",
   "id": "96c2e330-dec3-4478-bb83-cde72da86b53",
   "metadata": {},
   "source": [
    "### Pymorphy + кэширование запусков\n",
    "Вариант ниже похож на тот где мы использовали словарь, в котором хранили те слова, которые уже встречались ранее.  \n",
    "Толь здесь это сделанно на уровне кэшировования. То есть мы храними историю запусков нужной нам функции при заданных параметрах.  \n",
    "Если в кэше мы находим что данная функция уже запускалась с такими параметрами, то берем результат из истории запусков.  \n",
    "Если комбинация параметров новая, то запускаем исходную функцию.\n",
    "\n",
    "LRU - Least Recently Used, удаляет из сохраненного справочника запусков наиболее редкие запуски."
   ]
  },
  {
   "cell_type": "code",
   "execution_count": 83,
   "id": "05669d3d-e565-42bc-8321-4dcc0a7fa10b",
   "metadata": {},
   "outputs": [],
   "source": [
    "from functools import lru_cache"
   ]
  },
  {
   "cell_type": "code",
   "execution_count": 85,
   "id": "5cb1ecae-4d0d-4c3b-bf7b-d28c155a3b68",
   "metadata": {},
   "outputs": [
    {
     "name": "stdout",
     "output_type": "stream",
     "text": [
      "1.29 s ± 41.3 ms per loop (mean ± std. dev. of 7 runs, 1 loop each)\n"
     ]
    }
   ],
   "source": [
    "%%timeit\n",
    "lemmas = []\n",
    "\n",
    "@lru_cache(maxsize=1000000)\n",
    "def parse_word(word):\n",
    "    morph.parse(word)[0].normal_form\n",
    "        \n",
    "for word in text:\n",
    "    lemmas.append(parse_word(word))"
   ]
  },
  {
   "cell_type": "markdown",
   "id": "52317812-996d-4326-9cf6-380b48cc3344",
   "metadata": {},
   "source": [
    "### Pymystem"
   ]
  },
  {
   "cell_type": "code",
   "execution_count": 102,
   "id": "1f90718b-6313-4bc6-89e0-602c5df82789",
   "metadata": {},
   "outputs": [],
   "source": [
    "text = open('./input_files/nabokov.txt').read()"
   ]
  },
  {
   "cell_type": "code",
   "execution_count": 103,
   "id": "d921c7e3-a4d1-45f9-a57c-fabeeb31e680",
   "metadata": {
    "tags": []
   },
   "outputs": [
    {
     "name": "stdout",
     "output_type": "stream",
     "text": [
      "805 ms ± 11 ms per loop (mean ± std. dev. of 7 runs, 1 loop each)\n"
     ]
    }
   ],
   "source": [
    "%%timeit\n",
    "lemmas = mystem.lemmatize(text)"
   ]
  },
  {
   "cell_type": "markdown",
   "id": "480ed44d-801e-46ec-aa16-241b60bcdae0",
   "metadata": {},
   "source": [
    "**НО!** Если мы будем запускать лемматизацию по словам, то скорость снизится + мы потеряем тот бонус, что pymystem учитывает контекст.\n",
    "Поэтому иногда выгодно придумать какой то уникальный разделить между отдельными текстами и объединить их используя этот разделитель.  \n",
    "А объединенный текст подать на вход в mystem."
   ]
  },
  {
   "cell_type": "code",
   "execution_count": 104,
   "id": "53d29c7c-e616-45a8-92c5-d82a04334a58",
   "metadata": {},
   "outputs": [],
   "source": [
    "text = open('./input_files/nabokov.txt').read()\n",
    "text = [word.lower().strip(punctuation) for word in text.split()]\n",
    "text = [word for word in text if word != '']"
   ]
  },
  {
   "cell_type": "code",
   "execution_count": 105,
   "id": "39b58b91-049a-4439-a6b9-159d673eafc2",
   "metadata": {},
   "outputs": [
    {
     "name": "stdout",
     "output_type": "stream",
     "text": [
      "1.37 s ± 93.3 ms per loop (mean ± std. dev. of 7 runs, 1 loop each)\n"
     ]
    }
   ],
   "source": [
    "%%timeit\n",
    "lemmas = []\n",
    "\n",
    "for word in text:\n",
    "    lemmas.append(mystem.lemmatize(word))"
   ]
  },
  {
   "cell_type": "markdown",
   "id": "c5b1de96-630c-4236-9106-d52652403932",
   "metadata": {},
   "source": [
    "### NLTK\n",
    "Это уже не просто морфологический анализатор, а целая NLP библиотека!  \n",
    "Что мы тут можем делать? Можем тоекнизировать какой-нибудь текст."
   ]
  },
  {
   "cell_type": "code",
   "execution_count": 106,
   "id": "ac627c62-40fb-42d7-9356-0f4bd18c0965",
   "metadata": {},
   "outputs": [],
   "source": [
    "text = \"\"\"\n",
    "Такой зеленый, серый, то есть\n",
    "весь заштрихованный дождем,\n",
    "и липовое, столь густое,\n",
    "что я перенести - уйдем!\n",
    "Уйдем и этот сад оставим\n",
    "и дождь, кипящий на тропах\n",
    "между тяжелыми цветами,\n",
    "целующими липкий прах.\n",
    "Уйдем, уйдем, пока не поздно,\n",
    "скорее, под плащом, домой,\n",
    "пока еще ты не опознан,\n",
    "безумный мой, безумный мой!\n",
    "\n",
    "Держусь, молчу. Но с годом каждым,\n",
    "под гомон птиц и шум ветвей,\n",
    "разлука та обидней кажется,\n",
    "обида кажется глупей.\n",
    "И все страшней, что опрометчиво\n",
    "проговорюсь и перебью\n",
    "теченье тихой, трудной речи,\n",
    "давно проникшей в жизнь мою.\n",
    "\n",
    "Над краснощекими рабами\n",
    "лазурь как лаковая вся,\n",
    "с накачанными облаками,\n",
    "едва заметными толчками\n",
    "передвигающимися.\n",
    "Ужель нельзя там притулиться\n",
    "и нет там темного угла,\n",
    "где темнота могла бы слиться\n",
    "с иероглифами крыла?\n",
    "Так бабочка не шевелится\n",
    "пластом на плесени ствола.\n",
    "\n",
    "Какой закат! И завтра снова,\n",
    "и долго-долго быть жаре,\n",
    "что безошибочно основано\n",
    "на тишине и мошкаре.\n",
    "В луче вечернем повисая,\n",
    "она толчется без конца,\n",
    "как бы игрушка золотая\n",
    "в руках немого продавца.\n",
    "\n",
    "Как я люблю тебя. Есть в этом\n",
    "вечернем воздухе порой\n",
    "лазейки для души, просветы\n",
    "в тончайшей ткани мировой.\n",
    "Лучи проходят меж стволами.\n",
    "Как я люблю тебя! Лучи\n",
    "проходят меж стволами, пламенем\n",
    "ложатся на стволы. Молчи.\n",
    "Замри под веткою расцветшей,\n",
    "вдохни, какое разлилось -\n",
    "зажмурься, уменьшись и в вечное\n",
    "пройди украдкою насквозь.\n",
    "\"\"\""
   ]
  },
  {
   "cell_type": "code",
   "execution_count": 107,
   "id": "e3109c2f-f62f-4244-ad97-2a6654865129",
   "metadata": {},
   "outputs": [
    {
     "name": "stdout",
     "output_type": "stream",
     "text": [
      "['Такой', 'зеленый', ',', 'серый', ',', 'то', 'есть', 'весь', 'заштрихованный', 'дождем', ',', 'и', 'липовое', ',', 'столь', 'густое', ',', 'что', 'я', 'перенести', '-', 'уйдем', '!', 'Уйдем', 'и', 'этот', 'сад', 'оставим', 'и', 'дождь', ',', 'кипящий', 'на', 'тропах', 'между', 'тяжелыми', 'цветами', ',', 'целующими', 'липкий', 'прах', '.', 'Уйдем', ',', 'уйдем', ',', 'пока', 'не', 'поздно', ',', 'скорее', ',', 'под', 'плащом', ',', 'домой', ',', 'пока', 'еще', 'ты', 'не', 'опознан', ',', 'безумный', 'мой', ',', 'безумный', 'мой', '!', 'Держусь', ',', 'молчу', '.', 'Но', 'с', 'годом', 'каждым', ',', 'под', 'гомон', 'птиц', 'и', 'шум', 'ветвей', ',', 'разлука', 'та', 'обидней', 'кажется', ',', 'обида', 'кажется', 'глупей', '.', 'И', 'все', 'страшней', ',', 'что', 'опрометчиво', 'проговорюсь', 'и', 'перебью', 'теченье', 'тихой', ',', 'трудной', 'речи', ',', 'давно', 'проникшей', 'в', 'жизнь', 'мою', '.', 'Над', 'краснощекими', 'рабами', 'лазурь', 'как', 'лаковая', 'вся', ',', 'с', 'накачанными', 'облаками', ',', 'едва', 'заметными', 'толчками', 'передвигающимися', '.', 'Ужель', 'нельзя', 'там', 'притулиться', 'и', 'нет', 'там', 'темного', 'угла', ',', 'где', 'темнота', 'могла', 'бы', 'слиться', 'с', 'иероглифами', 'крыла', '?', 'Так', 'бабочка', 'не', 'шевелится', 'пластом', 'на', 'плесени', 'ствола', '.', 'Какой', 'закат', '!', 'И', 'завтра', 'снова', ',', 'и', 'долго-долго', 'быть', 'жаре', ',', 'что', 'безошибочно', 'основано', 'на', 'тишине', 'и', 'мошкаре', '.', 'В', 'луче', 'вечернем', 'повисая', ',', 'она', 'толчется', 'без', 'конца', ',', 'как', 'бы', 'игрушка', 'золотая', 'в', 'руках', 'немого', 'продавца', '.', 'Как', 'я', 'люблю', 'тебя', '.', 'Есть', 'в', 'этом', 'вечернем', 'воздухе', 'порой', 'лазейки', 'для', 'души', ',', 'просветы', 'в', 'тончайшей', 'ткани', 'мировой', '.', 'Лучи', 'проходят', 'меж', 'стволами', '.', 'Как', 'я', 'люблю', 'тебя', '!', 'Лучи', 'проходят', 'меж', 'стволами', ',', 'пламенем', 'ложатся', 'на', 'стволы', '.', 'Молчи', '.', 'Замри', 'под', 'веткою', 'расцветшей', ',', 'вдохни', ',', 'какое', 'разлилось', '-', 'зажмурься', ',', 'уменьшись', 'и', 'в', 'вечное', 'пройди', 'украдкою', 'насквозь', '.']\n",
      "CPU times: user 7.07 ms, sys: 1.31 ms, total: 8.38 ms\n",
      "Wall time: 10.5 ms\n"
     ]
    }
   ],
   "source": [
    "import nltk\n",
    "from nltk.tokenize import word_tokenize\n",
    "\n",
    "%time print(word_tokenize(text))"
   ]
  },
  {
   "cell_type": "markdown",
   "id": "9b4f1fa2-298f-4a8f-9446-c9a32b622a37",
   "metadata": {},
   "source": [
    "Можем разделить текст на предложения (сплиттинг):"
   ]
  },
  {
   "cell_type": "code",
   "execution_count": 108,
   "id": "229ac5fb-edc1-48ef-aafa-5839b25c2208",
   "metadata": {},
   "outputs": [
    {
     "data": {
      "text/plain": [
       "['\\nТакой зеленый, серый, то есть\\nвесь заштрихованный дождем,\\nи липовое, столь густое,\\nчто я перенести - уйдем!',\n",
       " 'Уйдем и этот сад оставим\\nи дождь, кипящий на тропах\\nмежду тяжелыми цветами,\\nцелующими липкий прах.',\n",
       " 'Уйдем, уйдем, пока не поздно,\\nскорее, под плащом, домой,\\nпока еще ты не опознан,\\nбезумный мой, безумный мой!',\n",
       " 'Держусь, молчу.',\n",
       " 'Но с годом каждым,\\nпод гомон птиц и шум ветвей,\\nразлука та обидней кажется,\\nобида кажется глупей.',\n",
       " 'И все страшней, что опрометчиво\\nпроговорюсь и перебью\\nтеченье тихой, трудной речи,\\nдавно проникшей в жизнь мою.',\n",
       " 'Над краснощекими рабами\\nлазурь как лаковая вся,\\nс накачанными облаками,\\nедва заметными толчками\\nпередвигающимися.',\n",
       " 'Ужель нельзя там притулиться\\nи нет там темного угла,\\nгде темнота могла бы слиться\\nс иероглифами крыла?',\n",
       " 'Так бабочка не шевелится\\nпластом на плесени ствола.',\n",
       " 'Какой закат!',\n",
       " 'И завтра снова,\\nи долго-долго быть жаре,\\nчто безошибочно основано\\nна тишине и мошкаре.',\n",
       " 'В луче вечернем повисая,\\nона толчется без конца,\\nкак бы игрушка золотая\\nв руках немого продавца.',\n",
       " 'Как я люблю тебя.',\n",
       " 'Есть в этом\\nвечернем воздухе порой\\nлазейки для души, просветы\\nв тончайшей ткани мировой.',\n",
       " 'Лучи проходят меж стволами.',\n",
       " 'Как я люблю тебя!',\n",
       " 'Лучи\\nпроходят меж стволами, пламенем\\nложатся на стволы.',\n",
       " 'Молчи.',\n",
       " 'Замри под веткою расцветшей,\\nвдохни, какое разлилось -\\nзажмурься, уменьшись и в вечное\\nпройди украдкою насквозь.']"
      ]
     },
     "execution_count": 108,
     "metadata": {},
     "output_type": "execute_result"
    }
   ],
   "source": [
    "from nltk.tokenize import sent_tokenize\n",
    "\n",
    "sent_tokenize(text)"
   ]
  },
  {
   "cell_type": "markdown",
   "id": "dffcdd82-884f-48a9-9129-8b0670d87b2a",
   "metadata": {},
   "source": [
    "NLTK может удалять стоп слова. Стоп-слова - это высокочастотные союзы, предлоги и другие служебные части речи, которые не дают нам никакой информации о конкретном тексте. В NLTK есть готовые списки стоп-слов (да-да, и для русского тоже есть)."
   ]
  },
  {
   "cell_type": "code",
   "execution_count": null,
   "id": "e133d7a7-6423-4a04-a25a-28f1a2d86e3b",
   "metadata": {},
   "outputs": [],
   "source": [
    "nltk.download('stopwords')"
   ]
  },
  {
   "cell_type": "code",
   "execution_count": 111,
   "id": "443242b7-0419-4fcf-a37a-a3081c6cefe4",
   "metadata": {},
   "outputs": [
    {
     "name": "stderr",
     "output_type": "stream",
     "text": [
      "[nltk_data] Downloading package stopwords to\n",
      "[nltk_data]     /Users/u14510182/nltk_data...\n",
      "[nltk_data]   Unzipping corpora/stopwords.zip.\n"
     ]
    },
    {
     "data": {
      "text/plain": [
       "True"
      ]
     },
     "execution_count": 111,
     "metadata": {},
     "output_type": "execute_result"
    }
   ],
   "source": [
    "import ssl\n",
    "try:\n",
    "    _create_unverified_https_context = ssl._create_unverified_context\n",
    "except AttributeError:\n",
    "    pass\n",
    "else:\n",
    "    ssl._create_default_https_context = _create_unverified_https_context\n",
    "nltk.download('stopwords')"
   ]
  },
  {
   "cell_type": "code",
   "execution_count": 112,
   "id": "74818111-fc24-4fc6-852a-45d26a996fae",
   "metadata": {},
   "outputs": [
    {
     "name": "stdout",
     "output_type": "stream",
     "text": [
      "['и', 'в', 'во', 'не', 'что', 'он', 'на', 'я', 'с', 'со', 'как', 'а', 'то', 'все', 'она', 'так', 'его', 'но', 'да', 'ты', 'к', 'у', 'же', 'вы', 'за', 'бы', 'по', 'только', 'ее', 'мне', 'было', 'вот', 'от', 'меня', 'еще', 'нет', 'о', 'из', 'ему', 'теперь', 'когда', 'даже', 'ну', 'вдруг', 'ли', 'если', 'уже', 'или', 'ни', 'быть', 'был', 'него', 'до', 'вас', 'нибудь', 'опять', 'уж', 'вам', 'ведь', 'там', 'потом', 'себя', 'ничего', 'ей', 'может', 'они', 'тут', 'где', 'есть', 'надо', 'ней', 'для', 'мы', 'тебя', 'их', 'чем', 'была', 'сам', 'чтоб', 'без', 'будто', 'чего', 'раз', 'тоже', 'себе', 'под', 'будет', 'ж', 'тогда', 'кто', 'этот', 'того', 'потому', 'этого', 'какой', 'совсем', 'ним', 'здесь', 'этом', 'один', 'почти', 'мой', 'тем', 'чтобы', 'нее', 'сейчас', 'были', 'куда', 'зачем', 'всех', 'никогда', 'можно', 'при', 'наконец', 'два', 'об', 'другой', 'хоть', 'после', 'над', 'больше', 'тот', 'через', 'эти', 'нас', 'про', 'всего', 'них', 'какая', 'много', 'разве', 'три', 'эту', 'моя', 'впрочем', 'хорошо', 'свою', 'этой', 'перед', 'иногда', 'лучше', 'чуть', 'том', 'нельзя', 'такой', 'им', 'более', 'всегда', 'конечно', 'всю', 'между']\n"
     ]
    }
   ],
   "source": [
    "from nltk.corpus import stopwords\n",
    "\n",
    "# загружаем нужный список стоп-слов\n",
    "sw = stopwords.words('russian')\n",
    "\n",
    "# смотрим, что внутри\n",
    "print(sw)"
   ]
  },
  {
   "cell_type": "code",
   "execution_count": 113,
   "id": "0a8e42b1-233f-4a88-a0e5-b2290e1d3933",
   "metadata": {},
   "outputs": [
    {
     "name": "stdout",
     "output_type": "stream",
     "text": [
      "['зеленый', 'серый', 'весь', 'заштрихованный', 'дождем', 'липовое', 'столь', 'густое', 'перенести', 'уйдем', 'уйдем', 'сад', 'оставим', 'дождь', 'кипящий', 'тропах', 'тяжелыми', 'цветами', 'целующими', 'липкий', 'прах', 'уйдем', 'уйдем', 'пока', 'поздно', 'скорее', 'плащом', 'домой', 'пока', 'опознан', 'безумный', 'безумный', 'держусь', 'молчу', 'годом', 'каждым', 'гомон', 'птиц', 'шум', 'ветвей', 'разлука', 'та', 'обидней', 'кажется', 'обида', 'кажется', 'глупей', 'страшней', 'опрометчиво', 'проговорюсь', 'перебью', 'теченье', 'тихой', 'трудной', 'речи', 'давно', 'проникшей', 'жизнь', 'мою', 'краснощекими', 'рабами', 'лазурь', 'лаковая', 'вся', 'накачанными', 'облаками', 'едва', 'заметными', 'толчками', 'передвигающимися', 'ужель', 'притулиться', 'темного', 'угла', 'темнота', 'могла', 'слиться', 'иероглифами', 'крыла', 'бабочка', 'шевелится', 'пластом', 'плесени', 'ствола', 'закат', 'завтра', 'снова', 'жаре', 'безошибочно', 'основано', 'тишине', 'мошкаре', 'луче', 'вечернем', 'повисая', 'толчется', 'конца', 'игрушка', 'золотая', 'руках', 'немого', 'продавца', 'люблю', 'вечернем', 'воздухе', 'порой', 'лазейки', 'души', 'просветы', 'тончайшей', 'ткани', 'мировой', 'лучи', 'проходят', 'меж', 'стволами', 'люблю', 'лучи', 'проходят', 'меж', 'стволами', 'пламенем', 'ложатся', 'стволы', 'молчи', 'замри', 'веткою', 'расцветшей', 'вдохни', 'какое', 'разлилось', 'зажмурься', 'уменьшись', 'вечное', 'пройди', 'украдкою', 'насквозь']\n"
     ]
    }
   ],
   "source": [
    "# токенизируем текст, приводим к нижнему регистру и оставляем только последовательности из букв,\n",
    "# т.е. все токены, где были знаки препинания и числа, исчезнут\n",
    "words = [w.lower() for w in word_tokenize(text) if w.isalpha()]\n",
    "\n",
    "# какие слова исчезли?\n",
    "filtered = [w for w in words if w not in sw]\n",
    "print(filtered)"
   ]
  },
  {
   "cell_type": "markdown",
   "id": "dba18fc2-605f-4ca1-a09a-3544bfe0b527",
   "metadata": {},
   "source": [
    "И наконец-то стемминг"
   ]
  },
  {
   "cell_type": "code",
   "execution_count": 114,
   "id": "718c8bec-355a-460a-9e7a-8fea3a21c923",
   "metadata": {},
   "outputs": [],
   "source": [
    "# умеет работать не только с английским текстом\n",
    "\n",
    "from nltk.stem.snowball import SnowballStemmer\n",
    "\n",
    "snowball = SnowballStemmer(\"russian\")"
   ]
  },
  {
   "cell_type": "code",
   "execution_count": 115,
   "id": "35b1984a-17ed-4773-961d-3a96f7ddf794",
   "metadata": {},
   "outputs": [
    {
     "name": "stdout",
     "output_type": "stream",
     "text": [
      "бабочка: бабочк\n",
      "без: без\n",
      "безошибочно: безошибочн\n",
      "безумный: безумн\n",
      "бы: бы\n",
      "быть: быт\n",
      "в: в\n",
      "вдохни: вдохн\n",
      "весь: ве\n",
      "ветвей: ветв\n",
      "веткою: ветк\n",
      "вечернем: вечерн\n",
      "вечное: вечн\n",
      "воздухе: воздух\n",
      "все: все\n",
      "вся: вся\n",
      "где: где\n",
      "глупей: глуп\n",
      "годом: год\n",
      "гомон: гомон\n",
      "густое: густ\n",
      "давно: давн\n",
      "для: для\n",
      "дождем: дожд\n",
      "дождь: дожд\n",
      "долго-долго: долго-долг\n",
      "домой: дом\n",
      "души: душ\n",
      "едва: едв\n",
      "есть: ест\n"
     ]
    }
   ],
   "source": [
    "ruswords = set(word_tokenize(text))\n",
    "\n",
    "for w in sorted(ruswords)[20:50]:\n",
    "    print(\"%s: %s\" % (w, snowball.stem(w)))"
   ]
  },
  {
   "cell_type": "markdown",
   "id": "e9516af9-531d-4891-a6c0-72987ff46a2f",
   "metadata": {},
   "source": [
    "По-моему, качество -- просто дно.\n",
    "\n",
    "А в лемматизации тут нет русского, но в целом good to know."
   ]
  },
  {
   "cell_type": "code",
   "execution_count": 118,
   "id": "e32aa459-6a76-4916-983b-ad47bcaec407",
   "metadata": {},
   "outputs": [
    {
     "name": "stderr",
     "output_type": "stream",
     "text": [
      "[nltk_data] Downloading package omw-1.4 to\n",
      "[nltk_data]     /Users/u14510182/nltk_data...\n"
     ]
    },
    {
     "data": {
      "text/plain": [
       "True"
      ]
     },
     "execution_count": 118,
     "metadata": {},
     "output_type": "execute_result"
    }
   ],
   "source": [
    "nltk.download('omw-1.4')"
   ]
  },
  {
   "cell_type": "code",
   "execution_count": 119,
   "id": "6a49ef04-aaf5-4456-8b75-748a7355b40b",
   "metadata": {},
   "outputs": [],
   "source": [
    "from nltk import WordNetLemmatizer\n",
    "\n",
    "wnl = WordNetLemmatizer()"
   ]
  },
  {
   "cell_type": "code",
   "execution_count": 120,
   "id": "e9b78369-2930-401b-a1b3-3671191c76be",
   "metadata": {},
   "outputs": [
    {
     "data": {
      "text/plain": [
       "'run'"
      ]
     },
     "execution_count": 120,
     "metadata": {},
     "output_type": "execute_result"
    }
   ],
   "source": [
    "wnl.lemmatize('running', pos='v')"
   ]
  },
  {
   "cell_type": "markdown",
   "id": "a3f446da-9fc8-4c4b-954e-6415626638b2",
   "metadata": {},
   "source": [
    "## Задание\n",
    "\n",
    "Текст - первая глава произведения \"Дар\" Набокова. Файл nabokov.txt у нас в репозитории.\n",
    "\n",
    "1. Первое задание - это небольшой эксперимент. Возьмите пять любых абзацев из текста и распарсите их двумя способами. 1) просто через pymystem (.analyze) и 2) через pymystem, предварительно почистив текст от пунктуации (тоже .analyze). Замерить, что из этого быстрее с помощью line magic ``%time some_python_expression_here``\n",
    "2. Токенизируйте весь текст с помощью nltk. \n",
    "3. Почистите его от знаков препинания (тут пригодится список из первого задания), стоп-слов (с помощью nltk) и слов не на кириллице. Сделайте регистр lower у всх слов.\n",
    "4. Лемматизируйте с помощью pymorphy (.normal_form)\n",
    "5. Cоставьте частотный список слов. Выведите 20 самых частотных слов вообще.\n",
    "6. Найдите 20 самых частотных существительных.\n",
    "7. В тексте (списку слов), полчившемся после пункта 3 (токенизированному и почищенному), поищите биграммы. Для этого нужно будет посмотреть nltk документацию про nltk.bigrams(). Выведите 10 самых частотных биграммов.\n",
    " \n",
    "Напоминание:\n",
    "\n",
    "**N-граммы** — это сочетания из N элементов (слов, символов), идущих друг за другом. Одиночные элементы называются униграммами, сочетания из двух элементов — биграммами, из трёх — триграммами, а дальше все пишется цифрами: 4-граммы, 5-граммы и т.д."
   ]
  },
  {
   "cell_type": "code",
   "execution_count": null,
   "id": "4eceb5bd-a12b-4acd-85a8-eaa92e5e1b05",
   "metadata": {},
   "outputs": [],
   "source": []
  }
 ],
 "metadata": {
  "kernelspec": {
   "display_name": "Python 3 (ipykernel)",
   "language": "python",
   "name": "python3"
  },
  "language_info": {
   "codemirror_mode": {
    "name": "ipython",
    "version": 3
   },
   "file_extension": ".py",
   "mimetype": "text/x-python",
   "name": "python",
   "nbconvert_exporter": "python",
   "pygments_lexer": "ipython3",
   "version": "3.9.6"
  }
 },
 "nbformat": 4,
 "nbformat_minor": 5
}
