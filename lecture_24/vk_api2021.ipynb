{
 "cells": [
  {
   "cell_type": "markdown",
   "metadata": {},
   "source": [
    "# VK API\n",
    "\n",
    "VK API бесплатное, но нужно получить доступ\n",
    "\n",
    "\n",
    "**Авторизация**\n",
    "\n",
    "1. Перейти по ссылке https://vk.com/apps?act=manage\n",
    "2. Создать новое приложение: standalone-приложение, название любое\n",
    "3. Необходимо получить код подтверждения, может быть по номеру телефона\n",
    "4. Если все ок, то вы перейдете в настройки приложения, там можно увидеть ключи доступа. На интересует **сервисный ключ доступа**\n",
    "\n",
    "**Версии**\n",
    "\n",
    "У API есть версии, поэтому вместе с токеном мы еще передаем информацию о том, какую версию мы используем. Версия отличает тем, какие параметры подаются, но больше это касается того, в каком виде мы получим ответ (структура ответа или наличие тех или иных полей может меняться от версии к версии)."
   ]
  },
  {
   "cell_type": "code",
   "execution_count": null,
   "metadata": {},
   "outputs": [],
   "source": [
    "import requests\n",
    "from tqdm.auto import tqdm\n",
    "from datetime import datetime\n",
    "import time\n",
    "import pandas as pd"
   ]
  },
  {
   "cell_type": "markdown",
   "metadata": {},
   "source": [
    "Зафиксируем версию и токен в константах. В качестве токена подставляется сервисный ключ из настроек приложения. Укажем ту, которая дефолтно показывается в документации."
   ]
  },
  {
   "cell_type": "code",
   "execution_count": null,
   "metadata": {},
   "outputs": [],
   "source": [
    "TOKEN = \"5ddc69ee5ddc69ee5ddc69ee8f5eceded755ddc5ddc69ee3e2c0305f599d50fb0c3ca0c\"\n",
    "VERSION = \"5.130\""
   ]
  },
  {
   "cell_type": "markdown",
   "metadata": {},
   "source": [
    "## Метод wall.get\n",
    "\n",
    "Первое, что мы сделаем - попробуем скачать информацию со стены, чтобы научиться собирать текстовые данные.\n",
    "\n",
    "Подробная документация по ссылке: https://vk.com/dev/wall.get. Тут можно посмотреть на пример запроса, описание полей."
   ]
  },
  {
   "cell_type": "code",
   "execution_count": null,
   "metadata": {},
   "outputs": [],
   "source": [
    "wall_get_url = \"https://api.vk.com/method/wall.get\" # endpoint, на который мы отправляем такие запросы"
   ]
  },
  {
   "cell_type": "markdown",
   "metadata": {},
   "source": [
    "Запрашиваем 2 последних поста со страницы юзера с id = 1 (Павел Дуров). \n",
    "\n",
    "Для сообществ ID будут отрицательными (например, -1)"
   ]
  },
  {
   "cell_type": "code",
   "execution_count": null,
   "metadata": {},
   "outputs": [],
   "source": [
    "data = requests.get(\n",
    "    wall_get_url, \n",
    "    params={\n",
    "        \"owner_id\": 1,  # ID юзера\n",
    "        \"count\": 2,  # кол-во постов\n",
    "        \"v\": VERSION, # версия API\n",
    "        \"access_token\": TOKEN  # токен доступа\n",
    "    }\n",
    ").json()"
   ]
  },
  {
   "cell_type": "markdown",
   "metadata": {},
   "source": [
    "Мы получим ответ, который представляет собой словарь, где по ключу response лежит сам ответ.\n",
    "\n",
    "Внутри лежит параметр count с числом записей (всего). В items сами посты (2, как мы просили).\n",
    "\n",
    "Для каждого поста есть информация по объекту post. Подробное описание на странице https://vk.com/dev/objects/post"
   ]
  },
  {
   "cell_type": "code",
   "execution_count": null,
   "metadata": {},
   "outputs": [],
   "source": [
    "type(data)"
   ]
  },
  {
   "cell_type": "code",
   "execution_count": null,
   "metadata": {},
   "outputs": [],
   "source": [
    "data.keys()"
   ]
  },
  {
   "cell_type": "code",
   "execution_count": null,
   "metadata": {},
   "outputs": [],
   "source": [
    "data['response'].keys()"
   ]
  },
  {
   "cell_type": "code",
   "execution_count": null,
   "metadata": {},
   "outputs": [],
   "source": [
    "data['response']['count']"
   ]
  },
  {
   "cell_type": "code",
   "execution_count": null,
   "metadata": {},
   "outputs": [],
   "source": [
    "type(data['response']['items'])"
   ]
  },
  {
   "cell_type": "code",
   "execution_count": null,
   "metadata": {},
   "outputs": [],
   "source": [
    "len(data['response']['items'])"
   ]
  },
  {
   "cell_type": "code",
   "execution_count": null,
   "metadata": {},
   "outputs": [],
   "source": [
    "data['response']['items'][0]"
   ]
  },
  {
   "cell_type": "code",
   "execution_count": null,
   "metadata": {},
   "outputs": [],
   "source": []
  },
  {
   "cell_type": "markdown",
   "metadata": {},
   "source": [
    "Можно заметить, что дата отображается в виде числа. Это специальный формат unixtimestamp, который очень часто используется, так как целые числа - это универсальный способ хранения, который можно исопльзовать в любой системе (JSON, любые БД и прочие)"
   ]
  },
  {
   "cell_type": "code",
   "execution_count": null,
   "metadata": {},
   "outputs": [],
   "source": [
    "unixtime = data['response']['items'][0]['date']\n",
    "utc = datetime.fromtimestamp(unixtime)\n",
    "print(unixtime, utc)"
   ]
  },
  {
   "cell_type": "markdown",
   "metadata": {},
   "source": [
    "## wall.getComments\n",
    "\n",
    "Следующий метод - это сбор комментариев к посту, что тоже может быть интересно для изучения диалогов или чего-то подобного.\n",
    "\n",
    "Основные параметры: owner_id, post_id. Их мы можем достать из информации о постах на стене.\n",
    "\n",
    "Можно это сделать и вручную, например, если открыть пост во всплывающем окне, то по адресу в адресной строке можно понять эти id.\n",
    "\n",
    "https://vk.com/id1?w=wall1_2442097 : owner_id = 1, post_id = 2442097\n",
    "\n",
    "Для примера возьмем пост из СМИ, где можно оставлять комментарии."
   ]
  },
  {
   "cell_type": "code",
   "execution_count": null,
   "metadata": {},
   "outputs": [],
   "source": [
    "get_comments_url = \"https://api.vk.com/method/wall.getComments\""
   ]
  },
  {
   "cell_type": "code",
   "execution_count": null,
   "metadata": {},
   "outputs": [],
   "source": [
    "data = requests.get(\n",
    "    get_comments_url, \n",
    "    params={\n",
    "        \"owner_id\": -76982440,\n",
    "        \"post_id\": 5011073,\n",
    "        \"count\": 2,\n",
    "        \"need_likes\": 1,\n",
    "        \"v\": VERSION,\n",
    "        \"access_token\": TOKEN\n",
    "    }\n",
    ").json()"
   ]
  },
  {
   "cell_type": "code",
   "execution_count": null,
   "metadata": {},
   "outputs": [],
   "source": [
    "data"
   ]
  },
  {
   "cell_type": "code",
   "execution_count": null,
   "metadata": {},
   "outputs": [],
   "source": [
    "{'response': {'count': 16,\n",
    "  'items': [{'id': 5011074,\n",
    "    'from_id': 432646319,\n",
    "    'post_id': 5011073,\n",
    "    'owner_id': -76982440,\n",
    "    'parents_stack': [],\n",
    "    'date': 1618533695,\n",
    "    'text': 'Страна советов',\n",
    "    'likes': {'count': 14, 'user_likes': 0, 'can_like': 1},\n",
    "    'thread': {'count': 0,\n",
    "     'items': [],\n",
    "     'can_post': True,\n",
    "     'show_reply_button': True,\n",
    "     'groups_can_post': True}},\n",
    "   {'id': 5011078,\n",
    "    'from_id': 174352380,\n",
    "    'post_id': 5011073,\n",
    "    'owner_id': -76982440,\n",
    "    'parents_stack': [],\n",
    "    'date': 1618533953,\n",
    "    'text': 'Красавчик 👍🏼❤️',\n",
    "    'likes': {'count': 0, 'user_likes': 0, 'can_like': 1},\n",
    "    'thread': {'count': 0,\n",
    "     'items': [],\n",
    "     'can_post': True,\n",
    "     'show_reply_button': True,\n",
    "     'groups_can_post': True}}],\n",
    "  'current_level_count': 10,\n",
    "  'can_post': True,\n",
    "  'show_reply_button': True,\n",
    "  'groups_can_post': True}}"
   ]
  },
  {
   "cell_type": "markdown",
   "metadata": {},
   "source": [
    "## groups.getMembers\n",
    "\n",
    "Можно получить информацию о пользователях, например, о тех, кто подписан на опредленную группу.\n",
    "\n",
    "Попробуем еще параметр offset, который может пригодиться, когда данных много и придется скачивать \"страницы\" или блоки по 100 или 1000 объектов (1000 - ограничение для этого метода)"
   ]
  },
  {
   "cell_type": "code",
   "execution_count": null,
   "metadata": {},
   "outputs": [],
   "source": [
    "group_members = \"https://api.vk.com/method/groups.getMembers\""
   ]
  },
  {
   "cell_type": "code",
   "execution_count": null,
   "metadata": {},
   "outputs": [],
   "source": [
    "group = \"dormitory8hse\""
   ]
  },
  {
   "cell_type": "code",
   "execution_count": null,
   "metadata": {},
   "outputs": [],
   "source": [
    "data = requests.get(\n",
    "    group_members,\n",
    "    params={\n",
    "        'group_id': group,\n",
    "        'access_token': TOKEN,\n",
    "        'v': VERSION,\n",
    "        'offset': 0\n",
    "    }\n",
    ").json()"
   ]
  },
  {
   "cell_type": "code",
   "execution_count": null,
   "metadata": {
    "tags": []
   },
   "outputs": [],
   "source": [
    "data[\"response\"].keys()"
   ]
  },
  {
   "cell_type": "markdown",
   "metadata": {},
   "source": [
    "Кол-во объектов всего"
   ]
  },
  {
   "cell_type": "code",
   "execution_count": null,
   "metadata": {},
   "outputs": [],
   "source": [
    "data[\"response\"][\"count\"]"
   ]
  },
  {
   "cell_type": "markdown",
   "metadata": {},
   "source": [
    "В качестве ответа по людям - просто список ID. По ним уже дальше можно запрашивать подробную информацию о пользователях."
   ]
  },
  {
   "cell_type": "code",
   "execution_count": null,
   "metadata": {},
   "outputs": [],
   "source": [
    "len(data[\"response\"][\"items\"])"
   ]
  },
  {
   "cell_type": "code",
   "execution_count": null,
   "metadata": {
    "tags": []
   },
   "outputs": [],
   "source": [
    "data[\"response\"][\"items\"][:10]"
   ]
  },
  {
   "cell_type": "markdown",
   "metadata": {},
   "source": [
    "А теперь следующая страница. Это можно делать в цикле, чтобы выкачать всех"
   ]
  },
  {
   "cell_type": "code",
   "execution_count": null,
   "metadata": {},
   "outputs": [],
   "source": [
    "data = requests.get(\n",
    "    group_members,\n",
    "    params={\n",
    "        'group_id': group,\n",
    "        'access_token': TOKEN,\n",
    "        'v': VERSION,\n",
    "        'offset': 1000\n",
    "    }\n",
    ").json()\n",
    "\n",
    "data[\"response\"][\"items\"][:10]"
   ]
  },
  {
   "cell_type": "markdown",
   "metadata": {},
   "source": [
    "## users.get\n",
    "\n",
    "Попробуем собрать информацию о тех, кто попал"
   ]
  },
  {
   "cell_type": "code",
   "execution_count": null,
   "metadata": {},
   "outputs": [],
   "source": [
    "users_get_url = \"https://api.vk.com/method/users.get\""
   ]
  },
  {
   "cell_type": "code",
   "execution_count": null,
   "metadata": {},
   "outputs": [],
   "source": [
    "all_users_data = []\n",
    "\n",
    "for user in tqdm(data[\"response\"][\"items\"][:500]):\n",
    "    user_info = requests.get(\n",
    "        users_get_url,\n",
    "        params={\n",
    "            'user_ids': user,\n",
    "            'fields': 'bdate,home_town,universities',\n",
    "            'access_token': TOKEN,\n",
    "            'v': VERSION\n",
    "        }\n",
    "    ).json()\n",
    "    all_users_data.extend(user_info[\"response\"])\n",
    "    time.sleep(0.2) # ОГРАНИЧЕНИЕ ПО ВРЕМЕНИ"
   ]
  },
  {
   "cell_type": "code",
   "execution_count": null,
   "metadata": {},
   "outputs": [],
   "source": [
    "user_info"
   ]
  },
  {
   "cell_type": "code",
   "execution_count": null,
   "metadata": {},
   "outputs": [],
   "source": [
    "df = pd.DataFrame(all_users_data)\n",
    "# чтобы не показывать в открытом месте данные, возьмем для демонстрации толькодва столбца\n",
    "# df = df.dropna(subset=[\"home_town\", \"universities\"])\n",
    "# df = df[[\"home_town\", \"universities\"]] "
   ]
  },
  {
   "cell_type": "code",
   "execution_count": null,
   "metadata": {},
   "outputs": [],
   "source": [
    "df.head()"
   ]
  },
  {
   "cell_type": "markdown",
   "metadata": {},
   "source": [
    "Университеты нужно еще дальше разбирать, а вот города можно подсчитать сразу"
   ]
  },
  {
   "cell_type": "code",
   "execution_count": null,
   "metadata": {},
   "outputs": [],
   "source": [
    "df[\"home_town\"].value_counts()"
   ]
  },
  {
   "cell_type": "markdown",
   "metadata": {},
   "source": [
    "Видно, что не все идеально (есть сразу несколько), но после препроцессинга может быть ок."
   ]
  },
  {
   "cell_type": "markdown",
   "metadata": {},
   "source": [
    "## Задание\n",
    "\n",
    "### 1\n",
    "\n",
    "Попробовать собрать данные участников одной из групп и подсчитать статистику по какому-либо параметру (город, год рождения или иное).\n",
    "\n",
    "1. Выбираем группу\n",
    "2. Делаем пробный запрос\n",
    "3. Пишем цикл по сбору (установка offset +1000 каждый раз)\n",
    "4. Сохраняем ID\n",
    "5. В цикле получаем информацию по пользователям\n",
    "6. Сохраняем в датафрейм\n",
    "7. Считаем статистику (и делаем препроцессинг, если нужно)\n",
    "\n",
    "### 2\n",
    "\n",
    "Собрать посты и/или комментарии, где авторы разные и попробовать сравнить употребление какого-либо слова у двух групп пользователей (Москва / не-Москва, Петербург / Москва, любые другие). Возможно, данных нужно будет много, но можно попробовать популярное слово. Главное - попробовать сделать основу для решения подобной задачи.\n",
    "\n",
    "1. Выбираем группу\n",
    "2. Собраем посты, сохраняем.\n",
    "3. Для каждого поста собираем комментарии\n",
    "4. По всем объектам собираем уникальные айди пользователей (лучше в порядке убывания частоты появления\n",
    "5. Собираем информацию по ним, выделяем наши группы\n",
    "6. Лемматизируем (если надо)\n",
    "7. Считаем стастику"
   ]
  },
  {
   "cell_type": "markdown",
   "metadata": {},
   "source": [
    "# Задача 1"
   ]
  },
  {
   "cell_type": "code",
   "execution_count": null,
   "metadata": {},
   "outputs": [],
   "source": [
    "group = \"dormitory8hse\"\n",
    "group_id_get_url = \"https://api.vk.com/method/utils.resolveScreenName\"\n",
    "group_members = \"https://api.vk.com/method/groups.getMembers\"\n",
    "wall_get_url = \"https://api.vk.com/method/wall.get\"\n",
    "get_comments_url = \"https://api.vk.com/method/wall.getComments\"\n",
    "users_get_url = \"https://api.vk.com/method/users.get\""
   ]
  },
  {
   "cell_type": "code",
   "execution_count": null,
   "metadata": {},
   "outputs": [],
   "source": [
    "group_id = requests.get(\n",
    "    group_id_get_url,\n",
    "    params={\n",
    "        'screen_name': group,\n",
    "        'access_token': TOKEN,\n",
    "        'v': VERSION\n",
    "    }\n",
    ").json()\n",
    "group_id"
   ]
  },
  {
   "cell_type": "code",
   "execution_count": null,
   "metadata": {},
   "outputs": [],
   "source": [
    "all_data_posts = []\n",
    "\n",
    "for i in tqdm(range(10)):\n",
    "    data_posts = requests.get(\n",
    "        wall_get_url,\n",
    "        params={\n",
    "            'owner_id': -group_id['response']['object_id'],\n",
    "            'access_token': TOKEN,\n",
    "            'v': VERSION,\n",
    "            'count': 100,\n",
    "            'offset': i*100\n",
    "        }\n",
    "    ).json()\n",
    "    all_data_posts.extend(data_posts['response']['items'])\n",
    "    time.sleep(0.1) # ОГРАНИЧЕНИЕ ПО ВРЕМЕНИ"
   ]
  },
  {
   "cell_type": "code",
   "execution_count": null,
   "metadata": {},
   "outputs": [],
   "source": [
    "len(all_data_posts)"
   ]
  },
  {
   "cell_type": "code",
   "execution_count": null,
   "metadata": {
    "tags": []
   },
   "outputs": [],
   "source": [
    "all_data_posts[2]"
   ]
  },
  {
   "cell_type": "code",
   "execution_count": null,
   "metadata": {
    "tags": []
   },
   "outputs": [],
   "source": [
    "result = []\n",
    "for post in tqdm(all_data_posts):\n",
    "    data = requests.get(\n",
    "        get_comments_url, \n",
    "        params={\n",
    "            \"owner_id\": -group_id['response']['object_id'],\n",
    "            \"post_id\": post['id'],\n",
    "            \"count\": 100,\n",
    "            \"v\": VERSION,\n",
    "            \"access_token\": TOKEN\n",
    "        }\n",
    "    ).json()\n",
    "    result.append(data)\n",
    "    time.sleep(0.1) # ОГРАНИЧЕНИЕ ПО ВРЕМЕНИ"
   ]
  },
  {
   "cell_type": "code",
   "execution_count": null,
   "metadata": {},
   "outputs": [],
   "source": [
    "result[3]"
   ]
  },
  {
   "cell_type": "code",
   "execution_count": null,
   "metadata": {},
   "outputs": [],
   "source": [
    "post_comments = [x['response']['items'] for x in result if 'response' in x and x['response']['count'] > 0]"
   ]
  },
  {
   "cell_type": "code",
   "execution_count": null,
   "metadata": {},
   "outputs": [],
   "source": [
    "post_comments = [comment for cooments in post_comments for comment in cooments]"
   ]
  },
  {
   "cell_type": "code",
   "execution_count": null,
   "metadata": {},
   "outputs": [],
   "source": [
    "len(post_comments)"
   ]
  },
  {
   "cell_type": "code",
   "execution_count": null,
   "metadata": {
    "tags": []
   },
   "outputs": [],
   "source": [
    "post_comments"
   ]
  },
  {
   "cell_type": "code",
   "execution_count": null,
   "metadata": {},
   "outputs": [],
   "source": [
    "uniq_users = list(set([comment['from_id'] for comment in post_comments if comment['from_id'] != 0]))\n",
    "len(uniq_users), uniq_users[:10]"
   ]
  },
  {
   "cell_type": "code",
   "execution_count": null,
   "metadata": {},
   "outputs": [],
   "source": [
    "user_result = []\n",
    "for user in tqdm(uniq_users):\n",
    "    data = requests.get(\n",
    "        users_get_url, \n",
    "        params={\n",
    "            'user_ids': user,\n",
    "            'fields': 'activities,about,books,career,sex,bdate,interests,home_town,universities',\n",
    "            'access_token': TOKEN,\n",
    "            'v': VERSION\n",
    "        }\n",
    "    ).json()\n",
    "    user_result.append(data)\n",
    "    time.sleep(0.1) # ОГРАНИЧЕНИЕ ПО ВРЕМЕНИ"
   ]
  },
  {
   "cell_type": "code",
   "execution_count": null,
   "metadata": {},
   "outputs": [],
   "source": [
    "user_result"
   ]
  },
  {
   "cell_type": "code",
   "execution_count": null,
   "metadata": {},
   "outputs": [],
   "source": []
  }
 ],
 "metadata": {
  "kernelspec": {
   "display_name": "Python 3 (ipykernel)",
   "language": "python",
   "name": "python3"
  },
  "language_info": {
   "codemirror_mode": {
    "name": "ipython",
    "version": 3
   },
   "file_extension": ".py",
   "mimetype": "text/x-python",
   "name": "python",
   "nbconvert_exporter": "python",
   "pygments_lexer": "ipython3",
   "version": "3.9.13"
  }
 },
 "nbformat": 4,
 "nbformat_minor": 4
}
