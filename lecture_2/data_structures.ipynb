{
 "cells": [
  {
   "cell_type": "markdown",
   "metadata": {},
   "source": [
    "# Структуры данных"
   ]
  },
  {
   "cell_type": "markdown",
   "metadata": {},
   "source": [
    "# План занятия\n",
    "\n",
    "1. Списки (list)\n",
    "2. Словари (dict)\n",
    "3. Кортежи (tuple)\n",
    "4. Множества (set)\n",
    "5. defaultdict\n",
    "6. Counter"
   ]
  },
  {
   "cell_type": "markdown",
   "metadata": {},
   "source": [
    "# Зачем?\n",
    "\n",
    "Структуры данных - это база питона, потому что невозможно просто хранить значения переменных в виде строки или числа, нужно как-то организовать их наборы. Выбор правильной структуры данных дает больше возможностей для использования и повышает скорость работы программы, что важно для работы с большими объемами данных"
   ]
  },
  {
   "cell_type": "markdown",
   "metadata": {},
   "source": [
    "# Список (list)\n",
    "List по сути это **упорядоченный** список/массив произвольных элементов.  \n",
    "Основные свойства:  \n",
    "- списки имеют порядок (тот порядок, в котором вы записали в него элементы, он и хранит)  \n",
    "- в списке можно хранить объекты произвольного типа, включая сами списки  \n",
    "- элементы списка доступны через индекс, поэтому доступны операции среза, сортировки и тд. (Нумерация начинается с 0)  \n",
    "- списки относятся к изменяемым типам данных.  \n",
    "\n",
    "Далее рассмотрим каждое из этих свойств."
   ]
  },
  {
   "cell_type": "markdown",
   "metadata": {},
   "source": [
    "## Свойства списка"
   ]
  },
  {
   "cell_type": "code",
   "execution_count": 1,
   "metadata": {},
   "outputs": [
    {
     "data": {
      "text/plain": [
       "[1, 2, 3]"
      ]
     },
     "execution_count": 1,
     "metadata": {},
     "output_type": "execute_result"
    }
   ],
   "source": [
    "# Инициализация\n",
    "list_obj = [1,2,3]\n",
    "list_obj # хранится в том порядке, в котором и создавали"
   ]
  },
  {
   "cell_type": "code",
   "execution_count": 1,
   "metadata": {},
   "outputs": [
    {
     "name": "stdout",
     "output_type": "stream",
     "text": [
      "[]\n"
     ]
    },
    {
     "data": {
      "text/plain": [
       "True"
      ]
     },
     "execution_count": 1,
     "metadata": {},
     "output_type": "execute_result"
    }
   ],
   "source": [
    "list_obj = [] # Список может быть пустым\n",
    "print(list_obj)\n",
    "[] == list()"
   ]
  },
  {
   "cell_type": "code",
   "execution_count": 2,
   "metadata": {},
   "outputs": [
    {
     "data": {
      "text/plain": [
       "[1, 2, 3, 'dfsf', True, [0, 0, 0]]"
      ]
     },
     "execution_count": 2,
     "metadata": {},
     "output_type": "execute_result"
    }
   ],
   "source": [
    "list_obj = [1,2,3,'dfsf', True, [0,0,0]]\n",
    "list_obj # произвольные типы данных внутри списка"
   ]
  },
  {
   "cell_type": "markdown",
   "metadata": {},
   "source": [
    "**Срез - это копия части массива. Параметры задаются в квадратных скобках после имени списка.**"
   ]
  },
  {
   "cell_type": "code",
   "execution_count": 3,
   "metadata": {},
   "outputs": [
    {
     "data": {
      "text/plain": [
       "[1, 2, 3, 'dfsf', True, [0, 0, 0]]"
      ]
     },
     "execution_count": 3,
     "metadata": {},
     "output_type": "execute_result"
    }
   ],
   "source": [
    "list_obj[:] # такая операция создает копию списка!"
   ]
  },
  {
   "cell_type": "code",
   "execution_count": 4,
   "metadata": {},
   "outputs": [
    {
     "name": "stdout",
     "output_type": "stream",
     "text": [
      "list_obj[0] = 0\n",
      "list_obj[-1] = 8\n",
      "list_obj[:3] = [0, 1, 2]\n",
      "list_obj[-3:] = [6, 7, 8]\n",
      "list_obj[::-1] = [8, 7, 6, 5, 4, 3, 2, 1, 0]\n",
      "list_obj[::2] = [0, 2, 4, 6, 8]\n"
     ]
    },
    {
     "ename": "IndexError",
     "evalue": "list index out of range",
     "output_type": "error",
     "traceback": [
      "\u001b[0;31m---------------------------------------------------------------------------\u001b[0m",
      "\u001b[0;31mIndexError\u001b[0m                                Traceback (most recent call last)",
      "Input \u001b[0;32mIn [4]\u001b[0m, in \u001b[0;36m<cell line: 9>\u001b[0;34m()\u001b[0m\n\u001b[1;32m      7\u001b[0m \u001b[38;5;28mprint\u001b[39m(\u001b[38;5;124mf\u001b[39m\u001b[38;5;124m'\u001b[39m\u001b[38;5;132;01m{\u001b[39;00mlist_obj[::\u001b[38;5;241m-\u001b[39m\u001b[38;5;241m1\u001b[39m] \u001b[38;5;132;01m= }\u001b[39;00m\u001b[38;5;124m'\u001b[39m)  \u001b[38;5;66;03m# элементы в обратном порядке\u001b[39;00m\n\u001b[1;32m      8\u001b[0m \u001b[38;5;28mprint\u001b[39m(\u001b[38;5;124mf\u001b[39m\u001b[38;5;124m'\u001b[39m\u001b[38;5;132;01m{\u001b[39;00mlist_obj[::\u001b[38;5;241m2\u001b[39m] \u001b[38;5;132;01m= }\u001b[39;00m\u001b[38;5;124m'\u001b[39m) \u001b[38;5;66;03m# элементы с шагом 2 \u001b[39;00m\n\u001b[0;32m----> 9\u001b[0m \u001b[38;5;28mprint\u001b[39m(\u001b[38;5;124mf\u001b[39m\u001b[38;5;124m'\u001b[39m\u001b[38;5;132;01m{\u001b[39;00mlist_obj[\u001b[38;5;241m20\u001b[39m] \u001b[38;5;132;01m= }\u001b[39;00m\u001b[38;5;124m'\u001b[39m)\n",
      "\u001b[0;31mIndexError\u001b[0m: list index out of range"
     ]
    }
   ],
   "source": [
    "# Индексация и срезы\n",
    "list_obj = [0,1,2,3,4,5,6,7,8]\n",
    "print(f'{list_obj[0] = }')\n",
    "print(f'{list_obj[-1] = }')\n",
    "print(f'{list_obj[:3] = }')\n",
    "print(f'{list_obj[-3:] = }')\n",
    "print(f'{list_obj[::-1] = }')  # элементы в обратном порядке\n",
    "print(f'{list_obj[::2] = }') # элементы с шагом 2 \n",
    "print(f'{list_obj[20] = }')"
   ]
  },
  {
   "cell_type": "code",
   "execution_count": null,
   "metadata": {},
   "outputs": [],
   "source": [
    "# TODO: выведете элементы в обратном порядке с шагом 2\n",
    "# YOUR CODE"
   ]
  },
  {
   "cell_type": "code",
   "execution_count": 15,
   "metadata": {},
   "outputs": [
    {
     "data": {
      "text/plain": [
       "[10, 1, 2, 3, 4, 5, 6, 7, 8]"
      ]
     },
     "execution_count": 15,
     "metadata": {},
     "output_type": "execute_result"
    }
   ],
   "source": [
    "list_obj = [0,1,2,3,4,5,6,7,8]\n",
    "list_obj[0] = 10\n",
    "list_obj"
   ]
  },
  {
   "cell_type": "markdown",
   "metadata": {},
   "source": [
    "<div class=\"alert alert-block alert-info\">\n",
    "<b>Tip:</b> Нужно быть аккуратными, когда список содержит изменяемые элементы!\n",
    "Потому что бывает так:\n",
    "</div>"
   ]
  },
  {
   "cell_type": "code",
   "execution_count": 30,
   "metadata": {},
   "outputs": [
    {
     "name": "stdout",
     "output_type": "stream",
     "text": [
      "[[1, 2, 3], 1, 5, 6]\n",
      "[[9, 2, 3], 1, 5, 6]\n",
      "[[9, 2, 3], 1, 5, 6]\n"
     ]
    }
   ],
   "source": [
    "a = [1, 2, 3]\n",
    "b = [a, 1, 5, 6]\n",
    "print(b)\n",
    "a[0] = 9\n",
    "print(b)\n",
    "a = [20, 10, 11]\n",
    "print(b)"
   ]
  },
  {
   "cell_type": "markdown",
   "metadata": {},
   "source": [
    "### Вопрос\n",
    "a = [1, 2, 3]    \n",
    "b = [a, 1, 5, 6]  \n",
    "___\n",
    "\n",
    "a[0] = 9   \n",
    "Чему теперь равно b?  \n",
    "___\n",
    "\n",
    "b[0][0] = 100  \n",
    "Чему теперь равно a? \n",
    "___\n",
    "\n",
    "b[0] = 'rrrr'  \n",
    "Чему теперь равно b и a? "
   ]
  },
  {
   "cell_type": "code",
   "execution_count": 8,
   "metadata": {},
   "outputs": [],
   "source": [
    "sentence = \"Из этого предложения получится список\"\n",
    "#TODO: разбить строку на минимальные элементы, т.е. посимвольно\n",
    "#TODO: разбить строку на слова по пробелам"
   ]
  },
  {
   "cell_type": "markdown",
   "metadata": {},
   "source": [
    "<div class=\"alert alert-block alert-info\">\n",
    "<b>Tip:</b> list принимает на вход либо ни одного аргумента, либо один, но он должен быть итерируем (по нему можно пройти циклом for, например, строка)\n",
    "</div>"
   ]
  },
  {
   "cell_type": "markdown",
   "metadata": {},
   "source": [
    "## Основные методы и операции со списком\n",
    "- \\+ : \"сложение\"\n",
    "- *: \"умножение\"\n",
    "- append : добавить элемент в конец\n",
    "- extend : расширить список (то же, что и +)\n",
    "- del/pop : удаление элемента/ов из списка"
   ]
  },
  {
   "cell_type": "code",
   "execution_count": 31,
   "metadata": {},
   "outputs": [
    {
     "name": "stdout",
     "output_type": "stream",
     "text": [
      "[20, 10, 11]\n",
      "[1, 2, 3, 5, [6, 7, 8]]\n"
     ]
    }
   ],
   "source": [
    "# append добавляет только один элемент в список\n",
    "list_obj = [1, 2, 3]\n",
    "list_obj.append(5)\n",
    "print(a)\n",
    "list_obj.append([6,7,8])\n",
    "print(list_obj)"
   ]
  },
  {
   "cell_type": "code",
   "execution_count": 43,
   "metadata": {},
   "outputs": [
    {
     "name": "stdout",
     "output_type": "stream",
     "text": [
      "[1, 2, 3, 6, 7, 8]\n"
     ]
    }
   ],
   "source": [
    "# extend добавляет только несколько элементов в список\n",
    "list_obj = [1, 2, 3]\n",
    "list_obj.extend([6,7,8])\n",
    "print(list_obj)"
   ]
  },
  {
   "cell_type": "markdown",
   "metadata": {},
   "source": [
    "Extend добавляет новые элементы в конец списка.  \n",
    "Но если вы хотите вставить их в какое-то другое место то можно сделать следующим образом:"
   ]
  },
  {
   "cell_type": "code",
   "execution_count": 45,
   "metadata": {},
   "outputs": [
    {
     "data": {
      "text/plain": [
       "[1, 5, 5, 5, 5, 2, 3]"
      ]
     },
     "execution_count": 45,
     "metadata": {},
     "output_type": "execute_result"
    }
   ],
   "source": [
    "list_obj = [1, 2, 3]\n",
    "list_obj[1:1] = [5,5,5,5]\n",
    "list_obj"
   ]
  },
  {
   "cell_type": "code",
   "execution_count": 46,
   "metadata": {},
   "outputs": [
    {
     "name": "stdout",
     "output_type": "stream",
     "text": [
      "[1, 2, 3, 6, 7, 8]\n",
      "[1, 2, 3, 7, 8, 9]\n"
     ]
    }
   ],
   "source": [
    "# Сложение\n",
    "list_obj = [1, 2, 3]\n",
    "list_obj = list_obj + [6,7,8]\n",
    "print(list_obj)\n",
    "\n",
    "list_obj = [1, 2, 3]\n",
    "list_obj += [7, 8, 9]\n",
    "print(list_obj)"
   ]
  },
  {
   "cell_type": "markdown",
   "metadata": {},
   "source": [
    "### Вопрос 1\n",
    "\n",
    "a = [1,2,4]  \n",
    "b = [3,4]  \n",
    "c = a + b\n",
    "___\n",
    "\n",
    "b.append(5)  \n",
    "Изменится ли c?"
   ]
  },
  {
   "cell_type": "markdown",
   "metadata": {
    "tags": []
   },
   "source": [
    "### Вопрос 2\n",
    "\n",
    "a = [1,2,4]  \n",
    "b = a\n",
    "___\n",
    "\n",
    "b = b + ['r', 't']  \n",
    "Изменится ли a?\n",
    "___\n",
    "\n",
    "a.append(5)  \n",
    "Изменится ли b?"
   ]
  },
  {
   "cell_type": "markdown",
   "metadata": {},
   "source": [
    "### Вопрос 2\n",
    "\n",
    "a = [1,2,4]  \n",
    "b = a\n",
    "___\n",
    "\n",
    "b += ['r', 't']  \n",
    "Изменится ли a?"
   ]
  },
  {
   "cell_type": "code",
   "execution_count": 65,
   "metadata": {},
   "outputs": [
    {
     "data": {
      "text/plain": [
       "[1, 2, 3, 1, 2, 3]"
      ]
     },
     "execution_count": 65,
     "metadata": {},
     "output_type": "execute_result"
    }
   ],
   "source": [
    "# \"умножение\"\n",
    "list_obj = [1, 2, 3]\n",
    "list_obj * 2"
   ]
  },
  {
   "cell_type": "code",
   "execution_count": 19,
   "metadata": {},
   "outputs": [
    {
     "data": {
      "text/plain": [
       "[1, 2, 3, 1, 2, 3]"
      ]
     },
     "execution_count": 19,
     "metadata": {},
     "output_type": "execute_result"
    }
   ],
   "source": [
    "a = [1, 2, 3]\n",
    "b = a * 2\n",
    "a.append('x')\n",
    "b"
   ]
  },
  {
   "cell_type": "code",
   "execution_count": 18,
   "metadata": {},
   "outputs": [
    {
     "data": {
      "text/plain": [
       "[[1, 2, 3, 'x'], [1, 2, 3, 'x']]"
      ]
     },
     "execution_count": 18,
     "metadata": {},
     "output_type": "execute_result"
    }
   ],
   "source": [
    "a = [1, 2, 3]\n",
    "b = [a,] * 2\n",
    "a.append('x')\n",
    "b"
   ]
  },
  {
   "cell_type": "code",
   "execution_count": 49,
   "metadata": {},
   "outputs": [
    {
     "name": "stdout",
     "output_type": "stream",
     "text": [
      "[0, 2, 3, 4, 5, 6]\n",
      "[0]\n"
     ]
    }
   ],
   "source": [
    "# Можно удалить элемент/-ы по индексу или срезу\n",
    "list_obj = [0,1,2,3,4,5,6]\n",
    "del list_obj[1]\n",
    "print(list_obj)\n",
    "\n",
    "list_obj = [0,1,2,3,4,5,6]\n",
    "del list_obj[1:]\n",
    "print(list_obj)"
   ]
  },
  {
   "cell_type": "code",
   "execution_count": 54,
   "metadata": {},
   "outputs": [
    {
     "name": "stdout",
     "output_type": "stream",
     "text": [
      "list_obj = [0, 2, 3, 4, 5, 6]\n",
      "v = 1\n",
      "list_obj = [0, 2, 3, 4, 5]\n",
      "v = 6\n"
     ]
    }
   ],
   "source": [
    "# pop выкидывает элемент из списка возвращая его как результат вызова метода.\n",
    "list_obj = [0,1,2,3,4,5,6]\n",
    "v = list_obj.pop(1)\n",
    "print(f'{list_obj = }')\n",
    "print(f'{v = }')\n",
    "\n",
    "v = list_obj.pop()\n",
    "print(f'{list_obj = }')\n",
    "print(f'{v = }')"
   ]
  },
  {
   "cell_type": "markdown",
   "metadata": {},
   "source": [
    "## List comprehensions \n",
    "Как еще можно создавать списки:  \n",
    "\\[**функция** for x in **объект** if **условие**\\]  \n",
    " **объект** - любой итерируемый объект  \n",
    " **функция** - любая функция, как правило зависит от х. Самый простой вариант f=x\n",
    " **условие** - любое логическое условие от х"
   ]
  },
  {
   "cell_type": "code",
   "execution_count": 60,
   "metadata": {},
   "outputs": [
    {
     "name": "stdout",
     "output_type": "stream",
     "text": [
      "['a', 'a', 'a', 'a', 'a', 'a']\n",
      "True\n"
     ]
    }
   ],
   "source": [
    "txt_var = 'asdfgaadhjbbbkhlaaawertyui'\n",
    "list_obj = [x for x in txt_var if x == 'a']\n",
    "print(list_obj)\n",
    "print(len(list_obj) == txt_var.count('a'))"
   ]
  },
  {
   "cell_type": "code",
   "execution_count": 61,
   "metadata": {},
   "outputs": [
    {
     "data": {
      "text/plain": [
       "[1, 3, 5, 7, 9]"
      ]
     },
     "execution_count": 61,
     "metadata": {},
     "output_type": "execute_result"
    }
   ],
   "source": [
    "odds = [x for x in range(10) if x%2 == 1]\n",
    "odds"
   ]
  },
  {
   "cell_type": "markdown",
   "metadata": {},
   "source": [
    "## Распаковка list"
   ]
  },
  {
   "cell_type": "code",
   "execution_count": 62,
   "metadata": {},
   "outputs": [
    {
     "data": {
      "text/plain": [
       "[1, 2, 3, 'q', 'w', 'e', 999, 888, True, False]"
      ]
     },
     "execution_count": 62,
     "metadata": {},
     "output_type": "execute_result"
    }
   ],
   "source": [
    "a = [1, 2, 3]\n",
    "b = [\"q\", \"w\", \"e\"]\n",
    "c = [True, False]\n",
    "d = [*a, *b, 999, 888, *c]\n",
    "d"
   ]
  },
  {
   "cell_type": "markdown",
   "metadata": {
    "tags": []
   },
   "source": [
    "# Кортежи (tuple)\n",
    "Tuple - это тип тот же список но неизменяем. Соответственно у него отсутствуют некоторые методы, которые есть у списк."
   ]
  },
  {
   "cell_type": "code",
   "execution_count": 84,
   "metadata": {},
   "outputs": [
    {
     "name": "stdout",
     "output_type": "stream",
     "text": [
      "()\n",
      "True\n",
      "(1, 2)\n",
      "(1, 23, 4, 2, 5)\n",
      "('s', 'e', 'n', 't', 'e', 'n', 'c', 'e')\n"
     ]
    }
   ],
   "source": [
    "# пустой кортеж\n",
    "tuple_obj = ()\n",
    "print(tuple_obj)\n",
    "print(tuple() == ())\n",
    "\n",
    "# непустой кортеж\n",
    "tuple_obj = (1, 2)\n",
    "print(tuple_obj)\n",
    "\n",
    "# кортеж из списка\n",
    "tuple_obj = tuple([1,23,4,2,5]) # по сути это просто преобразоване типа, как float(int_value).\n",
    "print(tuple_obj)\n",
    "\n",
    "# кортеж из строки\n",
    "tuple_obj = tuple('sentence') # строка разбивается на минимальные единицы, т.е. посимвольно\n",
    "print(tuple_obj)"
   ]
  },
  {
   "cell_type": "code",
   "execution_count": 67,
   "metadata": {},
   "outputs": [
    {
     "ename": "AttributeError",
     "evalue": "'tuple' object has no attribute 'pop'",
     "output_type": "error",
     "traceback": [
      "\u001b[0;31m---------------------------------------------------------------------------\u001b[0m",
      "\u001b[0;31mAttributeError\u001b[0m                            Traceback (most recent call last)",
      "Input \u001b[0;32mIn [67]\u001b[0m, in \u001b[0;36m<cell line: 1>\u001b[0;34m()\u001b[0m\n\u001b[0;32m----> 1\u001b[0m \u001b[43mtuple_obj\u001b[49m\u001b[38;5;241;43m.\u001b[39;49m\u001b[43mpop\u001b[49m()\n",
      "\u001b[0;31mAttributeError\u001b[0m: 'tuple' object has no attribute 'pop'"
     ]
    }
   ],
   "source": [
    "tuple_obj.pop()"
   ]
  },
  {
   "cell_type": "code",
   "execution_count": 70,
   "metadata": {},
   "outputs": [
    {
     "ename": "AttributeError",
     "evalue": "'tuple' object has no attribute 'append'",
     "output_type": "error",
     "traceback": [
      "\u001b[0;31m---------------------------------------------------------------------------\u001b[0m",
      "\u001b[0;31mAttributeError\u001b[0m                            Traceback (most recent call last)",
      "Input \u001b[0;32mIn [70]\u001b[0m, in \u001b[0;36m<cell line: 1>\u001b[0;34m()\u001b[0m\n\u001b[0;32m----> 1\u001b[0m \u001b[43mtuple_obj\u001b[49m\u001b[38;5;241;43m.\u001b[39;49m\u001b[43mappend\u001b[49m(\u001b[38;5;124m'\u001b[39m\u001b[38;5;124mx\u001b[39m\u001b[38;5;124m'\u001b[39m)\n",
      "\u001b[0;31mAttributeError\u001b[0m: 'tuple' object has no attribute 'append'"
     ]
    }
   ],
   "source": [
    "tuple_obj.append('x')"
   ]
  },
  {
   "cell_type": "code",
   "execution_count": 68,
   "metadata": {},
   "outputs": [
    {
     "ename": "TypeError",
     "evalue": "'tuple' object doesn't support item deletion",
     "output_type": "error",
     "traceback": [
      "\u001b[0;31m---------------------------------------------------------------------------\u001b[0m",
      "\u001b[0;31mTypeError\u001b[0m                                 Traceback (most recent call last)",
      "Input \u001b[0;32mIn [68]\u001b[0m, in \u001b[0;36m<cell line: 1>\u001b[0;34m()\u001b[0m\n\u001b[0;32m----> 1\u001b[0m \u001b[38;5;28;01mdel\u001b[39;00m tuple_obj[\u001b[38;5;241m1\u001b[39m]\n",
      "\u001b[0;31mTypeError\u001b[0m: 'tuple' object doesn't support item deletion"
     ]
    }
   ],
   "source": [
    "del tuple_obj[1]"
   ]
  },
  {
   "cell_type": "code",
   "execution_count": 69,
   "metadata": {},
   "outputs": [
    {
     "ename": "TypeError",
     "evalue": "'tuple' object does not support item assignment",
     "output_type": "error",
     "traceback": [
      "\u001b[0;31m---------------------------------------------------------------------------\u001b[0m",
      "\u001b[0;31mTypeError\u001b[0m                                 Traceback (most recent call last)",
      "Input \u001b[0;32mIn [69]\u001b[0m, in \u001b[0;36m<cell line: 1>\u001b[0;34m()\u001b[0m\n\u001b[0;32m----> 1\u001b[0m \u001b[43mtuple_obj\u001b[49m\u001b[43m[\u001b[49m\u001b[38;5;241;43m0\u001b[39;49m\u001b[43m]\u001b[49m \u001b[38;5;241m=\u001b[39m \u001b[38;5;241m2\u001b[39m\n",
      "\u001b[0;31mTypeError\u001b[0m: 'tuple' object does not support item assignment"
     ]
    }
   ],
   "source": [
    "tuple_obj[0] = 2"
   ]
  },
  {
   "cell_type": "markdown",
   "metadata": {},
   "source": [
    "tuple vs list ?\n",
    "- tuple, если нужно хранить неизменяемые данные. list - если необходимо менять данные\n",
    "- tuple меньше потребляет память чем list и поиск по нему быстрее"
   ]
  },
  {
   "cell_type": "markdown",
   "metadata": {},
   "source": [
    "# Словари (dict)\n",
    "Словари - это структура данных, где есть ключи - уникальные идендитификаторы и значения - соответствующие им объекты.  \n",
    "Этот тип данных является изменяемым, но ключи должны принадлежать неизменяемым типам данных.\n",
    "\n",
    "**Поддержка сохранения порядка вставки ключей в dict (начиная python3.7+)**"
   ]
  },
  {
   "cell_type": "code",
   "execution_count": 85,
   "metadata": {},
   "outputs": [
    {
     "name": "stdout",
     "output_type": "stream",
     "text": [
      "{}\n"
     ]
    },
    {
     "data": {
      "text/plain": [
       "True"
      ]
     },
     "execution_count": 85,
     "metadata": {},
     "output_type": "execute_result"
    }
   ],
   "source": [
    "# пустой словарь\n",
    "dict_obj = dict()\n",
    "print(dict_obj)\n",
    "dict() == {}"
   ]
  },
  {
   "cell_type": "code",
   "execution_count": 87,
   "metadata": {},
   "outputs": [
    {
     "name": "stdout",
     "output_type": "stream",
     "text": [
      "{'a': 2}\n",
      "{'a': 2, 'b': 3}\n"
     ]
    }
   ],
   "source": [
    "# словарь со значениями\n",
    "dict_obj = {'a': 2}\n",
    "print(dict_obj)\n",
    "\n",
    "# словарь со значениями из списка кортежей ключ-значение\n",
    "dict_obj = dict([('a', 2), ('b', 3)])\n",
    "print(dict_obj)"
   ]
  },
  {
   "cell_type": "code",
   "execution_count": 88,
   "metadata": {},
   "outputs": [
    {
     "name": "stdout",
     "output_type": "stream",
     "text": [
      "{'a': None, 'b': None, 'c': None}\n",
      "{'a': 2, 'b': 2, 'c': 2}\n"
     ]
    }
   ],
   "source": [
    "# словарь из заданных ключей, где у каждого значение None\n",
    "dict_obj = dict.fromkeys(['a', 'b', 'c'])\n",
    "print(dict_obj)\n",
    "\n",
    "# словарь из заданных ключей, где каждому дается в соответствие какое-то одно дефолтное значение\n",
    "dict_obj = dict.fromkeys(['a', 'b', 'c'], 2)\n",
    "print(dict_obj)"
   ]
  },
  {
   "cell_type": "code",
   "execution_count": 92,
   "metadata": {},
   "outputs": [
    {
     "name": "stdout",
     "output_type": "stream",
     "text": [
      "dict_keys([(1, 2)])\n",
      "dict_values(['val_1'])\n",
      "dict_items([((1, 2), 'val_1')])\n"
     ]
    }
   ],
   "source": [
    "# ключи\n",
    "print(dict_obj.keys())\n",
    "\n",
    "# значения\n",
    "print(dict_obj.values())\n",
    "\n",
    "# пары ключ-значение\n",
    "print(dict_obj.items())\n",
    "\n",
    "# По всем этим объектам можно итерироваться."
   ]
  },
  {
   "cell_type": "code",
   "execution_count": 91,
   "metadata": {},
   "outputs": [
    {
     "name": "stdout",
     "output_type": "stream",
     "text": [
      "{(1, 2): 'val_1'}\n"
     ]
    },
    {
     "ename": "TypeError",
     "evalue": "unhashable type: 'list'",
     "output_type": "error",
     "traceback": [
      "\u001b[0;31m---------------------------------------------------------------------------\u001b[0m",
      "\u001b[0;31mTypeError\u001b[0m                                 Traceback (most recent call last)",
      "Input \u001b[0;32mIn [91]\u001b[0m, in \u001b[0;36m<cell line: 4>\u001b[0;34m()\u001b[0m\n\u001b[1;32m      2\u001b[0m dict_obj[(\u001b[38;5;241m1\u001b[39m,\u001b[38;5;241m2\u001b[39m)] \u001b[38;5;241m=\u001b[39m \u001b[38;5;124m'\u001b[39m\u001b[38;5;124mval_1\u001b[39m\u001b[38;5;124m'\u001b[39m\n\u001b[1;32m      3\u001b[0m \u001b[38;5;28mprint\u001b[39m(dict_obj)\n\u001b[0;32m----> 4\u001b[0m \u001b[43mdict_obj\u001b[49m\u001b[43m[\u001b[49m\u001b[43m[\u001b[49m\u001b[38;5;241;43m3\u001b[39;49m\u001b[43m,\u001b[49m\u001b[38;5;241;43m4\u001b[39;49m\u001b[43m]\u001b[49m\u001b[43m]\u001b[49m \u001b[38;5;241m=\u001b[39m \u001b[38;5;124m'\u001b[39m\u001b[38;5;124mval_2\u001b[39m\u001b[38;5;124m'\u001b[39m\n",
      "\u001b[0;31mTypeError\u001b[0m: unhashable type: 'list'"
     ]
    }
   ],
   "source": [
    "# Ключи должны принадлежать неизменяемым типам данных.\n",
    "dict_obj = dict()\n",
    "dict_obj[(1,2)] = 'val_1'\n",
    "print(dict_obj)\n",
    "dict_obj[[3,4]] = 'val_2'"
   ]
  },
  {
   "cell_type": "markdown",
   "metadata": {},
   "source": [
    "Если мы не знаем, есть ключ или нет, но не хотим ошибку KeyError, мы можем брать значения по-другому, получая ничего (None) без ошибки. Для этого используется метод get"
   ]
  },
  {
   "cell_type": "code",
   "execution_count": 93,
   "metadata": {},
   "outputs": [
    {
     "ename": "KeyError",
     "evalue": "7",
     "output_type": "error",
     "traceback": [
      "\u001b[0;31m---------------------------------------------------------------------------\u001b[0m",
      "\u001b[0;31mKeyError\u001b[0m                                  Traceback (most recent call last)",
      "Input \u001b[0;32mIn [93]\u001b[0m, in \u001b[0;36m<cell line: 2>\u001b[0;34m()\u001b[0m\n\u001b[1;32m      1\u001b[0m dict_obj \u001b[38;5;241m=\u001b[39m {\u001b[38;5;241m1\u001b[39m: \u001b[38;5;241m90\u001b[39m, \u001b[38;5;241m2\u001b[39m: \u001b[38;5;241m89\u001b[39m, \u001b[38;5;241m3\u001b[39m: \u001b[38;5;241m54\u001b[39m}\n\u001b[0;32m----> 2\u001b[0m \u001b[43mdict_obj\u001b[49m\u001b[43m[\u001b[49m\u001b[38;5;241;43m7\u001b[39;49m\u001b[43m]\u001b[49m\n",
      "\u001b[0;31mKeyError\u001b[0m: 7"
     ]
    }
   ],
   "source": [
    "dict_obj = {1: 90, 2: 89, 3: 54}\n",
    "dict_obj[7]"
   ]
  },
  {
   "cell_type": "code",
   "execution_count": 94,
   "metadata": {},
   "outputs": [
    {
     "name": "stdout",
     "output_type": "stream",
     "text": [
      "None\n"
     ]
    }
   ],
   "source": [
    "dict_obj = {1: 90, 2: 89, 3: 54}\n",
    "print(dict_obj.get(7))"
   ]
  },
  {
   "cell_type": "markdown",
   "metadata": {},
   "source": [
    "## Основные методы и операторы\n",
    "- **dict_obj.clear()** - удаляет все элементы из словаря  \n",
    "- **dict_obj.copy()** - возвращает копию словаря\n",
    "- **dict_obj.pop(key_value)** - удаляет элемент по ключу\n",
    "- **dict_obj.popitem()** - удаляет последнюю добавленную пару ключ-значение\n",
    "- **dict_obj.update()** - добавляет/обновляет словать (пример ниже)\n",
    "- **dict_obj_1 | dict_obj_2** - объединение словарей **(начиная с версии python3.9+)**"
   ]
  },
  {
   "cell_type": "code",
   "execution_count": 105,
   "metadata": {},
   "outputs": [
    {
     "data": {
      "text/plain": [
       "{'a': 3}"
      ]
     },
     "execution_count": 105,
     "metadata": {},
     "output_type": "execute_result"
    }
   ],
   "source": [
    "dict_obj = {'a':1}\n",
    "dict_obj.update([['a', 3]])\n",
    "dict_obj"
   ]
  },
  {
   "cell_type": "code",
   "execution_count": 106,
   "metadata": {},
   "outputs": [
    {
     "data": {
      "text/plain": [
       "{'a': 1, 'b': 5}"
      ]
     },
     "execution_count": 106,
     "metadata": {},
     "output_type": "execute_result"
    }
   ],
   "source": [
    "dict_obj = {'a':1}\n",
    "dict_obj.update({'b': 5})\n",
    "dict_obj"
   ]
  },
  {
   "cell_type": "code",
   "execution_count": 109,
   "metadata": {},
   "outputs": [
    {
     "data": {
      "text/plain": [
       "{1: 90, 2: 89, 3: 1000, 4: 11, 5: 10, 6: 9}"
      ]
     },
     "execution_count": 109,
     "metadata": {},
     "output_type": "execute_result"
    }
   ],
   "source": [
    "# новый вариант с python3.9+ \n",
    "d1 = {1: 90, 2: 89, 3: 54}\n",
    "d2 = {3: 1000, 4: 11, 5: 10, 6: 9}\n",
    "d3 = d1 | d2 # по аналогии с set()\n",
    "d3"
   ]
  },
  {
   "cell_type": "code",
   "execution_count": null,
   "metadata": {},
   "outputs": [
    {
     "data": {
      "text/plain": [
       "{1: 90, 2: 89, 3: 1000, 4: 11, 5: 10, 6: 9}"
      ]
     },
     "metadata": {},
     "output_type": "display_data"
    }
   ],
   "source": [
    "# новый вариант с python3.9+ через |=\n",
    "d1 = {1: 90, 2: 89, 3: 54}\n",
    "d2 = {3: 1000, 4: 11, 5: 10, 6: 9}\n",
    "d3 |= d1  # по аналогии c.update\n",
    "d3 |= d2 \n",
    "d3"
   ]
  },
  {
   "cell_type": "markdown",
   "metadata": {},
   "source": [
    "## Распаковка dict"
   ]
  },
  {
   "cell_type": "code",
   "execution_count": 107,
   "metadata": {},
   "outputs": [
    {
     "data": {
      "text/plain": [
       "{1: 90, 2: 89, 3: 54, 4: 11, 5: 10, 6: 9, 7: 90}"
      ]
     },
     "execution_count": 107,
     "metadata": {},
     "output_type": "execute_result"
    }
   ],
   "source": [
    "d1 = {1: 90, 2: 89, 3: 54}\n",
    "d2 = {4: 11, 5: 10, 6: 9}\n",
    "d3 = {**d1, **d2, 7:90}\n",
    "d3"
   ]
  },
  {
   "cell_type": "markdown",
   "metadata": {},
   "source": [
    "## Dict comprehension"
   ]
  },
  {
   "cell_type": "code",
   "execution_count": 108,
   "metadata": {},
   "outputs": [
    {
     "data": {
      "text/plain": [
       "{0: 't', 1: 'e', 2: 'x', 3: 't'}"
      ]
     },
     "execution_count": 108,
     "metadata": {},
     "output_type": "execute_result"
    }
   ],
   "source": [
    "{i: val for i, val in enumerate(\"text\")}"
   ]
  },
  {
   "cell_type": "markdown",
   "metadata": {},
   "source": [
    "## defaultdict\n",
    "Если нам необходим словать с таким поведением, что при обращении по несуществующему ключу он автоматически добавлял его в словарь с каким-то дефолтным значением (и не выдавал ошибку KeyError), то есть подходящий тип данных - **defaultdict**."
   ]
  },
  {
   "cell_type": "code",
   "execution_count": 21,
   "metadata": {},
   "outputs": [],
   "source": [
    "from collections import defaultdict"
   ]
  },
  {
   "cell_type": "code",
   "execution_count": 27,
   "metadata": {},
   "outputs": [
    {
     "name": "stdout",
     "output_type": "stream",
     "text": [
      "defaultdict(<class 'int'>, {})\n",
      "0\n",
      "defaultdict(<class 'int'>, {9: 0})\n"
     ]
    }
   ],
   "source": [
    "d = defaultdict(int) # дефолт - 0\n",
    "print(d)\n",
    "print(d[9])\n",
    "print(d)"
   ]
  },
  {
   "cell_type": "code",
   "execution_count": 151,
   "metadata": {},
   "outputs": [
    {
     "name": "stdout",
     "output_type": "stream",
     "text": [
      "defaultdict(<class 'int'>, {'a': 4, ' ': 7, 'l': 5, 'i': 4, 't': 6, 'e': 5, 's': 3, 'c': 2, 'o': 4, 'n': 3, 'v': 1, 'r': 2, ',': 1, 'm': 1})\n"
     ]
    }
   ],
   "source": [
    "d = defaultdict(int)\n",
    "some_string = 'a little less conversation, a little more action'\n",
    "for letter in some_string:\n",
    "    d[letter] += 1\n",
    "print(d)"
   ]
  },
  {
   "cell_type": "code",
   "execution_count": 152,
   "metadata": {},
   "outputs": [
    {
     "name": "stdout",
     "output_type": "stream",
     "text": [
      "{'a': 4, ' ': 7, 'l': 5, 'i': 4, 't': 6, 'e': 5, 's': 3, 'c': 2, 'o': 4, 'n': 3, 'v': 1, 'r': 2, ',': 1, 'm': 1}\n"
     ]
    }
   ],
   "source": [
    "d = dict(d)\n",
    "print(d)"
   ]
  },
  {
   "cell_type": "code",
   "execution_count": 153,
   "metadata": {},
   "outputs": [
    {
     "name": "stdout",
     "output_type": "stream",
     "text": [
      "{1: ['a', 'a'], 6: ['little', 'little', 'action'], 4: ['less', 'more'], 13: ['conversation,']}\n"
     ]
    }
   ],
   "source": [
    "d = defaultdict(list)\n",
    "some_string = 'a little less conversation, a little more action'\n",
    "for word in some_string.split():\n",
    "    d[len(word)].append(word)\n",
    "d = dict(d)\n",
    "print(d)"
   ]
  },
  {
   "cell_type": "markdown",
   "metadata": {},
   "source": [
    "# Множества (set)\n",
    "\n",
    "Множество (set) - это структура данных, чем-то похожая и на массив, и на словарь, но от них отличающаяся.\n",
    "Как и массивы, множества содержат элементы. Но в отличие от массивов, где элементы упорядочены, в множестве они идут в \"произвольном\" порядке.  \n",
    "  \n",
    "На словари множества похожи тем, что, как и ключи в словарях, элементы множеств неупорядочены и поэтому должны быть уникальны.\n",
    "Поиск в множестве происходит быстрее, чем в массиве, потому что в массивы мы проходим каждый элемент с первого до последнего или искомого, а во множестве другой, более быстрый алгоритм. Если вам нужно собрать какие-то данные, а потом проверять, есть ли в этих данных что-то, то целесообразно использовать именно множества. Во-вторых, преобразование в множества помогают быстро превратить набор данных в набор уникальных элементов."
   ]
  },
  {
   "cell_type": "code",
   "execution_count": 112,
   "metadata": {},
   "outputs": [
    {
     "name": "stdout",
     "output_type": "stream",
     "text": [
      "{'is', 'cat', 'the', 'mat', 'on'}\n",
      "{'cat', 'crocodile', 'elephant', 'fox', 'dog'}\n"
     ]
    }
   ],
   "source": [
    "# создаем множество из списка (массива)\n",
    "\n",
    "sentence = \"the cat is on the mat\"\n",
    "words = set(sentence.split())  # превращаем список, который возвращает split(), в массив\n",
    "animals = set(['cat', 'dog', 'elephant', 'crocodile', 'fox', 'cat', 'elephant'])\n",
    "\n",
    "print(words)\n",
    "print(animals)"
   ]
  },
  {
   "cell_type": "code",
   "execution_count": 113,
   "metadata": {},
   "outputs": [
    {
     "name": "stdout",
     "output_type": "stream",
     "text": [
      "{'a', 'o', 'i', 'h', 'n', ' ', 'e', 's', 't', 'c', 'm'}\n"
     ]
    }
   ],
   "source": [
    "# создаем множество из строки\n",
    "\n",
    "letters = set(sentence)  # разбивает строку на минимальные элементы, т.е. посимвольно\n",
    "print(letters)"
   ]
  },
  {
   "cell_type": "markdown",
   "metadata": {},
   "source": [
    "Обратите внимание, что все элементы получившихся множеств уникальны! Если вам не нужно знать, сколько раз встречаются объекты и в каком порядке, можно использовать множество.\n",
    "\n",
    "Множества нельзя складывать, зато можно добавлять в них элементы -- это делается функцией add(), которая тоже пишется через точку после названия множества."
   ]
  },
  {
   "cell_type": "code",
   "execution_count": 114,
   "metadata": {},
   "outputs": [
    {
     "name": "stdout",
     "output_type": "stream",
     "text": [
      "{'cat', 'tiger', 'crocodile', 'elephant', 'fox', 'dog'}\n"
     ]
    }
   ],
   "source": [
    "animals.add('tiger')\n",
    "print(animals)"
   ]
  },
  {
   "cell_type": "code",
   "execution_count": 116,
   "metadata": {},
   "outputs": [
    {
     "name": "stdout",
     "output_type": "stream",
     "text": [
      "False\n",
      "<class 'dict'>\n"
     ]
    }
   ],
   "source": [
    "print({} == set())\n",
    "print(type({}))"
   ]
  },
  {
   "cell_type": "code",
   "execution_count": 117,
   "metadata": {},
   "outputs": [
    {
     "name": "stdout",
     "output_type": "stream",
     "text": [
      "set()\n"
     ]
    }
   ],
   "source": [
    "# пустое множество\n",
    "set_obj = set() # обратите внимание, что просто скобочек в данном случае недостаточно!\n",
    "print(set_obj)"
   ]
  },
  {
   "cell_type": "code",
   "execution_count": 118,
   "metadata": {},
   "outputs": [
    {
     "name": "stdout",
     "output_type": "stream",
     "text": [
      "{1, 2, 3, 4, 5, 6, 7, 8, 9}\n",
      "{4, 5, 6}\n",
      "{1, 2, 3}\n",
      "{1, 2, 3, 7, 8, 9}\n"
     ]
    }
   ],
   "source": [
    "a = set([1, 2, 3, 4, 5, 6])\n",
    "b = set([4, 5, 6, 7, 8, 9])\n",
    "\n",
    "# объединение\n",
    "c = a | b\n",
    "print(c)\n",
    "\n",
    "# пересечение\n",
    "c = a & b\n",
    "print(c)\n",
    "\n",
    "# разность\n",
    "c = a - b\n",
    "print(c)\n",
    "\n",
    "# симметрическая разность, то есть элементы, входящие в a или в b, но не в оба множества одновременно\n",
    "c = a ^ b\n",
    "print(c)"
   ]
  },
  {
   "cell_type": "markdown",
   "metadata": {},
   "source": [
    "# Основные функции\n",
    "\n",
    "1. sum - сумма элементов\n",
    "2. len - длина (или количество элементов)\n",
    "3. max/min - максимальный/минимальный элемент\n",
    "4. sorted - сортировка\n",
    "5. enumerate - проход с нумерацией"
   ]
  },
  {
   "cell_type": "code",
   "execution_count": 28,
   "metadata": {},
   "outputs": [
    {
     "name": "stdout",
     "output_type": "stream",
     "text": [
      " len(a) = 5\n",
      " sum(a) = 15\n",
      " max(a) = 5\n",
      " min(a) = 1\n"
     ]
    }
   ],
   "source": [
    "a = [1, 2, 3, 4, 5]\n",
    "print(f'{ len(a) = }')\n",
    "print(f'{ sum(a) = }')\n",
    "print(f'{ max(a) = }')\n",
    "print(f'{ min(a) = }')"
   ]
  },
  {
   "cell_type": "code",
   "execution_count": 30,
   "metadata": {},
   "outputs": [
    {
     "name": "stdout",
     "output_type": "stream",
     "text": [
      "{1: 10, 2: 10, 3: 10, 4: 10, 5: 10}\n",
      "5\n"
     ]
    }
   ],
   "source": [
    "a = dict.fromkeys([1, 2, 3, 4, 5], 10)\n",
    "print(a)\n",
    "print(len(a))"
   ]
  },
  {
   "cell_type": "markdown",
   "metadata": {},
   "source": [
    "## Sorted"
   ]
  },
  {
   "cell_type": "code",
   "execution_count": 34,
   "metadata": {},
   "outputs": [
    {
     "name": "stdout",
     "output_type": "stream",
     "text": [
      "-5 800\n",
      "-2 45\n",
      "0 900\n",
      "1 90\n",
      "3 500\n"
     ]
    }
   ],
   "source": [
    "dict_obj = {1: 90, -2: 45, 3: 500, -5: 800, 0: 900}\n",
    "\n",
    "for key in sorted(dict_obj):\n",
    "    print(key, dict_obj[key])"
   ]
  },
  {
   "cell_type": "code",
   "execution_count": 35,
   "metadata": {},
   "outputs": [
    {
     "name": "stdout",
     "output_type": "stream",
     "text": [
      "3 500\n",
      "1 90\n",
      "0 900\n",
      "-2 45\n",
      "-5 800\n"
     ]
    }
   ],
   "source": [
    "for key in sorted(dict_obj, reverse=True):\n",
    "    print(key, dict_obj[key])"
   ]
  },
  {
   "cell_type": "code",
   "execution_count": 36,
   "metadata": {},
   "outputs": [
    {
     "name": "stdout",
     "output_type": "stream",
     "text": [
      "-2 45\n",
      "1 90\n",
      "3 500\n",
      "-5 800\n",
      "0 900\n"
     ]
    }
   ],
   "source": [
    "# сортировка по значениям\n",
    "for key in sorted(dict_obj, key=dict_obj.get):\n",
    "    print(key, dict_obj[key])"
   ]
  },
  {
   "cell_type": "code",
   "execution_count": 37,
   "metadata": {},
   "outputs": [
    {
     "name": "stdout",
     "output_type": "stream",
     "text": [
      "-5 800\n",
      "3 500\n",
      "-2 45\n",
      "1 90\n",
      "0 900\n"
     ]
    }
   ],
   "source": [
    "# сортировка по квадрату ключа\n",
    "for key in sorted(dict_obj, key=lambda x: x**2, reverse=True):\n",
    "    print(key, dict_obj[key])"
   ]
  },
  {
   "cell_type": "markdown",
   "metadata": {},
   "source": [
    "## Enumerate\n",
    "Если на вход enumerate подать какой-то итерируемы объект, он вернет новый объект, по которому можно итерироваться и каждый элемент его будет состоять из двух значений - номер элемента в исходном объекте и его значение.\n",
    "Это бывает полезно, когда нужно сделать что-то с объектом, зависящее от его порядкового номера."
   ]
  },
  {
   "cell_type": "code",
   "execution_count": 139,
   "metadata": {},
   "outputs": [
    {
     "data": {
      "text/plain": [
       "[900, 67, 1]"
      ]
     },
     "execution_count": 139,
     "metadata": {},
     "output_type": "execute_result"
    }
   ],
   "source": [
    "list_obj = [900, 45, 67, 23, 1]\n",
    "[v for i,v in enumerate(list_obj) if i % 2 == 0]"
   ]
  },
  {
   "cell_type": "markdown",
   "metadata": {},
   "source": [
    "## Counter\n",
    "\n",
    "Counter итерируется (проходит) по списку или другому объекту и считает количество элементов, сохраняя все в словарь вида ключ - количество"
   ]
  },
  {
   "cell_type": "code",
   "execution_count": 154,
   "metadata": {},
   "outputs": [],
   "source": [
    "from collections import Counter"
   ]
  },
  {
   "cell_type": "code",
   "execution_count": 155,
   "metadata": {},
   "outputs": [
    {
     "data": {
      "text/plain": [
       "Counter({'a': 4,\n",
       "         ' ': 7,\n",
       "         'l': 5,\n",
       "         'i': 4,\n",
       "         't': 6,\n",
       "         'e': 5,\n",
       "         's': 3,\n",
       "         'c': 2,\n",
       "         'o': 4,\n",
       "         'n': 3,\n",
       "         'v': 1,\n",
       "         'r': 2,\n",
       "         ',': 1,\n",
       "         'm': 1})"
      ]
     },
     "execution_count": 155,
     "metadata": {},
     "output_type": "execute_result"
    }
   ],
   "source": [
    "some_string = 'a little less conversation, a little more action'\n",
    "\n",
    "Counter(some_string)"
   ]
  },
  {
   "cell_type": "code",
   "execution_count": 156,
   "metadata": {},
   "outputs": [
    {
     "data": {
      "text/plain": [
       "Counter({'a': 2,\n",
       "         'little': 2,\n",
       "         'less': 1,\n",
       "         'conversation,': 1,\n",
       "         'more': 1,\n",
       "         'action': 1})"
      ]
     },
     "execution_count": 156,
     "metadata": {},
     "output_type": "execute_result"
    }
   ],
   "source": [
    "some_string = 'a little less conversation, a little more action'\n",
    "\n",
    "Counter(some_string.split())"
   ]
  },
  {
   "cell_type": "markdown",
   "metadata": {},
   "source": [
    "Counter можно складывать или обновлять (добавлять элементы)"
   ]
  },
  {
   "cell_type": "code",
   "execution_count": 161,
   "metadata": {},
   "outputs": [
    {
     "name": "stdout",
     "output_type": "stream",
     "text": [
      "Counter()\n",
      "Counter({'a': 6, 'little': 6, 'less': 3, 'more': 3, 'and': 2, 'conversation,': 1, 'action': 1, 'bite': 1, 'bark': 1, 'fight': 1, 'spark': 1})\n"
     ]
    }
   ],
   "source": [
    "lyrics = [\n",
    "    'a little less conversation, a little more action',\n",
    "    'a little more bite and a little less bark',\n",
    "    'a little less fight and a little more spark'\n",
    "]\n",
    "c = Counter() # Создали пустой объект\n",
    "print(c)\n",
    "\n",
    "for line in lyrics:\n",
    "    c.update(line.split()) # Обновляем его новыми данными\n",
    "print(c)"
   ]
  },
  {
   "cell_type": "markdown",
   "metadata": {
    "tags": []
   },
   "source": [
    "# Упражнения на типы данных"
   ]
  },
  {
   "cell_type": "markdown",
   "metadata": {},
   "source": [
    "#### 1. Функция возвращающая произведение всех числовых элементов в списке."
   ]
  },
  {
   "cell_type": "code",
   "execution_count": 38,
   "metadata": {},
   "outputs": [],
   "source": [
    "def mult_list(input_list):\n",
    "    result = 0 # Write your code\n",
    "    return result"
   ]
  },
  {
   "cell_type": "code",
   "execution_count": 181,
   "metadata": {},
   "outputs": [],
   "source": [
    "assert mult_list([1,2,4, 'text']) == 8"
   ]
  },
  {
   "cell_type": "markdown",
   "metadata": {},
   "source": [
    "#### 2. Функция, возвращающая слово, содеращее максимальное количество разных букв. \n",
    "На вход функции подаем текст. Делим на слова по пробелу, игнорируем знаки перпинания и регистр букв. "
   ]
  },
  {
   "cell_type": "code",
   "execution_count": 206,
   "metadata": {},
   "outputs": [
    {
     "data": {
      "text/plain": [
       "'отдаленных'"
      ]
     },
     "execution_count": 206,
     "metadata": {},
     "output_type": "execute_result"
    }
   ],
   "source": [
    "text = \"\"\"Утихла брань племен; в пределах отдаленных\n",
    "Не слышен битвы шум и голос труб военных;\n",
    "С небесной высоты, при звуке стройных лир,\n",
    "На землю мрачную нисходит светлый мир.\n",
    "Свершилось!.. Русский царь, достиг ты славной цели!\n",
    "Вотще надменные на родину летели;\n",
    "Вотще впреди знамен бесчисленных дружив\n",
    "В могущей дерзости венчанный исполин\n",
    "На гибель грозно шел, влек цепи за собою:\n",
    "Меч огненный блеснул за дымною Москвою!\n",
    "Звезда губителя потухла в вечной мгле,\n",
    "И пламенный венец померкнул на челе!\n",
    "Содрогся счастья сын, и, брошенный судьбою,\n",
    "Он землю русскую не взвидел под собою.\n",
    "Бежит… и мести гром слетел ему вослед;\n",
    "И с трона гордый пал… и вновь восстал… и нет!\"\"\"\n",
    "\n",
    "def max_count_letters(text):\n",
    "    word = None # Write your code\n",
    "    return word\n",
    "\n",
    "max_count_letters(text)"
   ]
  },
  {
   "cell_type": "code",
   "execution_count": null,
   "metadata": {},
   "outputs": [],
   "source": [
    "assert max_count_letters(text) == 'отдаленных'"
   ]
  },
  {
   "cell_type": "markdown",
   "metadata": {},
   "source": [
    "### 3. Вывести строку текста, содержащую максимальное количество слов."
   ]
  },
  {
   "cell_type": "code",
   "execution_count": 39,
   "metadata": {},
   "outputs": [],
   "source": [
    "def get_max_words_line(text):\n",
    "    line = ''\n",
    "    return None"
   ]
  },
  {
   "cell_type": "code",
   "execution_count": 40,
   "metadata": {},
   "outputs": [],
   "source": [
    "assert get_max_words_line(text) == 'И с трона гордый пал… и вновь восстал… и нет!'"
   ]
  },
  {
   "cell_type": "markdown",
   "metadata": {},
   "source": [
    "### 4. Вывести отсортированный по ключам словарь, в ключах которого количество уникальных букв в словах, а в значениях список слов, которые подходят под это условие. Ключи должны начинаться с 1 и до максимального значения для данного текста."
   ]
  },
  {
   "cell_type": "code",
   "execution_count": null,
   "metadata": {},
   "outputs": [],
   "source": [
    "def get_uniq_letters_dict(text):\n",
    "    cnt_dict = None # Write your code\n",
    "    return cnt_dict\n",
    "\n",
    "get_uniq_letters_dict(text)"
   ]
  }
 ],
 "metadata": {
  "interpreter": {
   "hash": "2ce43fa76ab3efd8b793de81ff92f0816c1b946b31e6af34d67351b015f361e9"
  },
  "kernelspec": {
   "display_name": "Python 3 (ipykernel)",
   "language": "python",
   "name": "python3"
  },
  "language_info": {
   "codemirror_mode": {
    "name": "ipython",
    "version": 3
   },
   "file_extension": ".py",
   "mimetype": "text/x-python",
   "name": "python",
   "nbconvert_exporter": "python",
   "pygments_lexer": "ipython3",
   "version": "3.9.6"
  }
 },
 "nbformat": 4,
 "nbformat_minor": 4
}
