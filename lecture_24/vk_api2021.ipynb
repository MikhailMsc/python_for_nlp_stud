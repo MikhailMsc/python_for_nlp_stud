{
 "cells": [
  {
   "cell_type": "markdown",
   "metadata": {},
   "source": [
    "# VK API\n",
    "\n",
    "VK API бесплатное, но нужно получить доступ\n",
    "\n",
    "\n",
    "**Авторизация**\n",
    "\n",
    "1. Перейти по ссылке https://vk.com/apps?act=manage\n",
    "2. Создать новое приложение: standalone-приложение, название любое\n",
    "3. Необходимо получить код подтверждения, может быть по номеру телефона\n",
    "4. Если все ок, то вы перейдете в настройки приложения, там можно увидеть ключи доступа. На интересует **сервисный ключ доступа**\n",
    "\n",
    "**Версии**\n",
    "\n",
    "У API есть версии, поэтому вместе с токеном мы еще передаем информацию о том, какую версию мы используем. Версия отличает тем, какие параметры подаются, но больше это касается того, в каком виде мы получим ответ (структура ответа или наличие тех или иных полей может меняться от версии к версии)."
   ]
  },
  {
   "cell_type": "code",
   "execution_count": 3,
   "metadata": {},
   "outputs": [],
   "source": [
    "import requests\n",
    "from tqdm.auto import tqdm\n",
    "from datetime import datetime\n",
    "import time\n",
    "import pandas as pd"
   ]
  },
  {
   "cell_type": "markdown",
   "metadata": {},
   "source": [
    "Зафиксируем версию и токен в константах. В качестве токена подставляется сервисный ключ из настроек приложения. Укажем ту, которая дефолтно показывается в документации."
   ]
  },
  {
   "cell_type": "code",
   "execution_count": 4,
   "metadata": {},
   "outputs": [],
   "source": [
    "TOKEN = \"5ddc69ee5ddc69ee5ddc69ee8f5eceded755ddc5ddc69ee3e2c0305f599d50fb0c3ca0c\"\n",
    "VERSION = \"5.130\""
   ]
  },
  {
   "cell_type": "markdown",
   "metadata": {},
   "source": [
    "## Метод wall.get\n",
    "\n",
    "Первое, что мы сделаем - попробуем скачать информацию со стены, чтобы научиться собирать текстовые данные.\n",
    "\n",
    "Подробная документация по ссылке: https://vk.com/dev/wall.get. Тут можно посмотреть на пример запроса, описание полей."
   ]
  },
  {
   "cell_type": "code",
   "execution_count": 5,
   "metadata": {},
   "outputs": [],
   "source": [
    "wall_get_url = \"https://api.vk.com/method/wall.get\" # endpoint, на который мы отправляем такие запросы"
   ]
  },
  {
   "cell_type": "markdown",
   "metadata": {},
   "source": [
    "Запрашиваем 2 последних поста со страницы юзера с id = 1 (Павел Дуров). \n",
    "\n",
    "Для сообществ ID будут отрицательными (например, -1)"
   ]
  },
  {
   "cell_type": "code",
   "execution_count": 6,
   "metadata": {},
   "outputs": [],
   "source": [
    "data = requests.get(\n",
    "    wall_get_url, \n",
    "    params={\n",
    "        \"owner_id\": 1,  # ID юзера\n",
    "        \"count\": 2,  # кол-во постов\n",
    "        \"v\": VERSION, # версия API\n",
    "        \"access_token\": TOKEN  # токен доступа\n",
    "    }\n",
    ").json()"
   ]
  },
  {
   "cell_type": "markdown",
   "metadata": {},
   "source": [
    "Мы получим ответ, который представляет собой словарь, где по ключу response лежит сам ответ.\n",
    "\n",
    "Внутри лежит параметр count с числом записей (всего). В items сами посты (2, как мы просили).\n",
    "\n",
    "Для каждого поста есть информация по объекту post. Подробное описание на странице https://vk.com/dev/objects/post"
   ]
  },
  {
   "cell_type": "code",
   "execution_count": 7,
   "metadata": {},
   "outputs": [
    {
     "data": {
      "text/plain": [
       "{'response': {'count': 1020,\n",
       "  'items': [{'id': 2442097,\n",
       "    'from_id': 1,\n",
       "    'owner_id': 1,\n",
       "    'date': 1525805964,\n",
       "    'donut': {'is_donut': False},\n",
       "    'comments': {'can_post': 0, 'count': 0, 'groups_can_post': True},\n",
       "    'short_text_rate': 0.8,\n",
       "    'attachments': [],\n",
       "    'edited': 1525813826,\n",
       "    'likes': {'can_like': 1,\n",
       "     'count': 229448,\n",
       "     'user_likes': 0,\n",
       "     'can_publish': 1,\n",
       "     'repost_disabled': False},\n",
       "    'post_source': {'type': 'vk'},\n",
       "    'post_type': 'post',\n",
       "    'reposts': {'count': 5490, 'user_reposted': 0},\n",
       "    'text': 'Иногда говорят, что Telegram был заблокирован в России, так как “закон есть закон”. Однако Telegram заблокирован в России как раз вопреки главному закону страны – Конституции. Решения судов и законы, противоречащие Конституции, не имеют силы. А это значит, что и сама блокировка Telegram незаконна. \\n\\nЕсли бы ФСБ ограничилась запросом информации о нескольких террористах, то ее требование вписывалось бы в рамки Конституции. Однако речь идет о передаче универсальных ключей шифрования с целью последующего бесконтрольного доступа к переписке неограниченного круга лиц. A это – прямое нарушение 23-й статьи Конституции о праве каждого на тайну переписки.\\n\\nПо этой причине юристы из “Агоры” сегодня обжаловали решение Верховного суда России о законности приказа ФСБ. Надеюсь, власти России откажутся от языка неисполнимых ультиматумов, на котором сегодня ведется диалог с технологическими компаниями.\\n\\nНезависимо от этого, мы продолжим борьбу за Telegram в России. История наших предков учит биться до победного конца. \\n\\nС Днем Победы!',\n",
       "    'views': {'count': 13436809},\n",
       "    'hash': 'xTKRWTArhEygtZnIFQ'},\n",
       "   {'id': 2431591,\n",
       "    'from_id': 1,\n",
       "    'owner_id': 1,\n",
       "    'date': 1525352753,\n",
       "    'donut': {'is_donut': False},\n",
       "    'comments': {'can_post': 0, 'count': 0, 'groups_can_post': True},\n",
       "    'short_text_rate': 0.8,\n",
       "    'attachments': [{'type': 'video',\n",
       "      'video': {'access_key': 'b6751e4a53ef7bd286',\n",
       "       'can_comment': 0,\n",
       "       'can_like': 1,\n",
       "       'can_repost': 1,\n",
       "       'can_subscribe': 1,\n",
       "       'can_add_to_faves': 0,\n",
       "       'can_add': 1,\n",
       "       'comments': 135,\n",
       "       'date': 1525352754,\n",
       "       'description': 'Мне пришёл целевой анонимный донат на проведение конкурса. Разыгрываю целый биткоин [не кликбейт, на самом деле].\\n\\nКонкурс на лучшую видео и аудио обработку речей и кадров с митинга 30 апреля. Подходит любой формат, главное, в максимально мемичной форме распространить основные тезисы наших выступлений по интернету, и обратить внимание на критическую значимость блокировок. Все слова сказаны. Их нужно донести. Срок — 10 дней. Постите свои видео с хэштегом #digitalresistance во всех соцсетях и присылайте ссылк',\n",
       "       'duration': 113,\n",
       "       'image': [{'url': 'https://sun1-21.userapi.com/c840722/v840722964/8039f/kunM7m6I7w4.jpg',\n",
       "         'width': 130,\n",
       "         'height': 96,\n",
       "         'with_padding': 1},\n",
       "        {'url': 'https://sun1-18.userapi.com/c840722/v840722964/803a0/4pAgn-HpKwI.jpg',\n",
       "         'width': 160,\n",
       "         'height': 120,\n",
       "         'with_padding': 1},\n",
       "        {'url': 'https://sun1-17.userapi.com/c840722/v840722964/803a1/OGFig-5UNjY.jpg',\n",
       "         'width': 320,\n",
       "         'height': 240,\n",
       "         'with_padding': 1},\n",
       "        {'url': 'https://sun1-23.userapi.com/c840722/v840722964/803a2/T2SKhzbHheQ.jpg',\n",
       "         'width': 800,\n",
       "         'height': 450,\n",
       "         'with_padding': 1}],\n",
       "       'id': 456239033,\n",
       "       'owner_id': 1,\n",
       "       'title': 'КОНКУРС НА БИТКОИН',\n",
       "       'track_code': 'video_2acf05c2HNSkLIltN5t2zTFVtKCxT6l3KzIJXv9iaRvH8c-QETkf35VzvVgBqUX0AWaHpMY',\n",
       "       'type': 'video',\n",
       "       'views': 60539,\n",
       "       'local_views': 60539,\n",
       "       'platform': 'YouTube'}}],\n",
       "    'edited': 1525352775,\n",
       "    'likes': {'can_like': 1,\n",
       "     'count': 24582,\n",
       "     'user_likes': 0,\n",
       "     'can_publish': 1,\n",
       "     'repost_disabled': False},\n",
       "    'post_source': {'type': 'vk'},\n",
       "    'post_type': 'post',\n",
       "    'reposts': {'count': 1338, 'user_reposted': 0},\n",
       "    'text': 'Михаил Светов, организатор прошедшего митинга за свободу интернета, объявил конкурс на наиболее вдохновляющую обработку видеоматериалов с митинга. Призовой фонд – 1 биткоин.\\n\\n#digitalresistance',\n",
       "    'views': {'count': 8054594},\n",
       "    'hash': 'rrMQBbDvCvR1OwbXlQ'}]}}"
      ]
     },
     "execution_count": 7,
     "metadata": {},
     "output_type": "execute_result"
    }
   ],
   "source": [
    "data"
   ]
  },
  {
   "cell_type": "markdown",
   "metadata": {},
   "source": [
    "Можно заметить, что дата отображается в виде числа. Это специальный формат unixtimestamp, который очень часто используется, так как целые числа - это универсальный способ хранения, который можно исопльзовать в любой системе (JSON, любые БД и прочие)"
   ]
  },
  {
   "cell_type": "code",
   "execution_count": 6,
   "metadata": {},
   "outputs": [
    {
     "name": "stdout",
     "output_type": "stream",
     "text": [
      "1525805964 2018-05-08 21:59:24\n"
     ]
    }
   ],
   "source": [
    "unixtime = data['response']['items'][0]['date']\n",
    "utc = datetime.fromtimestamp(unixtime)\n",
    "print(unixtime, utc)"
   ]
  },
  {
   "cell_type": "markdown",
   "metadata": {},
   "source": [
    "## wall.getComments\n",
    "\n",
    "Следующий метод - это сбор комментариев к посту, что тоже может быть интересно для изучения диалогов или чего-то подобного.\n",
    "\n",
    "Основные параметры: owner_id, post_id. Их мы можем достать из информации о постах на стене.\n",
    "\n",
    "Можно это сделать и вручную, например, если открыть пост во всплывающем окне, то по адресу в адресной строке можно понять эти id.\n",
    "\n",
    "https://vk.com/id1?w=wall1_2442097 : owner_id = 1, post_id = 2442097\n",
    "\n",
    "Для примера возьмем пост из СМИ, где можно оставлять комментарии."
   ]
  },
  {
   "cell_type": "code",
   "execution_count": 13,
   "metadata": {},
   "outputs": [],
   "source": [
    "get_comments_url = \"https://api.vk.com/method/wall.getComments\""
   ]
  },
  {
   "cell_type": "code",
   "execution_count": 16,
   "metadata": {},
   "outputs": [],
   "source": [
    "data = requests.get(\n",
    "    get_comments_url, \n",
    "    params={\n",
    "        \"owner_id\": -76982440,\n",
    "        \"post_id\": 5011073,\n",
    "        \"count\": 2,\n",
    "        \"need_likes\": 1,\n",
    "        \"v\": VERSION,\n",
    "        \"access_token\": TOKEN\n",
    "    }\n",
    ").json()"
   ]
  },
  {
   "cell_type": "code",
   "execution_count": 17,
   "metadata": {},
   "outputs": [
    {
     "data": {
      "text/plain": [
       "{'response': {'count': 16,\n",
       "  'items': [{'id': 5011074,\n",
       "    'from_id': 432646319,\n",
       "    'post_id': 5011073,\n",
       "    'owner_id': -76982440,\n",
       "    'parents_stack': [],\n",
       "    'date': 1618533695,\n",
       "    'text': 'Страна советов',\n",
       "    'likes': {'count': 14, 'user_likes': 0, 'can_like': 1},\n",
       "    'thread': {'count': 0,\n",
       "     'items': [],\n",
       "     'can_post': True,\n",
       "     'show_reply_button': True,\n",
       "     'groups_can_post': True}},\n",
       "   {'id': 5011078,\n",
       "    'from_id': 174352380,\n",
       "    'post_id': 5011073,\n",
       "    'owner_id': -76982440,\n",
       "    'parents_stack': [],\n",
       "    'date': 1618533953,\n",
       "    'text': 'Красавчик 👍🏼❤️',\n",
       "    'likes': {'count': 0, 'user_likes': 0, 'can_like': 1},\n",
       "    'thread': {'count': 0,\n",
       "     'items': [],\n",
       "     'can_post': True,\n",
       "     'show_reply_button': True,\n",
       "     'groups_can_post': True}}],\n",
       "  'current_level_count': 10,\n",
       "  'can_post': True,\n",
       "  'show_reply_button': True,\n",
       "  'groups_can_post': True}}"
      ]
     },
     "execution_count": 17,
     "metadata": {},
     "output_type": "execute_result"
    }
   ],
   "source": [
    "data"
   ]
  },
  {
   "cell_type": "markdown",
   "metadata": {},
   "source": [
    "## groups.getMembers\n",
    "\n",
    "Можно получить информацию о пользователях, например, о тех, кто подписан на опредленную группу.\n",
    "\n",
    "Попробуем еще параметр offset, который может пригодиться, когда данных много и придется скачивать \"страницы\" или блоки по 100 или 1000 объектов (1000 - ограничение для этого метода)"
   ]
  },
  {
   "cell_type": "code",
   "execution_count": 7,
   "metadata": {},
   "outputs": [],
   "source": [
    "group_members = \"https://api.vk.com/method/groups.getMembers\""
   ]
  },
  {
   "cell_type": "code",
   "execution_count": 8,
   "metadata": {},
   "outputs": [],
   "source": [
    "group = \"dormitory8hse\""
   ]
  },
  {
   "cell_type": "code",
   "execution_count": 28,
   "metadata": {},
   "outputs": [],
   "source": [
    "data = requests.get(\n",
    "    group_members,\n",
    "    params={\n",
    "        'group_id': group,\n",
    "        'access_token': TOKEN,\n",
    "        'v': VERSION,\n",
    "        'offset': 0\n",
    "    }\n",
    ").json()"
   ]
  },
  {
   "cell_type": "markdown",
   "metadata": {},
   "source": [
    "Кол-во объектов всего"
   ]
  },
  {
   "cell_type": "code",
   "execution_count": 29,
   "metadata": {},
   "outputs": [
    {
     "data": {
      "text/plain": [
       "6456"
      ]
     },
     "execution_count": 29,
     "metadata": {},
     "output_type": "execute_result"
    }
   ],
   "source": [
    "data[\"response\"][\"count\"]"
   ]
  },
  {
   "cell_type": "markdown",
   "metadata": {},
   "source": [
    "В качестве ответа по людям - просто список ID. По ним уже дальше можно запрашивать подробную информацию о пользователях."
   ]
  },
  {
   "cell_type": "code",
   "execution_count": 12,
   "metadata": {},
   "outputs": [
    {
     "data": {
      "text/plain": [
       "[11952, 20090, 56613, 62028, 80420, 81206, 96206, 113393, 144980, 225392]"
      ]
     },
     "execution_count": 12,
     "metadata": {},
     "output_type": "execute_result"
    }
   ],
   "source": [
    "data[\"response\"][\"items\"][:10]"
   ]
  },
  {
   "cell_type": "markdown",
   "metadata": {},
   "source": [
    "А теперь следующая страница. Это можно делать в цикле, чтобы выкачать всех"
   ]
  },
  {
   "cell_type": "code",
   "execution_count": 13,
   "metadata": {},
   "outputs": [
    {
     "data": {
      "text/plain": [
       "[24723404,\n",
       " 24729500,\n",
       " 24745684,\n",
       " 24943009,\n",
       " 24952994,\n",
       " 24966592,\n",
       " 24979668,\n",
       " 25002927,\n",
       " 25011084,\n",
       " 25017218]"
      ]
     },
     "execution_count": 13,
     "metadata": {},
     "output_type": "execute_result"
    }
   ],
   "source": [
    "data = requests.get(\n",
    "    group_members,\n",
    "    params={\n",
    "        'group_id': group,\n",
    "        'access_token': TOKEN,\n",
    "        'v': VERSION,\n",
    "        'offset': 1000\n",
    "    }\n",
    ").json()\n",
    "\n",
    "data[\"response\"][\"items\"][:10]"
   ]
  },
  {
   "cell_type": "markdown",
   "metadata": {},
   "source": [
    "## users.get\n",
    "\n",
    "Попробуем собрать информацию о тех, кто попал"
   ]
  },
  {
   "cell_type": "code",
   "execution_count": 14,
   "metadata": {},
   "outputs": [],
   "source": [
    "users_get_url = \"https://api.vk.com/method/users.get\""
   ]
  },
  {
   "cell_type": "code",
   "execution_count": 20,
   "metadata": {},
   "outputs": [],
   "source": [
    "import time"
   ]
  },
  {
   "cell_type": "code",
   "execution_count": 21,
   "metadata": {},
   "outputs": [
    {
     "data": {
      "application/vnd.jupyter.widget-view+json": {
       "model_id": "84b5ba4e20594c7b88317102d170b884",
       "version_major": 2,
       "version_minor": 0
      },
      "text/plain": [
       "  0%|          | 0/500 [00:00<?, ?it/s]"
      ]
     },
     "metadata": {},
     "output_type": "display_data"
    }
   ],
   "source": [
    "all_users_data = []\n",
    "\n",
    "for user in tqdm(data[\"response\"][\"items\"][:500]):\n",
    "    time.sleep(0.2) # ОГРАНИЧЕНИЕ ПО ВРЕМЕНИ\n",
    "    user_info = requests.get(\n",
    "        users_get_url,\n",
    "        params={\n",
    "            'user_ids': user,\n",
    "            'fields': 'bdate,home_town,universities',\n",
    "            'access_token': TOKEN,\n",
    "            'v': VERSION\n",
    "        }\n",
    "    ).json()\n",
    "    all_users_data.extend(user_info[\"response\"])"
   ]
  },
  {
   "cell_type": "code",
   "execution_count": 16,
   "metadata": {},
   "outputs": [
    {
     "data": {
      "text/plain": [
       "{'error': {'error_code': 6,\n",
       "  'error_msg': 'Too many requests per second',\n",
       "  'request_params': [{'key': 'user_ids', 'value': '24966592'},\n",
       "   {'key': 'fields', 'value': 'bdate,home_town,universities'},\n",
       "   {'key': 'v', 'value': '5.130'},\n",
       "   {'key': 'method', 'value': 'users.get'},\n",
       "   {'key': 'oauth', 'value': '1'}]}}"
      ]
     },
     "execution_count": 16,
     "metadata": {},
     "output_type": "execute_result"
    }
   ],
   "source": [
    "user_info"
   ]
  },
  {
   "cell_type": "code",
   "execution_count": 25,
   "metadata": {},
   "outputs": [],
   "source": [
    "df = pd.DataFrame(all_users_data)\n",
    "\n",
    "# чтобы не показывать в открытом месте данные, возьмем для демонстрации толькодва столбца\n",
    "df = df.dropna(subset=[\"home_town\", \"universities\"])\n",
    "df = df[[\"home_town\", \"universities\"]] "
   ]
  },
  {
   "cell_type": "code",
   "execution_count": 26,
   "metadata": {},
   "outputs": [
    {
     "data": {
      "text/html": [
       "<div>\n",
       "<style scoped>\n",
       "    .dataframe tbody tr th:only-of-type {\n",
       "        vertical-align: middle;\n",
       "    }\n",
       "\n",
       "    .dataframe tbody tr th {\n",
       "        vertical-align: top;\n",
       "    }\n",
       "\n",
       "    .dataframe thead th {\n",
       "        text-align: right;\n",
       "    }\n",
       "</style>\n",
       "<table border=\"1\" class=\"dataframe\">\n",
       "  <thead>\n",
       "    <tr style=\"text-align: right;\">\n",
       "      <th></th>\n",
       "      <th>home_town</th>\n",
       "      <th>universities</th>\n",
       "    </tr>\n",
       "  </thead>\n",
       "  <tbody>\n",
       "    <tr>\n",
       "      <th>2</th>\n",
       "      <td>Тамбов, Гомель, Москва</td>\n",
       "      <td>[{'chair': 2037637, 'chair_name': 'Философия',...</td>\n",
       "    </tr>\n",
       "    <tr>\n",
       "      <th>3</th>\n",
       "      <td></td>\n",
       "      <td>[{'city': 1, 'country': 1, 'education_form': '...</td>\n",
       "    </tr>\n",
       "    <tr>\n",
       "      <th>7</th>\n",
       "      <td>Владикавказ</td>\n",
       "      <td>[{'chair': 1767154, 'chair_name': 'Совместный ...</td>\n",
       "    </tr>\n",
       "    <tr>\n",
       "      <th>19</th>\n",
       "      <td></td>\n",
       "      <td>[]</td>\n",
       "    </tr>\n",
       "    <tr>\n",
       "      <th>23</th>\n",
       "      <td></td>\n",
       "      <td>[{'city': 1, 'country': 1, 'education_form': '...</td>\n",
       "    </tr>\n",
       "  </tbody>\n",
       "</table>\n",
       "</div>"
      ],
      "text/plain": [
       "                 home_town                                       universities\n",
       "2   Тамбов, Гомель, Москва  [{'chair': 2037637, 'chair_name': 'Философия',...\n",
       "3                           [{'city': 1, 'country': 1, 'education_form': '...\n",
       "7              Владикавказ  [{'chair': 1767154, 'chair_name': 'Совместный ...\n",
       "19                                                                         []\n",
       "23                          [{'city': 1, 'country': 1, 'education_form': '..."
      ]
     },
     "execution_count": 26,
     "metadata": {},
     "output_type": "execute_result"
    }
   ],
   "source": [
    "df.head()"
   ]
  },
  {
   "cell_type": "markdown",
   "metadata": {},
   "source": [
    "Университеты нужно еще дальше разбирать, а вот города можно подсчитать сразу"
   ]
  },
  {
   "cell_type": "code",
   "execution_count": 27,
   "metadata": {},
   "outputs": [
    {
     "data": {
      "text/plain": [
       "                             32\n",
       "Уфа                           4\n",
       "Омск                          4\n",
       "Тверь                         4\n",
       "Красноярск                    4\n",
       "Москва                        3\n",
       "Иркутск                       3\n",
       "Ижевск                        2\n",
       "Обнинск                       2\n",
       "Курск                         2\n",
       "Владикавказ                   2\n",
       "Новороссийск                  1\n",
       "Yerevan                       1\n",
       "Киров                         1\n",
       "Донецк                        1\n",
       "Брянск                        1\n",
       "Тамбов, Гомель, Москва        1\n",
       "Тула                          1\n",
       "Воронеж                       1\n",
       "Ташкент                       1\n",
       "С трамваями в метро...        1\n",
       "Чайковский                    1\n",
       "Удомля                        1\n",
       "Тирасполь                     1\n",
       "Нижний Новгород               1\n",
       "Самара                        1\n",
       "Новодвинск                    1\n",
       "Гагино                        1\n",
       "Оренбург                      1\n",
       "Астана                        1\n",
       "Асбест                        1\n",
       "Абакан                        1\n",
       "Chita                         1\n",
       "Пенза                         1\n",
       "Балаково                      1\n",
       "Саратов                       1\n",
       "Липецк                        1\n",
       "Казань                        1\n",
       "Элиста                        1\n",
       "Тамбов                        1\n",
       "Чита                          1\n",
       "Снежинск                      1\n",
       "Калуга                        1\n",
       "Кемерово                      1\n",
       "Елабуга                       1\n",
       "Moscow / Saint-Petersburg     1\n",
       "Miami                         1\n",
       "Балашов                       1\n",
       "Томск                         1\n",
       "Риддер, Новосибирск           1\n",
       "Обзор                         1\n",
       "Душанбе                       1\n",
       "Мирный                        1\n",
       "Name: home_town, dtype: int64"
      ]
     },
     "execution_count": 27,
     "metadata": {},
     "output_type": "execute_result"
    }
   ],
   "source": [
    "df[\"home_town\"].value_counts()"
   ]
  },
  {
   "cell_type": "markdown",
   "metadata": {},
   "source": [
    "Видно, что не все идеально (есть сразу несколько), но после препроцессинга может быть ок."
   ]
  },
  {
   "cell_type": "code",
   "execution_count": 30,
   "metadata": {},
   "outputs": [
    {
     "data": {
      "text/plain": [
       "1000"
      ]
     },
     "execution_count": 30,
     "metadata": {},
     "output_type": "execute_result"
    }
   ],
   "source": [
    "# "
   ]
  },
  {
   "cell_type": "markdown",
   "metadata": {},
   "source": [
    "## Задание\n",
    "\n",
    "### 1\n",
    "\n",
    "Попробовать собрать данные участников одной из групп и подсчитать статистику по какому-либо параметру (город, год рождения или иное).\n",
    "\n",
    "1. Выбираем группу\n",
    "2. Делаем пробный запрос\n",
    "3. Пишем цикл по сбору (установка offset +1000 каждый раз)\n",
    "4. Сохраняем ID\n",
    "5. В цикле получаем информацию по пользователям\n",
    "6. Сохраняем в датафрейм\n",
    "7. Считаем статистику (и делаем препроцессинг, если нужно)\n",
    "\n",
    "### 2\n",
    "\n",
    "Собрать посты и/или комментарии, где авторы разные и попробовать сравнить употребление какого-либо слова у двух групп пользователей (Москва / не-Москва, Петербург / Москва, любые другие). Возможно, данных нужно будет много, но можно попробовать популярное слово. Главное - попробовать сделать основу для решения подобной задачи.\n",
    "\n",
    "1. Выбираем группу\n",
    "2. Собраем посты, сохраняем.\n",
    "3. Для каждого поста собираем комментарии\n",
    "4. По всем объектам собираем уникальные айди пользователей (лучше в порядке убывания частоты появления\n",
    "5. Собираем информацию по ним, выделяем наши группы\n",
    "6. Лемматизируем (если надо)\n",
    "7. Считаем стастику"
   ]
  }
 ],
 "metadata": {
  "kernelspec": {
   "display_name": "Python 3 (ipykernel)",
   "language": "python",
   "name": "python3"
  },
  "language_info": {
   "codemirror_mode": {
    "name": "ipython",
    "version": 3
   },
   "file_extension": ".py",
   "mimetype": "text/x-python",
   "name": "python",
   "nbconvert_exporter": "python",
   "pygments_lexer": "ipython3",
   "version": "3.9.13"
  }
 },
 "nbformat": 4,
 "nbformat_minor": 4
}
