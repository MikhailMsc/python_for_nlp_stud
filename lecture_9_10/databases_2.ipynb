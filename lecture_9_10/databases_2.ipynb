{
 "cells": [
  {
   "cell_type": "markdown",
   "metadata": {},
   "source": [
    "# Работа с базами данных в Python\n",
    "\n",
    "В прошлый раз мы попробовали работать с базами через программу для компьютера, сегодня попробуем работать через питон. Также мы посмотрим подробнее на создание таблиц, добавление и удаление данных данных.\n",
    "\n",
    "Для работы с базами SQLite есть специальная библиотека, она встроена в питон и не требует дополнительной установки."
   ]
  },
  {
   "cell_type": "code",
   "execution_count": 32,
   "metadata": {},
   "outputs": [],
   "source": [
    "import sqlite3\n",
    "import pandas as pd"
   ]
  },
  {
   "cell_type": "markdown",
   "metadata": {},
   "source": [
    "Взаимодействие с базой происходит с помощью двух компонентов - подключения и курсора. \n",
    "\n",
    "**Подключение** - это как бы тоннель, по которому передаются данные. \n",
    "\n",
    "**Курсор** - это инструмент, с помощью которого мы взаимодействуем с данными - с помощью курсора мы посылаем запросы и после выполнения курсор помнит, где мы остановились, если мы листаем результаты по частям. Курсор умеет делать только одно действие одновременно, поэтому нельзя посылать запрос, пока мы листаем результаты."
   ]
  },
  {
   "cell_type": "code",
   "execution_count": 2,
   "metadata": {},
   "outputs": [],
   "source": [
    "con = sqlite3.connect('imdb_small_indexed.db')  # подключение\n",
    "cur = con.cursor()  # курсор"
   ]
  },
  {
   "cell_type": "markdown",
   "metadata": {},
   "source": [
    "Попробуем для начала то, что уже умеем, то есть выберем данные по нашему условию. Курсор имеет метод execute, который выполняет нашу команду."
   ]
  },
  {
   "cell_type": "code",
   "execution_count": 18,
   "metadata": {},
   "outputs": [],
   "source": [
    "tom_hanks_query = \"\"\"\n",
    "SELECT title, premiered\n",
    "FROM titles \n",
    "    JOIN crew ON titles.title_id = crew.title_id\n",
    "    JOIN people ON crew.person_id = people.person_id\n",
    "WHERE name = \"Tom Hanks\"\n",
    "ORDER BY premiered DESC\n",
    "LIMIT 5\n",
    "\"\"\""
   ]
  },
  {
   "cell_type": "code",
   "execution_count": 19,
   "metadata": {},
   "outputs": [
    {
     "data": {
      "text/plain": [
       "<sqlite3.Cursor at 0x7f9329bc66c0>"
      ]
     },
     "execution_count": 19,
     "metadata": {},
     "output_type": "execute_result"
    }
   ],
   "source": [
    "cur.execute(tom_hanks_query)"
   ]
  },
  {
   "cell_type": "markdown",
   "metadata": {},
   "source": [
    "Вернулось что-то странное. Это потому что курсор не сразу возвращает данные, которые мы запросили. Нужно решить, как мы будем их читать.\n",
    "\n",
    "\n",
    "**вариант 1**: все сразу"
   ]
  },
  {
   "cell_type": "code",
   "execution_count": 20,
   "metadata": {},
   "outputs": [
    {
     "data": {
      "text/plain": [
       "[('Untitled Elvis Presley Project', 2021),\n",
       " ('BIOS', 2021),\n",
       " ('Untitled Elvis Presley Project', 2021),\n",
       " ('Borat Subsequent Moviefilm', 2020),\n",
       " ('Greyhound', 2020)]"
      ]
     },
     "execution_count": 20,
     "metadata": {},
     "output_type": "execute_result"
    }
   ],
   "source": [
    "cur.fetchall()"
   ]
  },
  {
   "cell_type": "markdown",
   "metadata": {},
   "source": [
    "Видим, что возвращается список кортежей, никаких красивых заголовков нет.\n",
    "\n",
    "**вариант 2**: только 1"
   ]
  },
  {
   "cell_type": "code",
   "execution_count": 25,
   "metadata": {},
   "outputs": [
    {
     "data": {
      "text/plain": [
       "('Untitled Elvis Presley Project', 2021)"
      ]
     },
     "execution_count": 25,
     "metadata": {},
     "output_type": "execute_result"
    }
   ],
   "source": [
    "cur.execute(tom_hanks_query)\n",
    "cur.fetchone()"
   ]
  },
  {
   "cell_type": "markdown",
   "metadata": {},
   "source": [
    "дальше мы можем итерироваться и еще раз вызывать fetchone\n",
    "\n"
   ]
  },
  {
   "cell_type": "code",
   "execution_count": 26,
   "metadata": {},
   "outputs": [
    {
     "name": "stdout",
     "output_type": "stream",
     "text": [
      "('BIOS', 2021)\n",
      "('Untitled Elvis Presley Project', 2021)\n",
      "('Borat Subsequent Moviefilm', 2020)\n",
      "('Greyhound', 2020)\n"
     ]
    }
   ],
   "source": [
    "while True:\n",
    "    result = cur.fetchone()\n",
    "    if result is not None:\n",
    "        print(result)\n",
    "    else:\n",
    "        break"
   ]
  },
  {
   "cell_type": "markdown",
   "metadata": {},
   "source": [
    "**вариант 3**: не по одному, а порциями"
   ]
  },
  {
   "cell_type": "code",
   "execution_count": 28,
   "metadata": {},
   "outputs": [
    {
     "name": "stdout",
     "output_type": "stream",
     "text": [
      "[('Untitled Elvis Presley Project', 2021), ('BIOS', 2021)]\n",
      "[('Untitled Elvis Presley Project', 2021), ('Borat Subsequent Moviefilm', 2020)]\n",
      "[('Greyhound', 2020)]\n"
     ]
    }
   ],
   "source": [
    "cur.execute(tom_hanks_query)\n",
    "while True:\n",
    "    result = cur.fetchmany(2)\n",
    "    if len(result) > 0:\n",
    "        print(result)\n",
    "    else:\n",
    "        break"
   ]
  },
  {
   "cell_type": "markdown",
   "metadata": {},
   "source": [
    "### Задание 1\n",
    "\n",
    "Выберите все фильмы после 2000, где играет ваша любимая актриса или актер. Считайте все данные (fetchall) и распечатайте.\n",
    "\n",
    "1. запрос с соединением таблиц и условием по нужным столбцам\n",
    "2. вывод"
   ]
  },
  {
   "cell_type": "code",
   "execution_count": null,
   "metadata": {},
   "outputs": [],
   "source": [
    "# ваш код здесь"
   ]
  },
  {
   "cell_type": "markdown",
   "metadata": {},
   "source": [
    "## Использование переменных в запросе\n",
    "\n",
    "Допустим, что вы хотите сделать универсальную программу - она принимает на вход имя актера/актрисы и жанр, а потом выводит всю найденную информацию по такому запросу. Для того, чтобы создать переменные в запросе, мы должны оставить там знаки вопроса, туда подставится та информация, которую мы передадим потом в программе"
   ]
  },
  {
   "cell_type": "code",
   "execution_count": 29,
   "metadata": {},
   "outputs": [],
   "source": [
    "name = \"Natalie Portman\"\n",
    "genre = \"Comedy\""
   ]
  },
  {
   "cell_type": "code",
   "execution_count": 30,
   "metadata": {},
   "outputs": [],
   "source": [
    "act_genre_query = \"\"\"\n",
    "SELECT title, premiered\n",
    "FROM titles \n",
    "    JOIN crew ON titles.title_id = crew.title_id\n",
    "    JOIN people ON crew.person_id = people.person_id\n",
    "    JOIN film_genres ON titles.title_id = film_genres.title_id\n",
    "    JOIN genre_types ON film_genres.genre_id = genre_types.id\n",
    "WHERE name = ? AND genre_name = ? AND premiered IS NOT NULL\n",
    "ORDER BY premiered DESC\n",
    "\"\"\""
   ]
  },
  {
   "cell_type": "code",
   "execution_count": 31,
   "metadata": {},
   "outputs": [
    {
     "data": {
      "text/plain": [
       "[('Your Highness', 2011),\n",
       " ('No Strings Attached', 2011),\n",
       " ('Hesher', 2010),\n",
       " ('New York, I Love You', 2008),\n",
       " ('Between Two Ferns with Zach Galifianakis', 2008),\n",
       " (\"Mr. Magorium's Wonder Emporium\", 2007),\n",
       " ('Free Zone', 2005),\n",
       " ('Garden State', 2004),\n",
       " ('Where the Heart Is', 2000),\n",
       " ('Anywhere But Here', 1999)]"
      ]
     },
     "execution_count": 31,
     "metadata": {},
     "output_type": "execute_result"
    }
   ],
   "source": [
    "cur.execute(act_genre_query, (name, genre))\n",
    "cur.fetchall()"
   ]
  },
  {
   "cell_type": "markdown",
   "metadata": {},
   "source": [
    "### Задание 2\n",
    "\n",
    "Попробуйте написать функцию, которая принимает на вход тип фильма (сериал, фильм), жанр, рейтинг и выводит фильмы, которые оценили больше 100 000 человек и рейтинг больше чем задано.\n",
    "\n",
    "1. переменные\n",
    "2. запрос с соединением таблиц и условием по нужным столбцам\n",
    "3. вывод"
   ]
  },
  {
   "cell_type": "code",
   "execution_count": null,
   "metadata": {},
   "outputs": [],
   "source": [
    "# ваш код здесь"
   ]
  },
  {
   "cell_type": "markdown",
   "metadata": {},
   "source": [
    "Нельзя делать f-strings для запросов, есл вашей программой кто-то пользуется, кроме вас. Всегда, когда возможно, нужно использовать вопросы. Почему? На место переменной в f-string можно поместить запрос, который содержит вопрос на удаление или на получение доступа к информации в базе, которая не должна быть доступна."
   ]
  },
  {
   "cell_type": "markdown",
   "metadata": {},
   "source": [
    "### SQL и pandas\n",
    "\n",
    "Можно читать результаты прямо в пандас с нужными названиями столбцов. Для этого есть метод read_sql_query. Туда мы передаем подключение и запрос."
   ]
  },
  {
   "cell_type": "code",
   "execution_count": 34,
   "metadata": {},
   "outputs": [
    {
     "data": {
      "text/html": [
       "<div>\n",
       "<style scoped>\n",
       "    .dataframe tbody tr th:only-of-type {\n",
       "        vertical-align: middle;\n",
       "    }\n",
       "\n",
       "    .dataframe tbody tr th {\n",
       "        vertical-align: top;\n",
       "    }\n",
       "\n",
       "    .dataframe thead th {\n",
       "        text-align: right;\n",
       "    }\n",
       "</style>\n",
       "<table border=\"1\" class=\"dataframe\">\n",
       "  <thead>\n",
       "    <tr style=\"text-align: right;\">\n",
       "      <th></th>\n",
       "      <th>title</th>\n",
       "      <th>premiered</th>\n",
       "    </tr>\n",
       "  </thead>\n",
       "  <tbody>\n",
       "    <tr>\n",
       "      <th>0</th>\n",
       "      <td>Your Highness</td>\n",
       "      <td>2011</td>\n",
       "    </tr>\n",
       "    <tr>\n",
       "      <th>1</th>\n",
       "      <td>No Strings Attached</td>\n",
       "      <td>2011</td>\n",
       "    </tr>\n",
       "    <tr>\n",
       "      <th>2</th>\n",
       "      <td>Hesher</td>\n",
       "      <td>2010</td>\n",
       "    </tr>\n",
       "    <tr>\n",
       "      <th>3</th>\n",
       "      <td>New York, I Love You</td>\n",
       "      <td>2008</td>\n",
       "    </tr>\n",
       "    <tr>\n",
       "      <th>4</th>\n",
       "      <td>Between Two Ferns with Zach Galifianakis</td>\n",
       "      <td>2008</td>\n",
       "    </tr>\n",
       "    <tr>\n",
       "      <th>5</th>\n",
       "      <td>Mr. Magorium's Wonder Emporium</td>\n",
       "      <td>2007</td>\n",
       "    </tr>\n",
       "    <tr>\n",
       "      <th>6</th>\n",
       "      <td>Free Zone</td>\n",
       "      <td>2005</td>\n",
       "    </tr>\n",
       "    <tr>\n",
       "      <th>7</th>\n",
       "      <td>Garden State</td>\n",
       "      <td>2004</td>\n",
       "    </tr>\n",
       "    <tr>\n",
       "      <th>8</th>\n",
       "      <td>Where the Heart Is</td>\n",
       "      <td>2000</td>\n",
       "    </tr>\n",
       "    <tr>\n",
       "      <th>9</th>\n",
       "      <td>Anywhere But Here</td>\n",
       "      <td>1999</td>\n",
       "    </tr>\n",
       "  </tbody>\n",
       "</table>\n",
       "</div>"
      ],
      "text/plain": [
       "                                      title  premiered\n",
       "0                             Your Highness       2011\n",
       "1                       No Strings Attached       2011\n",
       "2                                    Hesher       2010\n",
       "3                      New York, I Love You       2008\n",
       "4  Between Two Ferns with Zach Galifianakis       2008\n",
       "5            Mr. Magorium's Wonder Emporium       2007\n",
       "6                                 Free Zone       2005\n",
       "7                              Garden State       2004\n",
       "8                        Where the Heart Is       2000\n",
       "9                         Anywhere But Here       1999"
      ]
     },
     "execution_count": 34,
     "metadata": {},
     "output_type": "execute_result"
    }
   ],
   "source": [
    "df = pd.read_sql_query(act_genre_query, params = [name, genre], con=con)\n",
    "df"
   ]
  },
  {
   "cell_type": "markdown",
   "metadata": {},
   "source": [
    "### Задание 4\n",
    "\n",
    "Попробуйте повторить прошлое, чтобы данные были в виде датафрейма, выводятся title, rating, premiered"
   ]
  },
  {
   "cell_type": "code",
   "execution_count": null,
   "metadata": {},
   "outputs": [],
   "source": [
    "# ваш код здесь"
   ]
  },
  {
   "cell_type": "markdown",
   "metadata": {},
   "source": [
    "## Создание своих таблиц\n",
    "\n",
    "Для создания таблицы нужно использовать ```CREATE```\n",
    "\n",
    "Общий синтакис такой:\n",
    "\n",
    "``` sql\n",
    "CREATE TABLE table_name (column1 INT, column2 TEXT)\n",
    "```"
   ]
  },
  {
   "cell_type": "code",
   "execution_count": 36,
   "metadata": {},
   "outputs": [
    {
     "data": {
      "text/plain": [
       "<sqlite3.Cursor at 0x7f9329bc66c0>"
      ]
     },
     "execution_count": 36,
     "metadata": {},
     "output_type": "execute_result"
    }
   ],
   "source": [
    "cur.execute(\"\"\"\n",
    "CREATE TABLE new_comedies (\n",
    "    title_id INT, \n",
    "    title TEXT, \n",
    "    premiered INT,\n",
    "    rating REAL,\n",
    "    PRIMARY KEY (title_id)\n",
    ")\n",
    "\"\"\")"
   ]
  },
  {
   "cell_type": "markdown",
   "metadata": {},
   "source": [
    "Ничего не сломалось, все работает. Теперь нужно **сохранить** то, что получилось. Для это нужно сделать коммит в подключении."
   ]
  },
  {
   "cell_type": "code",
   "execution_count": 38,
   "metadata": {},
   "outputs": [],
   "source": [
    "con.commit()"
   ]
  },
  {
   "cell_type": "markdown",
   "metadata": {},
   "source": [
    "Чтобы отменить изменения, можно откатиться к созраненной версии (если вы еще не сделали коммит)"
   ]
  },
  {
   "cell_type": "code",
   "execution_count": 39,
   "metadata": {},
   "outputs": [],
   "source": [
    "con.rollback()"
   ]
  },
  {
   "cell_type": "markdown",
   "metadata": {},
   "source": [
    "Ок, мы создали таблицу, хотим туда добавить что-то. Сделаем выборку из общих данных и положим потом сюда, что получилось."
   ]
  },
  {
   "cell_type": "code",
   "execution_count": 40,
   "metadata": {},
   "outputs": [],
   "source": [
    "new_comedies_query = \"\"\"\n",
    "SELECT titles.title_id, title, premiered, rating\n",
    "FROM titles\n",
    "    JOIN film_genres ON film_genres.title_id = titles.title_id\n",
    "    JOIN genre_types ON film_genres.genre_id = genre_types.id\n",
    "    JOIN rating ON titles.title_id = rating.title_id\n",
    "WHERE genre_types.genre_name = \"Comedy\" AND titles.premiered > 2019 AND titles.premiered < 2021\n",
    "\"\"\""
   ]
  },
  {
   "cell_type": "code",
   "execution_count": 41,
   "metadata": {},
   "outputs": [
    {
     "data": {
      "text/plain": [
       "[(446792, 'Surviving in L.A.', 2020, 8.1),\n",
       " (805647, 'The Witches', 2020, 5.2),\n",
       " (10004368, 'Jak najdalej stad', 2020, 7.2),\n",
       " (10006418, 'Avocado Toast the series', 2020, 7.3),\n",
       " (10023150, 'My Cousin', 2020, 5.8)]"
      ]
     },
     "execution_count": 41,
     "metadata": {},
     "output_type": "execute_result"
    }
   ],
   "source": [
    "cur.execute(new_comedies_query)\n",
    "data = cur.fetchall()\n",
    "\n",
    "data[:5]"
   ]
  },
  {
   "cell_type": "markdown",
   "metadata": {},
   "source": [
    "Для того, чтобы что-то добавить в таблицу, мы используем ```INSERT```. У нас есть список однотипных кортежей, поэтому мы можем все их сразу добавить, а не по одному, для этого есть executemany."
   ]
  },
  {
   "cell_type": "code",
   "execution_count": 42,
   "metadata": {},
   "outputs": [],
   "source": [
    "cur.executemany(\"INSERT INTO new_comedies VALUES (?, ?, ?, ?)\", data)\n",
    "con.commit()"
   ]
  },
  {
   "cell_type": "markdown",
   "metadata": {},
   "source": [
    "## Удаляем данные"
   ]
  },
  {
   "cell_type": "markdown",
   "metadata": {},
   "source": [
    "Допустим, что мы хотим удалить все фильмы, которые начинаются на букву B. Посмотрим сначала, сколько таких.\n",
    "\n",
    "Мы можем делать примерные запросы с помощью ```%```. Задать шаблон текста, типа поиск по подстроке."
   ]
  },
  {
   "cell_type": "code",
   "execution_count": 45,
   "metadata": {},
   "outputs": [
    {
     "data": {
      "text/plain": [
       "[(73,)]"
      ]
     },
     "execution_count": 45,
     "metadata": {},
     "output_type": "execute_result"
    }
   ],
   "source": [
    "cur.execute(\"SELECT COUNT(title_id) FROM new_comedies WHERE title LIKE 'B%'\")\n",
    "cur.fetchall()"
   ]
  },
  {
   "cell_type": "markdown",
   "metadata": {},
   "source": [
    "А теперь удалим все такие фильмы"
   ]
  },
  {
   "cell_type": "code",
   "execution_count": 47,
   "metadata": {},
   "outputs": [],
   "source": [
    "cur.execute(\"DELETE FROM new_comedies WHERE title LIKE 'B%'\")\n",
    "con.commit()"
   ]
  },
  {
   "cell_type": "markdown",
   "metadata": {},
   "source": [
    "Проверяем, что ничего не осталось."
   ]
  },
  {
   "cell_type": "code",
   "execution_count": 48,
   "metadata": {},
   "outputs": [
    {
     "data": {
      "text/plain": [
       "[(0,)]"
      ]
     },
     "execution_count": 48,
     "metadata": {},
     "output_type": "execute_result"
    }
   ],
   "source": [
    "cur.execute(\"SELECT COUNT(title_id) FROM new_comedies WHERE title LIKE 'B%'\")\n",
    "cur.fetchall()"
   ]
  },
  {
   "cell_type": "markdown",
   "metadata": {},
   "source": [
    "Чтобы удалить целую таблицу, мы можем ее дропнуть (```DROP```). Чтобы не было ошибки, если такой вообще не было, можно написать ```IF EXISTS```"
   ]
  },
  {
   "cell_type": "code",
   "execution_count": 50,
   "metadata": {},
   "outputs": [],
   "source": [
    "cur.execute(\"DROP TABLE IF EXISTS new_comedies\")\n",
    "con.commit()"
   ]
  },
  {
   "cell_type": "markdown",
   "metadata": {},
   "source": [
    "## Другие функции\n",
    "\n",
    "На самом деле есть еще много интересных функций или параметров, например ```GROUP_CONCAT```, которая позволяет агрегировать текст, склеивая его через разделитель (как join в питоновских строчках). Или ```HAVING```, что позволяет фильтровать что-то уже после группировки, например, вы агрегируете данные и хотите вывести только те, где получилось больше 10 в этом параметре.\n",
    "\n",
    "\n",
    "**Топ-10 фильмов по рейтингу, где ровно 2 жанра и 100 000 оценок**\n",
    "\n",
    "Мы соединяем таблицы, фильтруем по числу оценок, потом группируем по айди фильма, потом посел группировки фильтруем по числу жанров, сортируем по убыванию рейтинга, а при равенстве по числу оценок, выбираем первые 10.\n",
    "\n",
    "В агрегирующих функциях мы считаем число жанров для фильтра и склеиваем через запятую и пробел имена жанров."
   ]
  },
  {
   "cell_type": "code",
   "execution_count": 61,
   "metadata": {},
   "outputs": [
    {
     "data": {
      "text/plain": [
       "[('The Godfather', 1972, 2, 9.2, 1585284, 'Crime, Drama'),\n",
       " ('The Sopranos', 1999, 2, 9.2, 290309, 'Crime, Drama'),\n",
       " ('The Godfather: Part II', 1974, 2, 9.0, 1107605, 'Crime, Drama'),\n",
       " ('Pulp Fiction', 1994, 2, 8.9, 1793495, 'Crime, Drama'),\n",
       " ('Friends', 1994, 2, 8.9, 794054, 'Comedy, Romance'),\n",
       " ('12 Angry Men', 1957, 2, 8.9, 674893, 'Crime, Drama'),\n",
       " ('Forrest Gump', 1994, 2, 8.8, 1769908, 'Drama, Romance'),\n",
       " ('Peaky Blinders', 2013, 2, 8.8, 316333, 'Crime, Drama'),\n",
       " ('Freaks and Geeks', 1999, 2, 8.8, 126761, 'Comedy, Drama'),\n",
       " ('The Matrix', 1999, 2, 8.7, 1644392, 'Action, Sci-Fi')]"
      ]
     },
     "execution_count": 61,
     "metadata": {},
     "output_type": "execute_result"
    }
   ],
   "source": [
    "cur.execute(\"\"\"\n",
    "SELECT title, premiered, COUNT(film_genres.genre_id) as n_genres, rating, votes, GROUP_CONCAT(genre_name, ', ')\n",
    "FROM titles\n",
    "    JOIN film_genres ON titles.title_id = film_genres.title_id\n",
    "    JOIN genre_types ON film_genres.genre_id = genre_types.id\n",
    "    JOIN rating ON titles.title_id = rating.title_id\n",
    "WHERE rating.votes > 100000\n",
    "GROUP BY titles.title_id\n",
    "HAVING n_genres = 2\n",
    "ORDER BY rating DESC, votes DESC\n",
    "LIMIT 10\n",
    "\"\"\")\n",
    "cur.fetchall()"
   ]
  },
  {
   "cell_type": "markdown",
   "metadata": {},
   "source": [
    "### Задание 5\n",
    "\n",
    "Выберите несколько любимых актеров, попробуйте сделать таблицу, где будет информация о фильме: год, рейтинг, список жанров, список актеров из вашего списка.\n",
    "\n",
    "Подсказка (запрос просто можно дописать)"
   ]
  },
  {
   "cell_type": "markdown",
   "metadata": {},
   "source": [
    "``` sql\n",
    "SELECT \n",
    "    ...\n",
    "    COUNT(...) as n_my_actors,\n",
    "    GROUP_CONCAT(...) as my_actors\n",
    "FROM titles \n",
    "    ...\n",
    "WHERE name IN (...)\n",
    "GROUP BY titles.title_id\n",
    "HAVING n_my_actors > 1\n",
    "ORDER BY n_my_actors, premiered DESC\n",
    "```"
   ]
  },
  {
   "cell_type": "code",
   "execution_count": null,
   "metadata": {},
   "outputs": [],
   "source": [
    "# Ваш код здесь"
   ]
  }
 ],
 "metadata": {
  "kernelspec": {
   "display_name": "Python 3 (ipykernel)",
   "language": "python",
   "name": "python3"
  },
  "language_info": {
   "codemirror_mode": {
    "name": "ipython",
    "version": 3
   },
   "file_extension": ".py",
   "mimetype": "text/x-python",
   "name": "python",
   "nbconvert_exporter": "python",
   "pygments_lexer": "ipython3",
   "version": "3.9.6"
  }
 },
 "nbformat": 4,
 "nbformat_minor": 4
}
