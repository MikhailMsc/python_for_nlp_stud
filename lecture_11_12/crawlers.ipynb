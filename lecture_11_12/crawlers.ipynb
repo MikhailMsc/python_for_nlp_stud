{
 "cells": [
  {
   "cell_type": "markdown",
   "metadata": {},
   "source": [
    "# Краулеры\n",
    "\n",
    "**План**\n",
    "\n",
    "1. Что такое краулеры?\n",
    "2. Как написать простой краулер?\n",
    "3. Блокировки и способы их обхода"
   ]
  },
  {
   "cell_type": "markdown",
   "metadata": {},
   "source": [
    "## Что такое краулеры?\n",
    "\n",
    "Краулеры - это боты/программы, которые \"ползают\" по страницам сайта и собирают информацию. Все чаще использование таких программ запрещается правилами пользования сайтами, поэтому это формально нехорошо. Но так продолжают делать и это надо уметь.   \n",
    "Запрещают по 2 основным причинам: \n",
    "- не хотят делиться данными \n",
    "- боятся, что вы уроните сервер (если сайт маленький и сервер не очень, то это довольно легко).    \n",
    "\n",
    "Поэтому нужно собирать данные аккуратно, чтобы\n",
    "- вас не заблокировали по IP\n",
    "- вы не навредили серверу"
   ]
  },
  {
   "cell_type": "markdown",
   "metadata": {},
   "source": [
    "## Как написать простой краулер?"
   ]
  },
  {
   "cell_type": "code",
   "execution_count": 4,
   "metadata": {},
   "outputs": [],
   "source": [
    "import requests\n",
    "from pprint import pprint"
   ]
  },
  {
   "cell_type": "markdown",
   "metadata": {},
   "source": [
    "Вместо отдельных запросов лучше создать сессию, которая позволит хранить информацию между запросами и поддерживать то же соединение и не создавать каждый раз все заново, что влияет на производительность.\n",
    "\n",
    "Первая оптимизация, которую стоит принять во внимание при работе с HTTP, заключается в использовании постоянных соединений с веб-серверами. При использовании библиотеки requests в простом режиме (например — применяя её метод get, как в предыдущем ноутбуке) соединение с сервером закрывается после получения ответа от него. \n",
    "Для того чтобы этого избежать, приложению нужно использовать объект Session, который позволяет многократно использовать открытые соединения:"
   ]
  },
  {
   "cell_type": "code",
   "execution_count": 7,
   "metadata": {},
   "outputs": [],
   "source": [
    "session = requests.session() # Объект session будет хранить открытые соединения с вэб-серверами"
   ]
  },
  {
   "cell_type": "markdown",
   "metadata": {},
   "source": [
    "Соединения хранятся в пуле соединений (он, по умолчанию, рассчитан на 10 соединений). Размер пула можно настраивать:"
   ]
  },
  {
   "cell_type": "code",
   "execution_count": 8,
   "metadata": {},
   "outputs": [],
   "source": [
    "adapter = requests.adapters.HTTPAdapter(\n",
    "    pool_connections=10, # Количество пулов соединений\n",
    "    pool_maxsize=10 # Размер каждого пула\n",
    ")"
   ]
  },
  {
   "cell_type": "code",
   "execution_count": 9,
   "metadata": {},
   "outputs": [],
   "source": [
    "session.mount('https://', adapter)"
   ]
  },
  {
   "cell_type": "markdown",
   "metadata": {},
   "source": [
    "Попробуем сделать запрос, просто вместо requests.get мы пишет session.get."
   ]
  },
  {
   "cell_type": "code",
   "execution_count": 10,
   "metadata": {},
   "outputs": [],
   "source": [
    "response = session.get('https://ru.wikipedia.org')"
   ]
  },
  {
   "cell_type": "markdown",
   "metadata": {},
   "source": [
    "Может найти значения нашего IP-адреса"
   ]
  },
  {
   "cell_type": "code",
   "execution_count": 11,
   "metadata": {},
   "outputs": [
    {
     "data": {
      "text/plain": [
       "'81.200.8.153'"
      ]
     },
     "execution_count": 11,
     "metadata": {},
     "output_type": "execute_result"
    }
   ],
   "source": [
    "response.headers['X-Client-IP']"
   ]
  },
  {
   "cell_type": "markdown",
   "metadata": {},
   "source": [
    "Можно ли нас отследить по IP? С определенной точностью, можно узнать округ или компанию, к которой привязан любой IP. Пример сервиса, который позволяет это сделать [здесь](https://whatismyipaddress.com/ip-lookup)"
   ]
  },
  {
   "cell_type": "markdown",
   "metadata": {},
   "source": [
    "Посмотреть на headers запроса"
   ]
  },
  {
   "cell_type": "code",
   "execution_count": 15,
   "metadata": {},
   "outputs": [
    {
     "name": "stdout",
     "output_type": "stream",
     "text": [
      "{'accept-ch': 'Sec-CH-UA-Arch,Sec-CH-UA-Bitness,Sec-CH-UA-Full-Version-List,Sec-CH-UA-Model,Sec-CH-UA-Platform-Version',\n",
      " 'accept-ranges': 'bytes',\n",
      " 'age': '2793',\n",
      " 'cache-control': 'private, s-maxage=0, max-age=0, must-revalidate',\n",
      " 'content-encoding': 'gzip',\n",
      " 'content-language': 'ru',\n",
      " 'content-length': '26581',\n",
      " 'content-type': 'text/html; charset=UTF-8',\n",
      " 'date': 'Fri, 18 Nov 2022 20:00:31 GMT',\n",
      " 'last-modified': 'Fri, 18 Nov 2022 20:00:28 GMT',\n",
      " 'nel': '{ \"report_to\": \"wm_nel\", \"max_age\": 86400, \"failure_fraction\": 0.05, '\n",
      "        '\"success_fraction\": 0.0}',\n",
      " 'permissions-policy': 'interest-cohort=(),ch-ua-arch=(self '\n",
      "                       '\"intake-analytics.wikimedia.org\"),ch-ua-bitness=(self '\n",
      "                       '\"intake-analytics.wikimedia.org\"),ch-ua-full-version-list=(self '\n",
      "                       '\"intake-analytics.wikimedia.org\"),ch-ua-model=(self '\n",
      "                       '\"intake-analytics.wikimedia.org\"),ch-ua-platform-version=(self '\n",
      "                       '\"intake-analytics.wikimedia.org\")',\n",
      " 'report-to': '{ \"group\": \"wm_nel\", \"max_age\": 86400, \"endpoints\": [{ \"url\": '\n",
      "              '\"https://intake-logging.wikimedia.org/v1/events?stream=w3c.reportingapi.network_error&schema_uri=/w3c/reportingapi/network_error/1.0.0\" '\n",
      "              '}] }',\n",
      " 'server': 'mw1409.eqiad.wmnet',\n",
      " 'server-timing': 'cache;desc=\"hit-front\", host;desc=\"cp3060\"',\n",
      " 'strict-transport-security': 'max-age=106384710; includeSubDomains; preload',\n",
      " 'vary': 'Accept-Encoding,Cookie,Authorization',\n",
      " 'x-cache': 'cp3060 hit, cp3060 hit/1175',\n",
      " 'x-cache-status': 'hit-front',\n",
      " 'x-client-ip': '81.200.8.153',\n",
      " 'x-content-type-options': 'nosniff'}\n"
     ]
    }
   ],
   "source": [
    "pprint(dict(response.headers))"
   ]
  },
  {
   "cell_type": "markdown",
   "metadata": {},
   "source": [
    "### Стратегии сбора данных\n",
    "\n",
    "\n",
    "По сути краулеры выполняют сбор страниц (их html) как мы это делали на прошлом занятии, но делают они это циклами (или циклами циклов). Можно выделить разные стратегии сбора данных:\n",
    "    \n",
    "**По типу навигации**\n",
    "\n",
    "1. Все страницы со ссылками имеют удобные номера (\"https://ficbook.net/fanfiction/no_fandom/originals?p=2\"), обычно просто p=(число) или page=(число). В этом случае вам нужно просто подставлять цифры подробнее про параметры передаваемые в ссылке можно посмотреть [здесь](https://en.wikipedia.org/wiki/Query_string)\n",
    "2. Страницы называются как-то не структурированно (например, по названиям блоков). Тут нужно собирать ссылки на эти страницы и потом по ним ходить и собирать конечные странички.\n",
    "3. Все расположено на одной страничке и догружается с использованием [WebSocket](https://en.wikipedia.org/wiki/WebSocket) или других технологий, при этом адрес в адресной строке никак не изменяется, данные могут догружаться на сайт автоматически по мере скролла страницы\n",
    "\n",
    "**По скорости обновления**\n",
    "\n",
    "1. Если сайт довольно статичный по контенту (медленно появляются и удаляются материалы), то можно сначал собрать ссылки, а потом по ним ходить\n",
    "2. Если сайт очень динамичный по контенту (например, объявления на крупном сайте), вам нужно при получении страничкии ссылок сразу их обходить, а потом переходить к следующей, потому что ко времени получения исчерпывающего списка ссылок по сайту многие будут уже удалены или недоступны\n",
    "\n"
   ]
  },
  {
   "cell_type": "markdown",
   "metadata": {},
   "source": [
    "## Блокировки и способы их обхода\n",
    "\n",
    "Для того, чтобы предотвратить автоматический сбор информации с некого сайта, применяются различные инструменты, которые определяют роботов и блокируют запросы с адресов, которые были классифицированы как роботы. Чтобы не заблокировали домашний/учебный ip, лучше сразу задуматься об этих мерах и предотвратить возможные проблемы. Кстати, Википедия не блокирует и можно спокойно скачивать без каких-либо проблем.\n",
    "\n",
    "Чтобы их обойти, можно попробовать несколько инструментов:\n",
    "1. time.sleep(x) - задержка между запросами, чтобы слишком большая скорость запросов не показалась подозрительной или ваши запросы не уронили сервер небольшого ресурса (например, региональной газеты)\n",
    "2. time.sleep(случайный промежуток времени) - это более хитрая версия, когда время задержки - это случайное число из некоторого отрезка (модуль random)\n",
    "3. изобразить браузер - при запросе отправляется информация о том, из какого приложения пришел запрос (например, Googlr Chrome), запросы сделанные из браузера больше похожи на человеческие, для этого нужно задать user-agent в параметрах (а его выбирать случайно с помощью fake_useragent)\n",
    "4. использовать прокси - существуют ресурсы с бесплатными списками открытых прокси, через которые можно пропускать ваш запрос и сервер будет думать, что запросы приходят из разных мест (anonymous и elite классы прокси) или использовать анонимизированные сети к примеру сеть [Tor](https://en.wikipedia.org/wiki/Tor_(network)) и аналоги."
   ]
  },
  {
   "cell_type": "markdown",
   "metadata": {},
   "source": [
    "### Пауза между запросами"
   ]
  },
  {
   "cell_type": "code",
   "execution_count": 16,
   "metadata": {},
   "outputs": [],
   "source": [
    "import time\n",
    "from datetime import datetime"
   ]
  },
  {
   "cell_type": "code",
   "execution_count": 17,
   "metadata": {},
   "outputs": [
    {
     "name": "stdout",
     "output_type": "stream",
     "text": [
      "2022-11-18 23:52:41.859211\n",
      "2022-11-18 23:52:43.104344\n",
      "2022-11-18 23:52:44.227002\n",
      "2022-11-18 23:52:45.619185\n",
      "2022-11-18 23:52:46.745426\n"
     ]
    }
   ],
   "source": [
    "for _ in range(5):\n",
    "    response = session.get('https://ru.wikipedia.org')\n",
    "    print(datetime.now())\n",
    "    time.sleep(1)"
   ]
  },
  {
   "cell_type": "markdown",
   "metadata": {},
   "source": [
    "### Притвориться нормальным браузером\n",
    "\n",
    "При отправке запроса на сервер/сайт в параметрах нашего запроса по умолчанию содержится информация кто обращается к серверу.\n",
    "Если мы никак эту информацию не редактируем, то по умолчанию запрос честно передает серверу информацию что запрос идет из Python,\n",
    "библиотеки Requests.\n",
    "\n",
    "Но многие сайты не желают обрабатывать такие запросы, так как информацию запрашивает не человек сидя в браузере, а какая-то программа.\n",
    "Поэтому они иногда ставят блокировки и фильтры на входящие запросы, так они отсеивают всяких ботов.  \n",
    "\n",
    "Но в Python есть возможность прикинуться браузером. Можно вручную задать устройство/браузер, можно использовать специальную библиотеку. Разберем оба случая."
   ]
  },
  {
   "cell_type": "code",
   "execution_count": 19,
   "metadata": {},
   "outputs": [],
   "source": [
    "from fake_useragent import UserAgent"
   ]
  },
  {
   "cell_type": "markdown",
   "metadata": {},
   "source": [
    "Можно настроить так, чтобы не проверять безопасность соединения, что иногда вызывает ошибки. Но это можно делать с сайтмаи, которым вы доверяете."
   ]
  },
  {
   "cell_type": "code",
   "execution_count": 20,
   "metadata": {},
   "outputs": [],
   "source": [
    "ua = UserAgent(verify_ssl=False)"
   ]
  },
  {
   "cell_type": "code",
   "execution_count": 22,
   "metadata": {},
   "outputs": [
    {
     "data": {
      "text/plain": [
       "'Mozilla/5.0 (Windows; U; Windows NT 5.1; ja-JP) AppleWebKit/533.20.25 (KHTML, like Gecko) Version/5.0.3 Safari/533.19.4'"
      ]
     },
     "execution_count": 22,
     "metadata": {},
     "output_type": "execute_result"
    }
   ],
   "source": [
    "ua.random"
   ]
  },
  {
   "cell_type": "code",
   "execution_count": 23,
   "metadata": {},
   "outputs": [
    {
     "data": {
      "text/plain": [
       "'Mozilla/5.0 (Windows NT 6.1; WOW64; rv:77.0) Gecko/20190101 Firefox/77.0'"
      ]
     },
     "execution_count": 23,
     "metadata": {},
     "output_type": "execute_result"
    }
   ],
   "source": [
    "ua.random"
   ]
  },
  {
   "cell_type": "code",
   "execution_count": 24,
   "metadata": {},
   "outputs": [
    {
     "name": "stdout",
     "output_type": "stream",
     "text": [
      "{'User-Agent': 'Mozilla/5.0 (Windows; U; Windows NT 6.1; tr-TR) AppleWebKit/533.20.25 (KHTML, like Gecko) Version/5.0.4 Safari/533.20.27'}\n"
     ]
    }
   ],
   "source": [
    "headers = {'User-Agent': ua.random}\n",
    "print(headers)\n",
    "response = session.get('https://ru.wikipedia.org', headers=headers)"
   ]
  },
  {
   "cell_type": "markdown",
   "metadata": {},
   "source": [
    "### Пауза между запросами (случайное время)"
   ]
  },
  {
   "cell_type": "code",
   "execution_count": 25,
   "metadata": {},
   "outputs": [],
   "source": [
    "import random"
   ]
  },
  {
   "cell_type": "markdown",
   "metadata": {},
   "source": [
    "random.uniform позволяет получить случайное число из отрезка"
   ]
  },
  {
   "cell_type": "code",
   "execution_count": 26,
   "metadata": {},
   "outputs": [
    {
     "data": {
      "text/plain": [
       "1.0659317490373563"
      ]
     },
     "execution_count": 26,
     "metadata": {},
     "output_type": "execute_result"
    }
   ],
   "source": [
    "random.uniform(1, 3)"
   ]
  },
  {
   "cell_type": "code",
   "execution_count": 27,
   "metadata": {},
   "outputs": [
    {
     "name": "stdout",
     "output_type": "stream",
     "text": [
      "2022-11-18 23:56:17.413681\n",
      "2022-11-18 23:56:22.143512\n",
      "2022-11-18 23:56:25.033615\n",
      "2022-11-18 23:56:27.320069\n",
      "2022-11-18 23:56:30.951056\n"
     ]
    }
   ],
   "source": [
    "for _ in range(5):\n",
    "    response = session.get('https://ru.wikipedia.org')\n",
    "    print(datetime.now())\n",
    "    time.sleep(random.uniform(1.1, 5.2))"
   ]
  },
  {
   "cell_type": "markdown",
   "metadata": {},
   "source": [
    "### Подключение через прокси\n",
    "\n",
    "Прокси-сервер — это дополнительное звено между вами и интернетом, через него пойдет подключение и сайт не будет знать, что это вы посылаете запрос.\n",
    "\n",
    "Адреса прокси можно взять со специальных сайтов, например, [https://hideip.me/ru/proxy/httplist](https://hideip.me/ru/proxy/httplist). И потом проверить, что они рабочие, прежде чем использовать [https://checkerproxy.net/](https://checkerproxy.net/)"
   ]
  },
  {
   "cell_type": "code",
   "execution_count": 34,
   "metadata": {},
   "outputs": [],
   "source": [
    "known_proxy_ip = '167.235.6.102:10061'\n",
    "known_proxy_ip = '3.28.199.73:8080'\n",
    "known_proxy_ip = '128.199.77.142:5001'\n",
    "proxy = {'http': known_proxy_ip, 'https': known_proxy_ip}\n",
    "response = session.get('http://ru.wikipedia.org', proxies=proxy)\n",
    "# print(response.headers['X-Client-IP'])"
   ]
  },
  {
   "cell_type": "code",
   "execution_count": 35,
   "metadata": {
    "collapsed": true,
    "jupyter": {
     "outputs_hidden": true
    },
    "tags": []
   },
   "outputs": [
    {
     "data": {
      "text/plain": [
       "'<!DOCTYPE html>\\n<html class=\"client-nojs\" lang=\"ru\" dir=\"ltr\">\\n<head>\\n<meta charset=\"UTF-8\"/>\\n<title>Википедия\\xa0— свободная энциклопедия</title>\\n<script>document.documentElement.className=\"client-js\";RLCONF={\"wgBreakFrames\":false,\"wgSeparatorTransformTable\":[\",\\\\t.\",\"\\xa0\\\\t,\"],\"wgDigitTransformTable\":[\"\",\"\"],\"wgDefaultDateFormat\":\"dmy\",\"wgMonthNames\":[\"\",\"январь\",\"февраль\",\"март\",\"апрель\",\"май\",\"июнь\",\"июль\",\"август\",\"сентябрь\",\"октябрь\",\"ноябрь\",\"декабрь\"],\"wgRequestId\":\"1bc162ca-8e53-481b-b815-c298d013af81\",\"wgCSPNonce\":false,\"wgCanonicalNamespace\":\"\",\"wgCanonicalSpecialPageName\":false,\"wgNamespaceNumber\":0,\"wgPageName\":\"Заглавная_страница\",\"wgTitle\":\"Заглавная страница\",\"wgCurRevisionId\":121103235,\"wgRevisionId\":121103235,\"wgArticleId\":4401,\"wgIsArticle\":true,\"wgIsRedirect\":false,\"wgAction\":\"view\",\"wgUserName\":null,\"wgUserGroups\":[\"*\"],\"wgCategories\":[\"Википедия:Страницы с ежечасно очищаемым кэшем\",\"Персоналии по алфавиту\",\"Родившиеся 21 сентября\",\\n\"Родившиеся в 1407 году\",\"Умершие 1 октября\",\"Умершие в 1450 году\"],\"wgPageContentLanguage\":\"ru\",\"wgPageContentModel\":\"wikitext\",\"wgRelevantPageName\":\"Заглавная_страница\",\"wgRelevantArticleId\":4401,\"wgIsProbablyEditable\":false,\"wgRelevantPageIsProbablyEditable\":false,\"wgRestrictionEdit\":[\"sysop\"],\"wgRestrictionMove\":[\"sysop\"],\"wgIsMainPage\":true,\"wgFlaggedRevsParams\":{\"tags\":{\"accuracy\":{\"levels\":1}}},\"wgStableRevisionId\":121103235,\"wgVisualEditor\":{\"pageLanguageCode\":\"ru\",\"pageLanguageDir\":\"ltr\",\"pageVariantFallbacks\":\"ru\"},\"wgMFDisplayWikibaseDescriptions\":{\"search\":true,\"watchlist\":true,\"tagline\":false,\"nearby\":true},\"wgWMESchemaEditAttemptStepOversample\":false,\"wgWMEPageLength\":7000,\"wgNoticeProject\":\"wikipedia\",\"wgVector2022PreviewPages\":[],\"wgMediaViewerOnClick\":true,\"wgMediaViewerEnabledByDefault\":true,\"wgPopupsFlags\":10,\"wgULSCurrentAutonym\":\"русский\",\"wgEditSubmitButtonLabelPublish\":true,\\n\"wgCentralAuthMobileDomain\":false,\"wgULSPosition\":\"interlanguage\",\"wgULSisCompactLinksEnabled\":true,\"wgWikibaseItemId\":\"Q5296\",\"GEHomepageSuggestedEditsEnableTopics\":true,\"wgGETopicsMatchModeEnabled\":false,\"wgGEStructuredTaskRejectionReasonTextInputEnabled\":false};RLSTATE={\"ext.globalCssJs.user.styles\":\"ready\",\"site.styles\":\"ready\",\"user.styles\":\"ready\",\"ext.globalCssJs.user\":\"ready\",\"user\":\"ready\",\"user.options\":\"loading\",\"ext.flaggedRevs.icons\":\"ready\",\"oojs-ui-core.styles\":\"ready\",\"oojs-ui.styles.indicators\":\"ready\",\"mediawiki.widgets.styles\":\"ready\",\"oojs-ui-core.icons\":\"ready\",\"skins.vector.styles.legacy\":\"ready\",\"jquery.makeCollapsible.styles\":\"ready\",\"mediawiki.ui.button\":\"ready\",\"ext.flaggedRevs.basic\":\"ready\",\"ext.visualEditor.desktopArticleTarget.noscript\":\"ready\",\"ext.wikimediaBadges\":\"ready\",\"ext.uls.interlanguage\":\"ready\"};RLPAGEMODULES=[\"site\",\"mediawiki.page.ready\",\"jquery.makeCollapsible\",\"skins.vector.legacy.js\",\"ext.flaggedRevs.advanced\",\"mmv.head\",\\n\"mmv.bootstrap.autostart\",\"ext.visualEditor.desktopArticleTarget.init\",\"ext.visualEditor.targetLoader\",\"ext.eventLogging\",\"ext.wikimediaEvents\",\"ext.navigationTiming\",\"ext.cx.eventlogging.campaigns\",\"ext.imagesuggestions.notifications.styles\",\"ext.centralNotice.geoIP\",\"ext.centralNotice.startUp\",\"ext.gadget.collapserefs\",\"ext.gadget.directLinkToCommons\",\"ext.gadget.referenceTooltips\",\"ext.gadget.logo\",\"ext.gadget.edittop\",\"ext.gadget.blpEditNotice\",\"ext.gadget.wikibugs\",\"ext.gadget.sidebarRelated\",\"ext.gadget.navboxNavigation\",\"ext.centralauth.centralautologin\",\"ext.popups\",\"ext.uls.interface\",\"ext.growthExperiments.SuggestedEditSession\"];</script>\\n<script>(RLQ=window.RLQ||[]).push(function(){mw.loader.implement(\"user.options@12s5i\",function($,jQuery,require,module){mw.user.tokens.set({\"patrolToken\":\"+\\\\\\\\\",\"watchToken\":\"+\\\\\\\\\",\"csrfToken\":\"+\\\\\\\\\"});});});</script>\\n<link rel=\"stylesheet\" href=\"/w/load.php?lang=ru&amp;modules=ext.flaggedRevs.basic%2Cicons%7Cext.uls.interlanguage%7Cext.visualEditor.desktopArticleTarget.noscript%7Cext.wikimediaBadges%7Cjquery.makeCollapsible.styles%7Cmediawiki.ui.button%7Cmediawiki.widgets.styles%7Coojs-ui-core.icons%2Cstyles%7Coojs-ui.styles.indicators%7Cskins.vector.styles.legacy&amp;only=styles&amp;skin=vector\"/>\\n<script async=\"\" src=\"/w/load.php?lang=ru&amp;modules=startup&amp;only=scripts&amp;raw=1&amp;skin=vector\"></script>\\n<meta name=\"ResourceLoaderDynamicStyles\" content=\"\"/>\\n<link rel=\"stylesheet\" href=\"/w/load.php?lang=ru&amp;modules=site.styles&amp;only=styles&amp;skin=vector\"/>\\n<noscript><link rel=\"stylesheet\" href=\"/w/load.php?lang=ru&amp;modules=noscript&amp;only=styles&amp;skin=vector\"/></noscript>\\n<meta name=\"generator\" content=\"MediaWiki 1.40.0-wmf.10\"/>\\n<meta name=\"referrer\" content=\"origin\"/>\\n<meta name=\"referrer\" content=\"origin-when-crossorigin\"/>\\n<meta name=\"referrer\" content=\"origin-when-cross-origin\"/>\\n<meta name=\"robots\" content=\"max-image-preview:standard\"/>\\n<meta name=\"format-detection\" content=\"telephone=no\"/>\\n<meta property=\"og:image\" content=\"https://upload.wikimedia.org/wikipedia/commons/thumb/5/5e/HRD_for_bright_or_nearby_stars.svg/1200px-HRD_for_bright_or_nearby_stars.svg.png\"/>\\n<meta property=\"og:image:width\" content=\"1200\"/>\\n<meta property=\"og:image:height\" content=\"1879\"/>\\n<meta property=\"og:image\" content=\"https://upload.wikimedia.org/wikipedia/commons/thumb/5/5e/HRD_for_bright_or_nearby_stars.svg/800px-HRD_for_bright_or_nearby_stars.svg.png\"/>\\n<meta property=\"og:image:width\" content=\"800\"/>\\n<meta property=\"og:image:height\" content=\"1252\"/>\\n<meta property=\"og:image\" content=\"https://upload.wikimedia.org/wikipedia/commons/thumb/5/5e/HRD_for_bright_or_nearby_stars.svg/640px-HRD_for_bright_or_nearby_stars.svg.png\"/>\\n<meta property=\"og:image:width\" content=\"640\"/>\\n<meta property=\"og:image:height\" content=\"1002\"/>\\n<meta name=\"viewport\" content=\"width=1000\"/>\\n<meta property=\"og:title\" content=\"Википедия\\xa0— свободная энциклопедия\"/>\\n<meta property=\"og:type\" content=\"website\"/>\\n<link rel=\"preconnect\" href=\"//upload.wikimedia.org\"/>\\n<link rel=\"alternate\" media=\"only screen and (max-width: 720px)\" href=\"//ru.m.wikipedia.org/wiki/%D0%97%D0%B0%D0%B3%D0%BB%D0%B0%D0%B2%D0%BD%D0%B0%D1%8F_%D1%81%D1%82%D1%80%D0%B0%D0%BD%D0%B8%D1%86%D0%B0\"/>\\n<link rel=\"apple-touch-icon\" href=\"/static/apple-touch/wikipedia.png\"/>\\n<link rel=\"icon\" href=\"/static/favicon/wikipedia.ico\"/>\\n<link rel=\"search\" type=\"application/opensearchdescription+xml\" href=\"/w/opensearch_desc.php\" title=\"Википедия (ru)\"/>\\n<link rel=\"EditURI\" type=\"application/rsd+xml\" href=\"//ru.wikipedia.org/w/api.php?action=rsd\"/>\\n<link rel=\"license\" href=\"https://creativecommons.org/licenses/by-sa/3.0/\"/>\\n<link rel=\"canonical\" href=\"https://ru.wikipedia.org/wiki/%D0%97%D0%B0%D0%B3%D0%BB%D0%B0%D0%B2%D0%BD%D0%B0%D1%8F_%D1%81%D1%82%D1%80%D0%B0%D0%BD%D0%B8%D1%86%D0%B0\"/>\\n<link rel=\"dns-prefetch\" href=\"//meta.wikimedia.org\" />\\n<link rel=\"dns-prefetch\" href=\"//login.wikimedia.org\"/>\\n</head>\\n<body class=\"skin-vector-legacy mediawiki ltr sitedir-ltr mw-hide-empty-elt ns-0 ns-subject page-Заглавная_страница rootpage-Заглавная_страница skin-vector action-view vector-feature-language-in-header-enabled vector-feature-language-in-main-page-header-disabled vector-feature-language-alert-in-sidebar-enabled vector-feature-sticky-header-disabled vector-feature-sticky-header-edit-disabled vector-feature-table-of-contents-legacy-toc-disabled vector-feature-visual-enhancement-next-enabled vector-feature-page-tools-disabled vector-feature-limited-width-enabled vector-feature-limited-width-content-enabled\"><div id=\"mw-page-base\" class=\"noprint\"></div>\\n<div id=\"mw-head-base\" class=\"noprint\"></div>\\n<div id=\"content\" class=\"mw-body\" role=\"main\">\\n\\t<a id=\"top\"></a>\\n\\t<div id=\"siteNotice\"><!-- CentralNotice --><!--esi <esi:include src=\"/esitest-fa8a495983347898/content\" /> --> </div>\\n\\t<div class=\"mw-indicators\">\\n\\t</div>\\n\\t<h1 id=\"firstHeading\" class=\"firstHeading mw-first-heading\" style=\"display: none\"><span class=\"mw-page-title-main\">Заглавная страница</span></h1>\\n\\t<div id=\"bodyContent\" class=\"vector-body\">\\n\\t\\t<div id=\"siteSub\" class=\"noprint\">Материал из Википедии — свободной энциклопедии</div>\\n\\t\\t<div id=\"contentSub\"><div id=\"mw-fr-revisiontag\" class=\"flaggedrevs_short flaggedrevs_stable_synced plainlinks noprint\"><div class=\"flaggedrevs_short_basic\"><span title=\\'Правки этой страницы требуют проверки.\\' class=\\'flaggedrevs-icon oo-ui-widget oo-ui-widget-enabled oo-ui-iconElement-icon oo-ui-icon-articleSearch oo-ui-iconElement oo-ui-labelElement-invisible oo-ui-iconWidget\\'></span><span title=\\'Это отпатрулированная версия страницы\\' class=\\'flaggedrevs-icon oo-ui-widget oo-ui-widget-enabled oo-ui-iconElement-icon oo-ui-icon-eye oo-ui-iconElement oo-ui-labelElement-invisible oo-ui-iconWidget\\'></span><span id=\\'mw-fr-revisiontoggle\\' title=\\'показать/скрыть подробности\\' class=\\'fr-toggle-arrow oo-ui-widget oo-ui-widget-enabled oo-ui-indicatorElement-indicator oo-ui-indicator-down oo-ui-indicatorElement oo-ui-labelElement-invisible oo-ui-indicatorWidget\\'></span></div>\\n<div id=\"mw-fr-revisiondetails-wrapper\" style=\"position:relative;\"><div id=\"mw-fr-revisiondetails\" class=\"flaggedrevs_short_details\" style=\"display:none\">Это <a href=\"/wiki/%D0%92%D0%B8%D0%BA%D0%B8%D0%BF%D0%B5%D0%B4%D0%B8%D1%8F:%D0%9F%D0%B0%D1%82%D1%80%D1%83%D0%BB%D0%B8%D1%80%D0%BE%D0%B2%D0%B0%D0%BD%D0%B8%D0%B5\" title=\"Википедия:Патрулирование\">стабильная версия</a>, <a class=\"external text\" href=\"https://ru.wikipedia.org/w/index.php?title=%D0%A1%D0%BB%D1%83%D0%B6%D0%B5%D0%B1%D0%BD%D0%B0%D1%8F:%D0%96%D1%83%D1%80%D0%BD%D0%B0%D0%BB%D1%8B&amp;type=review&amp;page=%D0%97%D0%B0%D0%B3%D0%BB%D0%B0%D0%B2%D0%BD%D0%B0%D1%8F_%D1%81%D1%82%D1%80%D0%B0%D0%BD%D0%B8%D1%86%D0%B0\">отпатрулированная</a> <i>1 апреля 2022</i>.</div>\\n</div>\\n</div>\\n</div>\\n\\t\\t<div id=\"contentSub2\"></div>\\n\\t\\t\\n\\t\\t<div id=\"jump-to-nav\"></div>\\n\\t\\t<a class=\"mw-jump-link\" href=\"#mw-head\">Перейти к навигации</a>\\n\\t\\t<a class=\"mw-jump-link\" href=\"#searchInput\">Перейти к поиску</a>\\n\\t\\t<div id=\"mw-content-text\" class=\"mw-body-content mw-content-ltr\" lang=\"ru\" dir=\"ltr\"><div class=\"mw-parser-output\"><style data-mw-deduplicate=\"TemplateStyles:r113278219\">.mw-parser-output .main-header{border-bottom-color:transparent;margin-bottom:0.25em;margin-top:0;padding-bottom:0;padding-top:0}.mw-parser-output .main-plainlist>ul{list-style:none;margin:0;padding:0}.mw-parser-output .main-plainlist li{margin-bottom:0}.mw-parser-output .main-top-right .mw-ui-quiet:hover,.mw-parser-output .main-top-right .mw-ui-quiet:focus,.mw-parser-output .main-footer .mw-ui-quiet:hover,.mw-parser-output .main-footer .mw-ui-quiet:focus{color:#0645ad}.mw-parser-output .mw-headline-number{display:none}@media(min-width:720px){.mw-parser-output .main-wikimedia{padding-top:1rem;padding-left:1rem;padding-right:1rem}}@media(min-width:1000px){.mw-parser-output .main-wrapper{display:flex;margin:0 -0.75rem}.mw-parser-output .main-wrapper-column{flex:1;margin:0 0.75rem}.mw-parser-output .main-wikimedia{padding-top:1.5rem;padding-left:1.5rem;padding-right:1.5rem}}</style>\\n<style data-mw-deduplicate=\"TemplateStyles:r125466701\">.mw-parser-output .main-top{clear:both;font-size:1rem;margin-top:1rem;padding-bottom:1.5rem}.mw-parser-output .main-top-left>p{font-size:0.875em;margin:0}.mw-parser-output .main-top-right{font-size:0.875em;margin-top:0.5em}.mw-parser-output .main-top-right>ul{display:none;margin-top:0.5rem}.mw-parser-output .main-top-header{border-bottom:0;margin-bottom:0;margin-top:0}.mw-parser-output .main-top-articleCount{margin-bottom:0}body.skin-minerva .mw-parser-output .main-top-articleCount{display:none}.mw-parser-output .main-top-mobileSearch{display:none;margin-top:1rem}body.skin-minerva .mw-parser-output .main-top-mobileSearch{display:block}.mw-parser-output .main-top-mobileSearchButton{background:#fff;border:none;box-shadow:0 2px 2px 0 rgba(0,0,0,0.25);color:#72777d;font-weight:normal;max-width:none;text-align:left;width:100%}@media(min-width:720px){.mw-parser-output .main-top{background-color:#f8f9fa;border:1px solid #c8ccd1;border-radius:2px;box-shadow:0 1px 1px rgba(0,0,0,.15);margin-bottom:1rem;padding:1rem}.mw-parser-output .main-top-right>ul{display:flex;flex-wrap:wrap}.mw-parser-output .main-top-articleCount{margin-bottom:0.5rem}body.skin-minerva .mw-parser-output .main-top-articleCount{display:block}body.skin-minerva .mw-parser-output .main-top-mobileSearch{display:none}}@media(min-width:1000px){.mw-parser-output .main-top{align-items:center;background-image:url(\"https://upload.wikimedia.org/wikipedia/commons/e/e3/Wikipedia_logo_letters_banner.svg\");background-position:right;background-repeat:no-repeat;display:flex;margin-bottom:1.5rem;margin-top:0.5rem;padding-bottom:0;padding-left:0;padding-top:0}.mw-parser-output .main-top-left{background-image:linear-gradient(to right,#f8f9fa 0%,#f8f9fa 70%,rgba(248,249,250,0)100%);flex:2.5;padding:2rem 0 2rem 1rem}.mw-parser-output .main-top-right{flex:2;margin-top:0;text-align:right}.mw-parser-output .main-top-right>ul{align-items:center;flex-direction:row-reverse;justify-content:right;margin-top:0;text-align:left}.mw-parser-output .main-top-createArticle{margin-left:12px}}@media(max-width:999px){.mw-parser-output .main-top-createArticle{margin-right:12px}}@media(min-width:1280px){.mw-parser-output .main-top{padding-right:1.5rem}body.skin-minerva .mw-parser-output .main-top,body.skin-vector-2022 .mw-parser-output .main-top{padding-right:1rem}.mw-parser-output .main-top-left{padding-left:1.5rem}body.skin-minerva .mw-parser-output .main-top-left,body.skin-vector-2022 .mw-parser-output .main-top-left{padding-left:1rem}}</style>\\n<div class=\"main-top\">\\n<div class=\"main-top-left\">\\n<h1 class=\"main-top-header\"><span id=\".D0.94.D0.BE.D0.B1.D1.80.D0.BE_.D0.BF.D0.BE.D0.B6.D0.B0.D0.BB.D0.BE.D0.B2.D0.B0.D1.82.D1.8C_.D0.B2_.D0.92.D0.B8.D0.BA.D0.B8.D0.BF.D0.B5.D0.B4.D0.B8.D1.8E.2C\"></span><span class=\"mw-headline\" id=\"Добро_пожаловать_в_Википедию,\">Добро пожаловать в&#160;<a href=\"/wiki/%D0%92%D0%B8%D0%BA%D0%B8%D0%BF%D0%B5%D0%B4%D0%B8%D1%8F\" title=\"Википедия\">Википедию</a>,</span></h1>\\n<p><a href=\"/wiki/%D0%A1%D0%B2%D0%BE%D0%B1%D0%BE%D0%B4%D0%BD%D1%8B%D0%B9_%D0%BA%D0%BE%D0%BD%D1%82%D0%B5%D0%BD%D1%82\" title=\"Свободный контент\">свободную энциклопедию</a>, которую <a href=\"/wiki/%D0%A1%D0%BF%D1%80%D0%B0%D0%B2%D0%BA%D0%B0:%D0%92%D0%B2%D0%B5%D0%B4%D0%B5%D0%BD%D0%B8%D0%B5_%D0%B2_%D0%92%D0%B8%D0%BA%D0%B8%D0%BF%D0%B5%D0%B4%D0%B8%D1%8E\" title=\"Справка:Введение в Википедию\">может редактировать каждый</a>.\\n</p>\\n<div class=\"main-top-mobileSearch\"><a href=\"/wiki/%D0%A1%D0%BB%D1%83%D0%B6%D0%B5%D0%B1%D0%BD%D0%B0%D1%8F:%D0%9F%D0%BE%D0%B8%D1%81%D0%BA\" title=\"Служебная:Поиск\"><span class=\"mw-ui-button main-top-mobileSearchButton skin-minerva-search-trigger\">Искать среди 1&#160;869&#160;404 статей</span></a></div>\\n</div>\\n<div class=\"main-top-right main-plainlist\">\\n<p class=\"main-top-articleCount\">Сейчас в&#160;Википедии <b><a href=\"/wiki/%D0%A1%D0%BB%D1%83%D0%B6%D0%B5%D0%B1%D0%BD%D0%B0%D1%8F:%D0%A1%D1%82%D0%B0%D1%82%D0%B8%D1%81%D1%82%D0%B8%D0%BA%D0%B0\" title=\"Служебная:Статистика\">1&#160;869&#160;404 статьи</a></b> на&#160;<a href=\"/wiki/%D0%A0%D1%83%D1%81%D1%81%D0%BA%D0%B8%D0%B9_%D1%8F%D0%B7%D1%8B%D0%BA\" title=\"Русский язык\">русском языке</a>.</p>\\n<ul>\\n<li class=\"main-top-createArticle\"><a href=\"/wiki/%D0%92%D0%B8%D0%BA%D0%B8%D0%BF%D0%B5%D0%B4%D0%B8%D1%8F:%D0%9C%D0%B0%D1%81%D1%82%D0%B5%D1%80_%D1%81%D1%82%D0%B0%D1%82%D0%B5%D0%B9\" title=\"Википедия:Мастер статей\"><span class=\"mw-ui-button\">Создать статью</span></a></li>\\n<li><a href=\"/wiki/%D0%92%D0%B8%D0%BA%D0%B8%D0%BF%D0%B5%D0%B4%D0%B8%D1%8F:%D0%A1%D0%BF%D1%80%D0%B0%D0%B2%D0%BA%D0%B0\" title=\"Википедия:Справка\"><span class=\"mw-ui-button mw-ui-quiet\">Справка</span></a></li>\\n<li><a href=\"/wiki/%D0%9F%D0%BE%D1%80%D1%82%D0%B0%D0%BB:%D0%9E%D0%B1%D0%B7%D0%BE%D1%80\" title=\"Портал:Обзор\"><span class=\"mw-ui-button mw-ui-quiet\">Порталы</span></a></li>\\n</ul>\\n</div>\\n</div>\\n<div class=\"main-wrapper\">\\n<div class=\"main-wrapper-column\">\\n<style data-mw-deduplicate=\"TemplateStyles:r125466734\">.mw-parser-output .main-box{background:#fff;border:solid #c8ccd1;border-width:1px 0;box-shadow:0 1px 1px rgba(0,0,0,0.15);margin:0 -1rem 1.5rem;padding:1rem}.mw-parser-output .main-box>p:last-child{margin-bottom:0}.mw-parser-output .main-box-image-only>.main-box-content{margin:0.5rem -1rem 0;text-align:center}.mw-parser-output .main-box-image-only>.main-box-content img{height:auto;max-width:100%}.mw-parser-output .main-box-imageCaption{display:flex;justify-content:center}.mw-parser-output .main-box-imageCaption>p{margin-bottom:0}.mw-parser-output .main-box-subtitle{color:#72777d;line-height:1.25;margin-top:-.125em}.mw-parser-output .main-box-header{margin-top:-.15em}.mw-parser-output .main-box-header a{color:inherit}.mw-parser-output .main-box-subtitle+.main-box-header{margin-top:0}.mw-parser-output .main-box-header a:focus,.mw-parser-output .main-box:hover .main-box-header a,.mw-parser-output .main-box:hover .main-featuredLists-link a{color:#0645ad}.mw-parser-output .main-footer{display:block;margin-top:1rem;position:relative}html.client-js .mw-parser-output .main-footer{display:flex;justify-content:flex-end}.mw-parser-output .main-footer:empty{display:none}.mw-parser-output .main-footer-actions{flex:1}.mw-parser-output .main-footer-actions>ul{align-items:center;display:flex}.mw-parser-output .main-footer-actions .mw-ui-button{min-height:inherit}.mw-parser-output .main-footer-menu{align-items:stretch;display:flex}.mw-parser-output .main-footer-menuToggle{display:none}html.client-js .mw-parser-output .main-footer-menuToggle{align-items:center;display:flex;float:none;height:100%;opacity:0.87}.mw-parser-output .main-footer-menuToggle:hover{opacity:0.51}.mw-parser-output .main-footer-menuDropdown{font-size:0.85em;margin:0.5em 0 -0.5rem}html.client-js .mw-parser-output .main-footer-menuDropdown{background:#fff;border:1px solid #a2a9b1;border-radius:2px;box-shadow:0 2px 2px 0 rgba(0,0,0,0.25);font-size:1em;max-width:15em;margin:0;position:absolute;right:0;top:100%;z-index:100}html.client-nojs .mw-parser-output .main-footer-menuDropdown>ul{display:flex}html.client-nojs .mw-parser-output .main-footer-menuDropdown .mw-ui-button{min-width:0;max-width:none;padding-left:0;white-space:nowrap}html.client-js .mw-parser-output .main-footer-menuDropdown .mw-ui-button{text-align:left;width:100%}@media(max-width:719px){.mw-parser-output .main-box-responsive-image>.floatleft,.mw-parser-output .main-box-responsive-image>.floatright{float:none;margin-left:-1rem;margin-right:-1rem;text-align:center}.mw-parser-output .main-box-responsive-image>.floatleft>a,.mw-parser-output .main-box-responsive-image>.floatright>a{display:block}}@media(min-width:720px){.mw-parser-output .main-box{border-radius:2px;border-width:1px;margin-bottom:1rem;margin-left:0;margin-right:0}}@media(min-width:1280px){.mw-parser-output .main-box{margin-bottom:1.5rem;padding:1.5rem}body.skin-minerva .mw-parser-output .main-box,body.skin-vector-2022 .mw-parser-output .main-box{padding:1rem}body:not(.skin-minerva):not(.skin-vector-2022) .mw-parser-output .main-box-image-only>.main-box-content{margin-left:-1.5rem;margin-right:-1.5rem}}</style>\\n<div id=\"main-tfa\" class=\"main-box main-box-responsive-image\"><div class=\"main-box-subtitle\">Избранная статья</div><h2 class=\"main-header main-box-header\"><span id=\".D0.94.D0.B8.D0.B0.D0.B3.D1.80.D0.B0.D0.BC.D0.BC.D0.B0_.D0.93.D0.B5.D1.80.D1.86.D1.88.D0.BF.D1.80.D1.83.D0.BD.D0.B3.D0.B0_.E2.80.94_.D0.A0.D0.B0.D1.81.D1.81.D0.B5.D0.BB.D0.B0\"></span><span class=\"mw-headline\" id=\"Диаграмма_Герцшпрунга_—_Рассела\"><a href=\"/wiki/%D0%94%D0%B8%D0%B0%D0%B3%D1%80%D0%B0%D0%BC%D0%BC%D0%B0_%D0%93%D0%B5%D1%80%D1%86%D1%88%D0%BF%D1%80%D1%83%D0%BD%D0%B3%D0%B0_%E2%80%94_%D0%A0%D0%B0%D1%81%D1%81%D0%B5%D0%BB%D0%B0\" title=\"Диаграмма Герцшпрунга — Рассела\">Диаграмма Герцшпрунга — Рассела</a></span></h2>\\n<div class=\"floatright\"><a href=\"/wiki/%D0%A4%D0%B0%D0%B9%D0%BB:HRD_for_bright_or_nearby_stars.svg\" class=\"image\" title=\"Диаграмма Герцшпрунга — Рассела для некоторых близких или ярких звёзд. Кривыми линиями обозначены классы светимости\"><img alt=\"Диаграмма Герцшпрунга — Рассела для некоторых близких или ярких звёзд. Кривыми линиями обозначены классы светимости\" src=\"//upload.wikimedia.org/wikipedia/commons/thumb/5/5e/HRD_for_bright_or_nearby_stars.svg/160px-HRD_for_bright_or_nearby_stars.svg.png\" decoding=\"async\" width=\"160\" height=\"250\" srcset=\"//upload.wikimedia.org/wikipedia/commons/thumb/5/5e/HRD_for_bright_or_nearby_stars.svg/240px-HRD_for_bright_or_nearby_stars.svg.png 1.5x, //upload.wikimedia.org/wikipedia/commons/thumb/5/5e/HRD_for_bright_or_nearby_stars.svg/320px-HRD_for_bright_or_nearby_stars.svg.png 2x\" data-file-width=\"656\" data-file-height=\"1027\" /></a></div>\\n<p><b><a href=\"/wiki/%D0%94%D0%B8%D0%B0%D0%B3%D1%80%D0%B0%D0%BC%D0%BC%D0%B0_%D0%93%D0%B5%D1%80%D1%86%D1%88%D0%BF%D1%80%D1%83%D0%BD%D0%B3%D0%B0_%E2%80%94_%D0%A0%D0%B0%D1%81%D1%81%D0%B5%D0%BB%D0%B0\" title=\"Диаграмма Герцшпрунга — Рассела\">Диаграмма Герцшпрунга — Рассела</a></b> (<b>Рессела</b>, сокращённо <b>диаграмма Г—Р</b>) — <a href=\"/wiki/%D0%94%D0%B8%D0%B0%D0%B3%D1%80%D0%B0%D0%BC%D0%BC%D0%B0_%D1%80%D0%B0%D1%81%D1%81%D0%B5%D1%8F%D0%BD%D0%B8%D1%8F\" title=\"Диаграмма рассеяния\">диаграмма рассеяния</a>, используемая в <a href=\"/wiki/%D0%90%D1%81%D1%82%D1%80%D0%BE%D0%BD%D0%BE%D0%BC%D0%B8%D1%8F\" title=\"Астрономия\">астрономии</a>, которая представляет зависимость между <a href=\"/wiki/%D0%90%D0%B1%D1%81%D0%BE%D0%BB%D1%8E%D1%82%D0%BD%D0%B0%D1%8F_%D0%B7%D0%B2%D1%91%D0%B7%D0%B4%D0%BD%D0%B0%D1%8F_%D0%B2%D0%B5%D0%BB%D0%B8%D1%87%D0%B8%D0%BD%D0%B0\" title=\"Абсолютная звёздная величина\">абсолютной звёздной величиной</a> и <a href=\"/wiki/%D0%A1%D0%BF%D0%B5%D0%BA%D1%82%D1%80%D0%B0%D0%BB%D1%8C%D0%BD%D1%8B%D0%B9_%D0%BA%D0%BB%D0%B0%D1%81%D1%81\" class=\"mw-redirect\" title=\"Спектральный класс\">спектральным классом</a> для <a href=\"/wiki/%D0%97%D0%B2%D0%B5%D0%B7%D0%B4%D0%B0\" title=\"Звезда\">звёзд</a>, либо между другими величинами, которые тесно связаны с этими параметрами. В любом случае, в верхней части диаграммы оказываются яркие звёзды, а в нижней части — тусклые; в левой части — горячие звёзды голубого цвета, в правой — холодные и красные. В качестве синонимов основному термину также используются понятия «<b>диаграмма спектр — светимость</b>», «<b>диаграмма светимость — эффективная температура</b>» и другие, хотя, более строго, различные названия относятся к определённым вариантам диаграммы.\\n</p><p>Точки, соответствующие звёздам, на диаграмме оказываются распределены не равномерно, а сосредоточены в нескольких областях. Такое распределение отражает особенности <a href=\"/wiki/%D0%A4%D0%BE%D1%80%D0%BC%D0%B8%D1%80%D0%BE%D0%B2%D0%B0%D0%BD%D0%B8%D0%B5_%D0%B7%D0%B2%D0%B5%D0%B7%D0%B4%D1%8B\" title=\"Формирование звезды\">формирования звёзд</a> и хода их <a href=\"/wiki/%D0%AD%D0%B2%D0%BE%D0%BB%D1%8E%D1%86%D0%B8%D1%8F_%D0%B7%D0%B2%D1%91%D0%B7%D0%B4\" title=\"Эволюция звёзд\">эволюции</a>: положение звезды на диаграмме зависит от её массы, возраста и химического состава. Наиболее «населённая» часть диаграммы — <a href=\"/wiki/%D0%93%D0%BB%D0%B0%D0%B2%D0%BD%D0%B0%D1%8F_%D0%BF%D0%BE%D1%81%D0%BB%D0%B5%D0%B4%D0%BE%D0%B2%D0%B0%D1%82%D0%B5%D0%BB%D1%8C%D0%BD%D0%BE%D1%81%D1%82%D1%8C\" title=\"Главная последовательность\">главная последовательность</a>, проходящая из верхнего левого угла диаграммы в правый нижний: она образована звёздами, в ядрах которых происходит ядерное горение водорода. Соответствующая стадия эволюции является наиболее продолжительной, поэтому на главной последовательности находится 90% всех звёзд.\\n</p><p>Диаграмма названа в честь <a href=\"/wiki/%D0%93%D0%B5%D1%80%D1%86%D1%88%D0%BF%D1%80%D1%83%D0%BD%D0%B3,_%D0%AD%D0%B9%D0%BD%D0%B0%D1%80\" title=\"Герцшпрунг, Эйнар\">Эйнара Герцшпрунга</a> и <a href=\"/wiki/%D0%A0%D0%B0%D1%81%D1%81%D0%B5%D0%BB%D0%BB,_%D0%93%D0%B5%D0%BD%D1%80%D0%B8_%D0%9D%D0%BE%D1%80%D1%80%D0%B8%D1%81\" title=\"Расселл, Генри Норрис\">Генри Норриса Расселла</a>, которые впервые её построили в разных вариантах в 1911 и 1913 годах.\\n</p>\\n<div style=\"clear:both;\"></div>\\n<div class=\"main-footer\"><div class=\"main-footer-actions main-plainlist\">\\n<ul><li><a href=\"/wiki/%D0%94%D0%B8%D0%B0%D0%B3%D1%80%D0%B0%D0%BC%D0%BC%D0%B0_%D0%93%D0%B5%D1%80%D1%86%D1%88%D0%BF%D1%80%D1%83%D0%BD%D0%B3%D0%B0_%E2%80%94_%D0%A0%D0%B0%D1%81%D1%81%D0%B5%D0%BB%D0%B0\" title=\"Диаграмма Герцшпрунга — Рассела\"><span class=\"mw-ui-button\">Читать</span></a></li>\\n<li><span class=\"nomobile\"><a href=\"/wiki/%D0%92%D0%B8%D0%BA%D0%B8%D0%BF%D0%B5%D0%B4%D0%B8%D1%8F:%D0%98%D0%B7%D0%B1%D1%80%D0%B0%D0%BD%D0%BD%D1%8B%D0%B5_%D1%81%D1%82%D0%B0%D1%82%D1%8C%D0%B8\" title=\"Википедия:Избранные статьи\"><span class=\"mw-ui-button mw-ui-quiet\">Все 1700 избранных статей</span></a></span></li></ul>\\n</div><div id=\"mw-customcollapsible-tfa\" class=\"main-footer-menu mw-collapsible mw-collapsed nomobile\">\\n<div class=\"main-footer-menuToggle mw-collapsible-toggle mw-customtoggle-main-tfa\"><img alt=\"Доп. действия\" src=\"//upload.wikimedia.org/wikipedia/commons/thumb/b/b3/OOjs_UI_icon_ellipsis.svg/20px-OOjs_UI_icon_ellipsis.svg.png\" decoding=\"async\" title=\"Дополнительные действия\" width=\"20\" height=\"20\" srcset=\"//upload.wikimedia.org/wikipedia/commons/thumb/b/b3/OOjs_UI_icon_ellipsis.svg/30px-OOjs_UI_icon_ellipsis.svg.png 1.5x, //upload.wikimedia.org/wikipedia/commons/thumb/b/b3/OOjs_UI_icon_ellipsis.svg/40px-OOjs_UI_icon_ellipsis.svg.png 2x\" data-file-width=\"20\" data-file-height=\"20\" /></div>\\n<div class=\"main-footer-menuDropdown mw-collapsible-content main-plainlist\">\\n<ul><li><a href=\"/wiki/%D0%92%D0%B8%D0%BA%D0%B8%D0%BF%D0%B5%D0%B4%D0%B8%D1%8F:%D0%9A%D0%B0%D0%BD%D0%B4%D0%B8%D0%B4%D0%B0%D1%82%D1%8B_%D0%B2_%D0%B8%D0%B7%D0%B1%D1%80%D0%B0%D0%BD%D0%BD%D1%8B%D0%B5_%D1%81%D1%82%D0%B0%D1%82%D1%8C%D0%B8\" title=\"Википедия:Кандидаты в избранные статьи\"><span class=\"mw-ui-button mw-ui-quiet\">Кандидаты</span></a></li>\\n<li><a href=\"/wiki/%D0%A8%D0%B0%D0%B1%D0%BB%D0%BE%D0%BD:%D0%A2%D0%B5%D0%BA%D1%83%D1%89%D0%B0%D1%8F_%D0%B8%D0%B7%D0%B1%D1%80%D0%B0%D0%BD%D0%BD%D0%B0%D1%8F_%D1%81%D1%82%D0%B0%D1%82%D1%8C%D1%8F\" title=\"Шаблон:Текущая избранная статья\"><span class=\"mw-ui-button mw-ui-quiet\">Просмотр шаблона</span></a></li></ul>\\n</div></div></div>\\n</div>\\n<link rel=\"mw-deduplicated-inline-style\" href=\"mw-data:TemplateStyles:r125466734\"/>\\n<div id=\"main-tga\" class=\"main-box main-box-responsive-image\"><div class=\"main-box-subtitle\">Хорошая статья</div><h2 class=\"main-header main-box-header\"><span id=\".D0.9B.D0.B8.D0.BE.D0.BD.D0.B5.D0.BB.D0.BB.D0.BE_.D0.B4.E2.80.99.D0.AD.D1.81.D1.82.D0.B5\"></span><span class=\"mw-headline\" id=\"Лионелло_д’Эсте\"><a href=\"/wiki/%D0%9B%D0%B8%D0%BE%D0%BD%D0%B5%D0%BB%D0%BB%D0%BE_%D0%B4%E2%80%99%D0%AD%D1%81%D1%82%D0%B5\" title=\"Лионелло д’Эсте\">Лионелло д’Эсте</a></span></h2>\\n<div class=\"floatright\"><a href=\"/wiki/%D0%A4%D0%B0%D0%B9%D0%BB:Giovanni_da_oriolo_leonello_d%27este.jpg\" class=\"image\" title=\"Лионелло д’Эсте, Портрет Джованни да Ориоло, 1447\"><img alt=\"Лионелло д’Эсте, Портрет Джованни да Ориоло, 1447\" src=\"//upload.wikimedia.org/wikipedia/commons/thumb/e/ed/Giovanni_da_oriolo_leonello_d%27este.jpg/140px-Giovanni_da_oriolo_leonello_d%27este.jpg\" decoding=\"async\" width=\"140\" height=\"199\" srcset=\"//upload.wikimedia.org/wikipedia/commons/thumb/e/ed/Giovanni_da_oriolo_leonello_d%27este.jpg/210px-Giovanni_da_oriolo_leonello_d%27este.jpg 1.5x, //upload.wikimedia.org/wikipedia/commons/thumb/e/ed/Giovanni_da_oriolo_leonello_d%27este.jpg/280px-Giovanni_da_oriolo_leonello_d%27este.jpg 2x\" data-file-width=\"2973\" data-file-height=\"4226\" /></a></div>\\n<p><b><a href=\"/wiki/%D0%9B%D0%B8%D0%BE%D0%BD%D0%B5%D0%BB%D0%BB%D0%BE_%D0%B4%E2%80%99%D0%AD%D1%81%D1%82%D0%B5\" title=\"Лионелло д’Эсте\">Лионелло д’Эсте</a></b> или <b>Леонелло д’Эсте</b> (<a href=\"/wiki/%D0%98%D1%82%D0%B0%D0%BB%D1%8C%D1%8F%D0%BD%D1%81%D0%BA%D0%B8%D0%B9_%D1%8F%D0%B7%D1%8B%D0%BA\" title=\"Итальянский язык\">итал.</a>&#160;<span lang=\"it\" style=\"font-style:italic;\">Lionello d’Este</span> или <a href=\"/wiki/%D0%98%D1%82%D0%B0%D0%BB%D1%8C%D1%8F%D0%BD%D1%81%D0%BA%D0%B8%D0%B9_%D1%8F%D0%B7%D1%8B%D0%BA\" title=\"Итальянский язык\">итал.</a>&#160;<span lang=\"it\" style=\"font-style:italic;\">Leonello d’Este</span>; <span class=\"nowrap\"><span data-wikidata-property-id=\"P569\" class=\"no-wikidata\"><a href=\"/wiki/21_%D1%81%D0%B5%D0%BD%D1%82%D1%8F%D0%B1%D1%80%D1%8F\" title=\"21 сентября\">21&#160;сентября</a> <a href=\"/wiki/1407_%D0%B3%D0%BE%D0%B4\" title=\"1407 год\">1407</a></span><span class=\"noprint\" style=\"display:none\"> (<span class=\"bday\">1407-09-21</span>)</span></span>, Феррара&#160;— <span data-wikidata-property-id=\"P570\" class=\"no-wikidata\"><a href=\"/wiki/1_%D0%BE%D0%BA%D1%82%D1%8F%D0%B1%D1%80%D1%8F\" title=\"1 октября\">1 октября</a> <a href=\"/wiki/1450_%D0%B3%D0%BE%D0%B4\" title=\"1450 год\">1450</a></span>, <a href=\"/wiki/%D0%92%D0%BE%D0%B3%D1%8C%D0%B5%D1%80%D0%B0\" title=\"Вогьера\">Вогьера</a>, Палаццо ди Бельгардо)&#160;— маркиз <a href=\"/wiki/%D0%A4%D0%B5%D1%80%D1%80%D0%B0%D1%80%D0%B0\" title=\"Феррара\">Феррары</a> (1441—1450), герцог <a href=\"/wiki/%D0%9C%D0%BE%D0%B4%D0%B5%D0%BD%D0%B0\" title=\"Модена\">Модены</a> и <a href=\"/wiki/%D0%A0%D0%B5%D0%B4%D0%B6%D0%BE-%D0%BD%D0%B5%D0%BB%D1%8C-%D0%AD%D0%BC%D0%B8%D0%BB%D0%B8%D1%8F\" title=\"Реджо-нель-Эмилия\">Реджо-нель-Эмилии</a>, внебрачный сын <a href=\"/wiki/%D0%9D%D0%B8%D0%BA%D0%BA%D0%BE%D0%BB%D0%BE_III_%D0%B4%E2%80%99%D0%AD%D1%81%D1%82%D0%B5\" title=\"Никколо III д’Эсте\">Никколо III д’Эсте</a>. Несмотря на то, что у Никколо были законные дети, в качестве своего преемника он предпочёл Лионелло. Уровень образования и способность к управлению, популярность среди подданных, а также официальное признание Лионелло <a href=\"/wiki/%D0%9F%D0%B0%D0%BF%D0%B0_%D1%80%D0%B8%D0%BC%D1%81%D0%BA%D0%B8%D0%B9\" class=\"mw-redirect\" title=\"Папа римский\">папой</a> сделали его наиболее подходящим наследником. Лионелло не имел сильного влияния на политические дела Италии и аристократию Феррары. Его краткое правление не отмечено сколько-нибудь серьёзными внешними и внутренними конфликтами. В отличие от других представителей семьи д’Эсте: <a href=\"/wiki/%D0%90%D1%86%D1%86%D0%BE_VII_%D0%B4%E2%80%99%D0%AD%D1%81%D1%82%D0%B5\" title=\"Аццо VII д’Эсте\">Аццо VII</a>, Никколо III и <a href=\"/wiki/%D0%98%D0%B7%D0%B0%D0%B1%D0%B5%D0%BB%D0%BB%D0%B0_%D0%B4%E2%80%99%D0%AD%D1%81%D1%82%D0%B5\" title=\"Изабелла д’Эсте\">Изабеллы д’Эсте</a>, которые стремились к доминированию на политической сцене, Лионелло известен главным образом тем, что при его правлении в Ферраре сформировался один из самых блестящих итальянских дворов, где покровительствовали искусству, литературе и культуре.\\n</p>\\n<div style=\"clear:both;\"></div>\\n<div class=\"main-footer\"><div class=\"main-footer-actions main-plainlist\">\\n<ul><li><a href=\"/wiki/%D0%9B%D0%B8%D0%BE%D0%BD%D0%B5%D0%BB%D0%BB%D0%BE_%D0%B4%E2%80%99%D0%AD%D1%81%D1%82%D0%B5\" title=\"Лионелло д’Эсте\"><span class=\"mw-ui-button\">Читать</span></a></li>\\n<li><span class=\"nomobile\"><a href=\"/wiki/%D0%92%D0%B8%D0%BA%D0%B8%D0%BF%D0%B5%D0%B4%D0%B8%D1%8F:%D0%A5%D0%BE%D1%80%D0%BE%D1%88%D0%B8%D0%B5_%D1%81%D1%82%D0%B0%D1%82%D1%8C%D0%B8\" title=\"Википедия:Хорошие статьи\"><span class=\"mw-ui-button mw-ui-quiet\">Все 4344 хорошие статьи</span></a></span></li></ul>\\n</div><div id=\"mw-customcollapsible-tga\" class=\"main-footer-menu mw-collapsible mw-collapsed nomobile\">\\n<div class=\"main-footer-menuToggle mw-collapsible-toggle mw-customtoggle-main-tga\"><img alt=\"Доп. действия\" src=\"//upload.wikimedia.org/wikipedia/commons/thumb/b/b3/OOjs_UI_icon_ellipsis.svg/20px-OOjs_UI_icon_ellipsis.svg.png\" decoding=\"async\" title=\"Дополнительные действия\" width=\"20\" height=\"20\" srcset=\"//upload.wikimedia.org/wikipedia/commons/thumb/b/b3/OOjs_UI_icon_ellipsis.svg/30px-OOjs_UI_icon_ellipsis.svg.png 1.5x, //upload.wikimedia.org/wikipedia/commons/thumb/b/b3/OOjs_UI_icon_ellipsis.svg/40px-OOjs_UI_icon_ellipsis.svg.png 2x\" data-file-width=\"20\" data-file-height=\"20\" /></div>\\n<div class=\"main-footer-menuDropdown mw-collapsible-content main-plainlist\">\\n<ul><li><a href=\"/wiki/%D0%92%D0%B8%D0%BA%D0%B8%D0%BF%D0%B5%D0%B4%D0%B8%D1%8F:%D0%9A%D0%B0%D0%BD%D0%B4%D0%B8%D0%B4%D0%B0%D1%82%D1%8B_%D0%B2_%D1%85%D0%BE%D1%80%D0%BE%D1%88%D0%B8%D0%B5_%D1%81%D1%82%D0%B0%D1%82%D1%8C%D0%B8\" title=\"Википедия:Кандидаты в хорошие статьи\"><span class=\"mw-ui-button mw-ui-quiet\">Кандидаты</span></a></li>\\n<li><a href=\"/wiki/%D0%A8%D0%B0%D0%B1%D0%BB%D0%BE%D0%BD:%D0%A2%D0%B5%D0%BA%D1%83%D1%89%D0%B0%D1%8F_%D1%85%D0%BE%D1%80%D0%BE%D1%88%D0%B0%D1%8F_%D1%81%D1%82%D0%B0%D1%82%D1%8C%D1%8F\" title=\"Шаблон:Текущая хорошая статья\"><span class=\"mw-ui-button mw-ui-quiet\">Просмотр шаблона</span></a></li></ul>\\n</div></div></div>\\n</div>\\n<link rel=\"mw-deduplicated-inline-style\" href=\"mw-data:TemplateStyles:r125466734\"/>\\n<div id=\"main-tfl\" class=\"main-box\">\\n<style data-mw-deduplicate=\"TemplateStyles:r126432845\">.mw-parser-output .main-featuredLists>.main-featuredLists-item{align-items:stretch;break-inside:avoid;clear:both;display:flex;page-break-inside:avoid;margin-bottom:1rem}.mw-parser-output .main-featuredLists>.main-featuredLists-item:last-child{margin-bottom:0}.mw-parser-output .main-featuredLists-image{flex:0 auto;width:50px}.mw-parser-output .main-featuredLists-noImage{width:50px}.mw-parser-output .main-featuredLists-link{flex:1;margin-left:16px}.mw-parser-output .main-featuredLists-link a{color:inherit;text-decoration:none}.mw-parser-output .main-featuredLists-link a:hover,.mw-parser-output .main-featuredLists-link a:focus{color:#0645ad}.mw-parser-output .main-featuredLists-header{color:inherit;margin-bottom:0}.mw-parser-output .main-featuredLists-link a:hover>.main-featuredLists-header{text-decoration:underline}.mw-parser-output .main-featuredLists-subtitle{color:#72777d;display:block;font-size:1em;line-height:1.25;margin-top:-.125em}</style>\\n<div class=\"main-plainlist\">\\n<ul class=\"main-featuredLists\">\\n<li class=\"main-featuredLists-item\"><div class=\"main-featuredLists-image\"><div class=\"center\"><div class=\"floatnone\"><a href=\"/wiki/%D0%A4%D0%B0%D0%B9%D0%BB:Derzhavin_Prize_laureate_badge.png\" class=\"image\" title=\"Декоративное изображение\"><img alt=\"Декоративное изображение\" src=\"//upload.wikimedia.org/wikipedia/commons/thumb/9/98/Derzhavin_Prize_laureate_badge.png/50px-Derzhavin_Prize_laureate_badge.png\" decoding=\"async\" width=\"50\" height=\"48\" srcset=\"//upload.wikimedia.org/wikipedia/commons/thumb/9/98/Derzhavin_Prize_laureate_badge.png/75px-Derzhavin_Prize_laureate_badge.png 1.5x, //upload.wikimedia.org/wikipedia/commons/thumb/9/98/Derzhavin_Prize_laureate_badge.png/100px-Derzhavin_Prize_laureate_badge.png 2x\" data-file-width=\"2750\" data-file-height=\"2650\" /></a></div></div></div><div class=\"main-featuredLists-link\"><a href=\"/wiki/%D0%94%D0%B5%D1%80%D0%B6%D0%B0%D0%B2%D0%B8%D0%BD%D1%81%D0%BA%D0%B0%D1%8F_%D0%BF%D1%80%D0%B5%D0%BC%D0%B8%D1%8F\" title=\"Державинская премия\"><span class=\"main-featuredLists-subtitle\">Последний избранный список</span><h2 class=\"main-header main-featuredLists-header\"> Державинская премия\\n</h2></a></div></li>\\n<li class=\"main-featuredLists-item\"><div class=\"main-featuredLists-image\"><div class=\"center\"><div class=\"floatnone\"><a href=\"/wiki/%D0%A4%D0%B0%D0%B9%D0%BB:P_Movie_green.png\" class=\"image\" title=\"Декоративное изображение\"><img alt=\"Декоративное изображение\" src=\"//upload.wikimedia.org/wikipedia/commons/thumb/8/8f/P_Movie_green.png/50px-P_Movie_green.png\" decoding=\"async\" width=\"50\" height=\"45\" srcset=\"//upload.wikimedia.org/wikipedia/commons/thumb/8/8f/P_Movie_green.png/75px-P_Movie_green.png 1.5x, //upload.wikimedia.org/wikipedia/commons/thumb/8/8f/P_Movie_green.png/100px-P_Movie_green.png 2x\" data-file-width=\"128\" data-file-height=\"115\" /></a></div></div></div><div class=\"main-featuredLists-link\"><a href=\"/wiki/%D0%A1%D0%BF%D0%B8%D1%81%D0%BE%D0%BA_%D0%BD%D0%B0%D0%B3%D1%80%D0%B0%D0%B4_%D0%B8_%D0%BD%D0%BE%D0%BC%D0%B8%D0%BD%D0%B0%D1%86%D0%B8%D0%B9_%D1%84%D0%B8%D0%BB%D1%8C%D0%BC%D0%B0_%C2%AB%D0%9F%D0%BE%D0%BB%D0%B8%D1%82%D0%B5%D1%85%C2%BB\" title=\"Список наград и номинаций фильма «Политех»\"><span class=\"main-featuredLists-subtitle\">Предыдущий избранный список</span><h2 class=\"main-header main-featuredLists-header\"> Список наград и номинаций фильма «Политех»\\n</h2></a></div></li>\\n</ul>\\n</div>\\n<div style=\"clear:both;\"></div>\\n<div class=\"main-footer\"><div class=\"main-footer-actions main-plainlist nomobile\">\\n<ul><li><a href=\"/wiki/%D0%92%D0%B8%D0%BA%D0%B8%D0%BF%D0%B5%D0%B4%D0%B8%D1%8F:%D0%98%D0%B7%D0%B1%D1%80%D0%B0%D0%BD%D0%BD%D1%8B%D0%B5_%D1%81%D0%BF%D0%B8%D1%81%D0%BA%D0%B8_%D0%B8_%D0%BF%D0%BE%D1%80%D1%82%D0%B0%D0%BB%D1%8B\" title=\"Википедия:Избранные списки и порталы\"><span class=\"mw-ui-button\">Другие избранные списки</span></a></li></ul>\\n</div><div id=\"mw-customcollapsible-tfl\" class=\"main-footer-menu mw-collapsible mw-collapsed nomobile\">\\n<div class=\"main-footer-menuToggle mw-collapsible-toggle mw-customtoggle-main-tfl\"><img alt=\"Доп. действия\" src=\"//upload.wikimedia.org/wikipedia/commons/thumb/b/b3/OOjs_UI_icon_ellipsis.svg/20px-OOjs_UI_icon_ellipsis.svg.png\" decoding=\"async\" title=\"Дополнительные действия\" width=\"20\" height=\"20\" srcset=\"//upload.wikimedia.org/wikipedia/commons/thumb/b/b3/OOjs_UI_icon_ellipsis.svg/30px-OOjs_UI_icon_ellipsis.svg.png 1.5x, //upload.wikimedia.org/wikipedia/commons/thumb/b/b3/OOjs_UI_icon_ellipsis.svg/40px-OOjs_UI_icon_ellipsis.svg.png 2x\" data-file-width=\"20\" data-file-height=\"20\" /></div>\\n<div class=\"main-footer-menuDropdown mw-collapsible-content main-plainlist\">\\n<ul><li><a href=\"/wiki/%D0%92%D0%B8%D0%BA%D0%B8%D0%BF%D0%B5%D0%B4%D0%B8%D1%8F:%D0%9A%D0%B0%D0%BD%D0%B4%D0%B8%D0%B4%D0%B0%D1%82%D1%8B_%D0%B2_%D0%B8%D0%B7%D0%B1%D1%80%D0%B0%D0%BD%D0%BD%D1%8B%D0%B5_%D1%81%D0%BF%D0%B8%D1%81%D0%BA%D0%B8_%D0%B8_%D0%BF%D0%BE%D1%80%D1%82%D0%B0%D0%BB%D1%8B\" title=\"Википедия:Кандидаты в избранные списки и порталы\"><span class=\"mw-ui-button mw-ui-quiet\">Кандидаты</span></a></li>\\n<li><a href=\"/wiki/%D0%A8%D0%B0%D0%B1%D0%BB%D0%BE%D0%BD:%D0%A2%D0%B5%D0%BA%D1%83%D1%89%D0%B8%D0%B9_%D0%B8%D0%B7%D0%B1%D1%80%D0%B0%D0%BD%D0%BD%D1%8B%D0%B9_%D1%81%D0%BF%D0%B8%D1%81%D0%BE%D0%BA\" title=\"Шаблон:Текущий избранный список\"><span class=\"mw-ui-button mw-ui-quiet\">Просмотр шаблона</span></a></li></ul>\\n</div></div></div>\\n</div>\\n<link rel=\"mw-deduplicated-inline-style\" href=\"mw-data:TemplateStyles:r125466734\"/>\\n<div id=\"main-potd\" class=\"main-box main-box-image-only\"><h2 class=\"main-header main-box-header\"><span id=\".D0.98.D0.B7.D0.BE.D0.B1.D1.80.D0.B0.D0.B6.D0.B5.D0.BD.D0.B8.D0.B5_.D0.B4.D0.BD.D1.8F\"></span><span class=\"mw-headline\" id=\"Изображение_дня\">Изображение дня</span></h2>\\n<div class=\"main-box-content\"><div class=\"center\"><div class=\"floatnone\"><a href=\"/wiki/%D0%A4%D0%B0%D0%B9%D0%BB:House_of_Blackheads_and_St._Peter%27s_Church_Tower,_Riga,_Latvia_-_Diliff.jpg\" class=\"image\" title=\"Дом Черноголовых и шпиль церкви Святого Петра в Риге\"><img alt=\"Дом Черноголовых и шпиль церкви Святого Петра в Риге\" src=\"//upload.wikimedia.org/wikipedia/commons/thumb/8/8c/House_of_Blackheads_and_St._Peter%27s_Church_Tower%2C_Riga%2C_Latvia_-_Diliff.jpg/500px-House_of_Blackheads_and_St._Peter%27s_Church_Tower%2C_Riga%2C_Latvia_-_Diliff.jpg\" decoding=\"async\" width=\"500\" height=\"352\" srcset=\"//upload.wikimedia.org/wikipedia/commons/thumb/8/8c/House_of_Blackheads_and_St._Peter%27s_Church_Tower%2C_Riga%2C_Latvia_-_Diliff.jpg/750px-House_of_Blackheads_and_St._Peter%27s_Church_Tower%2C_Riga%2C_Latvia_-_Diliff.jpg 1.5x, //upload.wikimedia.org/wikipedia/commons/thumb/8/8c/House_of_Blackheads_and_St._Peter%27s_Church_Tower%2C_Riga%2C_Latvia_-_Diliff.jpg/1000px-House_of_Blackheads_and_St._Peter%27s_Church_Tower%2C_Riga%2C_Latvia_-_Diliff.jpg 2x\" data-file-width=\"7000\" data-file-height=\"4922\" /></a></div></div></div>\\n<div class=\"main-box-imageCaption\">\\n<p><a href=\"/wiki/%D0%94%D0%BE%D0%BC_%D0%A7%D0%B5%D1%80%D0%BD%D0%BE%D0%B3%D0%BE%D0%BB%D0%BE%D0%B2%D1%8B%D1%85\" title=\"Дом Черноголовых\">Дом Черноголовых</a> и шпиль <a href=\"/wiki/%D0%A6%D0%B5%D1%80%D0%BA%D0%BE%D0%B2%D1%8C_%D0%A1%D0%B2%D1%8F%D1%82%D0%BE%D0%B3%D0%BE_%D0%9F%D0%B5%D1%82%D1%80%D0%B0_(%D0%A0%D0%B8%D0%B3%D0%B0)\" title=\"Церковь Святого Петра (Рига)\">церкви Святого Петра</a> в <a href=\"/wiki/%D0%A0%D0%B8%D0%B3%D0%B0\" title=\"Рига\">Риге</a>\\n</p>\\n</div>\\n<div style=\"clear:both;\"></div>\\n<div class=\"main-footer\"><div id=\"mw-customcollapsible-potd\" class=\"main-footer-menu mw-collapsible mw-collapsed nomobile\">\\n<div class=\"main-footer-menuToggle mw-collapsible-toggle mw-customtoggle-main-potd\"><img alt=\"Доп. действия\" src=\"//upload.wikimedia.org/wikipedia/commons/thumb/b/b3/OOjs_UI_icon_ellipsis.svg/20px-OOjs_UI_icon_ellipsis.svg.png\" decoding=\"async\" title=\"Дополнительные действия\" width=\"20\" height=\"20\" srcset=\"//upload.wikimedia.org/wikipedia/commons/thumb/b/b3/OOjs_UI_icon_ellipsis.svg/30px-OOjs_UI_icon_ellipsis.svg.png 1.5x, //upload.wikimedia.org/wikipedia/commons/thumb/b/b3/OOjs_UI_icon_ellipsis.svg/40px-OOjs_UI_icon_ellipsis.svg.png 2x\" data-file-width=\"20\" data-file-height=\"20\" /></div>\\n<div class=\"main-footer-menuDropdown mw-collapsible-content main-plainlist\">\\n<ul><li><a href=\"/wiki/%D0%92%D0%B8%D0%BA%D0%B8%D0%BF%D0%B5%D0%B4%D0%B8%D1%8F:%D0%98%D0%B7%D0%BE%D0%B1%D1%80%D0%B0%D0%B6%D0%B5%D0%BD%D0%B8%D0%B5_%D0%B4%D0%BD%D1%8F\" title=\"Википедия:Изображение дня\"><span class=\"mw-ui-button mw-ui-quiet\">Просмотр шаблона</span></a></li></ul>\\n</div></div></div>\\n</div>\\n</div>\\n<div class=\"main-wrapper-column\">\\n<link rel=\"mw-deduplicated-inline-style\" href=\"mw-data:TemplateStyles:r125466734\"/>\\n<div id=\"main-dyk\" class=\"main-box\"><div class=\"main-box-subtitle\">Из новых материалов</div><h2 class=\"main-header main-box-header\"><span id=\".D0.97.D0.BD.D0.B0.D0.B5.D1.82.D0.B5_.D0.BB.D0.B8_.D0.B2.D1.8B.3F\"></span><span class=\"mw-headline\" id=\"Знаете_ли_вы?\">Знаете ли вы?</span></h2>\\n<div class=\"floatright\"><a href=\"/wiki/%D0%A4%D0%B0%D0%B9%D0%BB:The_Soviet_Union_1988_CPA_5916_stamp_(Winnie-the-Pooh).jpg\" class=\"image\" title=\"Повести о Винни-Пухе\"><img alt=\"Повести о Винни-Пухе\" src=\"//upload.wikimedia.org/wikipedia/commons/thumb/3/3e/The_Soviet_Union_1988_CPA_5916_stamp_%28Winnie-the-Pooh%29.jpg/150px-The_Soviet_Union_1988_CPA_5916_stamp_%28Winnie-the-Pooh%29.jpg\" decoding=\"async\" width=\"150\" height=\"108\" srcset=\"//upload.wikimedia.org/wikipedia/commons/thumb/3/3e/The_Soviet_Union_1988_CPA_5916_stamp_%28Winnie-the-Pooh%29.jpg/225px-The_Soviet_Union_1988_CPA_5916_stamp_%28Winnie-the-Pooh%29.jpg 1.5x, //upload.wikimedia.org/wikipedia/commons/thumb/3/3e/The_Soviet_Union_1988_CPA_5916_stamp_%28Winnie-the-Pooh%29.jpg/300px-The_Soviet_Union_1988_CPA_5916_stamp_%28Winnie-the-Pooh%29.jpg 2x\" data-file-width=\"1246\" data-file-height=\"893\" /></a></div>\\n<ul><li><b>«<a href=\"/wiki/%D0%92%D0%B8%D0%BD%D0%BD%D0%B8-%D0%9F%D1%83%D1%85_(%D0%BF%D0%BE%D0%B2%D0%B5%D1%81%D1%82%D1%8C)\" title=\"Винни-Пух (повесть)\">Повести о Винни-Пухе</a>»</b> <span class=\"nowrap\"><i>(на илл.)</i></span> недавно исполнилось 96 лет.</li>\\n<li>Румыния <b><a href=\"/wiki/%D0%9E%D1%80%D1%83%D0%B6%D0%B8%D0%B5_%D0%BC%D0%B0%D1%81%D1%81%D0%BE%D0%B2%D0%BE%D0%B3%D0%BE_%D0%BF%D0%BE%D1%80%D0%B0%D0%B6%D0%B5%D0%BD%D0%B8%D1%8F_%D0%A0%D1%83%D0%BC%D1%8B%D0%BD%D0%B8%D0%B8\" title=\"Оружие массового поражения Румынии\">могла стать</a></b> ядерной державой.</li>\\n<li>Кинокарьера <a href=\"/wiki/%D0%91%D1%8C%D0%BE%D1%80%D0%BA\" title=\"Бьорк\">Бьорк</a> началась с <b><a href=\"/wiki/%D0%9C%D0%BE%D0%B6%D0%B6%D0%B5%D0%B2%D0%B5%D0%BB%D0%BE%D0%B2%D0%BE%D0%B5_%D0%B4%D0%B5%D1%80%D0%B5%D0%B2%D0%BE_(%D1%84%D0%B8%D0%BB%D1%8C%D0%BC)\" title=\"Можжевеловое дерево (фильм)\">фильма</a></b> по мотивам сказки <a href=\"/wiki/%D0%91%D1%80%D0%B0%D1%82%D1%8C%D1%8F_%D0%93%D1%80%D0%B8%D0%BC%D0%BC\" title=\"Братья Гримм\">братьев Гримм</a>.</li>\\n<li><b><a href=\"/wiki/%D0%9F%D0%BE%D0%BB%D0%B8%D1%82%D0%B8%D1%87%D0%B5%D1%81%D0%BA%D0%B8%D0%B5_%D1%80%D0%B8%D1%81%D0%BA%D0%B8\" title=\"Политические риски\">Политические риски</a></b> следует <b><a href=\"/wiki/%D0%A1%D0%BE%D0%B2%D0%BE%D0%BA%D1%83%D0%BF%D0%BD%D0%B0%D1%8F_%D1%82%D0%B5%D0%BE%D1%80%D0%B8%D1%8F_%D0%BF%D0%B5%D1%80%D1%81%D0%BF%D0%B5%D0%BA%D1%82%D0%B8%D0%B2\" title=\"Совокупная теория перспектив\">оценивать в совокупности</a></b>.</li>\\n<li>Благодаря <b><a href=\"/wiki/%D0%A1%D0%BE%D0%BB%D0%BD%D0%B5%D1%87%D0%BD%D0%BE%D0%B5_%D0%B7%D0%B0%D1%82%D0%BC%D0%B5%D0%BD%D0%B8%D0%B5_18_%D0%B0%D0%B2%D0%B3%D1%83%D1%81%D1%82%D0%B0_1868_%D0%B3%D0%BE%D0%B4%D0%B0\" title=\"Солнечное затмение 18 августа 1868 года\">солнечному затмению</a></b> <a href=\"/wiki/%D0%93%D0%B5%D0%BB%D0%B8%D0%B9\" title=\"Гелий\">гелий</a> был открыт на <a href=\"/wiki/%D0%A1%D0%BE%D0%BB%D0%BD%D1%86%D0%B5\" title=\"Солнце\">Солнце</a> раньше, чем на <a href=\"/wiki/%D0%97%D0%B5%D0%BC%D0%BB%D1%8F\" title=\"Земля\">Земле</a>.</li>\\n<li>Вампиры есть в <b><a href=\"/wiki/%D0%92%D0%B0%D0%BC%D0%BF%D0%B8%D1%80%D1%81%D0%BA%D0%B8%D0%B9_%D1%84%D0%BE%D0%BB%D1%8C%D0%BA%D0%BB%D0%BE%D1%80_%D0%BF%D0%BE_%D1%80%D0%B5%D0%B3%D0%B8%D0%BE%D0%BD%D0%B0%D0%BC_%D0%BC%D0%B8%D1%80%D0%B0\" title=\"Вампирский фольклор по регионам мира\">сказаниях многих народов</a></b>.</li></ul>\\n<div class=\"floatright\"><a href=\"/wiki/%D0%A4%D0%B0%D0%B9%D0%BB:Clint_Benedict_Montreal_Maroons.jpg\" class=\"image\" title=\"Клинт Бенедикт\"><img alt=\"Клинт Бенедикт\" src=\"//upload.wikimedia.org/wikipedia/commons/thumb/3/3e/Clint_Benedict_Montreal_Maroons.jpg/100px-Clint_Benedict_Montreal_Maroons.jpg\" decoding=\"async\" width=\"100\" height=\"126\" srcset=\"//upload.wikimedia.org/wikipedia/commons/thumb/3/3e/Clint_Benedict_Montreal_Maroons.jpg/150px-Clint_Benedict_Montreal_Maroons.jpg 1.5x, //upload.wikimedia.org/wikipedia/commons/thumb/3/3e/Clint_Benedict_Montreal_Maroons.jpg/200px-Clint_Benedict_Montreal_Maroons.jpg 2x\" data-file-width=\"1000\" data-file-height=\"1256\" /></a></div>\\n<ul><li>Первый использовавший хоккейную маску <b><a href=\"/wiki/%D0%91%D0%B5%D0%BD%D0%B5%D0%B4%D0%B8%D0%BA%D1%82,_%D0%9A%D0%BB%D0%B8%D0%BD%D1%82\" title=\"Бенедикт, Клинт\">вратарь</a></b> <span class=\"nowrap\"><i>(на илл.)</i></span> отказался от неё из-за неудобства.</li>\\n<li><a href=\"/wiki/%D0%A1%D0%BF%D0%B8%D1%81%D0%BE%D0%BA_%D1%81%D0%B5%D0%BC%D0%B5%D0%B9_%D0%B8%D1%82%D0%B0%D0%BB%D1%8C%D1%8F%D0%BD%D1%81%D0%BA%D0%BE%D0%B9_%D0%BC%D0%B0%D1%84%D0%B8%D0%B8\" title=\"Список семей итальянской мафии\">Итальянская мафия</a>&#160;— это не только про <a href=\"/wiki/%D0%9F%D1%8F%D1%82%D1%8C_%D1%81%D0%B5%D0%BC%D0%B5%D0%B9\" title=\"Пять семей\">Нью-Йорк</a> и <a href=\"/wiki/%D0%A1%D0%B5%D0%BC%D1%8C%D1%8F_%D0%94%D0%B5%D0%BA%D0%B0%D0%B2%D0%B0%D0%BB%D1%8C%D0%BA%D0%B0%D0%BD%D1%82%D0%B5\" title=\"Семья Декавальканте\">Нью-Джерси</a>, но и про <b><a href=\"/wiki/%D0%A1%D0%B5%D0%BC%D1%8C%D1%8F_%D0%A4%D0%B8%D0%BB%D0%B0%D0%B4%D0%B5%D0%BB%D1%8C%D1%84%D0%B8%D0%B8\" title=\"Семья Филадельфии\">Филадельфию</a></b> с <b><a href=\"/wiki/%D0%A1%D0%B5%D0%BC%D1%8C%D1%8F_%D0%9F%D0%B8%D1%82%D1%82%D1%81%D0%B1%D1%83%D1%80%D0%B3%D0%B0\" title=\"Семья Питтсбурга\">Питтсбургом</a></b>.</li>\\n<li><b><a href=\"/wiki/%D0%91%D0%B0%D1%80%D0%BD%D0%B5%D1%82%D1%82,_%D0%92%D0%B8%D0%BD%D1%81\" title=\"Барнетт, Винс\">Голливудский комик</a></b> порой <b><a href=\"/wiki/%D0%A0%D0%BE%D0%B7%D1%8B%D0%B3%D1%80%D1%8B%D1%88_(%D1%88%D1%83%D1%82%D0%BA%D0%B0)\" title=\"Розыгрыш (шутка)\">разыгрывал</a></b> и <a href=\"/wiki/%D0%A0%D1%83%D0%B7%D0%B2%D0%B5%D0%BB%D1%8C%D1%82,_%D0%A4%D1%80%D0%B0%D0%BD%D0%BA%D0%BB%D0%B8%D0%BD_%D0%94%D0%B5%D0%BB%D0%B0%D0%BD%D0%BE\" title=\"Рузвельт, Франклин Делано\">Рузвельта</a>, и <a href=\"/wiki/%D0%A7%D0%B5%D1%80%D1%87%D0%B8%D0%BB%D0%BB%D1%8C,_%D0%A3%D0%B8%D0%BD%D1%81%D1%82%D0%BE%D0%BD\" title=\"Черчилль, Уинстон\">Черчилля</a>.</li>\\n<li>Есть мнение, что <a href=\"/wiki/%D0%9F%D0%B0%D0%B4%D0%B5%D0%BD%D0%B8%D0%B5_%D0%9A%D0%BE%D0%BD%D1%81%D1%82%D0%B0%D0%BD%D1%82%D0%B8%D0%BD%D0%BE%D0%BF%D0%BE%D0%BB%D1%8F_(1453)\" title=\"Падение Константинополя (1453)\">падение Константинополя</a> привело к <b><a href=\"/wiki/%D0%9D%D0%B0%D1%83%D0%BA%D0%B0_%D1%8D%D0%BF%D0%BE%D1%85%D0%B8_%D0%92%D0%BE%D0%B7%D1%80%D0%BE%D0%B6%D0%B4%D0%B5%D0%BD%D0%B8%D1%8F\" title=\"Наука эпохи Возрождения\">развитию науки в Европе</a></b>.</li>\\n<li><b><a href=\"/wiki/%D0%94%D1%83%D0%B1_%C2%AB%D0%9A%D0%BE%D1%81%D0%BC%D0%BE%D1%81%C2%BB\" title=\"Дуб «Космос»\">Космические дубы</a></b> растут в <a href=\"/wiki/%D0%A2%D0%B0%D0%B9%D0%BD%D0%B8%D1%86%D0%BA%D0%B8%D0%B9_%D1%81%D0%B0%D0%B4\" title=\"Тайницкий сад\">Московском Кремле</a>, <a href=\"/wiki/%D0%92%D0%BE%D0%BB%D0%BE%D0%B3%D0%B4%D0%B0\" title=\"Вологда\">Вологде</a> и <a href=\"/wiki/%D0%92%D0%BB%D0%B0%D0%B4%D0%B8%D0%BA%D0%B0%D0%B2%D0%BA%D0%B0%D0%B7\" title=\"Владикавказ\">Владикавказе</a>.</li>\\n<li><a href=\"/wiki/%D0%A0%D0%B5%D0%BA%D0%BE%D1%80%D0%B4%D0%BD%D1%8B%D0%B5_%D1%82%D1%80%D0%B0%D0%BD%D1%81%D1%84%D0%B5%D1%80%D1%8B_%D0%B2_%D1%84%D1%83%D1%82%D0%B1%D0%BE%D0%BB%D0%B5\" title=\"Рекордные трансферы в футболе\">Самый дорогой</a> <b><a href=\"/wiki/%D0%A1%D1%8C%D1%8E%D1%8D%D0%BB%D0%BB,_%D0%94%D0%B6%D0%B5%D0%BA%D0%B8\" title=\"Сьюэлл, Джеки\">футболист</a></b> мира 1951 года играл за <a href=\"/wiki/%D0%A1%D0%B1%D0%BE%D1%80%D0%BD%D0%B0%D1%8F_%D0%97%D0%B0%D0%BC%D0%B1%D0%B8%D0%B8_%D0%BF%D0%BE_%D1%84%D1%83%D1%82%D0%B1%D0%BE%D0%BB%D1%83\" title=\"Сборная Замбии по футболу\">сборную Замбии</a>.</li></ul>\\n<div style=\"clear:both;\"></div>\\n<div style=\"clear:both;\"></div>\\n<div style=\"clear:both;\"></div>\\n<div class=\"main-footer\"><div class=\"main-footer-actions main-plainlist nomobile\">\\n<ul><li><a href=\"/wiki/%D0%9E%D0%B1%D1%81%D1%83%D0%B6%D0%B4%D0%B5%D0%BD%D0%B8%D0%B5_%D1%88%D0%B0%D0%B1%D0%BB%D0%BE%D0%BD%D0%B0:%D0%97%D0%BD%D0%B0%D0%B5%D1%82%D0%B5_%D0%BB%D0%B8_%D0%B2%D1%8B\" title=\"Обсуждение шаблона:Знаете ли вы\"><span class=\"mw-ui-button\">Обсудить</span></a></li></ul>\\n</div><div id=\"mw-customcollapsible-dyk\" class=\"main-footer-menu mw-collapsible mw-collapsed nomobile\">\\n<div class=\"main-footer-menuToggle mw-collapsible-toggle mw-customtoggle-main-dyk\"><img alt=\"Доп. действия\" src=\"//upload.wikimedia.org/wikipedia/commons/thumb/b/b3/OOjs_UI_icon_ellipsis.svg/20px-OOjs_UI_icon_ellipsis.svg.png\" decoding=\"async\" title=\"Дополнительные действия\" width=\"20\" height=\"20\" srcset=\"//upload.wikimedia.org/wikipedia/commons/thumb/b/b3/OOjs_UI_icon_ellipsis.svg/30px-OOjs_UI_icon_ellipsis.svg.png 1.5x, //upload.wikimedia.org/wikipedia/commons/thumb/b/b3/OOjs_UI_icon_ellipsis.svg/40px-OOjs_UI_icon_ellipsis.svg.png 2x\" data-file-width=\"20\" data-file-height=\"20\" /></div>\\n<div class=\"main-footer-menuDropdown mw-collapsible-content main-plainlist\">\\n<ul><li><a href=\"/wiki/%D0%9F%D1%80%D0%BE%D0%B5%D0%BA%D1%82:%D0%97%D0%BD%D0%B0%D0%B5%D1%82%D0%B5_%D0%BB%D0%B8_%D0%B2%D1%8B/%D0%9F%D0%BE%D0%B4%D0%B3%D0%BE%D1%82%D0%BE%D0%B2%D0%BA%D0%B0_%D1%81%D0%BB%D0%B5%D0%B4%D1%83%D1%8E%D1%89%D0%B5%D0%B3%D0%BE_%D0%B2%D1%8B%D0%BF%D1%83%D1%81%D0%BA%D0%B0\" title=\"Проект:Знаете ли вы/Подготовка следующего выпуска\"><span class=\"mw-ui-button mw-ui-quiet\">Предложения</span></a></li>\\n<li><a href=\"/wiki/%D0%9F%D1%80%D0%BE%D0%B5%D0%BA%D1%82:%D0%97%D0%BD%D0%B0%D0%B5%D1%82%D0%B5_%D0%BB%D0%B8_%D0%B2%D1%8B/%D0%90%D1%80%D1%85%D0%B8%D0%B2_%D1%80%D1%83%D0%B1%D1%80%D0%B8%D0%BA%D0%B8\" title=\"Проект:Знаете ли вы/Архив рубрики\"><span class=\"mw-ui-button mw-ui-quiet\">Архив</span></a></li>\\n<li><a href=\"/wiki/%D0%A8%D0%B0%D0%B1%D0%BB%D0%BE%D0%BD:%D0%97%D0%BD%D0%B0%D0%B5%D1%82%D0%B5_%D0%BB%D0%B8_%D0%B2%D1%8B\" title=\"Шаблон:Знаете ли вы\"><span class=\"mw-ui-button mw-ui-quiet\">Просмотр шаблона</span></a></li></ul>\\n</div></div></div>\\n</div>\\n<link rel=\"mw-deduplicated-inline-style\" href=\"mw-data:TemplateStyles:r125466734\"/>\\n<div id=\"main-cur\" class=\"main-box\"><h2 class=\"main-header main-box-header\"><span id=\".D0.A2.D0.B5.D0.BA.D1.83.D1.89.D0.B8.D0.B5_.D1.81.D0.BE.D0.B1.D1.8B.D1.82.D0.B8.D1.8F\"></span><span class=\"mw-headline\" id=\"Текущие_события\">Текущие события</span></h2>\\n<div class=\"hlist\" style=\"margin-left: 0em;\">\\n<dl><dt>Актуальные темы</dt>\\n<dd><a href=\"/wiki/%D0%92%D1%82%D0%BE%D1%80%D0%B6%D0%B5%D0%BD%D0%B8%D0%B5_%D0%A0%D0%BE%D1%81%D1%81%D0%B8%D0%B8_%D0%BD%D0%B0_%D0%A3%D0%BA%D1%80%D0%B0%D0%B8%D0%BD%D1%83_(2022)\" title=\"Вторжение России на Украину (2022)\">вторжение России на Украину</a></dd>\\n<dd><a href=\"/wiki/%D0%9F%D1%80%D0%BE%D1%82%D0%B5%D1%81%D1%82%D1%8B_%D0%B2_%D0%98%D1%80%D0%B0%D0%BD%D0%B5_(2022)\" title=\"Протесты в Иране (2022)\">протесты в Иране</a></dd>\\n<dd><a href=\"/wiki/%D0%A7%D0%B5%D0%BC%D0%BF%D0%B8%D0%BE%D0%BD%D0%B0%D1%82_%D0%95%D0%B2%D1%80%D0%BE%D0%BF%D1%8B_%D0%BF%D0%BE_%D0%B3%D0%B0%D0%BD%D0%B4%D0%B1%D0%BE%D0%BB%D1%83_%D1%81%D1%80%D0%B5%D0%B4%D0%B8_%D0%B6%D0%B5%D0%BD%D1%89%D0%B8%D0%BD_2022\" title=\"Чемпионат Европы по гандболу среди женщин 2022\">чемпионат Европы по гандболу среди женщин</a> <b>&#124;</b> <a href=\"/wiki/%D0%A1%D0%BF%D0%B8%D1%81%D0%BE%D0%BA_%D1%83%D0%BC%D0%B5%D1%80%D1%88%D0%B8%D1%85_%D0%B2_2022_%D0%B3%D0%BE%D0%B4%D1%83\" title=\"Список умерших в 2022 году\">Недавно умершие</a></dd></dl>\\n</div>\\n<div class=\"floatright\"><a href=\"/wiki/%D0%A4%D0%B0%D0%B9%D0%BB:SLSonpadAug17.jpg\" class=\"image\" title=\"Artemis 1\"><img alt=\"Artemis 1\" src=\"//upload.wikimedia.org/wikipedia/commons/thumb/2/22/SLSonpadAug17.jpg/120px-SLSonpadAug17.jpg\" decoding=\"async\" width=\"120\" height=\"78\" srcset=\"//upload.wikimedia.org/wikipedia/commons/thumb/2/22/SLSonpadAug17.jpg/180px-SLSonpadAug17.jpg 1.5x, //upload.wikimedia.org/wikipedia/commons/thumb/2/22/SLSonpadAug17.jpg/240px-SLSonpadAug17.jpg 2x\" data-file-width=\"4434\" data-file-height=\"2891\" /></a></div>\\n<ul><li><a href=\"/wiki/%D0%9E%D0%BA%D1%80%D1%83%D0%B6%D0%BD%D0%BE%D0%B9_%D1%81%D1%83%D0%B4_%D0%93%D0%B0%D0%B0%D0%B3%D0%B8\" title=\"Окружной суд Гааги\">Окружной суд Гааги</a> <b><a href=\"/wiki/%D0%A3%D0%B3%D0%BE%D0%BB%D0%BE%D0%B2%D0%BD%D1%8B%D0%B9_%D1%81%D1%83%D0%B4%D0%B5%D0%B1%D0%BD%D1%8B%D0%B9_%D0%BF%D1%80%D0%BE%D1%86%D0%B5%D1%81%D1%81_%D0%BF%D0%BE_%D0%B4%D0%B5%D0%BB%D1%83_MH17\" title=\"Уголовный судебный процесс по делу MH17\">признал виновными</a></b> троих из четверых обвиняемых по делу <b><a href=\"/wiki/%D0%9A%D0%B0%D1%82%D0%B0%D1%81%D1%82%D1%80%D0%BE%D1%84%D0%B0_Boeing_777_%D0%B2_%D0%94%D0%BE%D0%BD%D0%B5%D1%86%D0%BA%D0%BE%D0%B9_%D0%BE%D0%B1%D0%BB%D0%B0%D1%81%D1%82%D0%B8\" title=\"Катастрофа Boeing 777 в Донецкой области\">катастрофы Боинга MH17</a></b>.</li>\\n<li>На острове <a href=\"/wiki/%D0%91%D0%B0%D0%BB%D0%B8\" title=\"Бали\">Бали</a> прошёл ежегодный <b><a href=\"/wiki/%D0%A1%D0%B0%D0%BC%D0%BC%D0%B8%D1%82_G-20_%D0%BD%D0%B0_%D0%91%D0%B0%D0%BB%D0%B8_(2022)\" title=\"Саммит G-20 на Бали (2022)\">саммит G-20</a></b>; среди прочего лидеры стран осудили <a href=\"/wiki/%D0%92%D1%82%D0%BE%D1%80%D0%B6%D0%B5%D0%BD%D0%B8%D0%B5_%D0%A0%D0%BE%D1%81%D1%81%D0%B8%D0%B8_%D0%BD%D0%B0_%D0%A3%D0%BA%D1%80%D0%B0%D0%B8%D0%BD%D1%83_(2022)\" title=\"Вторжение России на Украину (2022)\">вторжение на Украину</a>.</li>\\n<li>Состоялся <b><a href=\"/wiki/Artemis_1\" title=\"Artemis 1\">первый беспилотный запуск</a></b> <span class=\"nowrap\"><i>(на илл.)</i></span> ракеты <b><a href=\"/wiki/Space_Launch_System\" title=\"Space Launch System\">SLS</a></b> в рамках лунной программы <b>«<a href=\"/wiki/%D0%90%D1%80%D1%82%D0%B5%D0%BC%D0%B8%D0%B4%D0%B0_(%D0%BA%D0%BE%D1%81%D0%BC%D0%B8%D1%87%D0%B5%D1%81%D0%BA%D0%B0%D1%8F_%D0%BF%D1%80%D0%BE%D0%B3%D1%80%D0%B0%D0%BC%D0%BC%D0%B0)\" title=\"Артемида (космическая программа)\">Артемида</a>»</b>.</li>\\n<li>Во время <b><a href=\"/wiki/%D0%A0%D0%B0%D0%BA%D0%B5%D1%82%D0%BD%D1%8B%D0%B9_%D0%BE%D0%B1%D1%81%D1%82%D1%80%D0%B5%D0%BB_%D0%A3%D0%BA%D1%80%D0%B0%D0%B8%D0%BD%D1%8B_15_%D0%BD%D0%BE%D1%8F%D0%B1%D1%80%D1%8F_2022_%D0%B3%D0%BE%D0%B4%D0%B0\" title=\"Ракетный обстрел Украины 15 ноября 2022 года\">масштабной российской ракетной атаки</a></b> на Украину одна из украинских ракет <b><a href=\"/wiki/%D0%9F%D0%B0%D0%B4%D0%B5%D0%BD%D0%B8%D0%B5_%D1%80%D0%B0%D0%BA%D0%B5%D1%82%D1%8B_%D0%B2_%D0%9F%D0%BE%D0%BB%D1%8C%D1%88%D0%B5_(2022)\" title=\"Падение ракеты в Польше (2022)\">упала на территорию Польши</a></b>, погибло двое поляков.</li>\\n<li>Согласно расчётам <a href=\"/wiki/%D0%A4%D0%BE%D0%BD%D0%B4_%D0%9E%D0%9E%D0%9D_%D0%B2_%D0%BE%D0%B1%D0%BB%D0%B0%D1%81%D1%82%D0%B8_%D0%BD%D0%B0%D1%80%D0%BE%D0%B4%D0%BE%D0%BD%D0%B0%D1%81%D0%B5%D0%BB%D0%B5%D0%BD%D0%B8%D1%8F\" title=\"Фонд ООН в области народонаселения\">ООН</a>, <b><a href=\"/wiki/%D0%9D%D0%B0%D1%81%D0%B5%D0%BB%D0%B5%D0%BD%D0%B8%D0%B5_%D0%97%D0%B5%D0%BC%D0%BB%D0%B8\" title=\"Население Земли\">население Земли</a></b> достигло <b><a href=\"/wiki/%D0%94%D0%B5%D0%BD%D1%8C_%D0%B2%D0%BE%D1%81%D1%8C%D0%BC%D0%B8_%D0%BC%D0%B8%D0%BB%D0%BB%D0%B8%D0%B0%D1%80%D0%B4%D0%BE%D0%B2\" title=\"День восьми миллиардов\">8 миллиардов</a></b> человек.</li>\\n<li>На <b><a href=\"/wiki/%D0%92%D1%8B%D0%B1%D0%BE%D1%80%D1%8B_%D0%B2_%D0%A1%D0%A8%D0%90_(2022)\" title=\"Выборы в США (2022)\">промежуточных выборах</a></b> в <a href=\"/wiki/%D0%A1%D0%BE%D0%B5%D0%B4%D0%B8%D0%BD%D1%91%D0%BD%D0%BD%D1%8B%D0%B5_%D0%A8%D1%82%D0%B0%D1%82%D1%8B_%D0%90%D0%BC%D0%B5%D1%80%D0%B8%D0%BA%D0%B8\" title=\"Соединённые Штаты Америки\">США</a> <a href=\"/wiki/%D0%A0%D0%B5%D1%81%D0%BF%D1%83%D0%B1%D0%BB%D0%B8%D0%BA%D0%B0%D0%BD%D1%81%D0%BA%D0%B0%D1%8F_%D0%BF%D0%B0%D1%80%D1%82%D0%B8%D1%8F_(%D0%A1%D0%A8%D0%90)\" title=\"Республиканская партия (США)\">Республиканская партия</a> <b><a href=\"/wiki/%D0%92%D1%8B%D0%B1%D0%BE%D1%80%D1%8B_%D0%B2_%D0%9F%D0%B0%D0%BB%D0%B0%D1%82%D1%83_%D0%BF%D1%80%D0%B5%D0%B4%D1%81%D1%82%D0%B0%D0%B2%D0%B8%D1%82%D0%B5%D0%BB%D0%B5%D0%B9_%D0%A1%D0%A8%D0%90_(2022)\" title=\"Выборы в Палату представителей США (2022)\">получила большинство мест</a></b> в <a href=\"/wiki/%D0%9F%D0%B0%D0%BB%D0%B0%D1%82%D0%B0_%D0%BF%D1%80%D0%B5%D0%B4%D1%81%D1%82%D0%B0%D0%B2%D0%B8%D1%82%D0%B5%D0%BB%D0%B5%D0%B9_%D0%A1%D0%A8%D0%90\" title=\"Палата представителей США\">Палате представителей</a>, а <a href=\"/wiki/%D0%94%D0%B5%D0%BC%D0%BE%D0%BA%D1%80%D0%B0%D1%82%D0%B8%D1%87%D0%B5%D1%81%D0%BA%D0%B0%D1%8F_%D0%BF%D0%B0%D1%80%D1%82%D0%B8%D1%8F_(%D0%A1%D0%A8%D0%90)\" title=\"Демократическая партия (США)\">Демократическая партия</a> <b><a href=\"/wiki/%D0%92%D1%8B%D0%B1%D0%BE%D1%80%D1%8B_%D0%B2_%D0%A1%D0%B5%D0%BD%D0%B0%D1%82_%D0%A1%D0%A8%D0%90_(2022)\" title=\"Выборы в Сенат США (2022)\">сохранила контроль</a></b> над <a href=\"/wiki/%D0%A1%D0%B5%D0%BD%D0%B0%D1%82_%D0%A1%D0%A8%D0%90\" title=\"Сенат США\">Сенатом</a>.</li></ul>\\n<div style=\"clear:both;\"></div>\\n<div class=\"main-footer\"><div class=\"main-footer-actions main-plainlist nomobile\">\\n<ul><li><a href=\"/wiki/%D0%9F%D0%BE%D1%80%D1%82%D0%B0%D0%BB:%D0%A2%D0%B5%D0%BA%D1%83%D1%89%D0%B8%D0%B5_%D1%81%D0%BE%D0%B1%D1%8B%D1%82%D0%B8%D1%8F\" title=\"Портал:Текущие события\"><span class=\"mw-ui-button\">Другие текущие события</span></a></li></ul>\\n</div><div id=\"mw-customcollapsible-cur\" class=\"main-footer-menu mw-collapsible mw-collapsed nomobile\">\\n<div class=\"main-footer-menuToggle mw-collapsible-toggle mw-customtoggle-main-cur\"><img alt=\"Доп. действия\" src=\"//upload.wikimedia.org/wikipedia/commons/thumb/b/b3/OOjs_UI_icon_ellipsis.svg/20px-OOjs_UI_icon_ellipsis.svg.png\" decoding=\"async\" title=\"Дополнительные действия\" width=\"20\" height=\"20\" srcset=\"//upload.wikimedia.org/wikipedia/commons/thumb/b/b3/OOjs_UI_icon_ellipsis.svg/30px-OOjs_UI_icon_ellipsis.svg.png 1.5x, //upload.wikimedia.org/wikipedia/commons/thumb/b/b3/OOjs_UI_icon_ellipsis.svg/40px-OOjs_UI_icon_ellipsis.svg.png 2x\" data-file-width=\"20\" data-file-height=\"20\" /></div>\\n<div class=\"main-footer-menuDropdown mw-collapsible-content main-plainlist\">\\n<ul><li><a href=\"/wiki/%D0%92%D0%B8%D0%BA%D0%B8%D0%BF%D0%B5%D0%B4%D0%B8%D1%8F:%D0%A2%D0%B5%D0%BA%D1%83%D1%89%D0%B8%D0%B5_%D1%81%D0%BE%D0%B1%D1%8B%D1%82%D0%B8%D1%8F_%D0%BD%D0%B0_%D0%B7%D0%B0%D0%B3%D0%BB%D0%B0%D0%B2%D0%BD%D0%BE%D0%B9_%D1%81%D1%82%D1%80%D0%B0%D0%BD%D0%B8%D1%86%D0%B5/%D0%9A%D0%B0%D0%BD%D0%B4%D0%B8%D0%B4%D0%B0%D1%82%D1%8B\" title=\"Википедия:Текущие события на заглавной странице/Кандидаты\"><span class=\"mw-ui-button mw-ui-quiet\">Кандидаты</span></a></li>\\n<li><a href=\"/wiki/%D0%92%D0%B8%D0%BA%D0%B8%D0%BF%D0%B5%D0%B4%D0%B8%D1%8F:%D0%A2%D0%B5%D0%BA%D1%83%D1%89%D0%B8%D0%B5_%D1%81%D0%BE%D0%B1%D1%8B%D1%82%D0%B8%D1%8F_%D0%BD%D0%B0_%D0%B7%D0%B0%D0%B3%D0%BB%D0%B0%D0%B2%D0%BD%D0%BE%D0%B9_%D1%81%D1%82%D1%80%D0%B0%D0%BD%D0%B8%D1%86%D0%B5/%D0%90%D1%80%D1%85%D0%B8%D0%B2_%D1%80%D1%83%D0%B1%D1%80%D0%B8%D0%BA%D0%B8\" class=\"mw-redirect\" title=\"Википедия:Текущие события на заглавной странице/Архив рубрики\"><span class=\"mw-ui-button mw-ui-quiet\">Архив</span></a></li>\\n<li><a href=\"/wiki/%D0%A8%D0%B0%D0%B1%D0%BB%D0%BE%D0%BD:%D0%A2%D0%B5%D0%BA%D1%83%D1%89%D0%B8%D0%B5_%D1%81%D0%BE%D0%B1%D1%8B%D1%82%D0%B8%D1%8F_%D0%BD%D0%B0_%D0%B7%D0%B0%D0%B3%D0%BB%D0%B0%D0%B2%D0%BD%D0%BE%D0%B9_%D1%81%D1%82%D1%80%D0%B0%D0%BD%D0%B8%D1%86%D0%B5\" title=\"Шаблон:Текущие события на заглавной странице\"><span class=\"mw-ui-button mw-ui-quiet\">Просмотр шаблона</span></a></li></ul>\\n</div></div></div>\\n</div>\\n<link rel=\"mw-deduplicated-inline-style\" href=\"mw-data:TemplateStyles:r125466734\"/>\\n<div id=\"main-itd\" class=\"main-box\"><div class=\"main-box-subtitle\">В&#160;этот день</div><h2 class=\"main-header main-box-header\"><span id=\"18_.D0.BD.D0.BE.D1.8F.D0.B1.D1.80.D1.8F\"></span><span class=\"mw-headline\" id=\"18_ноября\"><a href=\"/wiki/18_%D0%BD%D0%BE%D1%8F%D0%B1%D1%80%D1%8F\" title=\"18 ноября\">18&#160;ноября</a></span></h2>\\n<div class=\"floatright\"><a href=\"/wiki/%D0%A4%D0%B0%D0%B9%D0%BB:Sint_Elisabethsvloed_1421.jpg\" class=\"image\" title=\"Наводнение 1421 года\"><img alt=\"Наводнение 1421 года\" src=\"//upload.wikimedia.org/wikipedia/commons/thumb/5/54/Sint_Elisabethsvloed_1421.jpg/90px-Sint_Elisabethsvloed_1421.jpg\" decoding=\"async\" width=\"90\" height=\"108\" srcset=\"//upload.wikimedia.org/wikipedia/commons/thumb/5/54/Sint_Elisabethsvloed_1421.jpg/135px-Sint_Elisabethsvloed_1421.jpg 1.5x, //upload.wikimedia.org/wikipedia/commons/thumb/5/54/Sint_Elisabethsvloed_1421.jpg/180px-Sint_Elisabethsvloed_1421.jpg 2x\" data-file-width=\"1755\" data-file-height=\"2098\" /></a></div>\\n<p>День провозглашения <a href=\"/wiki/%D0%9B%D0%B0%D1%82%D0%B2%D0%B8%D1%8F\" title=\"Латвия\">Латвийской Республики</a> (<a href=\"/wiki/1918_%D0%B3%D0%BE%D0%B4\" title=\"1918 год\">1918</a>)\\n</p>\\n<ul><li><a href=\"/wiki/763_%D0%B3%D0%BE%D0%B4\" title=\"763 год\">763</a>&#160;— <a href=\"/wiki/%D0%A2%D0%B8%D0%B1%D0%B5%D1%82\" title=\"Тибет\">тибетцы</a> <a href=\"/wiki/%D0%A2%D0%B0%D0%BD%D1%81%D0%BA%D0%BE-%D1%82%D0%B8%D0%B1%D0%B5%D1%82%D1%81%D0%BA%D0%B8%D0%B5_%D0%B2%D0%BE%D0%B9%D0%BD%D1%8B\" title=\"Танско-тибетские войны\">изгнали</a> из <a href=\"/wiki/%D0%A7%D0%B0%D0%BD%D1%8A%D0%B0%D0%BD%D1%8C\" title=\"Чанъань\">китайской столицы</a> императора <a href=\"/wiki/%D0%94%D0%B0%D0%B9-%D1%86%D0%B7%D1%83%D0%BD_(%D0%B4%D0%B8%D0%BD%D0%B0%D1%81%D1%82%D0%B8%D1%8F_%D0%A2%D0%B0%D0%BD)\" title=\"Дай-цзун (династия Тан)\">Дай-цзуна</a></li>\\n<li><a href=\"/wiki/1421_%D0%B3%D0%BE%D0%B4\" title=\"1421 год\">1421</a>&#160;— в результате прорыва дамбы <a href=\"/wiki/%D0%97%D1%91%D0%B9%D0%B4%D0%B5%D1%80%D0%B7%D0%B5\" title=\"Зёйдерзе\">Зёйдерзе</a> <a href=\"/wiki/%D0%9D%D0%B0%D0%B2%D0%BE%D0%B4%D0%BD%D0%B5%D0%BD%D0%B8%D0%B5_%D0%A1%D0%B2%D1%8F%D1%82%D0%BE%D0%B9_%D0%95%D0%BB%D0%B8%D0%B7%D0%B0%D0%B2%D0%B5%D1%82%D1%8B_(1421)\" title=\"Наводнение Святой Елизаветы (1421)\">в море смыто</a> до 10&#160;000 <a href=\"/wiki/%D0%93%D0%BE%D0%BB%D0%BB%D0%B0%D0%BD%D0%B4%D1%86%D1%8B\" title=\"Голландцы\">голландцев</a> <i>(на илл.)</i></li>\\n<li><a href=\"/wiki/1626_%D0%B3%D0%BE%D0%B4\" title=\"1626 год\">1626</a>&#160;— папа <a href=\"/wiki/%D0%A3%D1%80%D0%B1%D0%B0%D0%BD_VIII\" title=\"Урбан VIII\">Урбан VIII</a> освятил в <a href=\"/wiki/%D0%A0%D0%B8%D0%BC\" title=\"Рим\">Риме</a> <a href=\"/wiki/%D0%A1%D0%BE%D0%B1%D0%BE%D1%80_%D0%A1%D0%B2%D1%8F%D1%82%D0%BE%D0%B3%D0%BE_%D0%9F%D0%B5%D1%82%D1%80%D0%B0\" title=\"Собор Святого Петра\">базилику Святого Петра</a></li>\\n<li><a href=\"/wiki/1723_%D0%B3%D0%BE%D0%B4\" title=\"1723 год\">1723</a>&#160;— пуск <a href=\"/wiki/%D0%95%D0%BA%D0%B0%D1%82%D0%B5%D1%80%D0%B8%D0%BD%D0%B1%D1%83%D1%80%D0%B3%D1%81%D0%BA%D0%B8%D0%B9_%D0%B7%D0%B0%D0%B2%D0%BE%D0%B4\" title=\"Екатеринбургский завод\">Екатеринбургского завода-крепости</a> на реке <a href=\"/wiki/%D0%98%D1%81%D0%B5%D1%82%D1%8C\" title=\"Исеть\">Исети</a></li>\\n<li><a href=\"/wiki/1812_%D0%B3%D0%BE%D0%B4\" title=\"1812 год\">1812</a>&#160;— <a href=\"/wiki/%D0%9E%D1%82%D0%B5%D1%87%D0%B5%D1%81%D1%82%D0%B2%D0%B5%D0%BD%D0%BD%D0%B0%D1%8F_%D0%B2%D0%BE%D0%B9%D0%BD%D0%B0_1812_%D0%B3%D0%BE%D0%B4%D0%B0\" title=\"Отечественная война 1812 года\">Отечественная война</a>: <a href=\"/wiki/%D0%A1%D1%80%D0%B0%D0%B6%D0%B5%D0%BD%D0%B8%D0%B5_%D0%BF%D0%BE%D0%B4_%D0%9A%D1%80%D0%B0%D1%81%D0%BD%D1%8B%D0%BC\" title=\"Сражение под Красным\">разгром русскими войсками</a> французского <a href=\"/wiki/%D0%90%D1%80%D1%8C%D0%B5%D1%80%D0%B3%D0%B0%D1%80%D0%B4\" title=\"Арьергард\">арьергарда</a> <a href=\"/wiki/%D0%9C%D0%B0%D1%80%D1%88%D0%B0%D0%BB\" title=\"Маршал\">маршала</a> <a href=\"/wiki/%D0%9D%D0%B5%D0%B9,_%D0%9C%D0%B8%D1%88%D0%B5%D0%BB%D1%8C\" title=\"Ней, Мишель\">Нея</a></li>\\n<li><a href=\"/wiki/1917_%D0%B3%D0%BE%D0%B4\" title=\"1917 год\">1917</a>&#160;— <a href=\"/wiki/%D0%A2%D0%B8%D1%85%D0%BE%D0%BD_(%D0%BF%D0%B0%D1%82%D1%80%D0%B8%D0%B0%D1%80%D1%85_%D0%9C%D0%BE%D1%81%D0%BA%D0%BE%D0%B2%D1%81%D0%BA%D0%B8%D0%B9)\" title=\"Тихон (патриарх Московский)\">митрополит Тихон</a> избран первым за двести лет <a href=\"/wiki/%D0%9F%D0%B0%D1%82%D1%80%D0%B8%D0%B0%D1%80%D1%85_%D0%9C%D0%BE%D1%81%D0%BA%D0%BE%D0%B2%D1%81%D0%BA%D0%B8%D0%B9_%D0%B8_%D0%B2%D1%81%D0%B5%D1%8F_%D0%A0%D1%83%D1%81%D0%B8\" title=\"Патриарх Московский и всея Руси\">патриархом Московским и всея Руси</a></li>\\n<li><a href=\"/wiki/1918_%D0%B3%D0%BE%D0%B4\" title=\"1918 год\">1918</a>&#160;— <a href=\"/wiki/%D0%9F%D1%80%D0%B8%D1%85%D0%BE%D0%B4_%D0%BA_%D0%B2%D0%BB%D0%B0%D1%81%D1%82%D0%B8_%D0%B0%D0%B4%D0%BC%D0%B8%D1%80%D0%B0%D0%BB%D0%B0_%D0%9A%D0%BE%D0%BB%D1%87%D0%B0%D0%BA%D0%B0\" title=\"Приход к власти адмирала Колчака\">приход к власти</a> адмирала <a href=\"/wiki/%D0%9A%D0%BE%D0%BB%D1%87%D0%B0%D0%BA,_%D0%90%D0%BB%D0%B5%D0%BA%D1%81%D0%B0%D0%BD%D0%B4%D1%80_%D0%92%D0%B0%D1%81%D0%B8%D0%BB%D1%8C%D0%B5%D0%B2%D0%B8%D1%87\" title=\"Колчак, Александр Васильевич\">Колчака</a> и провозглашение его <a href=\"/wiki/%D0%92%D0%B5%D1%80%D1%85%D0%BE%D0%B2%D0%BD%D1%8B%D0%B9_%D0%BF%D1%80%D0%B0%D0%B2%D0%B8%D1%82%D0%B5%D0%BB%D1%8C_%D0%A0%D0%BE%D1%81%D1%81%D0%B8%D0%B8\" title=\"Верховный правитель России\">верховным правителем России</a></li>\\n<li><a href=\"/wiki/1978_%D0%B3%D0%BE%D0%B4\" title=\"1978 год\">1978</a>&#160;— в <a href=\"/wiki/%D0%93%D0%B0%D0%B9%D0%B0%D0%BD%D0%B0\" title=\"Гайана\">Гайане</a> <a href=\"/wiki/%D0%94%D0%B6%D0%BE%D0%BD%D1%81%D1%82%D0%B0%D1%83%D0%BD_(%D0%93%D0%B0%D0%B9%D0%B0%D0%BD%D0%B0)\" title=\"Джонстаун (Гайана)\">покончили с собой</a> 918 членов секты «<a href=\"/wiki/%D0%A5%D1%80%D0%B0%D0%BC_%D0%BD%D0%B0%D1%80%D0%BE%D0%B4%D0%BE%D0%B2\" title=\"Храм народов\">Храм народов</a>»</li></ul>\\n<div style=\"clear:both;\"></div>\\n<div class=\"main-footer\"><div class=\"main-footer-actions main-plainlist\">\\n<ul><li><a href=\"/wiki/18_%D0%BD%D0%BE%D1%8F%D0%B1%D1%80%D1%8F\" title=\"18 ноября\"><span class=\"mw-ui-button\">Читать</span></a></li></ul>\\n</div><div id=\"mw-customcollapsible-itd\" class=\"main-footer-menu mw-collapsible mw-collapsed nomobile\">\\n<div class=\"main-footer-menuToggle mw-collapsible-toggle mw-customtoggle-main-itd\"><img alt=\"Доп. действия\" src=\"//upload.wikimedia.org/wikipedia/commons/thumb/b/b3/OOjs_UI_icon_ellipsis.svg/20px-OOjs_UI_icon_ellipsis.svg.png\" decoding=\"async\" title=\"Дополнительные действия\" width=\"20\" height=\"20\" srcset=\"//upload.wikimedia.org/wikipedia/commons/thumb/b/b3/OOjs_UI_icon_ellipsis.svg/30px-OOjs_UI_icon_ellipsis.svg.png 1.5x, //upload.wikimedia.org/wikipedia/commons/thumb/b/b3/OOjs_UI_icon_ellipsis.svg/40px-OOjs_UI_icon_ellipsis.svg.png 2x\" data-file-width=\"20\" data-file-height=\"20\" /></div>\\n<div class=\"main-footer-menuDropdown mw-collapsible-content main-plainlist\">\\n<ul><li><a href=\"/wiki/%D0%A8%D0%B0%D0%B1%D0%BB%D0%BE%D0%BD:%D0%A1%D0%BE%D0%B1%D1%8B%D1%82%D0%B8%D1%8F_%D0%B4%D0%BD%D1%8F:11-18\" title=\"Шаблон:События дня:11-18\"><span class=\"mw-ui-button mw-ui-quiet\">Просмотр шаблона</span></a></li></ul>\\n</div></div></div>\\n</div>\\n<div class=\"nomobile\">\\n<link rel=\"mw-deduplicated-inline-style\" href=\"mw-data:TemplateStyles:r125466734\"/>\\n<div id=\"main-wotw\" class=\"main-box\"><h2 class=\"main-header main-box-header\"><span id=\".D0.A1.D0.BE.D0.B2.D0.BC.D0.B5.D1.81.D1.82.D0.BD.D0.B0.D1.8F_.D1.80.D0.B0.D0.B1.D0.BE.D1.82.D0.B0_.D0.BD.D0.B5.D0.B4.D0.B5.D0.BB.D0.B8\"></span><span class=\"mw-headline\" id=\"Совместная_работа_недели\">Совместная работа недели</span></h2>\\n<div class=\"wraplinks\">Приглашаем всех желающих принять участие в работе над статьями о <b><a href=\"/wiki/%D0%A2%D0%B5%D0%B0%D1%82%D1%80%D1%8B_%D0%9A%D0%B0%D0%B7%D0%B0%D1%85%D1%81%D1%82%D0%B0%D0%BD%D0%B0\" title=\"Театры Казахстана\">театрах</a></b> и <b><a href=\"/wiki/%D0%90%D1%80%D1%85%D0%B8%D0%B2%D1%8B_%D0%9A%D0%B0%D0%B7%D0%B0%D1%85%D1%81%D1%82%D0%B0%D0%BD%D0%B0\" title=\"Архивы Казахстана\">архивах</a></b> Казахстана, а также <b><a href=\"/wiki/%D0%9F%D0%BE%D1%80%D1%82%D0%B0%D0%BB:%D0%9F%D0%B5%D1%80%D0%B2%D0%B0%D1%8F_%D0%BC%D0%B8%D1%80%D0%BE%D0%B2%D0%B0%D1%8F_%D0%B2%D0%BE%D0%B9%D0%BD%D0%B0/%D0%9A%D0%B0%D0%BA_%D1%8F_%D0%BC%D0%BE%D0%B3%D1%83_%D0%BF%D0%BE%D0%BC%D0%BE%D1%87%D1%8C\" title=\"Портал:Первая мировая война/Как я могу помочь\">Первой мировой войне</a></b>.</div>\\n<div class=\"plainlist\">\\n<ul><li class=\"mw-empty-elt\"></li>\\n<li><i>Примите также участие в <span class=\"flagicon\"><a href=\"/wiki/%D0%A4%D0%B0%D0%B9%D0%BB:Flag_of_Wales.svg\" class=\"image\" title=\"Уэльс\"><img alt=\"Уэльс\" src=\"//upload.wikimedia.org/wikipedia/commons/thumb/d/dc/Flag_of_Wales.svg/22px-Flag_of_Wales.svg.png\" decoding=\"async\" width=\"22\" height=\"13\" class=\"thumbborder\" srcset=\"//upload.wikimedia.org/wikipedia/commons/thumb/d/dc/Flag_of_Wales.svg/33px-Flag_of_Wales.svg.png 1.5x, //upload.wikimedia.org/wikipedia/commons/thumb/d/dc/Flag_of_Wales.svg/44px-Flag_of_Wales.svg.png 2x\" data-file-width=\"800\" data-file-height=\"480\" /></a></span> «<b><a href=\"/wiki/%D0%9F%D1%80%D0%BE%D0%B5%D0%BA%D1%82:%D0%A2%D0%B5%D0%BC%D0%B0%D1%82%D0%B8%D1%87%D0%B5%D1%81%D0%BA%D0%B0%D1%8F_%D0%BD%D0%B5%D0%B4%D0%B5%D0%BB%D1%8F_%D0%B5%D0%B2%D1%80%D0%BE%D0%BF%D0%B5%D0%B9%D1%81%D0%BA%D0%B8%D1%85_%D1%80%D0%B5%D0%B3%D0%B8%D0%BE%D0%BD%D0%BE%D0%B2/III_%D0%A3%D1%8D%D0%BB%D1%8C%D1%81%D0%BA%D0%B0%D1%8F_%D0%BD%D0%B5%D0%B4%D0%B5%D0%BB%D1%8F\" title=\"Проект:Тематическая неделя европейских регионов/III Уэльская неделя\">III Неделе Уэльса</a></b>».</i></li>\\n<li><i>Примите также участие в <a href=\"/wiki/%D0%A4%D0%B0%D0%B9%D0%BB:Flag_of_Qatar.svg\" class=\"image\"><img alt=\"Flag of Qatar.svg\" src=\"//upload.wikimedia.org/wikipedia/commons/thumb/6/65/Flag_of_Qatar.svg/22px-Flag_of_Qatar.svg.png\" decoding=\"async\" width=\"22\" height=\"9\" srcset=\"//upload.wikimedia.org/wikipedia/commons/thumb/6/65/Flag_of_Qatar.svg/33px-Flag_of_Qatar.svg.png 1.5x, //upload.wikimedia.org/wikipedia/commons/thumb/6/65/Flag_of_Qatar.svg/44px-Flag_of_Qatar.svg.png 2x\" data-file-width=\"1400\" data-file-height=\"550\" /></a> «<b><a href=\"/wiki/%D0%9F%D1%80%D0%BE%D0%B5%D0%BA%D1%82:%D0%A2%D0%B5%D0%BC%D0%B0%D1%82%D0%B8%D1%87%D0%B5%D1%81%D0%BA%D0%B0%D1%8F_%D0%BD%D0%B5%D0%B4%D0%B5%D0%BB%D1%8F_%D0%B3%D0%BE%D1%80%D0%BE%D0%B4%D0%BE%D0%B2/%D0%9D%D0%B5%D0%B4%D0%B5%D0%BB%D1%8F_%D0%94%D0%BE%D1%85%D0%B8\" title=\"Проект:Тематическая неделя городов/Неделя Дохи\">Неделе Дохи</a></b>».</i></li>\\n<li class=\"mw-empty-elt\"></li>\\n<li class=\"mw-empty-elt\"></li>\\n<li class=\"mw-empty-elt\"></li>\\n<li class=\"mw-empty-elt\"></li>\\n<li class=\"mw-empty-elt\"></li>\\n<li class=\"mw-empty-elt\"></li>\\n<li class=\"mw-empty-elt\"></li></ul>\\n</div>\\n<p><i>Примите также участие в конкурсах:</i>\\n</p>\\n<ul><li><b><a href=\"/wiki/%D0%9F%D1%80%D0%BE%D0%B5%D0%BA%D1%82:%D0%9C%D0%B5%D1%81%D1%8F%D1%86_%D0%90%D0%B7%D0%B8%D0%B8\" title=\"Проект:Месяц Азии\">Месяц Азии</a></b></li></ul>\\n<div style=\"clear:both;\"></div>\\n<div class=\"main-footer\"><div id=\"mw-customcollapsible-wotw\" class=\"main-footer-menu mw-collapsible mw-collapsed nomobile\">\\n<div class=\"main-footer-menuToggle mw-collapsible-toggle mw-customtoggle-main-wotw\"><img alt=\"Доп. действия\" src=\"//upload.wikimedia.org/wikipedia/commons/thumb/b/b3/OOjs_UI_icon_ellipsis.svg/20px-OOjs_UI_icon_ellipsis.svg.png\" decoding=\"async\" title=\"Дополнительные действия\" width=\"20\" height=\"20\" srcset=\"//upload.wikimedia.org/wikipedia/commons/thumb/b/b3/OOjs_UI_icon_ellipsis.svg/30px-OOjs_UI_icon_ellipsis.svg.png 1.5x, //upload.wikimedia.org/wikipedia/commons/thumb/b/b3/OOjs_UI_icon_ellipsis.svg/40px-OOjs_UI_icon_ellipsis.svg.png 2x\" data-file-width=\"20\" data-file-height=\"20\" /></div>\\n<div class=\"main-footer-menuDropdown mw-collapsible-content main-plainlist\">\\n<ul><li><a href=\"/wiki/%D0%92%D0%B8%D0%BA%D0%B8%D0%BF%D0%B5%D0%B4%D0%B8%D1%8F:%D0%9A%D0%B0%D0%BD%D0%B4%D0%B8%D0%B4%D0%B0%D1%82%D1%8B_%D0%BD%D0%B0_%D1%80%D0%B0%D0%B1%D0%BE%D1%82%D1%83_%D0%BD%D0%B5%D0%B4%D0%B5%D0%BB%D0%B8\" title=\"Википедия:Кандидаты на работу недели\"><span class=\"mw-ui-button mw-ui-quiet\">Кандидаты</span></a></li>\\n<li><a href=\"/wiki/%D0%92%D0%B8%D0%BA%D0%B8%D0%BF%D0%B5%D0%B4%D0%B8%D1%8F:%D0%9A%D0%B0%D0%BD%D0%B4%D0%B8%D0%B4%D0%B0%D1%82%D1%8B_%D0%BD%D0%B0_%D1%80%D0%B0%D0%B1%D0%BE%D1%82%D1%83_%D0%BD%D0%B5%D0%B4%D0%B5%D0%BB%D0%B8/%D0%90%D1%80%D1%85%D0%B8%D0%B2\" title=\"Википедия:Кандидаты на работу недели/Архив\"><span class=\"mw-ui-button mw-ui-quiet\">Архив</span></a></li>\\n<li><a href=\"/wiki/%D0%A8%D0%B0%D0%B1%D0%BB%D0%BE%D0%BD:%D0%A0%D0%B0%D0%B1%D0%BE%D1%82%D0%B0_%D0%BD%D0%B5%D0%B4%D0%B5%D0%BB%D0%B8\" title=\"Шаблон:Работа недели\"><span class=\"mw-ui-button mw-ui-quiet\">Просмотр шаблона</span></a></li></ul>\\n</div></div></div>\\n</div>\\n</div>\\n</div>\\n</div>\\n<style data-mw-deduplicate=\"TemplateStyles:r113288212\">.mw-parser-output .main-wikimedia-header{text-align:center}.mw-parser-output .main-wikimedia-icon{margin:0 0 0.5rem;text-align:center}.mw-parser-output .main-wikimedia-list{column-count:4;column-width:15em;margin-top:0.5rem}.mw-parser-output .main-wikimedia-list>.main-wikimedia-listItem{align-items:stretch;break-inside:avoid;clear:both;display:flex;page-break-inside:avoid;margin-bottom:0.5rem}.mw-parser-output .main-wikimedia-listItem>img{flex:0 auto}.mw-parser-output .main-wikimedia-listItem>a{flex:1;margin-left:-48px;padding-left:56px;position:relative;text-decoration:none}.mw-parser-output .main-wikimedia-listItem>a>em{font-style:normal}.mw-parser-output .main-wikimedia-listItem>a:hover>em{text-decoration:underline}.mw-parser-output .main-wikimedia-listItem>a>small{color:#72777d;display:block;font-size:0.85em;line-height:1.25}@media(max-width:719px){.mw-parser-output .main-wikimedia-header{font-family:inherit;font-size:1em}.mw-parser-output .main-wikimedia-list{font-size:0.85em;column-width:10em}}@media(min-width:720px){.mw-parser-output .main-wikimedia-header{margin-bottom:1rem}.mw-parser-output .main-wikimedia-listItem>a>small{font-size:1em}}@media(min-width:1000px){.mw-parser-output .main-wikimedia-header{margin-left:auto;margin-right:auto;width:80%}}</style>\\n<div class=\"main-wikimedia main-plainlist\">\\n<div class=\"main-wikimedia-icon\"><div class=\"center\"><div class=\"floatnone\"><img alt=\"\" src=\"//upload.wikimedia.org/wikipedia/commons/thumb/8/8b/Wikimedia-logo_black.svg/48px-Wikimedia-logo_black.svg.png\" decoding=\"async\" width=\"48\" height=\"48\" srcset=\"//upload.wikimedia.org/wikipedia/commons/thumb/8/8b/Wikimedia-logo_black.svg/72px-Wikimedia-logo_black.svg.png 1.5x, //upload.wikimedia.org/wikipedia/commons/thumb/8/8b/Wikimedia-logo_black.svg/96px-Wikimedia-logo_black.svg.png 2x\" data-file-width=\"512\" data-file-height=\"512\" /></div></div></div>\\n<h2 class=\"main-header main-wikimedia-header\"><span id=\".D0.92.D0.B8.D0.BA.D0.B8.D0.BF.D0.B5.D0.B4.D0.B8.D1.8F_.D1.80.D0.B0.D1.81.D0.BF.D0.BE.D0.BB.D0.BE.D0.B6.D0.B5.D0.BD.D0.B0_.D0.BD.D0.B0_.D1.81.D0.B5.D1.80.D0.B2.D0.B5.D1.80.D0.B0.D1.85_.D0.A4.D0.BE.D0.BD.D0.B4.D0.B0_.D0.92.D0.B8.D0.BA.D0.B8.D0.BC.D0.B5.D0.B4.D0.B8.D0.B0_.E2.80.94_.D0.BD.D0.B5.D0.BA.D0.BE.D0.BC.D0.BC.D0.B5.D1.80.D1.87.D0.B5.D1.81.D0.BA.D0.BE.D0.B9_.D0.BE.D1.80.D0.B3.D0.B0.D0.BD.D0.B8.D0.B7.D0.B0.D1.86.D0.B8.D0.B8.2C_.D1.82.D0.B0.D0.BA.D0.B6.D0.B5_.D0.BE.D0.B1.D0.B5.D1.81.D0.BF.D0.B5.D1.87.D0.B8.D0.B2.D0.B0.D1.8E.D1.89.D0.B5.D0.B9_.D1.80.D0.B0.D0.B1.D0.BE.D1.82.D1.83_.D1.80.D1.8F.D0.B4.D0.B0_.D0.B4.D1.80.D1.83.D0.B3.D0.B8.D1.85_.D0.BF.D1.80.D0.BE.D0.B5.D0.BA.D1.82.D0.BE.D0.B2\"></span><span class=\"mw-headline\" id=\"Википедия_расположена_на_серверах_Фонда_Викимедиа_—_некоммерческой_организации,_также_обеспечивающей_работу_ряда_других_проектов\">Википедия расположена на&#160;серверах <a href=\"/wiki/%D0%A4%D0%BE%D0%BD%D0%B4_%D0%92%D0%B8%D0%BA%D0%B8%D0%BC%D0%B5%D0%B4%D0%B8%D0%B0\" title=\"Фонд Викимедиа\">Фонда Викимедиа</a>&#160;— некоммерческой организации, также обеспечивающей работу ряда других проектов</span></h2>\\n<ul class=\"main-wikimedia-list\">\\n<li class=\"main-wikimedia-listItem\"><img alt=\"\" src=\"//upload.wikimedia.org/wikipedia/commons/thumb/a/ac/Notification-icon-Wiktionary-logo.svg/48px-Notification-icon-Wiktionary-logo.svg.png\" decoding=\"async\" title=\"Викисловарь\" width=\"48\" height=\"48\" srcset=\"//upload.wikimedia.org/wikipedia/commons/thumb/a/ac/Notification-icon-Wiktionary-logo.svg/72px-Notification-icon-Wiktionary-logo.svg.png 1.5x, //upload.wikimedia.org/wikipedia/commons/thumb/a/ac/Notification-icon-Wiktionary-logo.svg/96px-Notification-icon-Wiktionary-logo.svg.png 2x\" data-file-width=\"30\" data-file-height=\"30\" /><a href=\"https://ru.wiktionary.org/wiki/\" class=\"extiw\" title=\"wikt:\"><em>Викисловарь</em> <small>Словарь</small></a></li>\\n<li class=\"main-wikimedia-listItem\"><img alt=\"\" src=\"//upload.wikimedia.org/wikipedia/commons/thumb/5/5a/Notification-icon-Wikiquote.svg/48px-Notification-icon-Wikiquote.svg.png\" decoding=\"async\" title=\"Викицитатник\" width=\"48\" height=\"48\" srcset=\"//upload.wikimedia.org/wikipedia/commons/thumb/5/5a/Notification-icon-Wikiquote.svg/72px-Notification-icon-Wikiquote.svg.png 1.5x, //upload.wikimedia.org/wikipedia/commons/thumb/5/5a/Notification-icon-Wikiquote.svg/96px-Notification-icon-Wikiquote.svg.png 2x\" data-file-width=\"30\" data-file-height=\"30\" /><a href=\"https://ru.wikiquote.org/wiki/\" class=\"extiw\" title=\"q:\"><em>Викицитатник</em> <small>Цитаты</small></a></li>\\n<li class=\"main-wikimedia-listItem\"><img alt=\"\" src=\"//upload.wikimedia.org/wikipedia/commons/thumb/e/e0/Notification-icon-Wikibooks-logo.svg/48px-Notification-icon-Wikibooks-logo.svg.png\" decoding=\"async\" title=\"Викиучебник\" width=\"48\" height=\"48\" srcset=\"//upload.wikimedia.org/wikipedia/commons/thumb/e/e0/Notification-icon-Wikibooks-logo.svg/72px-Notification-icon-Wikibooks-logo.svg.png 1.5x, //upload.wikimedia.org/wikipedia/commons/thumb/e/e0/Notification-icon-Wikibooks-logo.svg/96px-Notification-icon-Wikibooks-logo.svg.png 2x\" data-file-width=\"30\" data-file-height=\"30\" /><a href=\"https://ru.wikibooks.org/wiki/\" class=\"extiw\" title=\"b:\"><em>Викиучебник</em> <small>Учебники</small></a></li>\\n<li class=\"main-wikimedia-listItem\"><img alt=\"\" src=\"//upload.wikimedia.org/wikipedia/commons/thumb/5/5a/Notification-icon-Wikisource-logo.svg/48px-Notification-icon-Wikisource-logo.svg.png\" decoding=\"async\" title=\"Викитека\" width=\"48\" height=\"48\" srcset=\"//upload.wikimedia.org/wikipedia/commons/thumb/5/5a/Notification-icon-Wikisource-logo.svg/72px-Notification-icon-Wikisource-logo.svg.png 1.5x, //upload.wikimedia.org/wikipedia/commons/thumb/5/5a/Notification-icon-Wikisource-logo.svg/96px-Notification-icon-Wikisource-logo.svg.png 2x\" data-file-width=\"30\" data-file-height=\"30\" /><a href=\"https://ru.wikisource.org/wiki/\" class=\"extiw\" title=\"s:\"><em>Викитека</em> <small>Библиотека текстов</small></a></li>\\n<li class=\"main-wikimedia-listItem\"><img alt=\"\" src=\"//upload.wikimedia.org/wikipedia/commons/thumb/5/57/Notification-icon-Wikinews-logo.svg/48px-Notification-icon-Wikinews-logo.svg.png\" decoding=\"async\" title=\"Викиновости\" width=\"48\" height=\"48\" srcset=\"//upload.wikimedia.org/wikipedia/commons/thumb/5/57/Notification-icon-Wikinews-logo.svg/72px-Notification-icon-Wikinews-logo.svg.png 1.5x, //upload.wikimedia.org/wikipedia/commons/thumb/5/57/Notification-icon-Wikinews-logo.svg/96px-Notification-icon-Wikinews-logo.svg.png 2x\" data-file-width=\"30\" data-file-height=\"30\" /><a href=\"https://ru.wikinews.org/wiki/\" class=\"extiw\" title=\"n:\"><em>Викиновости</em> <small>Новости</small></a></li>\\n<li class=\"main-wikimedia-listItem\"><img alt=\"\" src=\"//upload.wikimedia.org/wikipedia/commons/thumb/0/01/Notification-icon-Wikiversity-logo.svg/48px-Notification-icon-Wikiversity-logo.svg.png\" decoding=\"async\" title=\"Викиверситет\" width=\"48\" height=\"48\" srcset=\"//upload.wikimedia.org/wikipedia/commons/thumb/0/01/Notification-icon-Wikiversity-logo.svg/72px-Notification-icon-Wikiversity-logo.svg.png 1.5x, //upload.wikimedia.org/wikipedia/commons/thumb/0/01/Notification-icon-Wikiversity-logo.svg/96px-Notification-icon-Wikiversity-logo.svg.png 2x\" data-file-width=\"30\" data-file-height=\"30\" /><a href=\"https://ru.wikiversity.org/wiki/\" class=\"extiw\" title=\"v:\"><em>Викиверситет</em> <small>Обучающие материалы</small></a></li>\\n<li class=\"main-wikimedia-listItem\"><img alt=\"\" src=\"//upload.wikimedia.org/wikipedia/commons/thumb/7/76/Notification-icon-Commons-logo.svg/48px-Notification-icon-Commons-logo.svg.png\" decoding=\"async\" title=\"Викисклад\" width=\"48\" height=\"48\" srcset=\"//upload.wikimedia.org/wikipedia/commons/thumb/7/76/Notification-icon-Commons-logo.svg/72px-Notification-icon-Commons-logo.svg.png 1.5x, //upload.wikimedia.org/wikipedia/commons/thumb/7/76/Notification-icon-Commons-logo.svg/96px-Notification-icon-Commons-logo.svg.png 2x\" data-file-width=\"30\" data-file-height=\"30\" /><a href=\"https://commons.wikimedia.org/wiki/\" class=\"extiw\" title=\"c:\"><em>Викисклад</em> <small>Хранилище медиафайлов</small></a></li>\\n<li class=\"main-wikimedia-listItem\"><img alt=\"\" src=\"//upload.wikimedia.org/wikipedia/commons/thumb/4/47/Notification-icon-Wikivoyage-logo.svg/48px-Notification-icon-Wikivoyage-logo.svg.png\" decoding=\"async\" title=\"Викигид\" width=\"48\" height=\"48\" srcset=\"//upload.wikimedia.org/wikipedia/commons/thumb/4/47/Notification-icon-Wikivoyage-logo.svg/72px-Notification-icon-Wikivoyage-logo.svg.png 1.5x, //upload.wikimedia.org/wikipedia/commons/thumb/4/47/Notification-icon-Wikivoyage-logo.svg/96px-Notification-icon-Wikivoyage-logo.svg.png 2x\" data-file-width=\"30\" data-file-height=\"30\" /><a href=\"https://ru.wikivoyage.org/wiki/\" class=\"extiw\" title=\"voy:\"><em>Викигид</em> <small>Путеводитель</small></a></li>\\n<li class=\"main-wikimedia-listItem\"><img alt=\"\" src=\"//upload.wikimedia.org/wikipedia/commons/thumb/6/67/Notification-icon-Wikidata-logo.svg/48px-Notification-icon-Wikidata-logo.svg.png\" decoding=\"async\" title=\"Викиданные\" width=\"48\" height=\"48\" srcset=\"//upload.wikimedia.org/wikipedia/commons/thumb/6/67/Notification-icon-Wikidata-logo.svg/72px-Notification-icon-Wikidata-logo.svg.png 1.5x, //upload.wikimedia.org/wikipedia/commons/thumb/6/67/Notification-icon-Wikidata-logo.svg/96px-Notification-icon-Wikidata-logo.svg.png 2x\" data-file-width=\"30\" data-file-height=\"30\" /><a href=\"https://www.wikidata.org/wiki/\" class=\"extiw\" title=\"d:\"><em>Викиданные</em> <small>База знаний</small></a></li>\\n<li class=\"main-wikimedia-listItem\"><img alt=\"\" src=\"//upload.wikimedia.org/wikipedia/commons/thumb/0/08/Notification-icon-Wikispecies-logo.svg/48px-Notification-icon-Wikispecies-logo.svg.png\" decoding=\"async\" title=\"Викивиды\" width=\"48\" height=\"48\" srcset=\"//upload.wikimedia.org/wikipedia/commons/thumb/0/08/Notification-icon-Wikispecies-logo.svg/72px-Notification-icon-Wikispecies-logo.svg.png 1.5x, //upload.wikimedia.org/wikipedia/commons/thumb/0/08/Notification-icon-Wikispecies-logo.svg/96px-Notification-icon-Wikispecies-logo.svg.png 2x\" data-file-width=\"30\" data-file-height=\"30\" /><a href=\"https://species.wikimedia.org/wiki/\" class=\"extiw\" title=\"species:\"><em>Викивиды</em> <small>Каталог биологических видов</small></a></li>\\n<li class=\"main-wikimedia-listItem\"><img alt=\"\" src=\"//upload.wikimedia.org/wikipedia/commons/thumb/8/86/Notification-icon-Meta-logo.svg/48px-Notification-icon-Meta-logo.svg.png\" decoding=\"async\" title=\"Мета-вики\" width=\"48\" height=\"48\" srcset=\"//upload.wikimedia.org/wikipedia/commons/thumb/8/86/Notification-icon-Meta-logo.svg/72px-Notification-icon-Meta-logo.svg.png 1.5x, //upload.wikimedia.org/wikipedia/commons/thumb/8/86/Notification-icon-Meta-logo.svg/96px-Notification-icon-Meta-logo.svg.png 2x\" data-file-width=\"30\" data-file-height=\"30\" /><a href=\"https://meta.wikimedia.org/wiki/\" class=\"extiw\" title=\"m:\"><em>Мета-вики</em> <small>Координация сообществ</small></a></li>\\n<li class=\"main-wikimedia-listItem\"><img alt=\"\" src=\"//upload.wikimedia.org/wikipedia/commons/thumb/a/a6/MediaWiki-2020-icon.svg/48px-MediaWiki-2020-icon.svg.png\" decoding=\"async\" title=\"Медиавики\" width=\"48\" height=\"48\" srcset=\"//upload.wikimedia.org/wikipedia/commons/thumb/a/a6/MediaWiki-2020-icon.svg/72px-MediaWiki-2020-icon.svg.png 1.5x, //upload.wikimedia.org/wikipedia/commons/thumb/a/a6/MediaWiki-2020-icon.svg/96px-MediaWiki-2020-icon.svg.png 2x\" data-file-width=\"100\" data-file-height=\"100\" /><a href=\"https://www.mediawiki.org/wiki/\" class=\"extiw\" title=\"mw:\"><em>Медиавики</em> <small>Вики-движок</small></a></li>\\n</ul>\\n</div>\\n<p class=\"mw-empty-elt\">\\n</p></div><noscript><img src=\"//ru.wikipedia.org/wiki/Special:CentralAutoLogin/start?type=1x1\" alt=\"\" title=\"\" width=\"1\" height=\"1\" style=\"border: none; position: absolute;\" /></noscript>\\n<div class=\"printfooter\" data-nosnippet=\"\">Источник — <a dir=\"ltr\" href=\"https://ru.wikipedia.org/w/index.php?title=Заглавная_страница&amp;oldid=121103235\">https://ru.wikipedia.org/w/index.php?title=Заглавная_страница&amp;oldid=121103235</a></div></div>\\n\\t\\t<div id=\"catlinks\" class=\"catlinks\" data-mw=\"interface\"><div id=\"mw-normal-catlinks\" class=\"mw-normal-catlinks\"><a href=\"/wiki/%D0%A1%D0%BB%D1%83%D0%B6%D0%B5%D0%B1%D0%BD%D0%B0%D1%8F:%D0%9A%D0%B0%D1%82%D0%B5%D0%B3%D0%BE%D1%80%D0%B8%D0%B8\" title=\"Служебная:Категории\">Категории</a>: <ul><li><a href=\"/wiki/%D0%9A%D0%B0%D1%82%D0%B5%D0%B3%D0%BE%D1%80%D0%B8%D1%8F:%D0%9F%D0%B5%D1%80%D1%81%D0%BE%D0%BD%D0%B0%D0%BB%D0%B8%D0%B8_%D0%BF%D0%BE_%D0%B0%D0%BB%D1%84%D0%B0%D0%B2%D0%B8%D1%82%D1%83\" title=\"Категория:Персоналии по алфавиту\">Персоналии по алфавиту</a></li><li><a href=\"/wiki/%D0%9A%D0%B0%D1%82%D0%B5%D0%B3%D0%BE%D1%80%D0%B8%D1%8F:%D0%A0%D0%BE%D0%B4%D0%B8%D0%B2%D1%88%D0%B8%D0%B5%D1%81%D1%8F_21_%D1%81%D0%B5%D0%BD%D1%82%D1%8F%D0%B1%D1%80%D1%8F\" title=\"Категория:Родившиеся 21 сентября\">Родившиеся 21 сентября</a></li><li><a href=\"/wiki/%D0%9A%D0%B0%D1%82%D0%B5%D0%B3%D0%BE%D1%80%D0%B8%D1%8F:%D0%A0%D0%BE%D0%B4%D0%B8%D0%B2%D1%88%D0%B8%D0%B5%D1%81%D1%8F_%D0%B2_1407_%D0%B3%D0%BE%D0%B4%D1%83\" title=\"Категория:Родившиеся в 1407 году\">Родившиеся в 1407 году</a></li><li><a href=\"/wiki/%D0%9A%D0%B0%D1%82%D0%B5%D0%B3%D0%BE%D1%80%D0%B8%D1%8F:%D0%A3%D0%BC%D0%B5%D1%80%D1%88%D0%B8%D0%B5_1_%D0%BE%D0%BA%D1%82%D1%8F%D0%B1%D1%80%D1%8F\" title=\"Категория:Умершие 1 октября\">Умершие 1 октября</a></li><li><a href=\"/wiki/%D0%9A%D0%B0%D1%82%D0%B5%D0%B3%D0%BE%D1%80%D0%B8%D1%8F:%D0%A3%D0%BC%D0%B5%D1%80%D1%88%D0%B8%D0%B5_%D0%B2_1450_%D0%B3%D0%BE%D0%B4%D1%83\" title=\"Категория:Умершие в 1450 году\">Умершие в 1450 году</a></li></ul></div><div id=\"mw-hidden-catlinks\" class=\"mw-hidden-catlinks mw-hidden-cats-hidden\">Скрытая категория: <ul><li><a href=\"/wiki/%D0%9A%D0%B0%D1%82%D0%B5%D0%B3%D0%BE%D1%80%D0%B8%D1%8F:%D0%92%D0%B8%D0%BA%D0%B8%D0%BF%D0%B5%D0%B4%D0%B8%D1%8F:%D0%A1%D1%82%D1%80%D0%B0%D0%BD%D0%B8%D1%86%D1%8B_%D1%81_%D0%B5%D0%B6%D0%B5%D1%87%D0%B0%D1%81%D0%BD%D0%BE_%D0%BE%D1%87%D0%B8%D1%89%D0%B0%D0%B5%D0%BC%D1%8B%D0%BC_%D0%BA%D1%8D%D1%88%D0%B5%D0%BC\" title=\"Категория:Википедия:Страницы с ежечасно очищаемым кэшем\">Википедия:Страницы с ежечасно очищаемым кэшем</a></li></ul></div></div>\\n\\t</div>\\n</div>\\n\\n<div id=\"mw-navigation\">\\n\\t<h2>Навигация</h2>\\n\\t<div id=\"mw-head\">\\n\\t\\t\\n\\n<nav id=\"p-personal\" class=\"vector-menu mw-portlet mw-portlet-personal vector-user-menu-legacy\" aria-labelledby=\"p-personal-label\" role=\"navigation\"  >\\n\\t<h3\\n\\t\\tid=\"p-personal-label\"\\n\\t\\t\\n\\t\\tclass=\"vector-menu-heading \"\\n\\t>\\n\\t\\t<span class=\"vector-menu-heading-label\">Персональные инструменты</span>\\n\\t</h3>\\n\\t<div class=\"vector-menu-content\">\\n\\t\\t\\n\\t\\t<ul class=\"vector-menu-content-list\"><li id=\"pt-anonuserpage\" class=\"mw-list-item\"><span title=\"Страница участника для моего IP\">Вы не представились системе</span></li><li id=\"pt-anontalk\" class=\"mw-list-item\"><a href=\"/wiki/%D0%A1%D0%BB%D1%83%D0%B6%D0%B5%D0%B1%D0%BD%D0%B0%D1%8F:%D0%9C%D0%BE%D1%91_%D0%BE%D0%B1%D1%81%D1%83%D0%B6%D0%B4%D0%B5%D0%BD%D0%B8%D0%B5\" title=\"Страница обсуждений для моего IP [n]\" accesskey=\"n\"><span>Обсуждение</span></a></li><li id=\"pt-anoncontribs\" class=\"mw-list-item\"><a href=\"/wiki/%D0%A1%D0%BB%D1%83%D0%B6%D0%B5%D0%B1%D0%BD%D0%B0%D1%8F:%D0%9C%D0%BE%D0%B9_%D0%B2%D0%BA%D0%BB%D0%B0%D0%B4\" title=\"Список правок, сделанных с этого IP-адреса [y]\" accesskey=\"y\"><span>Вклад</span></a></li><li id=\"pt-createaccount\" class=\"mw-list-item\"><a href=\"/w/index.php?title=%D0%A1%D0%BB%D1%83%D0%B6%D0%B5%D0%B1%D0%BD%D0%B0%D1%8F:%D0%A1%D0%BE%D0%B7%D0%B4%D0%B0%D1%82%D1%8C_%D1%83%D1%87%D1%91%D1%82%D0%BD%D1%83%D1%8E_%D0%B7%D0%B0%D0%BF%D0%B8%D1%81%D1%8C&amp;returnto=%D0%97%D0%B0%D0%B3%D0%BB%D0%B0%D0%B2%D0%BD%D0%B0%D1%8F+%D1%81%D1%82%D1%80%D0%B0%D0%BD%D0%B8%D1%86%D0%B0\" title=\"Мы предлагаем вам создать учётную запись и войти в систему, хотя это и не обязательно.\"><span>Создать учётную запись</span></a></li><li id=\"pt-login\" class=\"mw-list-item\"><a href=\"/w/index.php?title=%D0%A1%D0%BB%D1%83%D0%B6%D0%B5%D0%B1%D0%BD%D0%B0%D1%8F:%D0%92%D1%85%D0%BE%D0%B4&amp;returnto=%D0%97%D0%B0%D0%B3%D0%BB%D0%B0%D0%B2%D0%BD%D0%B0%D1%8F+%D1%81%D1%82%D1%80%D0%B0%D0%BD%D0%B8%D1%86%D0%B0\" title=\"Здесь можно зарегистрироваться в системе, но это необязательно. [o]\" accesskey=\"o\"><span>Войти</span></a></li></ul>\\n\\t\\t\\n\\t</div>\\n</nav>\\n\\n\\t\\t<div id=\"left-navigation\">\\n\\t\\t\\t\\n\\n<nav id=\"p-namespaces\" class=\"vector-menu mw-portlet mw-portlet-namespaces vector-menu-tabs vector-menu-tabs-legacy\" aria-labelledby=\"p-namespaces-label\" role=\"navigation\"  >\\n\\t<h3\\n\\t\\tid=\"p-namespaces-label\"\\n\\t\\t\\n\\t\\tclass=\"vector-menu-heading \"\\n\\t>\\n\\t\\t<span class=\"vector-menu-heading-label\">Пространства имён</span>\\n\\t</h3>\\n\\t<div class=\"vector-menu-content\">\\n\\t\\t\\n\\t\\t<ul class=\"vector-menu-content-list\"><li id=\"ca-nstab-main\" class=\"selected mw-list-item\"><a href=\"/wiki/%D0%97%D0%B0%D0%B3%D0%BB%D0%B0%D0%B2%D0%BD%D0%B0%D1%8F_%D1%81%D1%82%D1%80%D0%B0%D0%BD%D0%B8%D1%86%D0%B0\" title=\"Просмотр основной страницы [c]\" accesskey=\"c\"><span>Заглавная</span></a></li><li id=\"ca-talk\" class=\"mw-list-item\"><a href=\"/wiki/%D0%9E%D0%B1%D1%81%D1%83%D0%B6%D0%B4%D0%B5%D0%BD%D0%B8%D0%B5:%D0%97%D0%B0%D0%B3%D0%BB%D0%B0%D0%B2%D0%BD%D0%B0%D1%8F_%D1%81%D1%82%D1%80%D0%B0%D0%BD%D0%B8%D1%86%D0%B0\" rel=\"discussion\" title=\"Обсуждение основной страницы [t]\" accesskey=\"t\"><span>Обсуждение</span></a></li></ul>\\n\\t\\t\\n\\t</div>\\n</nav>\\n\\n\\t\\t\\t\\n\\n<nav id=\"p-variants\" class=\"vector-menu mw-portlet mw-portlet-variants emptyPortlet vector-menu-dropdown-noicon vector-menu-dropdown\" aria-labelledby=\"p-variants-label\" role=\"navigation\"  >\\n\\t<input type=\"checkbox\"\\n\\t\\tid=\"p-variants-checkbox\"\\n\\t\\trole=\"button\"\\n\\t\\taria-haspopup=\"true\"\\n\\t\\tdata-event-name=\"ui.dropdown-p-variants\"\\n\\t\\tclass=\"vector-menu-checkbox\"\\n\\t\\taria-labelledby=\"p-variants-label\"\\n\\t/>\\n\\t<label\\n\\t\\tid=\"p-variants-label\"\\n\\t\\t aria-label=\"Изменить вариант языка\"\\n\\t\\tclass=\"vector-menu-heading \"\\n\\t>\\n\\t\\t<span class=\"vector-menu-heading-label\">русский</span>\\n\\t</label>\\n\\t<div class=\"vector-menu-content\">\\n\\t\\t\\n\\t\\t<ul class=\"vector-menu-content-list\"></ul>\\n\\t\\t\\n\\t</div>\\n</nav>\\n\\n\\t\\t</div>\\n\\t\\t<div id=\"right-navigation\">\\n\\t\\t\\t\\n\\n<nav id=\"p-views\" class=\"vector-menu mw-portlet mw-portlet-views vector-menu-tabs vector-menu-tabs-legacy\" aria-labelledby=\"p-views-label\" role=\"navigation\"  >\\n\\t<h3\\n\\t\\tid=\"p-views-label\"\\n\\t\\t\\n\\t\\tclass=\"vector-menu-heading \"\\n\\t>\\n\\t\\t<span class=\"vector-menu-heading-label\">Просмотры</span>\\n\\t</h3>\\n\\t<div class=\"vector-menu-content\">\\n\\t\\t\\n\\t\\t<ul class=\"vector-menu-content-list\"><li id=\"ca-view\" class=\"selected mw-list-item\"><a href=\"/wiki/%D0%97%D0%B0%D0%B3%D0%BB%D0%B0%D0%B2%D0%BD%D0%B0%D1%8F_%D1%81%D1%82%D1%80%D0%B0%D0%BD%D0%B8%D1%86%D0%B0\"><span>Читать</span></a></li><li id=\"ca-viewsource\" class=\"mw-list-item\"><a href=\"/w/index.php?title=%D0%97%D0%B0%D0%B3%D0%BB%D0%B0%D0%B2%D0%BD%D0%B0%D1%8F_%D1%81%D1%82%D1%80%D0%B0%D0%BD%D0%B8%D1%86%D0%B0&amp;action=edit\" title=\"Эта страница защищена от изменений.&#10;Вы можете посмотреть её исходный текст. [e]\" accesskey=\"e\"><span>Просмотр кода</span></a></li><li id=\"ca-history\" class=\"mw-list-item\"><a href=\"/w/index.php?title=%D0%97%D0%B0%D0%B3%D0%BB%D0%B0%D0%B2%D0%BD%D0%B0%D1%8F_%D1%81%D1%82%D1%80%D0%B0%D0%BD%D0%B8%D1%86%D0%B0&amp;action=history\" title=\"Журнал изменений страницы [h]\" accesskey=\"h\"><span>История</span></a></li></ul>\\n\\t\\t\\n\\t</div>\\n</nav>\\n\\n\\t\\t\\t\\n\\n<nav id=\"p-cactions\" class=\"vector-menu mw-portlet mw-portlet-cactions emptyPortlet vector-menu-dropdown-noicon vector-menu-dropdown\" aria-labelledby=\"p-cactions-label\" role=\"navigation\"  title=\"Больше возможностей\" >\\n\\t<input type=\"checkbox\"\\n\\t\\tid=\"p-cactions-checkbox\"\\n\\t\\trole=\"button\"\\n\\t\\taria-haspopup=\"true\"\\n\\t\\tdata-event-name=\"ui.dropdown-p-cactions\"\\n\\t\\tclass=\"vector-menu-checkbox\"\\n\\t\\taria-labelledby=\"p-cactions-label\"\\n\\t/>\\n\\t<label\\n\\t\\tid=\"p-cactions-label\"\\n\\t\\t\\n\\t\\tclass=\"vector-menu-heading \"\\n\\t>\\n\\t\\t<span class=\"vector-menu-heading-label\">Ещё</span>\\n\\t</label>\\n\\t<div class=\"vector-menu-content\">\\n\\t\\t\\n\\t\\t<ul class=\"vector-menu-content-list\"></ul>\\n\\t\\t\\n\\t</div>\\n</nav>\\n\\n\\t\\t\\t\\n<div id=\"p-search\" role=\"search\" class=\"vector-search-box-vue  vector-search-box-show-thumbnail vector-search-box-auto-expand-width vector-search-box\">\\n\\t<div>\\n\\t\\t<form action=\"/w/index.php\" id=\"searchform\"\\n\\t\\t\\tclass=\"vector-search-box-form\">\\n\\t\\t\\t<div id=\"simpleSearch\"\\n\\t\\t\\t\\tclass=\"vector-search-box-inner\"\\n\\t\\t\\t\\t data-search-loc=\"header-navigation\">\\n\\t\\t\\t\\t<input class=\"vector-search-box-input\"\\n\\t\\t\\t\\t\\t type=\"search\" name=\"search\" placeholder=\"Искать в Википедии\" aria-label=\"Искать в Википедии\" autocapitalize=\"sentences\" title=\"Искать в Википедии [f]\" accesskey=\"f\" id=\"searchInput\"\\n\\t\\t\\t\\t>\\n\\t\\t\\t\\t<input type=\"hidden\" name=\"title\" value=\"Служебная:Поиск\">\\n\\t\\t\\t\\t<input id=\"mw-searchButton\"\\n\\t\\t\\t\\t\\t class=\"searchButton mw-fallbackSearchButton\" type=\"submit\" name=\"fulltext\" title=\"Найти страницы, содержащие указанный текст\" value=\"Найти\">\\n\\t\\t\\t\\t<input id=\"searchButton\"\\n\\t\\t\\t\\t\\t class=\"searchButton\" type=\"submit\" name=\"go\" title=\"Перейти к странице, имеющей в точности такое название\" value=\"Перейти\">\\n\\t\\t\\t</div>\\n\\t\\t</form>\\n\\t</div>\\n</div>\\n\\n\\t\\t</div>\\n\\t</div>\\n\\t\\n\\n<div id=\"mw-panel\">\\n\\t<div id=\"p-logo\" role=\"banner\">\\n\\t\\t<a class=\"mw-wiki-logo\" href=\"/wiki/%D0%97%D0%B0%D0%B3%D0%BB%D0%B0%D0%B2%D0%BD%D0%B0%D1%8F_%D1%81%D1%82%D1%80%D0%B0%D0%BD%D0%B8%D1%86%D0%B0\"\\n\\t\\t\\ttitle=\"Перейти на заглавную страницу\"></a>\\n\\t</div>\\n\\t\\n\\n<nav id=\"p-navigation\" class=\"vector-menu mw-portlet mw-portlet-navigation vector-menu-portal portal\" aria-labelledby=\"p-navigation-label\" role=\"navigation\"  >\\n\\t<h3\\n\\t\\tid=\"p-navigation-label\"\\n\\t\\t\\n\\t\\tclass=\"vector-menu-heading \"\\n\\t>\\n\\t\\t<span class=\"vector-menu-heading-label\">Навигация</span>\\n\\t</h3>\\n\\t<div class=\"vector-menu-content\">\\n\\t\\t\\n\\t\\t<ul class=\"vector-menu-content-list\"><li id=\"n-mainpage-description\" class=\"mw-list-item\"><a href=\"/wiki/%D0%97%D0%B0%D0%B3%D0%BB%D0%B0%D0%B2%D0%BD%D0%B0%D1%8F_%D1%81%D1%82%D1%80%D0%B0%D0%BD%D0%B8%D1%86%D0%B0\" title=\"Перейти на заглавную страницу [z]\" accesskey=\"z\"><span>Заглавная страница</span></a></li><li id=\"n-content\" class=\"mw-list-item\"><a href=\"/wiki/%D0%92%D0%B8%D0%BA%D0%B8%D0%BF%D0%B5%D0%B4%D0%B8%D1%8F:%D0%A1%D0%BE%D0%B4%D0%B5%D1%80%D0%B6%D0%B0%D0%BD%D0%B8%D0%B5\"><span>Содержание</span></a></li><li id=\"n-featured\" class=\"mw-list-item\"><a href=\"/wiki/%D0%92%D0%B8%D0%BA%D0%B8%D0%BF%D0%B5%D0%B4%D0%B8%D1%8F:%D0%98%D0%B7%D0%B1%D1%80%D0%B0%D0%BD%D0%BD%D1%8B%D0%B5_%D1%81%D1%82%D0%B0%D1%82%D1%8C%D0%B8\" title=\"Статьи, считающиеся лучшими статьями проекта\"><span>Избранные статьи</span></a></li><li id=\"n-randompage\" class=\"mw-list-item\"><a href=\"/wiki/%D0%A1%D0%BB%D1%83%D0%B6%D0%B5%D0%B1%D0%BD%D0%B0%D1%8F:%D0%A1%D0%BB%D1%83%D1%87%D0%B0%D0%B9%D0%BD%D0%B0%D1%8F_%D1%81%D1%82%D1%80%D0%B0%D0%BD%D0%B8%D1%86%D0%B0\" title=\"Посмотреть случайно выбранную страницу [x]\" accesskey=\"x\"><span>Случайная статья</span></a></li><li id=\"n-currentevents\" class=\"mw-list-item\"><a href=\"/wiki/%D0%9F%D0%BE%D1%80%D1%82%D0%B0%D0%BB:%D0%A2%D0%B5%D0%BA%D1%83%D1%89%D0%B8%D0%B5_%D1%81%D0%BE%D0%B1%D1%8B%D1%82%D0%B8%D1%8F\" title=\"Статьи о текущих событиях в мире\"><span>Текущие события</span></a></li><li id=\"n-sitesupport\" class=\"mw-list-item\"><a href=\"//donate.wikimedia.org/wiki/Special:FundraiserRedirector?utm_source=donate&amp;utm_medium=sidebar&amp;utm_campaign=C13_ru.wikipedia.org&amp;uselang=ru\" title=\"Поддержите нас\"><span>Пожертвовать</span></a></li></ul>\\n\\t\\t\\n\\t</div>\\n</nav>\\n\\n\\t\\n\\n<nav id=\"p-participation\" class=\"vector-menu mw-portlet mw-portlet-participation vector-menu-portal portal\" aria-labelledby=\"p-participation-label\" role=\"navigation\"  >\\n\\t<h3\\n\\t\\tid=\"p-participation-label\"\\n\\t\\t\\n\\t\\tclass=\"vector-menu-heading \"\\n\\t>\\n\\t\\t<span class=\"vector-menu-heading-label\">Участие</span>\\n\\t</h3>\\n\\t<div class=\"vector-menu-content\">\\n\\t\\t\\n\\t\\t<ul class=\"vector-menu-content-list\"><li id=\"n-bug_in_article\" class=\"mw-list-item\"><a href=\"/wiki/%D0%92%D0%B8%D0%BA%D0%B8%D0%BF%D0%B5%D0%B4%D0%B8%D1%8F:%D0%A1%D0%BE%D0%BE%D0%B1%D1%89%D0%B5%D0%BD%D0%B8%D1%8F_%D0%BE%D0%B1_%D0%BE%D1%88%D0%B8%D0%B1%D0%BA%D0%B0%D1%85\" title=\"Сообщить об ошибке в этой статье\"><span>Сообщить об\\xa0ошибке</span></a></li><li id=\"n-introduction\" class=\"mw-list-item\"><a href=\"/wiki/%D0%A1%D0%BF%D1%80%D0%B0%D0%B2%D0%BA%D0%B0:%D0%92%D0%B2%D0%B5%D0%B4%D0%B5%D0%BD%D0%B8%D0%B5\"><span>Как править статьи</span></a></li><li id=\"n-portal\" class=\"mw-list-item\"><a href=\"/wiki/%D0%92%D0%B8%D0%BA%D0%B8%D0%BF%D0%B5%D0%B4%D0%B8%D1%8F:%D0%A1%D0%BE%D0%BE%D0%B1%D1%89%D0%B5%D1%81%D1%82%D0%B2%D0%BE\" title=\"О проекте, о том, чем здесь можно заниматься, а также — где что находится\"><span>Сообщество</span></a></li><li id=\"n-forum\" class=\"mw-list-item\"><a href=\"/wiki/%D0%92%D0%B8%D0%BA%D0%B8%D0%BF%D0%B5%D0%B4%D0%B8%D1%8F:%D0%A4%D0%BE%D1%80%D1%83%D0%BC\" title=\"Форум участников Википедии\"><span>Форум</span></a></li><li id=\"n-recentchanges\" class=\"mw-list-item\"><a href=\"/wiki/%D0%A1%D0%BB%D1%83%D0%B6%D0%B5%D0%B1%D0%BD%D0%B0%D1%8F:%D0%A1%D0%B2%D0%B5%D0%B6%D0%B8%D0%B5_%D0%BF%D1%80%D0%B0%D0%B2%D0%BA%D0%B8\" title=\"Список последних изменений [r]\" accesskey=\"r\"><span>Свежие правки</span></a></li><li id=\"n-newpages\" class=\"mw-list-item\"><a href=\"/wiki/%D0%A1%D0%BB%D1%83%D0%B6%D0%B5%D0%B1%D0%BD%D0%B0%D1%8F:%D0%9D%D0%BE%D0%B2%D1%8B%D0%B5_%D1%81%D1%82%D1%80%D0%B0%D0%BD%D0%B8%D1%86%D1%8B\" title=\"Список недавно созданных страниц\"><span>Новые страницы</span></a></li><li id=\"n-help\" class=\"mw-list-item\"><a href=\"/wiki/%D0%92%D0%B8%D0%BA%D0%B8%D0%BF%D0%B5%D0%B4%D0%B8%D1%8F:%D0%A1%D0%BF%D1%80%D0%B0%D0%B2%D0%BA%D0%B0\" title=\"Место расположения Справки\"><span>Справка</span></a></li></ul>\\n\\t\\t\\n\\t</div>\\n</nav>\\n\\n\\n<nav id=\"p-tb\" class=\"vector-menu mw-portlet mw-portlet-tb vector-menu-portal portal\" aria-labelledby=\"p-tb-label\" role=\"navigation\"  >\\n\\t<h3\\n\\t\\tid=\"p-tb-label\"\\n\\t\\t\\n\\t\\tclass=\"vector-menu-heading \"\\n\\t>\\n\\t\\t<span class=\"vector-menu-heading-label\">Инструменты</span>\\n\\t</h3>\\n\\t<div class=\"vector-menu-content\">\\n\\t\\t\\n\\t\\t<ul class=\"vector-menu-content-list\"><li id=\"t-whatlinkshere\" class=\"mw-list-item\"><a href=\"/wiki/%D0%A1%D0%BB%D1%83%D0%B6%D0%B5%D0%B1%D0%BD%D0%B0%D1%8F:%D0%A1%D1%81%D1%8B%D0%BB%D0%BA%D0%B8_%D1%81%D1%8E%D0%B4%D0%B0/%D0%97%D0%B0%D0%B3%D0%BB%D0%B0%D0%B2%D0%BD%D0%B0%D1%8F_%D1%81%D1%82%D1%80%D0%B0%D0%BD%D0%B8%D1%86%D0%B0\" title=\"Список всех страниц, ссылающихся на данную [j]\" accesskey=\"j\"><span>Ссылки сюда</span></a></li><li id=\"t-recentchangeslinked\" class=\"mw-list-item\"><a href=\"/wiki/%D0%A1%D0%BB%D1%83%D0%B6%D0%B5%D0%B1%D0%BD%D0%B0%D1%8F:%D0%A1%D0%B2%D1%8F%D0%B7%D0%B0%D0%BD%D0%BD%D1%8B%D0%B5_%D0%BF%D1%80%D0%B0%D0%B2%D0%BA%D0%B8/%D0%97%D0%B0%D0%B3%D0%BB%D0%B0%D0%B2%D0%BD%D0%B0%D1%8F_%D1%81%D1%82%D1%80%D0%B0%D0%BD%D0%B8%D1%86%D0%B0\" rel=\"nofollow\" title=\"Последние изменения в страницах, на которые ссылается эта страница [k]\" accesskey=\"k\"><span>Связанные правки</span></a></li><li id=\"t-specialpages\" class=\"mw-list-item\"><a href=\"/wiki/%D0%A1%D0%BB%D1%83%D0%B6%D0%B5%D0%B1%D0%BD%D0%B0%D1%8F:%D0%A1%D0%BF%D0%B5%D1%86%D1%81%D1%82%D1%80%D0%B0%D0%BD%D0%B8%D1%86%D1%8B\" title=\"Список служебных страниц [q]\" accesskey=\"q\"><span>Служебные страницы</span></a></li><li id=\"t-permalink\" class=\"mw-list-item\"><a href=\"/w/index.php?title=%D0%97%D0%B0%D0%B3%D0%BB%D0%B0%D0%B2%D0%BD%D0%B0%D1%8F_%D1%81%D1%82%D1%80%D0%B0%D0%BD%D0%B8%D1%86%D0%B0&amp;oldid=121103235\" title=\"Постоянная ссылка на эту версию страницы\"><span>Постоянная ссылка</span></a></li><li id=\"t-info\" class=\"mw-list-item\"><a href=\"/w/index.php?title=%D0%97%D0%B0%D0%B3%D0%BB%D0%B0%D0%B2%D0%BD%D0%B0%D1%8F_%D1%81%D1%82%D1%80%D0%B0%D0%BD%D0%B8%D1%86%D0%B0&amp;action=info\" title=\"Подробнее об этой странице\"><span>Сведения о\\xa0странице</span></a></li><li id=\"t-cite\" class=\"mw-list-item\"><a href=\"/w/index.php?title=%D0%A1%D0%BB%D1%83%D0%B6%D0%B5%D0%B1%D0%BD%D0%B0%D1%8F:%D0%A6%D0%B8%D1%82%D0%B0%D1%82%D0%B0&amp;page=%D0%97%D0%B0%D0%B3%D0%BB%D0%B0%D0%B2%D0%BD%D0%B0%D1%8F_%D1%81%D1%82%D1%80%D0%B0%D0%BD%D0%B8%D1%86%D0%B0&amp;id=121103235&amp;wpFormIdentifier=titleform\" title=\"Информация о том, как цитировать эту страницу\"><span>Цитировать страницу</span></a></li><li id=\"t-wikibase\" class=\"mw-list-item\"><a href=\"https://www.wikidata.org/wiki/Special:EntityPage/Q5296\" title=\"Ссылка на связанный элемент репозитория данных [g]\" accesskey=\"g\"><span>Элемент Викиданных</span></a></li></ul>\\n\\t\\t\\n\\t</div>\\n</nav>\\n\\n\\n<nav id=\"p-coll-print_export\" class=\"vector-menu mw-portlet mw-portlet-coll-print_export vector-menu-portal portal\" aria-labelledby=\"p-coll-print_export-label\" role=\"navigation\"  >\\n\\t<h3\\n\\t\\tid=\"p-coll-print_export-label\"\\n\\t\\t\\n\\t\\tclass=\"vector-menu-heading \"\\n\\t>\\n\\t\\t<span class=\"vector-menu-heading-label\">Печать/экспорт</span>\\n\\t</h3>\\n\\t<div class=\"vector-menu-content\">\\n\\t\\t\\n\\t\\t<ul class=\"vector-menu-content-list\"><li id=\"coll-create_a_book\" class=\"mw-list-item\"><a href=\"/w/index.php?title=%D0%A1%D0%BB%D1%83%D0%B6%D0%B5%D0%B1%D0%BD%D0%B0%D1%8F:%D0%9A%D0%BE%D0%BB%D0%BB%D0%B5%D0%BA%D1%86%D0%B8%D1%8F_%D0%BA%D0%BD%D0%B8%D0%B3&amp;bookcmd=book_creator&amp;referer=%D0%97%D0%B0%D0%B3%D0%BB%D0%B0%D0%B2%D0%BD%D0%B0%D1%8F+%D1%81%D1%82%D1%80%D0%B0%D0%BD%D0%B8%D1%86%D0%B0\" title=\"Создать книгу или коллекцию статей\"><span>Создать книгу</span></a></li><li id=\"coll-download-as-rl\" class=\"mw-list-item\"><a href=\"/w/index.php?title=%D0%A1%D0%BB%D1%83%D0%B6%D0%B5%D0%B1%D0%BD%D0%B0%D1%8F:DownloadAsPdf&amp;page=%D0%97%D0%B0%D0%B3%D0%BB%D0%B0%D0%B2%D0%BD%D0%B0%D1%8F_%D1%81%D1%82%D1%80%D0%B0%D0%BD%D0%B8%D1%86%D0%B0&amp;action=show-download-screen\" title=\"Скачать эту страницу как файл PDF\"><span>Скачать как PDF</span></a></li><li id=\"t-print\" class=\"mw-list-item\"><a href=\"/w/index.php?title=%D0%97%D0%B0%D0%B3%D0%BB%D0%B0%D0%B2%D0%BD%D0%B0%D1%8F_%D1%81%D1%82%D1%80%D0%B0%D0%BD%D0%B8%D1%86%D0%B0&amp;printable=yes\" title=\"Версия этой страницы для печати [p]\" accesskey=\"p\"><span>Версия для печати</span></a></li></ul>\\n\\t\\t\\n\\t</div>\\n</nav>\\n\\n\\n<nav id=\"p-wikibase-otherprojects\" class=\"vector-menu mw-portlet mw-portlet-wikibase-otherprojects vector-menu-portal portal\" aria-labelledby=\"p-wikibase-otherprojects-label\" role=\"navigation\"  >\\n\\t<h3\\n\\t\\tid=\"p-wikibase-otherprojects-label\"\\n\\t\\t\\n\\t\\tclass=\"vector-menu-heading \"\\n\\t>\\n\\t\\t<span class=\"vector-menu-heading-label\">В других проектах</span>\\n\\t</h3>\\n\\t<div class=\"vector-menu-content\">\\n\\t\\t\\n\\t\\t<ul class=\"vector-menu-content-list\"><li class=\"wb-otherproject-link wb-otherproject-commons mw-list-item\"><a href=\"https://commons.wikimedia.org/wiki/Main_Page\" hreflang=\"en\"><span>Викисклад</span></a></li><li class=\"wb-otherproject-link wb-otherproject-mediawiki mw-list-item\"><a href=\"https://www.mediawiki.org/wiki/MediaWiki\" hreflang=\"en\"><span>Медиавики</span></a></li><li class=\"wb-otherproject-link wb-otherproject-meta mw-list-item\"><a href=\"https://meta.wikimedia.org/wiki/Main_Page\" hreflang=\"en\"><span>Мета-вики</span></a></li><li class=\"wb-otherproject-link wb-otherproject-sources mw-list-item\"><a href=\"https://wikisource.org/wiki/Main_Page\" hreflang=\"en\"><span>Многоязычная Викитека</span></a></li><li class=\"wb-otherproject-link wb-otherproject-species mw-list-item\"><a href=\"https://species.wikimedia.org/wiki/Main_Page\" hreflang=\"en\"><span>Викивиды</span></a></li><li class=\"wb-otherproject-link wb-otherproject-wikibooks mw-list-item\"><a href=\"https://ru.wikibooks.org/wiki/%D0%97%D0%B0%D0%B3%D0%BB%D0%B0%D0%B2%D0%BD%D0%B0%D1%8F_%D1%81%D1%82%D1%80%D0%B0%D0%BD%D0%B8%D1%86%D0%B0\" hreflang=\"ru\"><span>Викиучебник</span></a></li><li class=\"wb-otherproject-link wb-otherproject-wikidata mw-list-item\"><a href=\"https://www.wikidata.org/wiki/Wikidata:Main_Page\" hreflang=\"en\"><span>Викиданные</span></a></li><li class=\"wb-otherproject-link wb-otherproject-wikimania mw-list-item\"><a href=\"https://wikimania.wikimedia.org/wiki/2022:Wikimania\" hreflang=\"en\"><span>Викимания</span></a></li><li class=\"wb-otherproject-link wb-otherproject-wikinews mw-list-item\"><a href=\"https://ru.wikinews.org/wiki/%D0%97%D0%B0%D0%B3%D0%BB%D0%B0%D0%B2%D0%BD%D0%B0%D1%8F_%D1%81%D1%82%D1%80%D0%B0%D0%BD%D0%B8%D1%86%D0%B0\" hreflang=\"ru\"><span>Викиновости</span></a></li><li class=\"wb-otherproject-link wb-otherproject-wikiquote mw-list-item\"><a href=\"https://ru.wikiquote.org/wiki/%D0%97%D0%B0%D0%B3%D0%BB%D0%B0%D0%B2%D0%BD%D0%B0%D1%8F_%D1%81%D1%82%D1%80%D0%B0%D0%BD%D0%B8%D1%86%D0%B0\" hreflang=\"ru\"><span>Викицитатник</span></a></li><li class=\"wb-otherproject-link wb-otherproject-wikisource mw-list-item\"><a href=\"https://ru.wikisource.org/wiki/%D0%97%D0%B0%D0%B3%D0%BB%D0%B0%D0%B2%D0%BD%D0%B0%D1%8F_%D1%81%D1%82%D1%80%D0%B0%D0%BD%D0%B8%D1%86%D0%B0\" hreflang=\"ru\"><span>Викитека</span></a></li><li class=\"wb-otherproject-link wb-otherproject-wikiversity mw-list-item\"><a href=\"https://ru.wikiversity.org/wiki/%D0%97%D0%B0%D0%B3%D0%BB%D0%B0%D0%B2%D0%BD%D0%B0%D1%8F_%D1%81%D1%82%D1%80%D0%B0%D0%BD%D0%B8%D1%86%D0%B0\" hreflang=\"ru\"><span>Викиверситет</span></a></li><li class=\"wb-otherproject-link wb-otherproject-wikivoyage mw-list-item\"><a href=\"https://ru.wikivoyage.org/wiki/%D0%97%D0%B0%D0%B3%D0%BB%D0%B0%D0%B2%D0%BD%D0%B0%D1%8F_%D1%81%D1%82%D1%80%D0%B0%D0%BD%D0%B8%D1%86%D0%B0\" hreflang=\"ru\"><span>Викигид</span></a></li><li class=\"wb-otherproject-link wb-otherproject-wiktionary mw-list-item\"><a href=\"https://ru.wiktionary.org/wiki/%D0%92%D0%B8%D0%BA%D0%B8%D1%81%D0%BB%D0%BE%D0%B2%D0%B0%D1%80%D1%8C:%D0%97%D0%B0%D0%B3%D0%BB%D0%B0%D0%B2%D0%BD%D0%B0%D1%8F_%D1%81%D1%82%D1%80%D0%B0%D0%BD%D0%B8%D1%86%D0%B0\" hreflang=\"ru\"><span>Викисловарь</span></a></li></ul>\\n\\t\\t\\n\\t</div>\\n</nav>\\n\\n\\t\\n\\n<nav id=\"p-lang\" class=\"vector-menu mw-portlet mw-portlet-lang vector-menu-portal portal\" aria-labelledby=\"p-lang-label\" role=\"navigation\"  >\\n\\t<h3\\n\\t\\tid=\"p-lang-label\"\\n\\t\\t\\n\\t\\tclass=\"vector-menu-heading \"\\n\\t>\\n\\t\\t<span class=\"vector-menu-heading-label\">На других языках</span>\\n\\t</h3>\\n\\t<div class=\"vector-menu-content\">\\n\\t\\t\\n\\t\\t<ul class=\"vector-menu-content-list\"><li class=\"interlanguage-link interwiki-ar mw-list-item\"><a href=\"https://ar.wikipedia.org/wiki/\" title=\"арабский\" lang=\"ar\" hreflang=\"ar\" class=\"interlanguage-link-target\"><span>العربية</span></a></li><li class=\"interlanguage-link interwiki-az mw-list-item\"><a href=\"https://az.wikipedia.org/wiki/\" title=\"азербайджанский\" lang=\"az\" hreflang=\"az\" class=\"interlanguage-link-target\"><span>Azərbaycanca</span></a></li><li class=\"interlanguage-link interwiki-ba mw-list-item\"><a href=\"https://ba.wikipedia.org/wiki/\" title=\"башкирский\" lang=\"ba\" hreflang=\"ba\" class=\"interlanguage-link-target\"><span>Башҡортса</span></a></li><li class=\"interlanguage-link interwiki-be mw-list-item\"><a href=\"https://be.wikipedia.org/wiki/\" title=\"белорусский\" lang=\"be\" hreflang=\"be\" class=\"interlanguage-link-target\"><span>Беларуская</span></a></li><li class=\"interlanguage-link interwiki-be-x-old mw-list-item\"><a href=\"https://be-tarask.wikipedia.org/wiki/\" title=\"Belarusian (Taraškievica orthography)\" lang=\"be-tarask\" hreflang=\"be-tarask\" class=\"interlanguage-link-target\"><span>Беларуская (тарашкевіца)</span></a></li><li class=\"interlanguage-link interwiki-bg mw-list-item\"><a href=\"https://bg.wikipedia.org/wiki/\" title=\"болгарский\" lang=\"bg\" hreflang=\"bg\" class=\"interlanguage-link-target\"><span>Български</span></a></li><li class=\"interlanguage-link interwiki-ce mw-list-item\"><a href=\"https://ce.wikipedia.org/wiki/\" title=\"чеченский\" lang=\"ce\" hreflang=\"ce\" class=\"interlanguage-link-target\"><span>Нохчийн</span></a></li><li class=\"interlanguage-link interwiki-cs mw-list-item\"><a href=\"https://cs.wikipedia.org/wiki/\" title=\"чешский\" lang=\"cs\" hreflang=\"cs\" class=\"interlanguage-link-target\"><span>Čeština</span></a></li><li class=\"interlanguage-link interwiki-cv mw-list-item\"><a href=\"https://cv.wikipedia.org/wiki/\" title=\"чувашский\" lang=\"cv\" hreflang=\"cv\" class=\"interlanguage-link-target\"><span>Чӑвашла</span></a></li><li class=\"interlanguage-link interwiki-da mw-list-item\"><a href=\"https://da.wikipedia.org/wiki/\" title=\"датский\" lang=\"da\" hreflang=\"da\" class=\"interlanguage-link-target\"><span>Dansk</span></a></li><li class=\"interlanguage-link interwiki-de mw-list-item\"><a href=\"https://de.wikipedia.org/wiki/\" title=\"немецкий\" lang=\"de\" hreflang=\"de\" class=\"interlanguage-link-target\"><span>Deutsch</span></a></li><li class=\"interlanguage-link interwiki-el mw-list-item\"><a href=\"https://el.wikipedia.org/wiki/\" title=\"греческий\" lang=\"el\" hreflang=\"el\" class=\"interlanguage-link-target\"><span>Ελληνικά</span></a></li><li class=\"interlanguage-link interwiki-en mw-list-item\"><a href=\"https://en.wikipedia.org/wiki/\" title=\"английский\" lang=\"en\" hreflang=\"en\" class=\"interlanguage-link-target\"><span>English</span></a></li><li class=\"interlanguage-link interwiki-es mw-list-item\"><a href=\"https://es.wikipedia.org/wiki/\" title=\"испанский\" lang=\"es\" hreflang=\"es\" class=\"interlanguage-link-target\"><span>Español</span></a></li><li class=\"interlanguage-link interwiki-et mw-list-item\"><a href=\"https://et.wikipedia.org/wiki/\" title=\"эстонский\" lang=\"et\" hreflang=\"et\" class=\"interlanguage-link-target\"><span>Eesti</span></a></li><li class=\"interlanguage-link interwiki-fa mw-list-item\"><a href=\"https://fa.wikipedia.org/wiki/\" title=\"персидский\" lang=\"fa\" hreflang=\"fa\" class=\"interlanguage-link-target\"><span>فارسی</span></a></li><li class=\"interlanguage-link interwiki-fi mw-list-item\"><a href=\"https://fi.wikipedia.org/wiki/\" title=\"финский\" lang=\"fi\" hreflang=\"fi\" class=\"interlanguage-link-target\"><span>Suomi</span></a></li><li class=\"interlanguage-link interwiki-fr mw-list-item\"><a href=\"https://fr.wikipedia.org/wiki/\" title=\"французский\" lang=\"fr\" hreflang=\"fr\" class=\"interlanguage-link-target\"><span>Français</span></a></li><li class=\"interlanguage-link interwiki-he mw-list-item\"><a href=\"https://he.wikipedia.org/wiki/\" title=\"иврит\" lang=\"he\" hreflang=\"he\" class=\"interlanguage-link-target\"><span>עברית</span></a></li><li class=\"interlanguage-link interwiki-hu mw-list-item\"><a href=\"https://hu.wikipedia.org/wiki/\" title=\"венгерский\" lang=\"hu\" hreflang=\"hu\" class=\"interlanguage-link-target\"><span>Magyar</span></a></li><li class=\"interlanguage-link interwiki-hy mw-list-item\"><a href=\"https://hy.wikipedia.org/wiki/\" title=\"армянский\" lang=\"hy\" hreflang=\"hy\" class=\"interlanguage-link-target\"><span>Հայերեն</span></a></li><li class=\"interlanguage-link interwiki-it mw-list-item\"><a href=\"https://it.wikipedia.org/wiki/\" title=\"итальянский\" lang=\"it\" hreflang=\"it\" class=\"interlanguage-link-target\"><span>Italiano</span></a></li><li class=\"interlanguage-link interwiki-ja mw-list-item\"><a href=\"https://ja.wikipedia.org/wiki/\" title=\"японский\" lang=\"ja\" hreflang=\"ja\" class=\"interlanguage-link-target\"><span>日本語</span></a></li><li class=\"interlanguage-link interwiki-ka mw-list-item\"><a href=\"https://ka.wikipedia.org/wiki/\" title=\"грузинский\" lang=\"ka\" hreflang=\"ka\" class=\"interlanguage-link-target\"><span>ქართული</span></a></li><li class=\"interlanguage-link interwiki-kk mw-list-item\"><a href=\"https://kk.wikipedia.org/wiki/\" title=\"казахский\" lang=\"kk\" hreflang=\"kk\" class=\"interlanguage-link-target\"><span>Қазақша</span></a></li><li class=\"interlanguage-link interwiki-ko mw-list-item\"><a href=\"https://ko.wikipedia.org/wiki/\" title=\"корейский\" lang=\"ko\" hreflang=\"ko\" class=\"interlanguage-link-target\"><span>한국어</span></a></li><li class=\"interlanguage-link interwiki-lt mw-list-item\"><a href=\"https://lt.wikipedia.org/wiki/\" title=\"литовский\" lang=\"lt\" hreflang=\"lt\" class=\"interlanguage-link-target\"><span>Lietuvių</span></a></li><li class=\"interlanguage-link interwiki-lv mw-list-item\"><a href=\"https://lv.wikipedia.org/wiki/\" title=\"латышский\" lang=\"lv\" hreflang=\"lv\" class=\"interlanguage-link-target\"><span>Latviešu</span></a></li><li class=\"interlanguage-link interwiki-nl mw-list-item\"><a href=\"https://nl.wikipedia.org/wiki/\" title=\"нидерландский\" lang=\"nl\" hreflang=\"nl\" class=\"interlanguage-link-target\"><span>Nederlands</span></a></li><li class=\"interlanguage-link interwiki-no mw-list-item\"><a href=\"https://no.wikipedia.org/wiki/\" title=\"норвежский букмол\" lang=\"nb\" hreflang=\"nb\" class=\"interlanguage-link-target\"><span>Norsk bokmål</span></a></li><li class=\"interlanguage-link interwiki-os mw-list-item\"><a href=\"https://os.wikipedia.org/wiki/\" title=\"осетинский\" lang=\"os\" hreflang=\"os\" class=\"interlanguage-link-target\"><span>Ирон</span></a></li><li class=\"interlanguage-link interwiki-pl mw-list-item\"><a href=\"https://pl.wikipedia.org/wiki/\" title=\"польский\" lang=\"pl\" hreflang=\"pl\" class=\"interlanguage-link-target\"><span>Polski</span></a></li><li class=\"interlanguage-link interwiki-pt mw-list-item\"><a href=\"https://pt.wikipedia.org/wiki/\" title=\"португальский\" lang=\"pt\" hreflang=\"pt\" class=\"interlanguage-link-target\"><span>Português</span></a></li><li class=\"interlanguage-link interwiki-ro mw-list-item\"><a href=\"https://ro.wikipedia.org/wiki/\" title=\"румынский\" lang=\"ro\" hreflang=\"ro\" class=\"interlanguage-link-target\"><span>Română</span></a></li><li class=\"interlanguage-link interwiki-sah mw-list-item\"><a href=\"https://sah.wikipedia.org/wiki/\" title=\"саха\" lang=\"sah\" hreflang=\"sah\" class=\"interlanguage-link-target\"><span>Саха тыла</span></a></li><li class=\"interlanguage-link interwiki-sr mw-list-item\"><a href=\"https://sr.wikipedia.org/wiki/\" title=\"сербский\" lang=\"sr\" hreflang=\"sr\" class=\"interlanguage-link-target\"><span>Српски / srpski</span></a></li><li class=\"interlanguage-link interwiki-sv mw-list-item\"><a href=\"https://sv.wikipedia.org/wiki/\" title=\"шведский\" lang=\"sv\" hreflang=\"sv\" class=\"interlanguage-link-target\"><span>Svenska</span></a></li><li class=\"interlanguage-link interwiki-tr mw-list-item\"><a href=\"https://tr.wikipedia.org/wiki/\" title=\"турецкий\" lang=\"tr\" hreflang=\"tr\" class=\"interlanguage-link-target\"><span>Türkçe</span></a></li><li class=\"interlanguage-link interwiki-tt mw-list-item\"><a href=\"https://tt.wikipedia.org/wiki/\" title=\"татарский\" lang=\"tt\" hreflang=\"tt\" class=\"interlanguage-link-target\"><span>Татарча/tatarça</span></a></li><li class=\"interlanguage-link interwiki-uk mw-list-item\"><a href=\"https://uk.wikipedia.org/wiki/\" title=\"украинский\" lang=\"uk\" hreflang=\"uk\" class=\"interlanguage-link-target\"><span>Українська</span></a></li><li class=\"interlanguage-link interwiki-vi mw-list-item\"><a href=\"https://vi.wikipedia.org/wiki/\" title=\"вьетнамский\" lang=\"vi\" hreflang=\"vi\" class=\"interlanguage-link-target\"><span>Tiếng Việt</span></a></li><li class=\"interlanguage-link interwiki-zh mw-list-item\"><a href=\"https://zh.wikipedia.org/wiki/\" title=\"китайский\" lang=\"zh\" hreflang=\"zh\" class=\"interlanguage-link-target\"><span>中文</span></a></li></ul>\\n\\t\\t\\n\\t</div>\\n</nav>\\n\\n</div>\\n\\n</div>\\n\\n<footer id=\"footer\" class=\"mw-footer\" role=\"contentinfo\" >\\n\\t<ul id=\"footer-info\">\\n\\t<li id=\"footer-info-lastmod\"> Эта страница в последний раз была отредактирована 1 апреля 2022 в 05:38.</li>\\n\\t<li id=\"footer-info-copyright\">Текст доступен по <a rel=\"license\" href=\"//ru.wikipedia.org/wiki/Википедия:Текст_лицензии_Creative_Commons_Attribution-ShareAlike_3.0_Unported\">лицензии Creative Commons Attribution-ShareAlike</a><a rel=\"license\" href=\"//creativecommons.org/licenses/by-sa/3.0/\" style=\"display:none;\"></a>; в отдельных случаях могут действовать дополнительные условия.\\n<span class=\"noprint\">Подробнее см. <a href=\"//foundation.wikimedia.org/wiki/Terms_of_Use/ru\">Условия использования</a>.</span><br>\\nWikipedia®\\xa0— зарегистрированный товарный знак некоммерческой организации <a href=\"//wikimediafoundation.org\">Wikimedia Foundation, Inc.</a></li>\\n</ul>\\n\\n\\t<ul id=\"footer-places\">\\n\\t<li id=\"footer-places-privacy\"><a href=\"https://meta.wikimedia.org/wiki/Privacy_policy/ru\">Политика конфиденциальности</a></li>\\n\\t<li id=\"footer-places-about\"><a href=\"/wiki/%D0%92%D0%B8%D0%BA%D0%B8%D0%BF%D0%B5%D0%B4%D0%B8%D1%8F:%D0%9E%D0%BF%D0%B8%D1%81%D0%B0%D0%BD%D0%B8%D0%B5\">Описание Википедии</a></li>\\n\\t<li id=\"footer-places-disclaimers\"><a href=\"/wiki/%D0%92%D0%B8%D0%BA%D0%B8%D0%BF%D0%B5%D0%B4%D0%B8%D1%8F:%D0%9E%D1%82%D0%BA%D0%B0%D0%B7_%D0%BE%D1%82_%D0%BE%D1%82%D0%B2%D0%B5%D1%82%D1%81%D1%82%D0%B2%D0%B5%D0%BD%D0%BD%D0%BE%D1%81%D1%82%D0%B8\">Отказ от ответственности</a></li>\\n\\t<li id=\"footer-places-contact\"><a href=\"//ru.wikipedia.org/wiki/Википедия:Контакты\">Свяжитесь с нами</a></li>\\n\\t<li id=\"footer-places-mobileview\"><a href=\"//ru.m.wikipedia.org/w/index.php?title=%D0%97%D0%B0%D0%B3%D0%BB%D0%B0%D0%B2%D0%BD%D0%B0%D1%8F_%D1%81%D1%82%D1%80%D0%B0%D0%BD%D0%B8%D1%86%D0%B0&amp;mobileaction=toggle_view_mobile\" class=\"noprint stopMobileRedirectToggle\">Мобильная версия</a></li>\\n\\t<li id=\"footer-places-developers\"><a href=\"https://developer.wikimedia.org\">Разработчики</a></li>\\n\\t<li id=\"footer-places-statslink\"><a href=\"https://stats.wikimedia.org/#/ru.wikipedia.org\">Статистика</a></li>\\n\\t<li id=\"footer-places-cookiestatement\"><a href=\"https://foundation.wikimedia.org/wiki/Cookie_statement\">Заявление о куки</a></li>\\n</ul>\\n\\n\\t<ul id=\"footer-icons\" class=\"noprint\">\\n\\t<li id=\"footer-copyrightico\"><a href=\"https://wikimediafoundation.org/\"><img src=\"/static/images/footer/wikimedia-button.png\" srcset=\"/static/images/footer/wikimedia-button-1.5x.png 1.5x, /static/images/footer/wikimedia-button-2x.png 2x\" width=\"88\" height=\"31\" alt=\"Wikimedia Foundation\" loading=\"lazy\" /></a></li>\\n\\t<li id=\"footer-poweredbyico\"><a href=\"https://www.mediawiki.org/\"><img src=\"/static/images/footer/poweredby_mediawiki_88x31.png\" alt=\"Powered by MediaWiki\" srcset=\"/static/images/footer/poweredby_mediawiki_132x47.png 1.5x, /static/images/footer/poweredby_mediawiki_176x62.png 2x\" width=\"88\" height=\"31\" loading=\"lazy\"/></a></li>\\n</ul>\\n\\n</footer>\\n\\n<script>(RLQ=window.RLQ||[]).push(function(){mw.config.set({\"wgPageParseReport\":{\"limitreport\":{\"cputime\":\"0.282\",\"walltime\":\"0.496\",\"ppvisitednodes\":{\"value\":1993,\"limit\":1000000},\"postexpandincludesize\":{\"value\":100152,\"limit\":2097152},\"templateargumentsize\":{\"value\":38902,\"limit\":2097152},\"expansiondepth\":{\"value\":25,\"limit\":100},\"expensivefunctioncount\":{\"value\":5,\"limit\":500},\"unstrip-depth\":{\"value\":0,\"limit\":20},\"unstrip-size\":{\"value\":31945,\"limit\":5000000},\"entityaccesscount\":{\"value\":2,\"limit\":400},\"timingprofile\":[\"100.00%  377.173      1 -total\",\" 88.40%  333.407      8 Шаблон:Раздел_заглавной_страницы\",\" 36.34%  137.079      6 Шаблон:Заглавная/Статья\",\" 29.78%  112.314      3 Шаблон:Последние_хорошие_статьи\",\" 29.26%  110.355      3 Шаблон:Текущая_хорошая_статья\",\" 23.77%   89.664     24 Шаблон:Yesno\",\" 12.80%   48.269      3 Шаблон:Текущая_избранная_статья\",\" 11.13%   41.976      1 Шаблон:Работа_недели\",\" 11.02%   41.555      1 Шаблон:ДатаРождения\",\"  9.19%   34.656      2 Шаблон:Wikidata\"]},\"scribunto\":{\"limitreport-timeusage\":{\"value\":\"0.040\",\"limit\":\"10.000\"},\"limitreport-memusage\":{\"value\":2367298,\"limit\":52428800}},\"cachereport\":{\"origin\":\"mw2371\",\"timestamp\":\"20221118210127\",\"ttl\":3600,\"transientcontent\":true}}});});</script>\\n<script type=\"application/ld+json\">{\"@context\":\"https:\\\\/\\\\/schema.org\",\"@type\":\"Article\",\"name\":\"\\\\u0417\\\\u0430\\\\u0433\\\\u043b\\\\u0430\\\\u0432\\\\u043d\\\\u0430\\\\u044f \\\\u0441\\\\u0442\\\\u0440\\\\u0430\\\\u043d\\\\u0438\\\\u0446\\\\u0430\",\"url\":\"https:\\\\/\\\\/ru.wikipedia.org\\\\/wiki\\\\/%D0%97%D0%B0%D0%B3%D0%BB%D0%B0%D0%B2%D0%BD%D0%B0%D1%8F_%D1%81%D1%82%D1%80%D0%B0%D0%BD%D0%B8%D1%86%D0%B0\",\"sameAs\":\"http:\\\\/\\\\/www.wikidata.org\\\\/entity\\\\/Q5296\",\"mainEntity\":\"http:\\\\/\\\\/www.wikidata.org\\\\/entity\\\\/Q5296\",\"author\":{\"@type\":\"Organization\",\"name\":\"Contributors to Wikimedia projects\"},\"publisher\":{\"@type\":\"Organization\",\"name\":\"\\\\u0424\\\\u043e\\\\u043d\\\\u0434 \\\\u0412\\\\u0438\\\\u043a\\\\u0438\\\\u043c\\\\u0435\\\\u0434\\\\u0438\\\\u0430\",\"logo\":{\"@type\":\"ImageObject\",\"url\":\"https:\\\\/\\\\/www.wikimedia.org\\\\/static\\\\/images\\\\/wmf-hor-googpub.png\"}},\"datePublished\":\"2004-04-27T10:57:16Z\",\"image\":\"https:\\\\/\\\\/upload.wikimedia.org\\\\/wikipedia\\\\/commons\\\\/5\\\\/5e\\\\/HRD_for_bright_or_nearby_stars.svg\",\"headline\":\"\\\\u0437\\\\u0430\\\\u0433\\\\u043b\\\\u0430\\\\u0432\\\\u043d\\\\u0430\\\\u044f \\\\u0441\\\\u0442\\\\u0440\\\\u0430\\\\u043d\\\\u0438\\\\u0446\\\\u0430 \\\\u043f\\\\u0440\\\\u043e\\\\u0435\\\\u043a\\\\u0442\\\\u0430 \\\\u0412\\\\u0438\\\\u043a\\\\u0438\\\\u043c\\\\u0435\\\\u0434\\\\u0438\\\\u0430\"}</script><script type=\"application/ld+json\">{\"@context\":\"https:\\\\/\\\\/schema.org\",\"@type\":\"Article\",\"name\":\"\\\\u0417\\\\u0430\\\\u0433\\\\u043b\\\\u0430\\\\u0432\\\\u043d\\\\u0430\\\\u044f \\\\u0441\\\\u0442\\\\u0440\\\\u0430\\\\u043d\\\\u0438\\\\u0446\\\\u0430\",\"url\":\"https:\\\\/\\\\/ru.wikipedia.org\\\\/wiki\\\\/%D0%97%D0%B0%D0%B3%D0%BB%D0%B0%D0%B2%D0%BD%D0%B0%D1%8F_%D1%81%D1%82%D1%80%D0%B0%D0%BD%D0%B8%D1%86%D0%B0\",\"sameAs\":\"http:\\\\/\\\\/www.wikidata.org\\\\/entity\\\\/Q5296\",\"mainEntity\":\"http:\\\\/\\\\/www.wikidata.org\\\\/entity\\\\/Q5296\",\"author\":{\"@type\":\"Organization\",\"name\":\"Contributors to Wikimedia projects\"},\"publisher\":{\"@type\":\"Organization\",\"name\":\"\\\\u0424\\\\u043e\\\\u043d\\\\u0434 \\\\u0412\\\\u0438\\\\u043a\\\\u0438\\\\u043c\\\\u0435\\\\u0434\\\\u0438\\\\u0430\",\"logo\":{\"@type\":\"ImageObject\",\"url\":\"https:\\\\/\\\\/www.wikimedia.org\\\\/static\\\\/images\\\\/wmf-hor-googpub.png\"}},\"datePublished\":\"2004-04-27T10:57:16Z\",\"image\":\"https:\\\\/\\\\/upload.wikimedia.org\\\\/wikipedia\\\\/commons\\\\/5\\\\/5e\\\\/HRD_for_bright_or_nearby_stars.svg\",\"headline\":\"\\\\u0437\\\\u0430\\\\u0433\\\\u043b\\\\u0430\\\\u0432\\\\u043d\\\\u0430\\\\u044f \\\\u0441\\\\u0442\\\\u0440\\\\u0430\\\\u043d\\\\u0438\\\\u0446\\\\u0430 \\\\u043f\\\\u0440\\\\u043e\\\\u0435\\\\u043a\\\\u0442\\\\u0430 \\\\u0412\\\\u0438\\\\u043a\\\\u0438\\\\u043c\\\\u0435\\\\u0434\\\\u0438\\\\u0430\"}</script>\\n<script>(RLQ=window.RLQ||[]).push(function(){mw.config.set({\"wgBackendResponseTime\":678,\"wgHostname\":\"mw2371\"});});</script>\\n</body>\\n</html>'"
      ]
     },
     "execution_count": 35,
     "metadata": {},
     "output_type": "execute_result"
    }
   ],
   "source": [
    "response.text"
   ]
  },
  {
   "cell_type": "markdown",
   "metadata": {},
   "source": [
    "## Примеры\n",
    "\n",
    "### Пример 1\n",
    "\n",
    "Давайте обкачаем немного новостей с сайта вышки.\n",
    "\n",
    "1. Страницы имеют вид \"https://www.hse.ru/news/page1.html\", поэтому можно просто идти циклом.\n",
    "2. Достанем дату публикации, заголовок, краткое описание (из станицы со списком новостей), текст полной статьи и метки (из самой страницы новости)\n",
    "3. Положим в базу"
   ]
  },
  {
   "cell_type": "code",
   "execution_count": 36,
   "metadata": {},
   "outputs": [],
   "source": [
    "import sqlite3\n",
    "from bs4 import BeautifulSoup\n",
    "import re"
   ]
  },
  {
   "cell_type": "markdown",
   "metadata": {},
   "source": [
    "Давайте зайдем в DB Browser for SQLite и создадим базу данных, куда будем сохранять страницы, которые спарсили."
   ]
  },
  {
   "cell_type": "code",
   "execution_count": 138,
   "metadata": {},
   "outputs": [],
   "source": [
    "conn = sqlite3.connect('vk_profiles.db')\n",
    "cur = conn.cursor()"
   ]
  },
  {
   "cell_type": "markdown",
   "metadata": {},
   "source": [
    "Создаем базу данных, где будем хранить информацию"
   ]
  },
  {
   "cell_type": "code",
   "execution_count": 139,
   "metadata": {},
   "outputs": [],
   "source": [
    "cur.execute(\"\"\"\n",
    "CREATE TABLE IF NOT EXISTS vk_profiles \n",
    "(id INTEGER PRIMARY KEY, username text, city text, birthday text, subscribers int, posts int, photos int)\n",
    "\"\"\")\n",
    "conn.commit()\n",
    "conn.close()"
   ]
  },
  {
   "cell_type": "markdown",
   "metadata": {},
   "source": [
    "### Отработаем процесс на одной странице"
   ]
  },
  {
   "cell_type": "markdown",
   "metadata": {},
   "source": [
    "**Шаг 1. Найти страницы**\n",
    "\n",
    "Посмотрим, как устроены новости и скачаем одну страницу"
   ]
  },
  {
   "cell_type": "code",
   "execution_count": 116,
   "metadata": {},
   "outputs": [],
   "source": [
    "req = session.get('https://vk.com/id100', headers={'User-Agent': ua.random})"
   ]
  },
  {
   "cell_type": "markdown",
   "metadata": {},
   "source": [
    "Распарсим с помощью BeautifulSoup"
   ]
  },
  {
   "cell_type": "code",
   "execution_count": 63,
   "metadata": {},
   "outputs": [],
   "source": [
    "soup = BeautifulSoup(req.text, 'html.parser')"
   ]
  },
  {
   "cell_type": "code",
   "execution_count": 95,
   "metadata": {},
   "outputs": [],
   "source": [
    "profile_block = soup.find('div', {'class': 'page_info_wrap'}) # Вытащим блок HTML отвечающий за общие данные по человеку"
   ]
  },
  {
   "cell_type": "code",
   "execution_count": 97,
   "metadata": {
    "tags": []
   },
   "outputs": [
    {
     "data": {
      "text/plain": [
       "'Лиза  Щепилова (Богданова)'"
      ]
     },
     "execution_count": 97,
     "metadata": {},
     "output_type": "execute_result"
    }
   ],
   "source": [
    "profile_block.find('h1', {'class': 'page_name'}).text.strip() # Найдем в нем название страницы/юзера"
   ]
  },
  {
   "cell_type": "code",
   "execution_count": 86,
   "metadata": {
    "collapsed": true,
    "jupyter": {
     "outputs_hidden": true
    },
    "tags": []
   },
   "outputs": [
    {
     "data": {
      "text/plain": [
       "[<div class=\"clear_fix profile_info_row\">\n",
       " <h3 class=\"label fl_l\">День рождения:</h3>\n",
       " <div class=\"labeled\"><a href=\"/search?c[section]=people&amp;c[bday]=23&amp;c[bmonth]=12\">23 декабря</a></div>\n",
       " </div>,\n",
       " <div class=\"clear_fix profile_info_row\">\n",
       " <h3 class=\"label fl_l\">Город:</h3>\n",
       " <div class=\"labeled\"><a href=\"/search?c[name]=0&amp;c[section]=people&amp;c[country]=1&amp;c[city]=161\">Чита</a></div>\n",
       " </div>,\n",
       " <div class=\"clear_fix profile_info_row\">\n",
       " <h3 class=\"label fl_l\">Семейное положение:</h3>\n",
       " <div class=\"labeled\">замужем за <a class=\"mem_link\" href=\"/dusya_felcone\" mention_id=\"id371667001\" onclick=\"return mentionClick(this, event)\" onmouseover=\"mentionOver(this)\">Данилом Щепиловым</a></div>\n",
       " </div>,\n",
       " <div class=\"clear_fix profile_info_row\">\n",
       " <h3 class=\"label fl_l\">Языки:</h3>\n",
       " <div class=\"labeled\"><a href=\"/search?c[name]=0&amp;c[section]=people&amp;c[lang]=-1\">Русский</a></div>\n",
       " </div>,\n",
       " <div class=\"clear_fix profile_info_row\">\n",
       " <h3 class=\"label fl_l\">Братья, сёстры:</h3>\n",
       " <div class=\"labeled\"><a class=\"mem_link\" href=\"/georgie_2003\" mention_id=\"id434452257\" onclick=\"return mentionClick(this, event)\" onmouseover=\"mentionOver(this)\">Георгий Константинов</a>, <a class=\"mem_link\" href=\"/elenaanatolev\" mention_id=\"id429113651\" onclick=\"return mentionClick(this, event)\" onmouseover=\"mentionOver(this)\">Елена Баранова</a></div>\n",
       " </div>,\n",
       " <div class=\"clear_fix profile_info_row\">\n",
       " <h3 class=\"label fl_l\">Главное в жизни:</h3>\n",
       " <div class=\"labeled\"><a href=\"/search?c[name]=0&amp;c[section]=people&amp;c[personal_priority]=1\">Семья и дети</a></div>\n",
       " </div>,\n",
       " <div class=\"clear_fix profile_info_row\">\n",
       " <h3 class=\"label fl_l\">Главное в людях:</h3>\n",
       " <div class=\"labeled\"><a href=\"/search?c[name]=0&amp;c[section]=people&amp;c[people_priority]=2\">Доброта и честность</a></div>\n",
       " </div>,\n",
       " <div class=\"clear_fix profile_info_row\">\n",
       " <h3 class=\"label fl_l\">Отн. к курению:</h3>\n",
       " <div class=\"labeled\"><a href=\"/search?c[name]=0&amp;c[section]=people&amp;c[smoking]=3\">Компромиссное</a></div>\n",
       " </div>]"
      ]
     },
     "execution_count": 86,
     "metadata": {},
     "output_type": "execute_result"
    }
   ],
   "source": [
    "# Теперь попробуем вытащить информацию по дате рождения и родному городу\n",
    "profile_rows = profile_block.find_all('div', {'class': 'clear_fix profile_info_row'})\n",
    "profile_rows"
   ]
  },
  {
   "cell_type": "code",
   "execution_count": 76,
   "metadata": {},
   "outputs": [
    {
     "data": {
      "text/plain": [
       "'\\nДень рождения:\\n23 декабря\\n'"
      ]
     },
     "execution_count": 76,
     "metadata": {},
     "output_type": "execute_result"
    }
   ],
   "source": [
    "profile_rows[0].text"
   ]
  },
  {
   "cell_type": "code",
   "execution_count": 77,
   "metadata": {
    "tags": []
   },
   "outputs": [
    {
     "data": {
      "text/plain": [
       "'\\nГород:\\nЧита\\n'"
      ]
     },
     "execution_count": 77,
     "metadata": {},
     "output_type": "execute_result"
    }
   ],
   "source": [
    "profile_rows[1].text"
   ]
  },
  {
   "cell_type": "code",
   "execution_count": 87,
   "metadata": {},
   "outputs": [
    {
     "data": {
      "text/plain": [
       "[]"
      ]
     },
     "execution_count": 87,
     "metadata": {},
     "output_type": "execute_result"
    }
   ],
   "source": [
    "profile_block.find_all('a', {'class': 'page_counter'})"
   ]
  },
  {
   "cell_type": "code",
   "execution_count": 98,
   "metadata": {},
   "outputs": [],
   "source": [
    "counts_module = soup.find('div', {'class': 'counts_module'})"
   ]
  },
  {
   "cell_type": "code",
   "execution_count": 99,
   "metadata": {},
   "outputs": [
    {
     "data": {
      "text/plain": [
       "<div class=\"counts_module\"><a class=\"page_counter\" onclick=\"return Page.showLoginBox()\">\n",
       "<div class=\"count\">857</div>\n",
       "<div class=\"label\">подписчиков</div>\n",
       "</a><a class=\"page_counter\" onclick=\"return Page.showLoginBox()\">\n",
       "<div class=\"count\">1</div>\n",
       "<div class=\"label\">запись</div>\n",
       "</a><a class=\"page_counter\" href=\"/albums408166137?profile=1\" onclick=\"return Page.showLoginBox()\">\n",
       "<div class=\"count\">129</div>\n",
       "<div class=\"label\">фотографий</div>\n",
       "</a><a class=\"page_counter\" href=\"/tag408166137\" onclick=\"return Page.showLoginBox()\">\n",
       "<div class=\"count\">2</div>\n",
       "<div class=\"label\">отметки</div>\n",
       "</a></div>"
      ]
     },
     "execution_count": 99,
     "metadata": {},
     "output_type": "execute_result"
    }
   ],
   "source": [
    "counts_module"
   ]
  },
  {
   "cell_type": "code",
   "execution_count": 100,
   "metadata": {},
   "outputs": [
    {
     "data": {
      "text/plain": [
       "[<div class=\"count\">857</div>,\n",
       " <div class=\"count\">1</div>,\n",
       " <div class=\"count\">129</div>,\n",
       " <div class=\"count\">2</div>]"
      ]
     },
     "execution_count": 100,
     "metadata": {},
     "output_type": "execute_result"
    }
   ],
   "source": [
    "counts_module.find_all('div', {'class': \"count\"})"
   ]
  },
  {
   "cell_type": "code",
   "execution_count": 103,
   "metadata": {},
   "outputs": [
    {
     "data": {
      "text/plain": [
       "[<div class=\"label\">подписчиков</div>,\n",
       " <div class=\"label\">запись</div>,\n",
       " <div class=\"label\">фотографий</div>,\n",
       " <div class=\"label\">отметки</div>]"
      ]
     },
     "execution_count": 103,
     "metadata": {},
     "output_type": "execute_result"
    }
   ],
   "source": [
    "counts_module.find_all('div', {'class': \"label\"})"
   ]
  },
  {
   "cell_type": "markdown",
   "metadata": {},
   "source": [
    "**Оформляем нормально в функцию**"
   ]
  },
  {
   "cell_type": "code",
   "execution_count": 126,
   "metadata": {},
   "outputs": [],
   "source": [
    "def get_vkprofile_stats(uid):\n",
    "    req = session.get(f'https://vk.com/id{uid}', headers={'User-Agent': ua.random})\n",
    "    user_stats = dict.fromkeys(['User_Name', 'City', 'Birthday', 'Subscribers', 'Posts', 'Photos'])\n",
    "    \n",
    "    soup = BeautifulSoup(req.text, 'html.parser')\n",
    "    profile_block = soup.find('div', {'class': 'page_info_wrap'})\n",
    "    if profile_block is not None:\n",
    "        pgname = profile_block.find('h1', {'class': 'page_name'})\n",
    "        if pgname:\n",
    "            user_stats['User_Name'] = pgname.text.strip()\n",
    "\n",
    "        profile_rows = profile_block.find_all('div', {'class': 'clear_fix profile_info_row'})\n",
    "        for row in profile_rows:\n",
    "            if 'Город' in row.text:\n",
    "                user_stats['City'] = row.text.strip().split('\\n')[-1]\n",
    "            elif 'День рождения' in row.text:\n",
    "                user_stats['Birthday'] = row.text.strip().split('\\n')[-1] \n",
    "    \n",
    "    \n",
    "    counts_module = soup.find('div', {'class': 'counts_module'})\n",
    "    if counts_module:\n",
    "        cnts = counts_module.find_all('div', {'class': \"count\"})\n",
    "        lbls = counts_module.find_all('div', {'class': \"label\"})\n",
    "\n",
    "        for lb, cnt in zip(lbls, cnts):\n",
    "            if lb.text == 'подписчиков':\n",
    "                user_stats['Subscribers'] = int(cnt.text)\n",
    "            elif lb.text == 'запись':\n",
    "                user_stats['Posts'] = int(cnt.text)\n",
    "            elif lb.text == 'фотографий':\n",
    "                user_stats['Photos'] = int(cnt.text)\n",
    "    return user_stats"
   ]
  },
  {
   "cell_type": "markdown",
   "metadata": {},
   "source": [
    "**Пробуем выкачать рандомные страницы**"
   ]
  },
  {
   "cell_type": "code",
   "execution_count": 141,
   "metadata": {
    "tags": []
   },
   "outputs": [],
   "source": [
    "uids = [np.random.randint(low=400000000, high=500000000) for x in range(20)]"
   ]
  },
  {
   "cell_type": "code",
   "execution_count": 143,
   "metadata": {},
   "outputs": [],
   "source": [
    "from tqdm import tqdm"
   ]
  },
  {
   "cell_type": "code",
   "execution_count": 144,
   "metadata": {},
   "outputs": [
    {
     "name": "stderr",
     "output_type": "stream",
     "text": [
      "100%|████████████████████████████████████████████████████████████████████████████████████████████████████████████████████████████████████████████████████████████████████████| 20/20 [01:09<00:00,  3.46s/it]\n"
     ]
    }
   ],
   "source": [
    "collected_data = []\n",
    "for uid in tqdm(uids):\n",
    "    collected_data.append((uid, get_vkprofile_stats(uid)))\n",
    "    time.sleep(random.uniform(1.1, 5.2))"
   ]
  },
  {
   "cell_type": "code",
   "execution_count": 145,
   "metadata": {
    "collapsed": true,
    "jupyter": {
     "outputs_hidden": true
    },
    "tags": []
   },
   "outputs": [
    {
     "data": {
      "text/plain": [
       "[(454158927,\n",
       "  {'User_Name': 'Арина  Родионова',\n",
       "   'City': None,\n",
       "   'Birthday': '12 июня 1997 г.',\n",
       "   'Subscribers': None,\n",
       "   'Posts': 1,\n",
       "   'Photos': None}),\n",
       " (465761542,\n",
       "  {'User_Name': 'Жаксыбек  Сагидулла',\n",
       "   'City': None,\n",
       "   'Birthday': '8 августа 2003 г.',\n",
       "   'Subscribers': None,\n",
       "   'Posts': None,\n",
       "   'Photos': None}),\n",
       " (431989802,\n",
       "  {'User_Name': 'Вера  Решетняк-Заржицкая',\n",
       "   'City': None,\n",
       "   'Birthday': None,\n",
       "   'Subscribers': None,\n",
       "   'Posts': None,\n",
       "   'Photos': None}),\n",
       " (459808168,\n",
       "  {'User_Name': None,\n",
       "   'City': None,\n",
       "   'Birthday': None,\n",
       "   'Subscribers': None,\n",
       "   'Posts': None,\n",
       "   'Photos': None}),\n",
       " (470842990,\n",
       "  {'User_Name': 'Шамиль  Оздоев',\n",
       "   'City': 'Москва',\n",
       "   'Birthday': '22 января 2003 г.',\n",
       "   'Subscribers': None,\n",
       "   'Posts': 1,\n",
       "   'Photos': None}),\n",
       " (490608931,\n",
       "  {'User_Name': 'Jig-Jeremiah  Geromo',\n",
       "   'City': 'Zamboanga',\n",
       "   'Birthday': '3 декабря 2004 г.',\n",
       "   'Subscribers': None,\n",
       "   'Posts': None,\n",
       "   'Photos': None}),\n",
       " (464719195,\n",
       "  {'User_Name': 'Shahrin  Azlan',\n",
       "   'City': None,\n",
       "   'Birthday': '12 апреля 1998 г.',\n",
       "   'Subscribers': None,\n",
       "   'Posts': None,\n",
       "   'Photos': None}),\n",
       " (477862126,\n",
       "  {'User_Name': 'Гоша  Гоглев',\n",
       "   'City': 'Южно-Сахалинск',\n",
       "   'Birthday': None,\n",
       "   'Subscribers': 14,\n",
       "   'Posts': None,\n",
       "   'Photos': None}),\n",
       " (489336876,\n",
       "  {'User_Name': 'Turkane  Huseyinova',\n",
       "   'City': None,\n",
       "   'Birthday': '4 января 2000 г.',\n",
       "   'Subscribers': None,\n",
       "   'Posts': None,\n",
       "   'Photos': None}),\n",
       " (499591106,\n",
       "  {'User_Name': 'Mazzill  Boom',\n",
       "   'City': None,\n",
       "   'Birthday': '3 апреля 2000 г.',\n",
       "   'Subscribers': None,\n",
       "   'Posts': 1,\n",
       "   'Photos': None}),\n",
       " (416603281,\n",
       "  {'User_Name': None,\n",
       "   'City': None,\n",
       "   'Birthday': None,\n",
       "   'Subscribers': None,\n",
       "   'Posts': None,\n",
       "   'Photos': None}),\n",
       " (498842908,\n",
       "  {'User_Name': 'Nameless  Nameless',\n",
       "   'City': 'Stuttgart',\n",
       "   'Birthday': '3 февраля 1997 г.',\n",
       "   'Subscribers': None,\n",
       "   'Posts': None,\n",
       "   'Photos': None}),\n",
       " (455615114,\n",
       "  {'User_Name': 'Егор  Миронченко',\n",
       "   'City': None,\n",
       "   'Birthday': '25 октября 2002 г.',\n",
       "   'Subscribers': None,\n",
       "   'Posts': None,\n",
       "   'Photos': None}),\n",
       " (466862973,\n",
       "  {'User_Name': 'Iвалерия  Сидорова',\n",
       "   'City': None,\n",
       "   'Birthday': '4 апреля 2004 г.',\n",
       "   'Subscribers': None,\n",
       "   'Posts': 1,\n",
       "   'Photos': None}),\n",
       " (409116836,\n",
       "  {'User_Name': 'Abhishek  Patel',\n",
       "   'City': None,\n",
       "   'Birthday': None,\n",
       "   'Subscribers': None,\n",
       "   'Posts': None,\n",
       "   'Photos': None}),\n",
       " (449712219,\n",
       "  {'User_Name': 'Апсчллдш  Аешддбн',\n",
       "   'City': None,\n",
       "   'Birthday': '12 февраля 2000 г.',\n",
       "   'Subscribers': None,\n",
       "   'Posts': None,\n",
       "   'Photos': None}),\n",
       " (428348813,\n",
       "  {'User_Name': None,\n",
       "   'City': None,\n",
       "   'Birthday': None,\n",
       "   'Subscribers': None,\n",
       "   'Posts': None,\n",
       "   'Photos': None}),\n",
       " (445970851,\n",
       "  {'User_Name': 'Олжас  Бибосынов',\n",
       "   'City': None,\n",
       "   'Birthday': None,\n",
       "   'Subscribers': None,\n",
       "   'Posts': None,\n",
       "   'Photos': None}),\n",
       " (467852970,\n",
       "  {'User_Name': 'Раджабали  Яхшибеков',\n",
       "   'City': None,\n",
       "   'Birthday': '8 января 1992 г.',\n",
       "   'Subscribers': None,\n",
       "   'Posts': None,\n",
       "   'Photos': None}),\n",
       " (436150493,\n",
       "  {'User_Name': 'Alex  Alex',\n",
       "   'City': None,\n",
       "   'Birthday': None,\n",
       "   'Subscribers': None,\n",
       "   'Posts': None,\n",
       "   'Photos': None})]"
      ]
     },
     "execution_count": 145,
     "metadata": {},
     "output_type": "execute_result"
    }
   ],
   "source": [
    "collected_data"
   ]
  },
  {
   "cell_type": "markdown",
   "metadata": {},
   "source": [
    "**Шаг 4. Пишем в базу**\n",
    "\n",
    "Надо завести словарь для тегов (сначала читаем из базы, а потом дозаписываем), множество виденных статей (чтобы при перезаупске не дублировать)"
   ]
  },
  {
   "cell_type": "code",
   "execution_count": null,
   "metadata": {},
   "outputs": [],
   "source": [
    "ordered_cols = ['User_Name', 'City', 'Birthday', 'Subscribers', 'Posts', 'Photos']\n",
    "cur.execute(\n",
    "    \"\"\"\n",
    "    INSERT INTO vk_profiles \n",
    "        (id, username, city, birthday, subscribers, posts, photos)\n",
    "        VALUES (?, ?, ?, ?, ?, ?, ?)\n",
    "    \"\"\", [[row[0], ] + [row[x] for x in ordered_cols]  for row in collected_data]\n",
    ")"
   ]
  },
  {
   "cell_type": "code",
   "execution_count": 149,
   "metadata": {},
   "outputs": [],
   "source": [
    "def write_to_db(data):\n",
    "    # сохраняем информацию по текстам\n",
    "    ordered_cols = ['User_Name', 'City', 'Birthday', 'Subscribers', 'Posts', 'Photos']\n",
    "    data = [row for row in data if row[1]['User_Name'] is not None]\n",
    "    cur.executemany(\n",
    "        \"\"\"\n",
    "        INSERT INTO vk_profiles \n",
    "            (id, username, city, birthday, subscribers, posts, photos)\n",
    "            VALUES (?, ?, ?, ?, ?, ?, ?)\n",
    "        \"\"\", [[row[0], ] + [row[1][x] for x in ordered_cols]  for row in data]\n",
    "    )\n",
    "    conn.commit()"
   ]
  },
  {
   "cell_type": "code",
   "execution_count": 151,
   "metadata": {},
   "outputs": [],
   "source": [
    "conn = sqlite3.connect('vk_profiles.db')\n",
    "cur = conn.cursor()"
   ]
  },
  {
   "cell_type": "code",
   "execution_count": 152,
   "metadata": {},
   "outputs": [],
   "source": [
    "write_to_db(collected_data)"
   ]
  }
 ],
 "metadata": {
  "interpreter": {
   "hash": "2ce43fa76ab3efd8b793de81ff92f0816c1b946b31e6af34d67351b015f361e9"
  },
  "kernelspec": {
   "display_name": "Python 3 (ipykernel)",
   "language": "python",
   "name": "python3"
  },
  "language_info": {
   "codemirror_mode": {
    "name": "ipython",
    "version": 3
   },
   "file_extension": ".py",
   "mimetype": "text/x-python",
   "name": "python",
   "nbconvert_exporter": "python",
   "pygments_lexer": "ipython3",
   "version": "3.9.6"
  }
 },
 "nbformat": 4,
 "nbformat_minor": 4
}
