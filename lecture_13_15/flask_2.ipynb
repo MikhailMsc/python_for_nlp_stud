{
 "cells": [
  {
   "cell_type": "markdown",
   "metadata": {},
   "source": [
    "# Flask 2"
   ]
  },
  {
   "cell_type": "markdown",
   "metadata": {},
   "source": [
    "Для того, чтобы удобно было работать с базами в обычных программах (особенно в приложениях), придумали **ORM** (Object-Relational Mapping, объектно-реляционное отображение, или преобразование) - это специальный инструмент для перевода объектов в БД в удобную форму в языке программирования (например, в классы питона). Так как мы не изучали классы, можно привести пример pymorphy, где разбор имел разные атрибуты (которые вызывались через точку) и внутри них значения или более сложная структура (.tag имел еще .tag.POS и тд)"
   ]
  },
  {
   "cell_type": "markdown",
   "metadata": {},
   "source": [
    "Предположим, что мы хотим сделать лингвистическую анкету и у нас есть такая вводная информация:\n",
    "\n",
    "\n",
    "- Мы хотим собрать информацию про информанта (гендер, уровень образования и возраст)\n",
    "- У нас есть два вопроса на оценку предложений\n",
    "- И нужно куда-то сохранять результаты\n",
    "\n",
    "\n",
    "Проще всего все положить в БД и потом просто работать с этим файлом.\n",
    "\n",
    "\n",
    "**User**\n",
    "- id\n",
    "- gender\n",
    "- education\n",
    "- age\n",
    "\n",
    "**Questions**\n",
    "- id\n",
    "- text\n",
    "\n",
    "**Answers**\n",
    "- id (соответсвует id пользователя)\n",
    "- q1 (ответ на первй вопрос)\n",
    "- q2 (ответ на второй вопрос)"
   ]
  },
  {
   "cell_type": "code",
   "execution_count": 5,
   "metadata": {},
   "outputs": [],
   "source": [
    "import sqlite3\n",
    "\n",
    "db = sqlite3.connect('untitled/test.db')\n",
    "cur = db.cursor()"
   ]
  },
  {
   "cell_type": "code",
   "execution_count": 4,
   "metadata": {},
   "outputs": [],
   "source": [
    "cur.execute(\n",
    "    \"\"\"CREATE TABLE answers (\n",
    "    id INTEGER PRIMARY KEY AUTOINCREMENT,\n",
    "    q1` INTEGER,\n",
    "    q2` INTEGER )\n",
    "    \"\"\")\n",
    "\n",
    "cur.execute(\n",
    "    \"\"\"CREATE TABLE questions (\n",
    "    id INTEGER PRIMARY KEY AUTOINCREMENT,\n",
    "    text TEXT\n",
    "    )\"\"\")\n",
    "\n",
    "cur.execute(\n",
    "    \"\"\"CREATE TABLE \n",
    "    user ( \n",
    "    id INTEGER PRIMARY KEY AUTOINCREMENT,\n",
    "    gender TEXT,\n",
    "    education TEXT,\n",
    "    age INTEGER )\"\"\")\n",
    "\n",
    "db.commit()"
   ]
  },
  {
   "cell_type": "markdown",
   "metadata": {},
   "source": [
    "### Как подключить базу к приложению?"
   ]
  },
  {
   "cell_type": "markdown",
   "metadata": {},
   "source": [
    "Мы должны импортировать фласк и использовать еще один специальный модуль flask-sqlalchemy, который позволяет работать с базой. Главное - это прописать путь к базе - там есть часть ```sqlite3:///```- это обозначение для того, что мы работает с таким типом базы, а дальше путь внутри проекта"
   ]
  },
  {
   "cell_type": "code",
   "execution_count": null,
   "metadata": {},
   "outputs": [],
   "source": [
    "from flask import Flask\n",
    "from flask_sqlalchemy import SQLAlchemy\n",
    "\n",
    "app = Flask(__name__)\n",
    "app.config['SQLALCHEMY_DATABASE_URI'] = 'sqlite:///test.db'\n",
    "db = SQLAlchemy(app)"
   ]
  },
  {
   "cell_type": "markdown",
   "metadata": {},
   "source": [
    "### Как передать устройство своей базы?\n",
    "\n",
    "Нам необходимо объяснить питону, где какие типы данных у нас лежат, для этого нам нужно описать каждую таблицу.\n",
    "\n",
    "Не будем пока углубляться в классы питона, просто делаем по образцу.\n",
    "\n",
    "Каждая таблица описывается отделно, с помощью ```__tablename__``` передается ее имя, а названия столбиков совпадают с названиями в нашей таблице. Еще используется специальная \"обертка\" для столбца, где можно прописать, какой это типа данных и если это первиный ключ, то на это указать"
   ]
  },
  {
   "cell_type": "code",
   "execution_count": null,
   "metadata": {},
   "outputs": [],
   "source": [
    "class User(db.Model):\n",
    "    __tablename__ = 'user'  # имя таблицы\n",
    "    id = db.Column(db.Integer, primary_key=True) # имя колонки = специальный тип (тип данных, первичный ключ)\n",
    "    gender = db.Column(db.Text)\n",
    "    education = db.Column(db.Text)\n",
    "    age = db.Column(db.Integer)\n",
    "\n",
    "\n",
    "class Questions(db.Model):\n",
    "    __tablename__ = 'questions'\n",
    "    id = db.Column(db.Integer, primary_key=True)\n",
    "    text = db.Column(db.Text)\n",
    "\n",
    "\n",
    "class Answers(db.Model):\n",
    "    __tablename__ = 'answers'\n",
    "    id = db.Column(db.Integer, primary_key=True)\n",
    "    q1 = db.Column(db.Integer)\n",
    "    q2 = db.Column(db.Integer)"
   ]
  },
  {
   "cell_type": "markdown",
   "metadata": {},
   "source": [
    "### Как читать из базы (простые вещи)?\n",
    "\n",
    "Простейшие запросы можно делать прямо к User, Questions, Answers, например, мы хотим в нашей странице с анкетой предложения для оценки брать из базы\n",
    "\n",
    "Мы должны\n",
    "\n",
    "1. Получить эти вопросы\n",
    "2. Передать на страницу\n",
    "3. Пройти по вопросам и сгенерировать анкету\n",
    "\n",
    "Создадим путь ```/questions``` и там считаем вопросы из базы и передадим на страницу через ```render_template```"
   ]
  },
  {
   "cell_type": "code",
   "execution_count": null,
   "metadata": {},
   "outputs": [],
   "source": [
    "@app.route('/questions')\n",
    "def question_page():\n",
    "    questions = Questions.query.all() # имя_таблицы.query.взять_все()\n",
    "    return render_template(\n",
    "        'questions.html',\n",
    "        questions=questions\n",
    "    )"
   ]
  },
  {
   "cell_type": "markdown",
   "metadata": {},
   "source": [
    "А как теперь это использовать, говорили же про атрибуты? Где они?\n",
    "\n",
    "Предположим, что у нас есть N вопросов (2 в нашем случае) и они одинаково устроены. Мы можем просто сгенерировать места для ответов и они все по очереди будут выводиться.\n",
    "\n",
    "```{{question.text}}``` - выводит нам поле text из вопроса\n",
    "```name=\"q{{ question.id }}\"``` - использует id вопроса, чтобы получить имена для элементов например, ```name=\"q1\"``` (чтобы мы могли потом достать ответ именно на первый вопрос)"
   ]
  },
  {
   "cell_type": "code",
   "execution_count": null,
   "metadata": {},
   "outputs": [],
   "source": [
    "{% for question in questions %}\n",
    "    <div class=\"row\">\n",
    "        <p class=\"col-md-6\">{{question.text}}</p>\n",
    "        <table class=\"col-md-8\">\n",
    "            <tr>\n",
    "                <td><input class=\"radio\" type=\"radio\" name=\"q{{ question.id }}\" value=5></td>\n",
    "                <td><input class=\"radio\" type=\"radio\" name=\"q{{ question.id }}\" value=4></td>\n",
    "                <td><input class=\"radio\" type=\"radio\" name=\"q{{ question.id }}\" value=3></td>\n",
    "                <td><input class=\"radio\" type=\"radio\" name=\"q{{ question.id }}\" value=2></td>\n",
    "                <td><input class=\"radio\" type=\"radio\" name=\"q{{ question.id }}\" value=1></td>\n",
    "            </tr>\n",
    "            <tr>\n",
    "                <td>отлично</td>\n",
    "                <td>хорошо</td>\n",
    "                <td>норм</td>\n",
    "                <td>плохо</td>\n",
    "                <td>ужасно</td>\n",
    "            </tr>\n",
    "        </table>\n",
    "    </div>\n",
    "{% endfor %}"
   ]
  },
  {
   "cell_type": "markdown",
   "metadata": {},
   "source": [
    "### Как писать в базу?"
   ]
  },
  {
   "cell_type": "markdown",
   "metadata": {},
   "source": [
    "Мы указали в форме ```<form action=\"/process\">```, чтобы данные отправлялись на путь process и мы там будем их обрабатывать:\n",
    "\n",
    "\n",
    "1. Достать все параметры из адреса с GET параметрами (типа ```gender=female&education=hse```) \n",
    "2. Записать в базу\n",
    "3. Сохранить\n",
    "4. Сказать пользователю, что все ок\n",
    "5. Если пришел пустой запрос, то отправить проходить анкету"
   ]
  },
  {
   "cell_type": "code",
   "execution_count": null,
   "metadata": {},
   "outputs": [],
   "source": [
    "@app.route('/process', methods=['get'])\n",
    "def answer_process():\n",
    "    \n",
    "    # если пустой запрос, то отправить проходить анкету\n",
    "    if not request.args:\n",
    "        return redirect(url_for('question_page'))\n",
    "    \n",
    "    # получаем значения ответов\n",
    "    gender = request.args.get('gender')\n",
    "    education = request.args.get('education')\n",
    "    age = request.args.get('age')\n",
    "    \n",
    "    # записываем в базу\n",
    "    user = User(\n",
    "        age=age,\n",
    "        gender=gender,\n",
    "        education=education\n",
    "    )\n",
    "    db.session.add(user)\n",
    "    db.session.commit()\n",
    "    \n",
    "    # обновляем user'a, чтобы его ответ записать с таким же id\n",
    "    db.session.refresh(user)\n",
    "    \n",
    "    # это же делаем с ответом\n",
    "    q1 = request.args.get('q1')\n",
    "    q2 = request.args.get('q2')\n",
    "    answer = Answers(\n",
    "        id=user.id,\n",
    "        q1=q1,\n",
    "        q2=q2\n",
    "    )\n",
    "    db.session.add(answer)\n",
    "    db.session.commit()\n",
    "    \n",
    "    return 'Ok' # пользователь попадает на страницу, где напсано только Ок"
   ]
  },
  {
   "cell_type": "markdown",
   "metadata": {},
   "source": [
    "### Как получить из базы что-то сложное?\n",
    "\n",
    "Нам нужна какая-то статистика на сайт, чтобы любопытные могли посмотреть сколько человек уже прошли анкету и какие примерно ответы получаются"
   ]
  },
  {
   "cell_type": "code",
   "execution_count": null,
   "metadata": {},
   "outputs": [],
   "source": [
    "from sqlalchemy import func # это позволит использовать функции типа среднее, максимум, минимум и т.д."
   ]
  },
  {
   "cell_type": "code",
   "execution_count": null,
   "metadata": {},
   "outputs": [],
   "source": [
    "@app.route('/stats')\n",
    "def stats():\n",
    "    # заводим словарь для значений (чтобы не передавать каждое в render_template)\n",
    "    all_info = {}\n",
    "    \n",
    "    age_stats = db.session.query(\n",
    "        func.avg(User.age), # средний возраст AVG(user.age)\n",
    "        func.min(User.age), # минимальный возраст MIN(user.age)\n",
    "        func.max(User.age)  # максимальный возраст MAX(user.age)\n",
    "    ).one() # берем один результат (он всего и будет один)\n",
    "    \n",
    "    all_info['age_mean'] = age_stats[0]\n",
    "    all_info['age_min'] = age_stats[1]\n",
    "    all_info['age_max'] = age_stats[2]\n",
    "    \n",
    "    # это простой запрос, можно прямо у таблицы спросить\n",
    "    all_info['total_count'] = User.query.count() # SELECT COUNT(age) FROM user\n",
    "    \n",
    "    # SELECT AVG(q1) FROM answers\n",
    "    all_info['q1_mean'] = db.session.query(func.avg(Answers.q1)).one()[0]\n",
    "    \n",
    "    # SELECT q1 FROM answers\n",
    "    q1_answers = db.session.query(Answers.q1).all()\n",
    "    \n",
    "    return render_template('results.html', all_info=all_info)"
   ]
  },
  {
   "cell_type": "markdown",
   "metadata": {},
   "source": [
    "**Остается только адаптировать под себя и поработать над оформлением!**"
   ]
  }
 ],
 "metadata": {
  "kernelspec": {
   "display_name": "Python 3 (ipykernel)",
   "language": "python",
   "name": "python3"
  },
  "language_info": {
   "codemirror_mode": {
    "name": "ipython",
    "version": 3
   },
   "file_extension": ".py",
   "mimetype": "text/x-python",
   "name": "python",
   "nbconvert_exporter": "python",
   "pygments_lexer": "ipython3",
   "version": "3.9.6"
  }
 },
 "nbformat": 4,
 "nbformat_minor": 4
}
